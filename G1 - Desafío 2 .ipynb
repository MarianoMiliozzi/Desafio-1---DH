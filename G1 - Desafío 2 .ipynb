{
 "cells": [
  {
   "cell_type": "markdown",
   "metadata": {},
   "source": [
    "# Desafío 2\n",
    "\n",
    "En este desafío se logrará encontrar una relación explicativa entre variables y el precio por m2 de una propiedad en la Ciudad Autónoma de Buenos Aires, a partir del dataset de properati trabajado en el desafío 1, mediante una regresión lineal múltiple (analizar si es necesario combinar con procesador polinómico, y si es mejor con o sin intercepto).\n",
    "\n",
    "Para esto se seguirán los siguientes pasos:\n",
    "    1. Limpieza final del dataset\n",
    "    2. Visualización: Mapa de correlaciones\n",
    "    3. Preselección de variables para el modelo\n",
    "    4. Creación de dummies para variables categóricas ****************Exportamos dataset para división********************* \n",
    "    5. Obtención de matriz de features (X) y vector de variable explicada (y)\n",
    "    6. División de dataset en train-test para validación de modelo con randomstate(9) y test size (0.2)\n",
    "    7. Normalización de set de entrenamiento por estandarización\n",
    "    8. Prueba de distintos modelos (con el set de train) y evaluación de la performance con el set de test (MAE, MSE, RMSE, R2)\n",
    "        a. Con dummies de localización (sin lat-lon)\n",
    "           I)   Sin regularización (Se determinan los parámetros por cross-validation, dividiento el set train en k grupos)\n",
    "           II)  Ridge (optimizamos parámetros usando cross-validation de forma automática con k grupos)\n",
    "           III) Lasso (optimizamos parámetros usando cross-validation de forma automática con k grupos)\n",
    "           IV)  Ambas (optimizamos parámetros usando cross-validation de forma automática con k grupos)\n",
    "           V)   Sin regularización pero con PCA previo\n",
    "        b. Sin dummies de localización (con lat-lon)\n",
    "           I)   Sin regularización (Se determinan los parámetros por cross-validation, dividiento el set train en k grupos)\n",
    "           II)  Ridge (optimizamos parámetros usando cross-validation de forma automática con k grupos)\n",
    "           III) Lasso (optimizamos parámetros usando cross-validation de forma automática con k grupos)\n",
    "           IV)  Ambas (optimizamos parámetros usando cross-validation de forma automática con k grupos)\n",
    "           V)   Feature engineering\n",
    "    9. Selección del mejor modelo\n",
    "    10. Análisis de los resultados\n",
    "        a.  Análisis de signos y valores de coeficientes de regresión\n",
    "        b.  Generación de un intervalo de confianza para el precio por m2 para algún caso particular          \n",
    "    \n"
   ]
  },
  {
   "cell_type": "code",
   "execution_count": 1,
   "metadata": {},
   "outputs": [],
   "source": [
    "import pandas as pd\n",
    "from sklearn import preprocessing\n",
    "from sklearn import metrics\n",
    "import numpy as np\n",
    "import unidecode\n",
    "import re\n",
    "\n",
    "from sklearn import datasets, linear_model\n",
    "from sklearn.model_selection import train_test_split, KFold, cross_val_score\n",
    "from sklearn.linear_model import LinearRegression, Lasso, LassoCV, Ridge, RidgeCV\n",
    "from sklearn.preprocessing import PolynomialFeatures, StandardScaler\n",
    "from sklearn.metrics import mean_squared_error, r2_score"
   ]
  },
  {
   "cell_type": "markdown",
   "metadata": {},
   "source": [
    "## 1. Limpieza final del dataset"
   ]
  },
  {
   "cell_type": "code",
   "execution_count": 2,
   "metadata": {},
   "outputs": [],
   "source": [
    "df = pd.read_csv('df_limpio.csv', sep = '|')"
   ]
  },
  {
   "cell_type": "code",
   "execution_count": 3,
   "metadata": {},
   "outputs": [
    {
     "data": {
      "text/plain": [
       "(121220, 14)"
      ]
     },
     "execution_count": 3,
     "metadata": {},
     "output_type": "execute_result"
    }
   ],
   "source": [
    "df.shape"
   ]
  },
  {
   "cell_type": "code",
   "execution_count": 4,
   "metadata": {},
   "outputs": [
    {
     "data": {
      "text/plain": [
       "Index(['Unnamed: 0', 'id', 'tipo_propiedad', 'prop_subtipo', 'localidad',\n",
       "       'provincia', 'precio_usd', 'superficie_m2', 'usd_m2', 'ambientes',\n",
       "       'expensas', 'descripcion', 'titulo', 'geometry'],\n",
       "      dtype='object')"
      ]
     },
     "execution_count": 4,
     "metadata": {},
     "output_type": "execute_result"
    }
   ],
   "source": [
    "df.columns"
   ]
  },
  {
   "cell_type": "code",
   "execution_count": 5,
   "metadata": {},
   "outputs": [
    {
     "data": {
      "text/html": [
       "<div>\n",
       "<style scoped>\n",
       "    .dataframe tbody tr th:only-of-type {\n",
       "        vertical-align: middle;\n",
       "    }\n",
       "\n",
       "    .dataframe tbody tr th {\n",
       "        vertical-align: top;\n",
       "    }\n",
       "\n",
       "    .dataframe thead th {\n",
       "        text-align: right;\n",
       "    }\n",
       "</style>\n",
       "<table border=\"1\" class=\"dataframe\">\n",
       "  <thead>\n",
       "    <tr style=\"text-align: right;\">\n",
       "      <th></th>\n",
       "      <th>Unnamed: 0</th>\n",
       "      <th>id</th>\n",
       "      <th>tipo_propiedad</th>\n",
       "      <th>prop_subtipo</th>\n",
       "      <th>localidad</th>\n",
       "      <th>provincia</th>\n",
       "      <th>precio_usd</th>\n",
       "      <th>superficie_m2</th>\n",
       "      <th>usd_m2</th>\n",
       "      <th>ambientes</th>\n",
       "      <th>expensas</th>\n",
       "      <th>descripcion</th>\n",
       "      <th>titulo</th>\n",
       "      <th>geometry</th>\n",
       "    </tr>\n",
       "  </thead>\n",
       "  <tbody>\n",
       "    <tr>\n",
       "      <th>0</th>\n",
       "      <td>0</td>\n",
       "      <td>15bo8</td>\n",
       "      <td>PH</td>\n",
       "      <td>PH</td>\n",
       "      <td>Mataderos</td>\n",
       "      <td>Ciudad Autónoma de Buenos Aires</td>\n",
       "      <td>62000.0</td>\n",
       "      <td>55.0000</td>\n",
       "      <td>1127.272727</td>\n",
       "      <td>2.0</td>\n",
       "      <td>NaN</td>\n",
       "      <td>2 AMBIENTES TIPO CASA PLANTA BAJA POR PASILLO,...</td>\n",
       "      <td>2 AMB TIPO CASA SIN EXPENSAS EN PB</td>\n",
       "      <td>POINT (-58.5088387 -34.6618237)</td>\n",
       "    </tr>\n",
       "    <tr>\n",
       "      <th>1</th>\n",
       "      <td>1</td>\n",
       "      <td>15bob</td>\n",
       "      <td>apartment</td>\n",
       "      <td>apartment</td>\n",
       "      <td>La Plata</td>\n",
       "      <td>Buenos Aires</td>\n",
       "      <td>150000.0</td>\n",
       "      <td>70.4456</td>\n",
       "      <td>2129.302602</td>\n",
       "      <td>2.0</td>\n",
       "      <td>NaN</td>\n",
       "      <td>Venta de departamento en décimo piso al frente...</td>\n",
       "      <td>VENTA Depto 2 dorm. a estrenar 7 e/ 36 y 37   ...</td>\n",
       "      <td>POINT (-57.96432950000001 -34.9038831)</td>\n",
       "    </tr>\n",
       "  </tbody>\n",
       "</table>\n",
       "</div>"
      ],
      "text/plain": [
       "   Unnamed: 0     id tipo_propiedad prop_subtipo  localidad  \\\n",
       "0           0  15bo8             PH           PH  Mataderos   \n",
       "1           1  15bob      apartment    apartment   La Plata   \n",
       "\n",
       "                         provincia  precio_usd  superficie_m2       usd_m2  \\\n",
       "0  Ciudad Autónoma de Buenos Aires     62000.0        55.0000  1127.272727   \n",
       "1                     Buenos Aires    150000.0        70.4456  2129.302602   \n",
       "\n",
       "   ambientes  expensas                                        descripcion  \\\n",
       "0        2.0       NaN  2 AMBIENTES TIPO CASA PLANTA BAJA POR PASILLO,...   \n",
       "1        2.0       NaN  Venta de departamento en décimo piso al frente...   \n",
       "\n",
       "                                              titulo  \\\n",
       "0                 2 AMB TIPO CASA SIN EXPENSAS EN PB   \n",
       "1  VENTA Depto 2 dorm. a estrenar 7 e/ 36 y 37   ...   \n",
       "\n",
       "                                 geometry  \n",
       "0         POINT (-58.5088387 -34.6618237)  \n",
       "1  POINT (-57.96432950000001 -34.9038831)  "
      ]
     },
     "execution_count": 5,
     "metadata": {},
     "output_type": "execute_result"
    }
   ],
   "source": [
    "df.head(2)"
   ]
  },
  {
   "cell_type": "markdown",
   "metadata": {},
   "source": [
    "Vemos las pertenecientes a CABA:"
   ]
  },
  {
   "cell_type": "code",
   "execution_count": 6,
   "metadata": {},
   "outputs": [
    {
     "data": {
      "text/plain": [
       "(32316, 14)"
      ]
     },
     "execution_count": 6,
     "metadata": {},
     "output_type": "execute_result"
    }
   ],
   "source": [
    "df[df['provincia'] == 'Ciudad Autónoma de Buenos Aires'].shape"
   ]
  },
  {
   "cell_type": "markdown",
   "metadata": {},
   "source": [
    "Nos quedamos con las filas pertenecientes a CABA:"
   ]
  },
  {
   "cell_type": "code",
   "execution_count": 7,
   "metadata": {},
   "outputs": [],
   "source": [
    "df = df[df['provincia'] == 'Ciudad Autónoma de Buenos Aires']"
   ]
  },
  {
   "cell_type": "markdown",
   "metadata": {},
   "source": [
    "Vemos datos vacíos para las filas de interés:"
   ]
  },
  {
   "cell_type": "code",
   "execution_count": 8,
   "metadata": {},
   "outputs": [
    {
     "data": {
      "text/plain": [
       "Unnamed: 0            0\n",
       "id                    0\n",
       "tipo_propiedad        0\n",
       "prop_subtipo          0\n",
       "localidad             0\n",
       "provincia             0\n",
       "precio_usd            0\n",
       "superficie_m2         1\n",
       "usd_m2                1\n",
       "ambientes          7325\n",
       "expensas          25724\n",
       "descripcion           0\n",
       "titulo                0\n",
       "geometry              0\n",
       "dtype: int64"
      ]
     },
     "execution_count": 8,
     "metadata": {},
     "output_type": "execute_result"
    }
   ],
   "source": [
    "df.isnull().sum()"
   ]
  },
  {
   "cell_type": "code",
   "execution_count": 9,
   "metadata": {},
   "outputs": [
    {
     "data": {
      "text/plain": [
       "array(['PH', 'apartment', 'house', 'store'], dtype=object)"
      ]
     },
     "execution_count": 9,
     "metadata": {},
     "output_type": "execute_result"
    }
   ],
   "source": [
    "df.tipo_propiedad.unique()"
   ]
  },
  {
   "cell_type": "code",
   "execution_count": 10,
   "metadata": {},
   "outputs": [
    {
     "data": {
      "text/plain": [
       "Unnamed: 0           0\n",
       "id                   0\n",
       "tipo_propiedad       0\n",
       "prop_subtipo         0\n",
       "localidad            0\n",
       "provincia            0\n",
       "precio_usd           0\n",
       "superficie_m2        1\n",
       "usd_m2               1\n",
       "ambientes          481\n",
       "expensas          2075\n",
       "descripcion          0\n",
       "titulo               0\n",
       "geometry             0\n",
       "dtype: int64"
      ]
     },
     "execution_count": 10,
     "metadata": {},
     "output_type": "execute_result"
    }
   ],
   "source": [
    "df[df['tipo_propiedad'] == 'house'].isnull().sum()"
   ]
  },
  {
   "cell_type": "code",
   "execution_count": 11,
   "metadata": {},
   "outputs": [
    {
     "data": {
      "text/plain": [
       "Unnamed: 0        0\n",
       "id                0\n",
       "tipo_propiedad    0\n",
       "prop_subtipo      0\n",
       "localidad         0\n",
       "provincia         0\n",
       "precio_usd        0\n",
       "superficie_m2     0\n",
       "usd_m2            0\n",
       "ambientes         0\n",
       "expensas          0\n",
       "descripcion       0\n",
       "titulo            0\n",
       "geometry          0\n",
       "dtype: int64"
      ]
     },
     "execution_count": 11,
     "metadata": {},
     "output_type": "execute_result"
    }
   ],
   "source": [
    "df[df['tipo_propiedad'] == 'stores'].isnull().sum()"
   ]
  },
  {
   "cell_type": "markdown",
   "metadata": {},
   "source": [
    "LLevamos todos los valores de expersas para casas y a stores a 0, tanto nulos como otros, para corregirlos"
   ]
  },
  {
   "cell_type": "code",
   "execution_count": 12,
   "metadata": {},
   "outputs": [],
   "source": [
    "df.loc[df['tipo_propiedad'] == (('house') or ('stores')), 'expensas'] = 0"
   ]
  },
  {
   "cell_type": "code",
   "execution_count": 13,
   "metadata": {},
   "outputs": [
    {
     "data": {
      "text/plain": [
       "Unnamed: 0          0\n",
       "id                  0\n",
       "tipo_propiedad      0\n",
       "prop_subtipo        0\n",
       "localidad           0\n",
       "provincia           0\n",
       "precio_usd          0\n",
       "superficie_m2       1\n",
       "usd_m2              1\n",
       "ambientes         481\n",
       "expensas            0\n",
       "descripcion         0\n",
       "titulo              0\n",
       "geometry            0\n",
       "dtype: int64"
      ]
     },
     "execution_count": 13,
     "metadata": {},
     "output_type": "execute_result"
    }
   ],
   "source": [
    "df[df['tipo_propiedad'] == 'house'].isnull().sum()"
   ]
  },
  {
   "cell_type": "markdown",
   "metadata": {},
   "source": [
    "Llenamos las expensas de las propiedades faltantes agrupando por propiedad y barrio"
   ]
  },
  {
   "cell_type": "code",
   "execution_count": 14,
   "metadata": {},
   "outputs": [],
   "source": [
    "df.expensas.fillna(df.groupby(['tipo_propiedad', 'localidad'])['expensas'].transform('mean'), inplace=True)"
   ]
  },
  {
   "cell_type": "code",
   "execution_count": 15,
   "metadata": {},
   "outputs": [
    {
     "data": {
      "text/plain": [
       "Unnamed: 0           0\n",
       "id                   0\n",
       "tipo_propiedad       0\n",
       "prop_subtipo         0\n",
       "localidad            0\n",
       "provincia            0\n",
       "precio_usd           0\n",
       "superficie_m2        1\n",
       "usd_m2               1\n",
       "ambientes         7325\n",
       "expensas           372\n",
       "descripcion          0\n",
       "titulo               0\n",
       "geometry             0\n",
       "dtype: int64"
      ]
     },
     "execution_count": 15,
     "metadata": {},
     "output_type": "execute_result"
    }
   ],
   "source": [
    "df.isnull().sum()"
   ]
  },
  {
   "cell_type": "markdown",
   "metadata": {},
   "source": [
    "Llenamos las faltantes con la media por barrio unicamente:"
   ]
  },
  {
   "cell_type": "code",
   "execution_count": 16,
   "metadata": {},
   "outputs": [],
   "source": [
    "df.expensas.fillna(df.groupby('localidad')['expensas'].transform('mean'), inplace=True)"
   ]
  },
  {
   "cell_type": "code",
   "execution_count": 17,
   "metadata": {},
   "outputs": [
    {
     "data": {
      "text/plain": [
       "Unnamed: 0           0\n",
       "id                   0\n",
       "tipo_propiedad       0\n",
       "prop_subtipo         0\n",
       "localidad            0\n",
       "provincia            0\n",
       "precio_usd           0\n",
       "superficie_m2        1\n",
       "usd_m2               1\n",
       "ambientes         7325\n",
       "expensas             4\n",
       "descripcion          0\n",
       "titulo               0\n",
       "geometry             0\n",
       "dtype: int64"
      ]
     },
     "execution_count": 17,
     "metadata": {},
     "output_type": "execute_result"
    }
   ],
   "source": [
    "df.isnull().sum()"
   ]
  },
  {
   "cell_type": "code",
   "execution_count": 18,
   "metadata": {},
   "outputs": [
    {
     "data": {
      "text/html": [
       "<div>\n",
       "<style scoped>\n",
       "    .dataframe tbody tr th:only-of-type {\n",
       "        vertical-align: middle;\n",
       "    }\n",
       "\n",
       "    .dataframe tbody tr th {\n",
       "        vertical-align: top;\n",
       "    }\n",
       "\n",
       "    .dataframe thead th {\n",
       "        text-align: right;\n",
       "    }\n",
       "</style>\n",
       "<table border=\"1\" class=\"dataframe\">\n",
       "  <thead>\n",
       "    <tr style=\"text-align: right;\">\n",
       "      <th></th>\n",
       "      <th>Unnamed: 0</th>\n",
       "      <th>id</th>\n",
       "      <th>tipo_propiedad</th>\n",
       "      <th>prop_subtipo</th>\n",
       "      <th>localidad</th>\n",
       "      <th>provincia</th>\n",
       "      <th>precio_usd</th>\n",
       "      <th>superficie_m2</th>\n",
       "      <th>usd_m2</th>\n",
       "      <th>ambientes</th>\n",
       "      <th>expensas</th>\n",
       "      <th>descripcion</th>\n",
       "      <th>titulo</th>\n",
       "      <th>geometry</th>\n",
       "    </tr>\n",
       "  </thead>\n",
       "  <tbody>\n",
       "    <tr>\n",
       "      <th>2763</th>\n",
       "      <td>2763</td>\n",
       "      <td>15ki9</td>\n",
       "      <td>apartment</td>\n",
       "      <td>apartment</td>\n",
       "      <td>Catalinas</td>\n",
       "      <td>Ciudad Autónoma de Buenos Aires</td>\n",
       "      <td>95000.0</td>\n",
       "      <td>48.0</td>\n",
       "      <td>1979.166667</td>\n",
       "      <td>1.0</td>\n",
       "      <td>NaN</td>\n",
       "      <td>Edificio racionalista, Excelente departamento ...</td>\n",
       "      <td>U$D 95.000 - Departamento en Venta - Reconquis...</td>\n",
       "      <td>POINT (-58.38155746 -34.60368347)</td>\n",
       "    </tr>\n",
       "    <tr>\n",
       "      <th>5495</th>\n",
       "      <td>5495</td>\n",
       "      <td>15qkd</td>\n",
       "      <td>apartment</td>\n",
       "      <td>apartment_big</td>\n",
       "      <td>Catalinas</td>\n",
       "      <td>Ciudad Autónoma de Buenos Aires</td>\n",
       "      <td>550000.0</td>\n",
       "      <td>300.0</td>\n",
       "      <td>1833.333333</td>\n",
       "      <td>5.0</td>\n",
       "      <td>NaN</td>\n",
       "      <td>Amplia planta en excelente estado conservando ...</td>\n",
       "      <td>Excelente departamento antiguo en venta recicl...</td>\n",
       "      <td>POINT (-58.376624255 -34.6000039032)</td>\n",
       "    </tr>\n",
       "    <tr>\n",
       "      <th>63654</th>\n",
       "      <td>63654</td>\n",
       "      <td>1a96l</td>\n",
       "      <td>apartment</td>\n",
       "      <td>apartment</td>\n",
       "      <td>Catalinas</td>\n",
       "      <td>Ciudad Autónoma de Buenos Aires</td>\n",
       "      <td>322500.0</td>\n",
       "      <td>44.0</td>\n",
       "      <td>7329.545455</td>\n",
       "      <td>2.0</td>\n",
       "      <td>NaN</td>\n",
       "      <td>EXCELENTE DOS AMBIENTES MUY LUMINOSO ORIENTACI...</td>\n",
       "      <td>LINDO 2 AMB. TODO A NUEVO. APTO. PROFESIONAL</td>\n",
       "      <td>POINT (-58.3728676 -34.5976219)</td>\n",
       "    </tr>\n",
       "    <tr>\n",
       "      <th>73605</th>\n",
       "      <td>73605</td>\n",
       "      <td>1anwu</td>\n",
       "      <td>store</td>\n",
       "      <td>store</td>\n",
       "      <td>Catalinas</td>\n",
       "      <td>Ciudad Autónoma de Buenos Aires</td>\n",
       "      <td>350000.0</td>\n",
       "      <td>115.0</td>\n",
       "      <td>3043.478261</td>\n",
       "      <td>NaN</td>\n",
       "      <td>NaN</td>\n",
       "      <td>\"VENTA\" O \"ALQUILER\". PARA VER FOTOS Y PLANO ...</td>\n",
       "      <td>Excelente Local situado en plena zona turística.</td>\n",
       "      <td>POINT (-58.376913 -34.600861)</td>\n",
       "    </tr>\n",
       "  </tbody>\n",
       "</table>\n",
       "</div>"
      ],
      "text/plain": [
       "       Unnamed: 0     id tipo_propiedad   prop_subtipo  localidad  \\\n",
       "2763         2763  15ki9      apartment      apartment  Catalinas   \n",
       "5495         5495  15qkd      apartment  apartment_big  Catalinas   \n",
       "63654       63654  1a96l      apartment      apartment  Catalinas   \n",
       "73605       73605  1anwu          store          store  Catalinas   \n",
       "\n",
       "                             provincia  precio_usd  superficie_m2  \\\n",
       "2763   Ciudad Autónoma de Buenos Aires     95000.0           48.0   \n",
       "5495   Ciudad Autónoma de Buenos Aires    550000.0          300.0   \n",
       "63654  Ciudad Autónoma de Buenos Aires    322500.0           44.0   \n",
       "73605  Ciudad Autónoma de Buenos Aires    350000.0          115.0   \n",
       "\n",
       "            usd_m2  ambientes  expensas  \\\n",
       "2763   1979.166667        1.0       NaN   \n",
       "5495   1833.333333        5.0       NaN   \n",
       "63654  7329.545455        2.0       NaN   \n",
       "73605  3043.478261        NaN       NaN   \n",
       "\n",
       "                                             descripcion  \\\n",
       "2763   Edificio racionalista, Excelente departamento ...   \n",
       "5495   Amplia planta en excelente estado conservando ...   \n",
       "63654  EXCELENTE DOS AMBIENTES MUY LUMINOSO ORIENTACI...   \n",
       "73605   \"VENTA\" O \"ALQUILER\". PARA VER FOTOS Y PLANO ...   \n",
       "\n",
       "                                                  titulo  \\\n",
       "2763   U$D 95.000 - Departamento en Venta - Reconquis...   \n",
       "5495   Excelente departamento antiguo en venta recicl...   \n",
       "63654       LINDO 2 AMB. TODO A NUEVO. APTO. PROFESIONAL   \n",
       "73605   Excelente Local situado en plena zona turística.   \n",
       "\n",
       "                                   geometry  \n",
       "2763      POINT (-58.38155746 -34.60368347)  \n",
       "5495   POINT (-58.376624255 -34.6000039032)  \n",
       "63654       POINT (-58.3728676 -34.5976219)  \n",
       "73605         POINT (-58.376913 -34.600861)  "
      ]
     },
     "execution_count": 18,
     "metadata": {},
     "output_type": "execute_result"
    }
   ],
   "source": [
    "df[df.expensas.isnull()]"
   ]
  },
  {
   "cell_type": "code",
   "execution_count": 19,
   "metadata": {},
   "outputs": [
    {
     "data": {
      "text/html": [
       "<div>\n",
       "<style scoped>\n",
       "    .dataframe tbody tr th:only-of-type {\n",
       "        vertical-align: middle;\n",
       "    }\n",
       "\n",
       "    .dataframe tbody tr th {\n",
       "        vertical-align: top;\n",
       "    }\n",
       "\n",
       "    .dataframe thead th {\n",
       "        text-align: right;\n",
       "    }\n",
       "</style>\n",
       "<table border=\"1\" class=\"dataframe\">\n",
       "  <thead>\n",
       "    <tr style=\"text-align: right;\">\n",
       "      <th></th>\n",
       "      <th>Unnamed: 0</th>\n",
       "      <th>id</th>\n",
       "      <th>tipo_propiedad</th>\n",
       "      <th>prop_subtipo</th>\n",
       "      <th>localidad</th>\n",
       "      <th>provincia</th>\n",
       "      <th>precio_usd</th>\n",
       "      <th>superficie_m2</th>\n",
       "      <th>usd_m2</th>\n",
       "      <th>ambientes</th>\n",
       "      <th>expensas</th>\n",
       "      <th>descripcion</th>\n",
       "      <th>titulo</th>\n",
       "      <th>geometry</th>\n",
       "    </tr>\n",
       "  </thead>\n",
       "  <tbody>\n",
       "    <tr>\n",
       "      <th>2763</th>\n",
       "      <td>2763</td>\n",
       "      <td>15ki9</td>\n",
       "      <td>apartment</td>\n",
       "      <td>apartment</td>\n",
       "      <td>Catalinas</td>\n",
       "      <td>Ciudad Autónoma de Buenos Aires</td>\n",
       "      <td>95000.0</td>\n",
       "      <td>48.0</td>\n",
       "      <td>1979.166667</td>\n",
       "      <td>1.0</td>\n",
       "      <td>NaN</td>\n",
       "      <td>Edificio racionalista, Excelente departamento ...</td>\n",
       "      <td>U$D 95.000 - Departamento en Venta - Reconquis...</td>\n",
       "      <td>POINT (-58.38155746 -34.60368347)</td>\n",
       "    </tr>\n",
       "    <tr>\n",
       "      <th>5495</th>\n",
       "      <td>5495</td>\n",
       "      <td>15qkd</td>\n",
       "      <td>apartment</td>\n",
       "      <td>apartment_big</td>\n",
       "      <td>Catalinas</td>\n",
       "      <td>Ciudad Autónoma de Buenos Aires</td>\n",
       "      <td>550000.0</td>\n",
       "      <td>300.0</td>\n",
       "      <td>1833.333333</td>\n",
       "      <td>5.0</td>\n",
       "      <td>NaN</td>\n",
       "      <td>Amplia planta en excelente estado conservando ...</td>\n",
       "      <td>Excelente departamento antiguo en venta recicl...</td>\n",
       "      <td>POINT (-58.376624255 -34.6000039032)</td>\n",
       "    </tr>\n",
       "    <tr>\n",
       "      <th>63654</th>\n",
       "      <td>63654</td>\n",
       "      <td>1a96l</td>\n",
       "      <td>apartment</td>\n",
       "      <td>apartment</td>\n",
       "      <td>Catalinas</td>\n",
       "      <td>Ciudad Autónoma de Buenos Aires</td>\n",
       "      <td>322500.0</td>\n",
       "      <td>44.0</td>\n",
       "      <td>7329.545455</td>\n",
       "      <td>2.0</td>\n",
       "      <td>NaN</td>\n",
       "      <td>EXCELENTE DOS AMBIENTES MUY LUMINOSO ORIENTACI...</td>\n",
       "      <td>LINDO 2 AMB. TODO A NUEVO. APTO. PROFESIONAL</td>\n",
       "      <td>POINT (-58.3728676 -34.5976219)</td>\n",
       "    </tr>\n",
       "    <tr>\n",
       "      <th>73605</th>\n",
       "      <td>73605</td>\n",
       "      <td>1anwu</td>\n",
       "      <td>store</td>\n",
       "      <td>store</td>\n",
       "      <td>Catalinas</td>\n",
       "      <td>Ciudad Autónoma de Buenos Aires</td>\n",
       "      <td>350000.0</td>\n",
       "      <td>115.0</td>\n",
       "      <td>3043.478261</td>\n",
       "      <td>NaN</td>\n",
       "      <td>NaN</td>\n",
       "      <td>\"VENTA\" O \"ALQUILER\". PARA VER FOTOS Y PLANO ...</td>\n",
       "      <td>Excelente Local situado en plena zona turística.</td>\n",
       "      <td>POINT (-58.376913 -34.600861)</td>\n",
       "    </tr>\n",
       "  </tbody>\n",
       "</table>\n",
       "</div>"
      ],
      "text/plain": [
       "       Unnamed: 0     id tipo_propiedad   prop_subtipo  localidad  \\\n",
       "2763         2763  15ki9      apartment      apartment  Catalinas   \n",
       "5495         5495  15qkd      apartment  apartment_big  Catalinas   \n",
       "63654       63654  1a96l      apartment      apartment  Catalinas   \n",
       "73605       73605  1anwu          store          store  Catalinas   \n",
       "\n",
       "                             provincia  precio_usd  superficie_m2  \\\n",
       "2763   Ciudad Autónoma de Buenos Aires     95000.0           48.0   \n",
       "5495   Ciudad Autónoma de Buenos Aires    550000.0          300.0   \n",
       "63654  Ciudad Autónoma de Buenos Aires    322500.0           44.0   \n",
       "73605  Ciudad Autónoma de Buenos Aires    350000.0          115.0   \n",
       "\n",
       "            usd_m2  ambientes  expensas  \\\n",
       "2763   1979.166667        1.0       NaN   \n",
       "5495   1833.333333        5.0       NaN   \n",
       "63654  7329.545455        2.0       NaN   \n",
       "73605  3043.478261        NaN       NaN   \n",
       "\n",
       "                                             descripcion  \\\n",
       "2763   Edificio racionalista, Excelente departamento ...   \n",
       "5495   Amplia planta en excelente estado conservando ...   \n",
       "63654  EXCELENTE DOS AMBIENTES MUY LUMINOSO ORIENTACI...   \n",
       "73605   \"VENTA\" O \"ALQUILER\". PARA VER FOTOS Y PLANO ...   \n",
       "\n",
       "                                                  titulo  \\\n",
       "2763   U$D 95.000 - Departamento en Venta - Reconquis...   \n",
       "5495   Excelente departamento antiguo en venta recicl...   \n",
       "63654       LINDO 2 AMB. TODO A NUEVO. APTO. PROFESIONAL   \n",
       "73605   Excelente Local situado en plena zona turística.   \n",
       "\n",
       "                                   geometry  \n",
       "2763      POINT (-58.38155746 -34.60368347)  \n",
       "5495   POINT (-58.376624255 -34.6000039032)  \n",
       "63654       POINT (-58.3728676 -34.5976219)  \n",
       "73605         POINT (-58.376913 -34.600861)  "
      ]
     },
     "execution_count": 19,
     "metadata": {},
     "output_type": "execute_result"
    }
   ],
   "source": [
    "df[df.localidad == 'Catalinas']"
   ]
  },
  {
   "cell_type": "markdown",
   "metadata": {},
   "source": [
    "Como no hay otras propiedades en Catalinas para usar de parámetro, llenamos por tipo de propiedad en general:"
   ]
  },
  {
   "cell_type": "code",
   "execution_count": 20,
   "metadata": {},
   "outputs": [],
   "source": [
    "df.expensas.fillna(df.groupby('tipo_propiedad')['expensas'].transform('mean'), inplace=True)"
   ]
  },
  {
   "cell_type": "code",
   "execution_count": 21,
   "metadata": {},
   "outputs": [
    {
     "data": {
      "text/plain": [
       "Unnamed: 0           0\n",
       "id                   0\n",
       "tipo_propiedad       0\n",
       "prop_subtipo         0\n",
       "localidad            0\n",
       "provincia            0\n",
       "precio_usd           0\n",
       "superficie_m2        1\n",
       "usd_m2               1\n",
       "ambientes         7325\n",
       "expensas             0\n",
       "descripcion          0\n",
       "titulo               0\n",
       "geometry             0\n",
       "dtype: int64"
      ]
     },
     "execution_count": 21,
     "metadata": {},
     "output_type": "execute_result"
    }
   ],
   "source": [
    "df.isnull().sum()"
   ]
  },
  {
   "cell_type": "markdown",
   "metadata": {},
   "source": [
    "Para las faltantes de ambientes, vemos la distribución:"
   ]
  },
  {
   "cell_type": "code",
   "execution_count": 22,
   "metadata": {},
   "outputs": [
    {
     "data": {
      "image/png": "[encoded data removed]",
      "text/plain": [
       "<Figure size 432x288 with 1 Axes>"
      ]
     },
     "metadata": {
      "needs_background": "light"
     },
     "output_type": "display_data"
    }
   ],
   "source": [
    "import numpy as np\n",
    "import matplotlib.pyplot as plt\n",
    "%matplotlib inline\n",
    "import seaborn as sns\n",
    "\n",
    "sns.distplot(df['ambientes'],kde=False, color='Red', bins=20)\n",
    "plt.title('Distribución de ambientes', fontsize=14)\n",
    "plt.xlabel('Ambientes', fontsize=12)\n",
    "plt.ylabel('Frecuencia', fontsize=12)\n",
    "plt.savefig('Histograma seaborn')\n",
    "\n",
    "import math\n",
    "# Set plotting style\n",
    "sns.set_style('whitegrid')\n",
    "\n",
    "# Get current axis on current figure\n",
    "ax = plt.gca()\n",
    "\n",
    "# ylim max value to be set\n",
    "y_max = df['ambientes'].value_counts().max() \n",
    "ax.set_ylim([0, y_max])\n",
    "\n",
    "# Iterate through the list of axes' patches\n",
    "for p in ax.patches:\n",
    "    ax.text(p.get_x() + p.get_width(), p.get_height(), '%d' % int(p.get_height()), \n",
    "            fontsize=12, color='black', ha='center', va='bottom')\n",
    "\n",
    "plt.show()\n"
   ]
  },
  {
   "cell_type": "code",
   "execution_count": 23,
   "metadata": {
    "scrolled": true
   },
   "outputs": [
    {
     "data": {
      "text/plain": [
       "(316, 14)"
      ]
     },
     "execution_count": 23,
     "metadata": {},
     "output_type": "execute_result"
    }
   ],
   "source": [
    "df[df.ambientes > 6].shape"
   ]
  },
  {
   "cell_type": "markdown",
   "metadata": {},
   "source": [
    "### Decisión: nuestro modelo explicará la variación del precio por m2 de propiedades de hasta 6 ambientes en la Ciudad de Buenos Aires\n",
    "\n",
    "Tiramos los valores que no nos son útiles."
   ]
  },
  {
   "cell_type": "code",
   "execution_count": 24,
   "metadata": {},
   "outputs": [],
   "source": [
    "df = df[~(df.ambientes > 6)]"
   ]
  },
  {
   "cell_type": "code",
   "execution_count": 25,
   "metadata": {},
   "outputs": [
    {
     "data": {
      "text/plain": [
       "(32000, 14)"
      ]
     },
     "execution_count": 25,
     "metadata": {},
     "output_type": "execute_result"
    }
   ],
   "source": [
    "df.shape"
   ]
  },
  {
   "cell_type": "markdown",
   "metadata": {},
   "source": [
    "Ahora podemos rellenar el dataset con los ambientes por media, teniendo en cuenta el subtipo de propiedad. \n",
    "Más adelante se analizará si suma o resta al modelo involucrar la variable ambientes, ya que muchos de sus datos serán estimados por la media."
   ]
  },
  {
   "cell_type": "code",
   "execution_count": 26,
   "metadata": {},
   "outputs": [],
   "source": [
    "df.ambientes.fillna(df.groupby(['prop_subtipo'])['ambientes'].transform('mean'), inplace=True)"
   ]
  },
  {
   "cell_type": "code",
   "execution_count": 27,
   "metadata": {},
   "outputs": [
    {
     "data": {
      "text/plain": [
       "Unnamed: 0        0\n",
       "id                0\n",
       "tipo_propiedad    0\n",
       "prop_subtipo      0\n",
       "localidad         0\n",
       "provincia         0\n",
       "precio_usd        0\n",
       "superficie_m2     1\n",
       "usd_m2            1\n",
       "ambientes         0\n",
       "expensas          0\n",
       "descripcion       0\n",
       "titulo            0\n",
       "geometry          0\n",
       "dtype: int64"
      ]
     },
     "execution_count": 27,
     "metadata": {},
     "output_type": "execute_result"
    }
   ],
   "source": [
    "df.isnull().sum()"
   ]
  },
  {
   "cell_type": "markdown",
   "metadata": {},
   "source": [
    "Quedó un dato vacío en Y, vemos cuál es y lo eliminamos."
   ]
  },
  {
   "cell_type": "code",
   "execution_count": 28,
   "metadata": {},
   "outputs": [
    {
     "data": {
      "text/html": [
       "<div>\n",
       "<style scoped>\n",
       "    .dataframe tbody tr th:only-of-type {\n",
       "        vertical-align: middle;\n",
       "    }\n",
       "\n",
       "    .dataframe tbody tr th {\n",
       "        vertical-align: top;\n",
       "    }\n",
       "\n",
       "    .dataframe thead th {\n",
       "        text-align: right;\n",
       "    }\n",
       "</style>\n",
       "<table border=\"1\" class=\"dataframe\">\n",
       "  <thead>\n",
       "    <tr style=\"text-align: right;\">\n",
       "      <th></th>\n",
       "      <th>Unnamed: 0</th>\n",
       "      <th>id</th>\n",
       "      <th>tipo_propiedad</th>\n",
       "      <th>prop_subtipo</th>\n",
       "      <th>localidad</th>\n",
       "      <th>provincia</th>\n",
       "      <th>precio_usd</th>\n",
       "      <th>superficie_m2</th>\n",
       "      <th>usd_m2</th>\n",
       "      <th>ambientes</th>\n",
       "      <th>expensas</th>\n",
       "      <th>descripcion</th>\n",
       "      <th>titulo</th>\n",
       "      <th>geometry</th>\n",
       "    </tr>\n",
       "  </thead>\n",
       "  <tbody>\n",
       "    <tr>\n",
       "      <th>24895</th>\n",
       "      <td>24895</td>\n",
       "      <td>17p8s</td>\n",
       "      <td>house</td>\n",
       "      <td>house</td>\n",
       "      <td>Congreso</td>\n",
       "      <td>Ciudad Autónoma de Buenos Aires</td>\n",
       "      <td>63000.0</td>\n",
       "      <td>NaN</td>\n",
       "      <td>NaN</td>\n",
       "      <td>1.0</td>\n",
       "      <td>0.0</td>\n",
       "      <td>1 AMB DIVISIBLE, SE VENDE TODO EQUIPADO, BAO C...</td>\n",
       "      <td>1004</td>\n",
       "      <td>POINT (-58.391032 -34.610544)</td>\n",
       "    </tr>\n",
       "  </tbody>\n",
       "</table>\n",
       "</div>"
      ],
      "text/plain": [
       "       Unnamed: 0     id tipo_propiedad prop_subtipo localidad  \\\n",
       "24895       24895  17p8s          house        house  Congreso   \n",
       "\n",
       "                             provincia  precio_usd  superficie_m2  usd_m2  \\\n",
       "24895  Ciudad Autónoma de Buenos Aires     63000.0            NaN     NaN   \n",
       "\n",
       "       ambientes  expensas                                        descripcion  \\\n",
       "24895        1.0       0.0  1 AMB DIVISIBLE, SE VENDE TODO EQUIPADO, BAO C...   \n",
       "\n",
       "      titulo                       geometry  \n",
       "24895   1004  POINT (-58.391032 -34.610544)  "
      ]
     },
     "execution_count": 28,
     "metadata": {},
     "output_type": "execute_result"
    }
   ],
   "source": [
    "df[df.usd_m2.isna()]"
   ]
  },
  {
   "cell_type": "code",
   "execution_count": 29,
   "metadata": {},
   "outputs": [],
   "source": [
    "df.dropna(inplace=True)"
   ]
  },
  {
   "cell_type": "markdown",
   "metadata": {},
   "source": [
    "## Agregamos variables categóricas 'cochera' y 'amenities'"
   ]
  },
  {
   "cell_type": "markdown",
   "metadata": {},
   "source": [
    "### regEX en busca de amenities\n",
    "nos tramos las funciones de nuestra limpieza para buscar palabras clave"
   ]
  },
  {
   "cell_type": "code",
   "execution_count": 30,
   "metadata": {},
   "outputs": [],
   "source": [
    "# acomodamos algunas palabras para simplificar la busqueda\n",
    "df.descripcion = df.descripcion.str.replace('jacuzi','jacuzzi')\n",
    "df.descripcion = df.descripcion.str.replace('picina','pileta')\n",
    "df.descripcion = df.descripcion.str.replace('piscina','pileta')\n",
    "df.descripcion = df.descripcion.str.replace('garage','cochera')\n",
    "df.descripcion = df.descripcion.str.replace('salon de usos multiples','S.U.M.')"
   ]
  },
  {
   "cell_type": "code",
   "execution_count": 31,
   "metadata": {},
   "outputs": [],
   "source": [
    "# quitamos acentos\n",
    "def normalize_text(data):\n",
    "    data = unidecode.unidecode(data)\n",
    "    data = data.lower()\n",
    "    return data\n",
    "\n",
    "df.descripcion = df.descripcion.map(normalize_text)"
   ]
  },
  {
   "cell_type": "code",
   "execution_count": 32,
   "metadata": {},
   "outputs": [],
   "source": [
    "# eliminamos el \"No es apto crédito\" para poder buscar \"Apto crédito\" sin errores\n",
    "df.descripcion = df.descripcion.str.replace('no es apto credito','')"
   ]
  },
  {
   "cell_type": "code",
   "execution_count": 33,
   "metadata": {},
   "outputs": [],
   "source": [
    "# establecemos una lista de amenities que nos interesa buscar\n",
    "lista_am = ['cochera','pileta','jacuzzi','ping pong','parilla','s.u.m.','apto credito','apto profesional',\n",
    "            'solarium','terraza propia']"
   ]
  },
  {
   "cell_type": "code",
   "execution_count": 34,
   "metadata": {},
   "outputs": [],
   "source": [
    "# reestsablecemos el index\n",
    "df.reset_index(inplace=True,drop=True)"
   ]
  },
  {
   "cell_type": "code",
   "execution_count": 35,
   "metadata": {},
   "outputs": [
    {
     "name": "stdout",
     "output_type": "stream",
     "text": [
      "(cochera)\n",
      "(pileta)\n",
      "(jacuzzi)\n",
      "(ping pong)\n",
      "(parilla)\n",
      "(s.u.m.)\n",
      "(apto credito)\n",
      "(apto profesional)\n",
      "(solarium)\n",
      "(terraza propia)\n"
     ]
    }
   ],
   "source": [
    "# generamos una copia de nuestro df solo con el id\n",
    "amenities = df[['id']].copy()\n",
    "\n",
    "for i in range(len(lista_am)):\n",
    "    pattern = '('+lista_am[i]+')' # establecemos el pattern dinamicamente\n",
    "    regex = re.compile(pattern, flags = re.IGNORECASE)\n",
    "    \n",
    "    temp = df.descripcion.str.extract(pattern)     # esto nos devuelve una serie con los resultados\n",
    "    temp.columns = [lista_am[i]]                   # renombramos su columna con la ammenitie buscada\n",
    "    amenities = pd.concat([amenities,temp],axis=1) # concatenamos al df vacio que nos generamos \n",
    "    print(pattern)"
   ]
  },
  {
   "cell_type": "code",
   "execution_count": 36,
   "metadata": {
    "scrolled": true
   },
   "outputs": [
    {
     "data": {
      "text/html": [
       "<div>\n",
       "<style scoped>\n",
       "    .dataframe tbody tr th:only-of-type {\n",
       "        vertical-align: middle;\n",
       "    }\n",
       "\n",
       "    .dataframe tbody tr th {\n",
       "        vertical-align: top;\n",
       "    }\n",
       "\n",
       "    .dataframe thead th {\n",
       "        text-align: right;\n",
       "    }\n",
       "</style>\n",
       "<table border=\"1\" class=\"dataframe\">\n",
       "  <thead>\n",
       "    <tr style=\"text-align: right;\">\n",
       "      <th></th>\n",
       "      <th>id</th>\n",
       "      <th>cochera</th>\n",
       "      <th>pileta</th>\n",
       "      <th>jacuzzi</th>\n",
       "      <th>ping pong</th>\n",
       "      <th>parilla</th>\n",
       "      <th>s.u.m.</th>\n",
       "      <th>apto credito</th>\n",
       "      <th>apto profesional</th>\n",
       "      <th>solarium</th>\n",
       "      <th>terraza propia</th>\n",
       "    </tr>\n",
       "  </thead>\n",
       "  <tbody>\n",
       "    <tr>\n",
       "      <th>count</th>\n",
       "      <td>31999</td>\n",
       "      <td>11120</td>\n",
       "      <td>5010</td>\n",
       "      <td>1729</td>\n",
       "      <td>25</td>\n",
       "      <td>119</td>\n",
       "      <td>579</td>\n",
       "      <td>2742</td>\n",
       "      <td>3858</td>\n",
       "      <td>6260</td>\n",
       "      <td>738</td>\n",
       "    </tr>\n",
       "    <tr>\n",
       "      <th>unique</th>\n",
       "      <td>31999</td>\n",
       "      <td>1</td>\n",
       "      <td>1</td>\n",
       "      <td>1</td>\n",
       "      <td>1</td>\n",
       "      <td>1</td>\n",
       "      <td>10</td>\n",
       "      <td>1</td>\n",
       "      <td>1</td>\n",
       "      <td>1</td>\n",
       "      <td>1</td>\n",
       "    </tr>\n",
       "    <tr>\n",
       "      <th>top</th>\n",
       "      <td>1c2bn</td>\n",
       "      <td>cochera</td>\n",
       "      <td>pileta</td>\n",
       "      <td>jacuzzi</td>\n",
       "      <td>ping pong</td>\n",
       "      <td>parilla</td>\n",
       "      <td>s.u.m.</td>\n",
       "      <td>apto credito</td>\n",
       "      <td>apto profesional</td>\n",
       "      <td>solarium</td>\n",
       "      <td>terraza propia</td>\n",
       "    </tr>\n",
       "    <tr>\n",
       "      <th>freq</th>\n",
       "      <td>1</td>\n",
       "      <td>11120</td>\n",
       "      <td>5010</td>\n",
       "      <td>1729</td>\n",
       "      <td>25</td>\n",
       "      <td>119</td>\n",
       "      <td>400</td>\n",
       "      <td>2742</td>\n",
       "      <td>3858</td>\n",
       "      <td>6260</td>\n",
       "      <td>738</td>\n",
       "    </tr>\n",
       "  </tbody>\n",
       "</table>\n",
       "</div>"
      ],
      "text/plain": [
       "           id  cochera  pileta  jacuzzi  ping pong  parilla  s.u.m.  \\\n",
       "count   31999    11120    5010     1729         25      119     579   \n",
       "unique  31999        1       1        1          1        1      10   \n",
       "top     1c2bn  cochera  pileta  jacuzzi  ping pong  parilla  s.u.m.   \n",
       "freq        1    11120    5010     1729         25      119     400   \n",
       "\n",
       "        apto credito  apto profesional  solarium  terraza propia  \n",
       "count           2742              3858      6260             738  \n",
       "unique             1                 1         1               1  \n",
       "top     apto credito  apto profesional  solarium  terraza propia  \n",
       "freq            2742              3858      6260             738  "
      ]
     },
     "execution_count": 36,
     "metadata": {},
     "output_type": "execute_result"
    }
   ],
   "source": [
    "# visualizamos lo encontrado\n",
    "amenities.describe()"
   ]
  },
  {
   "cell_type": "code",
   "execution_count": 37,
   "metadata": {},
   "outputs": [],
   "source": [
    "# generamos unas dummies de forma \"casera\"\n",
    "amenities.fillna(0,inplace=True)\n",
    "\n",
    "for i in range(amenities.shape[1]-1):\n",
    "    amenities.loc[amenities[lista_am[i]]!=0,lista_am[i]] = 1"
   ]
  },
  {
   "cell_type": "code",
   "execution_count": 38,
   "metadata": {},
   "outputs": [
    {
     "data": {
      "text/plain": [
       "cochera             11120\n",
       "pileta               5010\n",
       "jacuzzi              1729\n",
       "ping pong              25\n",
       "parilla               119\n",
       "s.u.m.                579\n",
       "apto credito         2742\n",
       "apto profesional     3858\n",
       "solarium             6260\n",
       "terraza propia        738\n",
       "dtype: int64"
      ]
     },
     "execution_count": 38,
     "metadata": {},
     "output_type": "execute_result"
    }
   ],
   "source": [
    "# visualizamos las cantidades\n",
    "datos = amenities[lista_am].describe()\n",
    "\n",
    "# vemos que 1/3 del dataset tiene cochera, por lo que se decide utilizarla por si sola y con el resto hacer 1 sola columna\n",
    "datos.loc['count']-datos.loc['freq']"
   ]
  },
  {
   "cell_type": "code",
   "execution_count": 39,
   "metadata": {},
   "outputs": [],
   "source": [
    "# renombramos las columnas cambiando \" \" por \"_\"\n",
    "amen = list(amenities.columns)\n",
    "\n",
    "new_name = []\n",
    "for i in range(len(amen)):\n",
    "    new_name.append(amen[i].replace(' ','_'))\n",
    "\n",
    "amenities.columns = new_name"
   ]
  },
  {
   "cell_type": "code",
   "execution_count": 40,
   "metadata": {},
   "outputs": [
    {
     "data": {
      "text/plain": [
       "Index(['pileta', 'jacuzzi', 'ping_pong', 'parilla', 's.u.m.', 'apto_credito',\n",
       "       'apto_profesional', 'solarium', 'terraza_propia'],\n",
       "      dtype='object')"
      ]
     },
     "execution_count": 40,
     "metadata": {},
     "output_type": "execute_result"
    }
   ],
   "source": [
    "# estas las agrupamos en una variable\n",
    "amenities.columns[2:]"
   ]
  },
  {
   "cell_type": "code",
   "execution_count": 41,
   "metadata": {},
   "outputs": [],
   "source": [
    "# cochera se usa por si sola y con el resto generamos \"con_amen\"\n",
    "amenities['con_amen'] = amenities[amenities.columns[2:]].max(axis=1)"
   ]
  },
  {
   "cell_type": "code",
   "execution_count": 42,
   "metadata": {},
   "outputs": [
    {
     "data": {
      "text/html": [
       "<div>\n",
       "<style scoped>\n",
       "    .dataframe tbody tr th:only-of-type {\n",
       "        vertical-align: middle;\n",
       "    }\n",
       "\n",
       "    .dataframe tbody tr th {\n",
       "        vertical-align: top;\n",
       "    }\n",
       "\n",
       "    .dataframe thead th {\n",
       "        text-align: right;\n",
       "    }\n",
       "</style>\n",
       "<table border=\"1\" class=\"dataframe\">\n",
       "  <thead>\n",
       "    <tr style=\"text-align: right;\">\n",
       "      <th></th>\n",
       "      <th>id</th>\n",
       "      <th>cochera</th>\n",
       "      <th>pileta</th>\n",
       "      <th>jacuzzi</th>\n",
       "      <th>ping_pong</th>\n",
       "      <th>parilla</th>\n",
       "      <th>s.u.m.</th>\n",
       "      <th>apto_credito</th>\n",
       "      <th>apto_profesional</th>\n",
       "      <th>solarium</th>\n",
       "      <th>terraza_propia</th>\n",
       "      <th>con_amen</th>\n",
       "    </tr>\n",
       "  </thead>\n",
       "  <tbody>\n",
       "    <tr>\n",
       "      <th>31329</th>\n",
       "      <td>1cgx0</td>\n",
       "      <td>1</td>\n",
       "      <td>0</td>\n",
       "      <td>0</td>\n",
       "      <td>0</td>\n",
       "      <td>0</td>\n",
       "      <td>0</td>\n",
       "      <td>0</td>\n",
       "      <td>0</td>\n",
       "      <td>0</td>\n",
       "      <td>0</td>\n",
       "      <td>0.0</td>\n",
       "    </tr>\n",
       "    <tr>\n",
       "      <th>3514</th>\n",
       "      <td>16x8r</td>\n",
       "      <td>0</td>\n",
       "      <td>0</td>\n",
       "      <td>0</td>\n",
       "      <td>0</td>\n",
       "      <td>0</td>\n",
       "      <td>0</td>\n",
       "      <td>0</td>\n",
       "      <td>1</td>\n",
       "      <td>0</td>\n",
       "      <td>0</td>\n",
       "      <td>1.0</td>\n",
       "    </tr>\n",
       "    <tr>\n",
       "      <th>12363</th>\n",
       "      <td>199r6</td>\n",
       "      <td>0</td>\n",
       "      <td>0</td>\n",
       "      <td>0</td>\n",
       "      <td>0</td>\n",
       "      <td>0</td>\n",
       "      <td>0</td>\n",
       "      <td>0</td>\n",
       "      <td>0</td>\n",
       "      <td>0</td>\n",
       "      <td>0</td>\n",
       "      <td>0.0</td>\n",
       "    </tr>\n",
       "    <tr>\n",
       "      <th>25927</th>\n",
       "      <td>1biu7</td>\n",
       "      <td>0</td>\n",
       "      <td>0</td>\n",
       "      <td>0</td>\n",
       "      <td>0</td>\n",
       "      <td>0</td>\n",
       "      <td>0</td>\n",
       "      <td>0</td>\n",
       "      <td>0</td>\n",
       "      <td>0</td>\n",
       "      <td>0</td>\n",
       "      <td>0.0</td>\n",
       "    </tr>\n",
       "    <tr>\n",
       "      <th>31885</th>\n",
       "      <td>1ciz9</td>\n",
       "      <td>0</td>\n",
       "      <td>0</td>\n",
       "      <td>0</td>\n",
       "      <td>0</td>\n",
       "      <td>0</td>\n",
       "      <td>0</td>\n",
       "      <td>0</td>\n",
       "      <td>0</td>\n",
       "      <td>0</td>\n",
       "      <td>0</td>\n",
       "      <td>0.0</td>\n",
       "    </tr>\n",
       "  </tbody>\n",
       "</table>\n",
       "</div>"
      ],
      "text/plain": [
       "          id cochera pileta jacuzzi ping_pong parilla s.u.m. apto_credito  \\\n",
       "31329  1cgx0       1      0       0         0       0      0            0   \n",
       "3514   16x8r       0      0       0         0       0      0            0   \n",
       "12363  199r6       0      0       0         0       0      0            0   \n",
       "25927  1biu7       0      0       0         0       0      0            0   \n",
       "31885  1ciz9       0      0       0         0       0      0            0   \n",
       "\n",
       "      apto_profesional solarium terraza_propia  con_amen  \n",
       "31329                0        0              0       0.0  \n",
       "3514                 1        0              0       1.0  \n",
       "12363                0        0              0       0.0  \n",
       "25927                0        0              0       0.0  \n",
       "31885                0        0              0       0.0  "
      ]
     },
     "execution_count": 42,
     "metadata": {},
     "output_type": "execute_result"
    }
   ],
   "source": [
    "np.random.seed(0)\n",
    "amenities.sample(5)"
   ]
  },
  {
   "cell_type": "code",
   "execution_count": 43,
   "metadata": {},
   "outputs": [
    {
     "data": {
      "text/html": [
       "<div>\n",
       "<style scoped>\n",
       "    .dataframe tbody tr th:only-of-type {\n",
       "        vertical-align: middle;\n",
       "    }\n",
       "\n",
       "    .dataframe tbody tr th {\n",
       "        vertical-align: top;\n",
       "    }\n",
       "\n",
       "    .dataframe thead th {\n",
       "        text-align: right;\n",
       "    }\n",
       "</style>\n",
       "<table border=\"1\" class=\"dataframe\">\n",
       "  <thead>\n",
       "    <tr style=\"text-align: right;\">\n",
       "      <th></th>\n",
       "      <th>cochera</th>\n",
       "      <th>con_amen</th>\n",
       "    </tr>\n",
       "  </thead>\n",
       "  <tbody>\n",
       "    <tr>\n",
       "      <th>21892</th>\n",
       "      <td>1</td>\n",
       "      <td>1.0</td>\n",
       "    </tr>\n",
       "    <tr>\n",
       "      <th>13496</th>\n",
       "      <td>1</td>\n",
       "      <td>0.0</td>\n",
       "    </tr>\n",
       "    <tr>\n",
       "      <th>25865</th>\n",
       "      <td>0</td>\n",
       "      <td>0.0</td>\n",
       "    </tr>\n",
       "    <tr>\n",
       "      <th>19258</th>\n",
       "      <td>0</td>\n",
       "      <td>1.0</td>\n",
       "    </tr>\n",
       "    <tr>\n",
       "      <th>3297</th>\n",
       "      <td>0</td>\n",
       "      <td>1.0</td>\n",
       "    </tr>\n",
       "  </tbody>\n",
       "</table>\n",
       "</div>"
      ],
      "text/plain": [
       "      cochera  con_amen\n",
       "21892       1       1.0\n",
       "13496       1       0.0\n",
       "25865       0       0.0\n",
       "19258       0       1.0\n",
       "3297        0       1.0"
      ]
     },
     "execution_count": 43,
     "metadata": {},
     "output_type": "execute_result"
    }
   ],
   "source": [
    "amenities[['cochera','con_amen']].sample(5)"
   ]
  },
  {
   "cell_type": "markdown",
   "metadata": {},
   "source": [
    "##### finalmente las agregamos a df"
   ]
  },
  {
   "cell_type": "code",
   "execution_count": 44,
   "metadata": {},
   "outputs": [],
   "source": [
    "df['cochera'] = amenities.cochera\n",
    "df['amenities'] = amenities.con_amen.astype(int)"
   ]
  },
  {
   "cell_type": "code",
   "execution_count": 45,
   "metadata": {},
   "outputs": [
    {
     "data": {
      "text/html": [
       "<div>\n",
       "<style scoped>\n",
       "    .dataframe tbody tr th:only-of-type {\n",
       "        vertical-align: middle;\n",
       "    }\n",
       "\n",
       "    .dataframe tbody tr th {\n",
       "        vertical-align: top;\n",
       "    }\n",
       "\n",
       "    .dataframe thead th {\n",
       "        text-align: right;\n",
       "    }\n",
       "</style>\n",
       "<table border=\"1\" class=\"dataframe\">\n",
       "  <thead>\n",
       "    <tr style=\"text-align: right;\">\n",
       "      <th></th>\n",
       "      <th>Unnamed: 0</th>\n",
       "      <th>id</th>\n",
       "      <th>tipo_propiedad</th>\n",
       "      <th>prop_subtipo</th>\n",
       "      <th>localidad</th>\n",
       "      <th>provincia</th>\n",
       "      <th>precio_usd</th>\n",
       "      <th>superficie_m2</th>\n",
       "      <th>usd_m2</th>\n",
       "      <th>ambientes</th>\n",
       "      <th>expensas</th>\n",
       "      <th>descripcion</th>\n",
       "      <th>titulo</th>\n",
       "      <th>geometry</th>\n",
       "      <th>cochera</th>\n",
       "      <th>amenities</th>\n",
       "    </tr>\n",
       "  </thead>\n",
       "  <tbody>\n",
       "    <tr>\n",
       "      <th>0</th>\n",
       "      <td>0</td>\n",
       "      <td>15bo8</td>\n",
       "      <td>PH</td>\n",
       "      <td>PH</td>\n",
       "      <td>Mataderos</td>\n",
       "      <td>Ciudad Autónoma de Buenos Aires</td>\n",
       "      <td>62000.0</td>\n",
       "      <td>55.000000</td>\n",
       "      <td>1127.272727</td>\n",
       "      <td>2.0</td>\n",
       "      <td>394.444444</td>\n",
       "      <td>2 ambientes tipo casa planta baja por pasillo,...</td>\n",
       "      <td>2 AMB TIPO CASA SIN EXPENSAS EN PB</td>\n",
       "      <td>POINT (-58.5088387 -34.6618237)</td>\n",
       "      <td>0</td>\n",
       "      <td>0</td>\n",
       "    </tr>\n",
       "    <tr>\n",
       "      <th>1</th>\n",
       "      <td>2</td>\n",
       "      <td>15bod</td>\n",
       "      <td>apartment</td>\n",
       "      <td>apartment</td>\n",
       "      <td>Mataderos</td>\n",
       "      <td>Ciudad Autónoma de Buenos Aires</td>\n",
       "      <td>72000.0</td>\n",
       "      <td>55.000000</td>\n",
       "      <td>1309.090909</td>\n",
       "      <td>2.0</td>\n",
       "      <td>1106.250000</td>\n",
       "      <td>2 ambientes 3er piso lateral living comedor am...</td>\n",
       "      <td>2 AMB 3ER PISO CON ASCENSOR APTO CREDITO</td>\n",
       "      <td>POINT (-58.5229825 -34.6522615)</td>\n",
       "      <td>0</td>\n",
       "      <td>0</td>\n",
       "    </tr>\n",
       "    <tr>\n",
       "      <th>2</th>\n",
       "      <td>3</td>\n",
       "      <td>15boh</td>\n",
       "      <td>PH</td>\n",
       "      <td>PH</td>\n",
       "      <td>Liniers</td>\n",
       "      <td>Ciudad Autónoma de Buenos Aires</td>\n",
       "      <td>95000.0</td>\n",
       "      <td>99.871429</td>\n",
       "      <td>951.223001</td>\n",
       "      <td>3.0</td>\n",
       "      <td>475.166667</td>\n",
       "      <td>ph 3 ambientes con patio. hay 3 deptos en lote...</td>\n",
       "      <td>PH 3 amb. cfte. reciclado</td>\n",
       "      <td>POINT (-58.5164244 -34.6477969)</td>\n",
       "      <td>0</td>\n",
       "      <td>0</td>\n",
       "    </tr>\n",
       "  </tbody>\n",
       "</table>\n",
       "</div>"
      ],
      "text/plain": [
       "   Unnamed: 0     id tipo_propiedad prop_subtipo  localidad  \\\n",
       "0           0  15bo8             PH           PH  Mataderos   \n",
       "1           2  15bod      apartment    apartment  Mataderos   \n",
       "2           3  15boh             PH           PH    Liniers   \n",
       "\n",
       "                         provincia  precio_usd  superficie_m2       usd_m2  \\\n",
       "0  Ciudad Autónoma de Buenos Aires     62000.0      55.000000  1127.272727   \n",
       "1  Ciudad Autónoma de Buenos Aires     72000.0      55.000000  1309.090909   \n",
       "2  Ciudad Autónoma de Buenos Aires     95000.0      99.871429   951.223001   \n",
       "\n",
       "   ambientes     expensas                                        descripcion  \\\n",
       "0        2.0   394.444444  2 ambientes tipo casa planta baja por pasillo,...   \n",
       "1        2.0  1106.250000  2 ambientes 3er piso lateral living comedor am...   \n",
       "2        3.0   475.166667  ph 3 ambientes con patio. hay 3 deptos en lote...   \n",
       "\n",
       "                                     titulo                         geometry  \\\n",
       "0        2 AMB TIPO CASA SIN EXPENSAS EN PB  POINT (-58.5088387 -34.6618237)   \n",
       "1  2 AMB 3ER PISO CON ASCENSOR APTO CREDITO  POINT (-58.5229825 -34.6522615)   \n",
       "2              PH 3 amb. cfte. reciclado     POINT (-58.5164244 -34.6477969)   \n",
       "\n",
       "  cochera  amenities  \n",
       "0       0          0  \n",
       "1       0          0  \n",
       "2       0          0  "
      ]
     },
     "execution_count": 45,
     "metadata": {},
     "output_type": "execute_result"
    }
   ],
   "source": [
    "df.head(3)"
   ]
  },
  {
   "cell_type": "code",
   "execution_count": 46,
   "metadata": {},
   "outputs": [
    {
     "data": {
      "text/plain": [
       "(31999, 16)"
      ]
     },
     "execution_count": 46,
     "metadata": {},
     "output_type": "execute_result"
    }
   ],
   "source": [
    "df.shape"
   ]
  },
  {
   "cell_type": "markdown",
   "metadata": {},
   "source": [
    "## Modificamos la variable 'geometry' para que se pueda usar en la predicción"
   ]
  },
  {
   "cell_type": "code",
   "execution_count": 47,
   "metadata": {},
   "outputs": [],
   "source": [
    "def get_points(data):\n",
    "    ''' esta funcion toma un punto en STR y lo convierte en geometria'''\n",
    "\n",
    "    data = data.strip('POINT (')\n",
    "    data = data.strip(')')\n",
    "\n",
    "    lon = float(data.split(' ')[0][:9])\n",
    "    lat = float(data.split(' ')[1][:9])\n",
    "\n",
    "    return Point(lon,lat)\n",
    "\n",
    "# df_xl['lat'] = [df.geometry.iloc[i].y for i in range(len(df))]\n",
    "# df_xl['lon'] = [df.geometry.iloc[i].x for i in range(len(df))]"
   ]
  },
  {
   "cell_type": "code",
   "execution_count": 48,
   "metadata": {},
   "outputs": [
    {
     "data": {
      "text/plain": [
       "Index(['Unnamed: 0', 'id', 'tipo_propiedad', 'prop_subtipo', 'localidad',\n",
       "       'provincia', 'precio_usd', 'superficie_m2', 'usd_m2', 'ambientes',\n",
       "       'expensas', 'descripcion', 'titulo', 'geometry', 'cochera',\n",
       "       'amenities'],\n",
       "      dtype='object')"
      ]
     },
     "execution_count": 48,
     "metadata": {},
     "output_type": "execute_result"
    }
   ],
   "source": [
    "df.columns"
   ]
  },
  {
   "cell_type": "code",
   "execution_count": 49,
   "metadata": {},
   "outputs": [],
   "source": [
    "df['lat'] = [x.strip('POINT (').strip(')').split(' ')[1] for x in df.geometry]\n",
    "df['lon'] = [x.strip('POINT (').strip(')').split(' ')[0] for x in df.geometry]"
   ]
  },
  {
   "cell_type": "code",
   "execution_count": 50,
   "metadata": {},
   "outputs": [
    {
     "data": {
      "text/plain": [
       "['-58.5088387', '-34.6618237']"
      ]
     },
     "execution_count": 50,
     "metadata": {},
     "output_type": "execute_result"
    }
   ],
   "source": [
    "df.geometry.iloc[0].strip('POINT (').strip(')').split(' ')"
   ]
  },
  {
   "cell_type": "code",
   "execution_count": 51,
   "metadata": {},
   "outputs": [
    {
     "data": {
      "text/html": [
       "<div>\n",
       "<style scoped>\n",
       "    .dataframe tbody tr th:only-of-type {\n",
       "        vertical-align: middle;\n",
       "    }\n",
       "\n",
       "    .dataframe tbody tr th {\n",
       "        vertical-align: top;\n",
       "    }\n",
       "\n",
       "    .dataframe thead th {\n",
       "        text-align: right;\n",
       "    }\n",
       "</style>\n",
       "<table border=\"1\" class=\"dataframe\">\n",
       "  <thead>\n",
       "    <tr style=\"text-align: right;\">\n",
       "      <th></th>\n",
       "      <th>Unnamed: 0</th>\n",
       "      <th>id</th>\n",
       "      <th>tipo_propiedad</th>\n",
       "      <th>prop_subtipo</th>\n",
       "      <th>localidad</th>\n",
       "      <th>provincia</th>\n",
       "      <th>precio_usd</th>\n",
       "      <th>superficie_m2</th>\n",
       "      <th>usd_m2</th>\n",
       "      <th>ambientes</th>\n",
       "      <th>expensas</th>\n",
       "      <th>descripcion</th>\n",
       "      <th>titulo</th>\n",
       "      <th>geometry</th>\n",
       "      <th>cochera</th>\n",
       "      <th>amenities</th>\n",
       "      <th>lat</th>\n",
       "      <th>lon</th>\n",
       "    </tr>\n",
       "  </thead>\n",
       "  <tbody>\n",
       "    <tr>\n",
       "      <th>0</th>\n",
       "      <td>0</td>\n",
       "      <td>15bo8</td>\n",
       "      <td>PH</td>\n",
       "      <td>PH</td>\n",
       "      <td>Mataderos</td>\n",
       "      <td>Ciudad Autónoma de Buenos Aires</td>\n",
       "      <td>62000.0</td>\n",
       "      <td>55.000000</td>\n",
       "      <td>1127.272727</td>\n",
       "      <td>2.0</td>\n",
       "      <td>394.444444</td>\n",
       "      <td>2 ambientes tipo casa planta baja por pasillo,...</td>\n",
       "      <td>2 AMB TIPO CASA SIN EXPENSAS EN PB</td>\n",
       "      <td>POINT (-58.5088387 -34.6618237)</td>\n",
       "      <td>0</td>\n",
       "      <td>0</td>\n",
       "      <td>-34.6618237</td>\n",
       "      <td>-58.5088387</td>\n",
       "    </tr>\n",
       "    <tr>\n",
       "      <th>1</th>\n",
       "      <td>2</td>\n",
       "      <td>15bod</td>\n",
       "      <td>apartment</td>\n",
       "      <td>apartment</td>\n",
       "      <td>Mataderos</td>\n",
       "      <td>Ciudad Autónoma de Buenos Aires</td>\n",
       "      <td>72000.0</td>\n",
       "      <td>55.000000</td>\n",
       "      <td>1309.090909</td>\n",
       "      <td>2.0</td>\n",
       "      <td>1106.250000</td>\n",
       "      <td>2 ambientes 3er piso lateral living comedor am...</td>\n",
       "      <td>2 AMB 3ER PISO CON ASCENSOR APTO CREDITO</td>\n",
       "      <td>POINT (-58.5229825 -34.6522615)</td>\n",
       "      <td>0</td>\n",
       "      <td>0</td>\n",
       "      <td>-34.6522615</td>\n",
       "      <td>-58.5229825</td>\n",
       "    </tr>\n",
       "    <tr>\n",
       "      <th>2</th>\n",
       "      <td>3</td>\n",
       "      <td>15boh</td>\n",
       "      <td>PH</td>\n",
       "      <td>PH</td>\n",
       "      <td>Liniers</td>\n",
       "      <td>Ciudad Autónoma de Buenos Aires</td>\n",
       "      <td>95000.0</td>\n",
       "      <td>99.871429</td>\n",
       "      <td>951.223001</td>\n",
       "      <td>3.0</td>\n",
       "      <td>475.166667</td>\n",
       "      <td>ph 3 ambientes con patio. hay 3 deptos en lote...</td>\n",
       "      <td>PH 3 amb. cfte. reciclado</td>\n",
       "      <td>POINT (-58.5164244 -34.6477969)</td>\n",
       "      <td>0</td>\n",
       "      <td>0</td>\n",
       "      <td>-34.6477969</td>\n",
       "      <td>-58.5164244</td>\n",
       "    </tr>\n",
       "  </tbody>\n",
       "</table>\n",
       "</div>"
      ],
      "text/plain": [
       "   Unnamed: 0     id tipo_propiedad prop_subtipo  localidad  \\\n",
       "0           0  15bo8             PH           PH  Mataderos   \n",
       "1           2  15bod      apartment    apartment  Mataderos   \n",
       "2           3  15boh             PH           PH    Liniers   \n",
       "\n",
       "                         provincia  precio_usd  superficie_m2       usd_m2  \\\n",
       "0  Ciudad Autónoma de Buenos Aires     62000.0      55.000000  1127.272727   \n",
       "1  Ciudad Autónoma de Buenos Aires     72000.0      55.000000  1309.090909   \n",
       "2  Ciudad Autónoma de Buenos Aires     95000.0      99.871429   951.223001   \n",
       "\n",
       "   ambientes     expensas                                        descripcion  \\\n",
       "0        2.0   394.444444  2 ambientes tipo casa planta baja por pasillo,...   \n",
       "1        2.0  1106.250000  2 ambientes 3er piso lateral living comedor am...   \n",
       "2        3.0   475.166667  ph 3 ambientes con patio. hay 3 deptos en lote...   \n",
       "\n",
       "                                     titulo                         geometry  \\\n",
       "0        2 AMB TIPO CASA SIN EXPENSAS EN PB  POINT (-58.5088387 -34.6618237)   \n",
       "1  2 AMB 3ER PISO CON ASCENSOR APTO CREDITO  POINT (-58.5229825 -34.6522615)   \n",
       "2              PH 3 amb. cfte. reciclado     POINT (-58.5164244 -34.6477969)   \n",
       "\n",
       "  cochera  amenities          lat          lon  \n",
       "0       0          0  -34.6618237  -58.5088387  \n",
       "1       0          0  -34.6522615  -58.5229825  \n",
       "2       0          0  -34.6477969  -58.5164244  "
      ]
     },
     "execution_count": 51,
     "metadata": {},
     "output_type": "execute_result"
    }
   ],
   "source": [
    "df.head(3)"
   ]
  },
  {
   "cell_type": "markdown",
   "metadata": {},
   "source": [
    "Finalmente, eliminamos la columna unnamed e id ya que no están relacionadas con el precio y no aportan información al modelo"
   ]
  },
  {
   "cell_type": "code",
   "execution_count": 52,
   "metadata": {},
   "outputs": [],
   "source": [
    "df = df[['tipo_propiedad', 'prop_subtipo', 'localidad', 'provincia', 'precio_usd', 'superficie_m2', 'usd_m2', 'ambientes',\n",
    "       'expensas', 'descripcion', 'titulo', 'geometry', 'cochera', 'amenities', 'lat', 'lon']]"
   ]
  },
  {
   "cell_type": "markdown",
   "metadata": {},
   "source": [
    "## 2. Visualización: Mapa de correlaciones"
   ]
  },
  {
   "cell_type": "markdown",
   "metadata": {},
   "source": [
    "Con el dataset listo, realizamos un mapa de correlaciones para visualizar la importancia de cada variable para el modelo a construir:"
   ]
  },
  {
   "cell_type": "code",
   "execution_count": 53,
   "metadata": {},
   "outputs": [
    {
     "data": {
      "text/plain": [
       "(array([0.5, 1.5, 2.5, 3.5, 4.5, 5.5]), <a list of 6 Text yticklabel objects>)"
      ]
     },
     "execution_count": 53,
     "metadata": {},
     "output_type": "execute_result"
    },
    {
     "data": {
      "image/png": "[encoded data removed]",
      "text/plain": [
       "<Figure size 1080x720 with 2 Axes>"
      ]
     },
     "metadata": {},
     "output_type": "display_data"
    }
   ],
   "source": [
    "corr = df.corr()\n",
    "\n",
    "mask = np.zeros(corr.shape, dtype=bool)\n",
    "mask[np.triu_indices(len(mask))] = True\n",
    "\n",
    "plt.figure(figsize=(15,10))\n",
    "ax = sns.heatmap(\n",
    "    corr, annot=True, \n",
    "    vmin=-1, vmax=1, center=0,\n",
    "    square=True, linewidths=1, mask=mask, cmap = 'coolwarm'\n",
    ")\n",
    "\n",
    "\n",
    "plt.title('Correlation map', size = 25)\n",
    "plt.xticks(size =15, rotation=45)\n",
    "plt.yticks(size =15,rotation=45)\n"
   ]
  },
  {
   "cell_type": "markdown",
   "metadata": {},
   "source": [
    "## 3. Preselección de variables para el modelo"
   ]
  },
  {
   "cell_type": "markdown",
   "metadata": {},
   "source": [
    "Vemos la poca correlación que tiene expesnas, por lo que es en principio poco útil para el modelo, por lo que, sumado a que no era una variable que viniese muy completa, se la dejará de lado para la creación del modelo.\n",
    "\n",
    "Notamos además una altísima correlación entre el precio de la propiedad y el precio por m2, lo que es esperado ya que la primera revela información de la segunda. Por esto tampoco se la incluirá en el modelo.\n",
    "\n",
    "Las variables restantes parecen ser de gran importancia.\n"
   ]
  },
  {
   "cell_type": "markdown",
   "metadata": {},
   "source": [
    "## 4. Creación de dummies para variables categóricas"
   ]
  },
  {
   "cell_type": "markdown",
   "metadata": {},
   "source": [
    "Usaremos el subtipo de propiedad generado y la localidad."
   ]
  },
  {
   "cell_type": "code",
   "execution_count": 54,
   "metadata": {
    "scrolled": true
   },
   "outputs": [
    {
     "data": {
      "text/html": [
       "<div>\n",
       "<style scoped>\n",
       "    .dataframe tbody tr th:only-of-type {\n",
       "        vertical-align: middle;\n",
       "    }\n",
       "\n",
       "    .dataframe tbody tr th {\n",
       "        vertical-align: top;\n",
       "    }\n",
       "\n",
       "    .dataframe thead th {\n",
       "        text-align: right;\n",
       "    }\n",
       "</style>\n",
       "<table border=\"1\" class=\"dataframe\">\n",
       "  <thead>\n",
       "    <tr style=\"text-align: right;\">\n",
       "      <th></th>\n",
       "      <th>prop_PH_big</th>\n",
       "      <th>prop_PH_xl</th>\n",
       "      <th>prop_apartment</th>\n",
       "      <th>prop_apartment_big</th>\n",
       "      <th>prop_apartment_xl</th>\n",
       "      <th>prop_house</th>\n",
       "      <th>prop_house_big</th>\n",
       "      <th>prop_house_xl</th>\n",
       "      <th>prop_store</th>\n",
       "      <th>prop_store_big</th>\n",
       "      <th>...</th>\n",
       "      <th>loc_Villa Lugano</th>\n",
       "      <th>loc_Villa Luro</th>\n",
       "      <th>loc_Villa Ortuzar</th>\n",
       "      <th>loc_Villa Pueyrredón</th>\n",
       "      <th>loc_Villa Real</th>\n",
       "      <th>loc_Villa Riachuelo</th>\n",
       "      <th>loc_Villa Santa Rita</th>\n",
       "      <th>loc_Villa Soldati</th>\n",
       "      <th>loc_Villa Urquiza</th>\n",
       "      <th>loc_Villa del Parque</th>\n",
       "    </tr>\n",
       "  </thead>\n",
       "  <tbody>\n",
       "    <tr>\n",
       "      <th>0</th>\n",
       "      <td>0</td>\n",
       "      <td>0</td>\n",
       "      <td>0</td>\n",
       "      <td>0</td>\n",
       "      <td>0</td>\n",
       "      <td>0</td>\n",
       "      <td>0</td>\n",
       "      <td>0</td>\n",
       "      <td>0</td>\n",
       "      <td>0</td>\n",
       "      <td>...</td>\n",
       "      <td>0</td>\n",
       "      <td>0</td>\n",
       "      <td>0</td>\n",
       "      <td>0</td>\n",
       "      <td>0</td>\n",
       "      <td>0</td>\n",
       "      <td>0</td>\n",
       "      <td>0</td>\n",
       "      <td>0</td>\n",
       "      <td>0</td>\n",
       "    </tr>\n",
       "    <tr>\n",
       "      <th>1</th>\n",
       "      <td>0</td>\n",
       "      <td>0</td>\n",
       "      <td>1</td>\n",
       "      <td>0</td>\n",
       "      <td>0</td>\n",
       "      <td>0</td>\n",
       "      <td>0</td>\n",
       "      <td>0</td>\n",
       "      <td>0</td>\n",
       "      <td>0</td>\n",
       "      <td>...</td>\n",
       "      <td>0</td>\n",
       "      <td>0</td>\n",
       "      <td>0</td>\n",
       "      <td>0</td>\n",
       "      <td>0</td>\n",
       "      <td>0</td>\n",
       "      <td>0</td>\n",
       "      <td>0</td>\n",
       "      <td>0</td>\n",
       "      <td>0</td>\n",
       "    </tr>\n",
       "  </tbody>\n",
       "</table>\n",
       "<p>2 rows × 72 columns</p>\n",
       "</div>"
      ],
      "text/plain": [
       "   prop_PH_big  prop_PH_xl  prop_apartment  prop_apartment_big  \\\n",
       "0            0           0               0                   0   \n",
       "1            0           0               1                   0   \n",
       "\n",
       "   prop_apartment_xl  prop_house  prop_house_big  prop_house_xl  prop_store  \\\n",
       "0                  0           0               0              0           0   \n",
       "1                  0           0               0              0           0   \n",
       "\n",
       "   prop_store_big  ...  loc_Villa Lugano  loc_Villa Luro  loc_Villa Ortuzar  \\\n",
       "0               0  ...                 0               0                  0   \n",
       "1               0  ...                 0               0                  0   \n",
       "\n",
       "   loc_Villa Pueyrredón  loc_Villa Real  loc_Villa Riachuelo  \\\n",
       "0                     0               0                    0   \n",
       "1                     0               0                    0   \n",
       "\n",
       "   loc_Villa Santa Rita  loc_Villa Soldati  loc_Villa Urquiza  \\\n",
       "0                     0                  0                  0   \n",
       "1                     0                  0                  0   \n",
       "\n",
       "   loc_Villa del Parque  \n",
       "0                     0  \n",
       "1                     0  \n",
       "\n",
       "[2 rows x 72 columns]"
      ]
     },
     "execution_count": 54,
     "metadata": {},
     "output_type": "execute_result"
    }
   ],
   "source": [
    "dummies = pd.get_dummies(df[['prop_subtipo', 'localidad']],prefix=['prop','loc'], drop_first=True)\n",
    "# acortamos un poco el prefijo de localidad\n",
    "dummies.head(2)"
   ]
  },
  {
   "cell_type": "code",
   "execution_count": 55,
   "metadata": {},
   "outputs": [],
   "source": [
    "df = pd.concat([df, dummies], axis='columns')"
   ]
  },
  {
   "cell_type": "code",
   "execution_count": 56,
   "metadata": {},
   "outputs": [
    {
     "data": {
      "text/plain": [
       "Index(['tipo_propiedad', 'prop_subtipo', 'localidad', 'provincia',\n",
       "       'precio_usd', 'superficie_m2', 'usd_m2', 'ambientes', 'expensas',\n",
       "       'descripcion', 'titulo', 'geometry', 'cochera', 'amenities', 'lat',\n",
       "       'lon', 'prop_PH_big', 'prop_PH_xl', 'prop_apartment',\n",
       "       'prop_apartment_big', 'prop_apartment_xl', 'prop_house',\n",
       "       'prop_house_big', 'prop_house_xl', 'prop_store', 'prop_store_big',\n",
       "       'prop_store_xl', 'loc_Agronomía', 'loc_Almagro', 'loc_Balvanera',\n",
       "       'loc_Barracas', 'loc_Barrio Norte', 'loc_Belgrano', 'loc_Boca',\n",
       "       'loc_Boedo', 'loc_Caballito', 'loc_Capital Federal', 'loc_Catalinas',\n",
       "       'loc_Centro / Microcentro', 'loc_Chacarita', 'loc_Coghlan',\n",
       "       'loc_Colegiales', 'loc_Congreso', 'loc_Constitución', 'loc_Flores',\n",
       "       'loc_Floresta', 'loc_Las Cañitas', 'loc_Liniers', 'loc_Mataderos',\n",
       "       'loc_Monserrat', 'loc_Monte Castro', 'loc_Nuñez', 'loc_Once',\n",
       "       'loc_Palermo', 'loc_Palermo Chico', 'loc_Palermo Hollywood',\n",
       "       'loc_Palermo Soho', 'loc_Palermo Viejo', 'loc_Parque Avellaneda',\n",
       "       'loc_Parque Centenario', 'loc_Parque Chacabuco', 'loc_Parque Chas',\n",
       "       'loc_Parque Patricios', 'loc_Paternal', 'loc_Pompeya',\n",
       "       'loc_Puerto Madero', 'loc_Recoleta', 'loc_Retiro', 'loc_Saavedra',\n",
       "       'loc_San Cristobal', 'loc_San Nicolás', 'loc_San Telmo',\n",
       "       'loc_Tribunales', 'loc_Velez Sarsfield', 'loc_Versalles',\n",
       "       'loc_Villa Crespo', 'loc_Villa Devoto', 'loc_Villa General Mitre',\n",
       "       'loc_Villa Lugano', 'loc_Villa Luro', 'loc_Villa Ortuzar',\n",
       "       'loc_Villa Pueyrredón', 'loc_Villa Real', 'loc_Villa Riachuelo',\n",
       "       'loc_Villa Santa Rita', 'loc_Villa Soldati', 'loc_Villa Urquiza',\n",
       "       'loc_Villa del Parque'],\n",
       "      dtype='object')"
      ]
     },
     "execution_count": 56,
     "metadata": {},
     "output_type": "execute_result"
    }
   ],
   "source": [
    "df.columns"
   ]
  },
  {
   "cell_type": "markdown",
   "metadata": {},
   "source": [
    "Reindexamos para que quede como primera columna la variable objetivo: y eliminamos algunas columnas que ya no necesitamos"
   ]
  },
  {
   "cell_type": "code",
   "execution_count": 57,
   "metadata": {},
   "outputs": [],
   "source": [
    "# las variables que no debemos utilizar para fitear el modelo son las 2 primeras\n",
    "df = df[['usd_m2', 'precio_usd',\n",
    "         \n",
    "         'prop_PH_big', 'prop_PH_xl', 'prop_apartment','prop_apartment_big', 'prop_apartment_xl', 'prop_house',\n",
    "         'prop_house_big', 'prop_house_xl', 'prop_store', 'prop_store_big', 'prop_store_xl',\n",
    "         \n",
    "         #'tipo_propiedad', 'prop_subtipo', 'localidad', 'provincia','expensas', 'descripcion', 'titulo', 'geometry',\n",
    "         \n",
    "         'superficie_m2', 'ambientes', 'cochera', 'amenities', 'lat','lon',\n",
    "         \n",
    "         'loc_Agronomía', 'loc_Almagro', 'loc_Balvanera','loc_Barracas', 'loc_Barrio Norte', 'loc_Belgrano', 'loc_Boca',\n",
    "         'loc_Boedo', 'loc_Caballito', 'loc_Capital Federal', 'loc_Catalinas','loc_Centro / Microcentro', 'loc_Chacarita',\n",
    "         'loc_Coghlan','loc_Colegiales', 'loc_Congreso', 'loc_Constitución', 'loc_Flores','loc_Floresta', 'loc_Las Cañitas',\n",
    "         'loc_Liniers', 'loc_Mataderos','loc_Monserrat', 'loc_Monte Castro', 'loc_Nuñez', 'loc_Once','loc_Palermo',\n",
    "         'loc_Palermo Chico', 'loc_Palermo Hollywood','loc_Palermo Soho', 'loc_Palermo Viejo', 'loc_Parque Avellaneda',\n",
    "         'loc_Parque Centenario', 'loc_Parque Chacabuco', 'loc_Parque Chas','loc_Parque Patricios', 'loc_Paternal',\n",
    "         'loc_Pompeya','loc_Puerto Madero', 'loc_Recoleta', 'loc_Retiro', 'loc_Saavedra','loc_San Cristobal',\n",
    "         'loc_San Nicolás', 'loc_San Telmo','loc_Tribunales', 'loc_Velez Sarsfield', 'loc_Versalles','loc_Villa Crespo',\n",
    "         'loc_Villa Devoto', 'loc_Villa General Mitre','loc_Villa Lugano', 'loc_Villa Luro', 'loc_Villa Ortuzar',\n",
    "         'loc_Villa Pueyrredón', 'loc_Villa Real', 'loc_Villa Riachuelo','loc_Villa Santa Rita', 'loc_Villa Soldati',\n",
    "         'loc_Villa Urquiza','loc_Villa del Parque']]"
   ]
  },
  {
   "cell_type": "markdown",
   "metadata": {},
   "source": [
    "Exportamos el dataframe final, listo para trabajar:"
   ]
  },
  {
   "cell_type": "code",
   "execution_count": 60,
   "metadata": {
    "scrolled": true
   },
   "outputs": [
    {
     "data": {
      "text/plain": [
       "Series([], dtype: int64)"
      ]
     },
     "execution_count": 60,
     "metadata": {},
     "output_type": "execute_result"
    }
   ],
   "source": [
    "# todo completo\n",
    "df.isnull().sum()[df.isnull().sum()>0]"
   ]
  },
  {
   "cell_type": "code",
   "execution_count": 62,
   "metadata": {},
   "outputs": [
    {
     "data": {
      "text/html": [
       "<div>\n",
       "<style scoped>\n",
       "    .dataframe tbody tr th:only-of-type {\n",
       "        vertical-align: middle;\n",
       "    }\n",
       "\n",
       "    .dataframe tbody tr th {\n",
       "        vertical-align: top;\n",
       "    }\n",
       "\n",
       "    .dataframe thead th {\n",
       "        text-align: right;\n",
       "    }\n",
       "</style>\n",
       "<table border=\"1\" class=\"dataframe\">\n",
       "  <thead>\n",
       "    <tr style=\"text-align: right;\">\n",
       "      <th></th>\n",
       "      <th>usd_m2</th>\n",
       "      <th>precio_usd</th>\n",
       "      <th>prop_PH_big</th>\n",
       "      <th>prop_PH_xl</th>\n",
       "      <th>prop_apartment</th>\n",
       "      <th>prop_apartment_big</th>\n",
       "      <th>prop_apartment_xl</th>\n",
       "      <th>prop_house</th>\n",
       "      <th>prop_house_big</th>\n",
       "      <th>prop_house_xl</th>\n",
       "      <th>...</th>\n",
       "      <th>loc_Villa Lugano</th>\n",
       "      <th>loc_Villa Luro</th>\n",
       "      <th>loc_Villa Ortuzar</th>\n",
       "      <th>loc_Villa Pueyrredón</th>\n",
       "      <th>loc_Villa Real</th>\n",
       "      <th>loc_Villa Riachuelo</th>\n",
       "      <th>loc_Villa Santa Rita</th>\n",
       "      <th>loc_Villa Soldati</th>\n",
       "      <th>loc_Villa Urquiza</th>\n",
       "      <th>loc_Villa del Parque</th>\n",
       "    </tr>\n",
       "  </thead>\n",
       "  <tbody>\n",
       "    <tr>\n",
       "      <th>0</th>\n",
       "      <td>1127.272727</td>\n",
       "      <td>62000.0</td>\n",
       "      <td>0</td>\n",
       "      <td>0</td>\n",
       "      <td>0</td>\n",
       "      <td>0</td>\n",
       "      <td>0</td>\n",
       "      <td>0</td>\n",
       "      <td>0</td>\n",
       "      <td>0</td>\n",
       "      <td>...</td>\n",
       "      <td>0</td>\n",
       "      <td>0</td>\n",
       "      <td>0</td>\n",
       "      <td>0</td>\n",
       "      <td>0</td>\n",
       "      <td>0</td>\n",
       "      <td>0</td>\n",
       "      <td>0</td>\n",
       "      <td>0</td>\n",
       "      <td>0</td>\n",
       "    </tr>\n",
       "    <tr>\n",
       "      <th>1</th>\n",
       "      <td>1309.090909</td>\n",
       "      <td>72000.0</td>\n",
       "      <td>0</td>\n",
       "      <td>0</td>\n",
       "      <td>1</td>\n",
       "      <td>0</td>\n",
       "      <td>0</td>\n",
       "      <td>0</td>\n",
       "      <td>0</td>\n",
       "      <td>0</td>\n",
       "      <td>...</td>\n",
       "      <td>0</td>\n",
       "      <td>0</td>\n",
       "      <td>0</td>\n",
       "      <td>0</td>\n",
       "      <td>0</td>\n",
       "      <td>0</td>\n",
       "      <td>0</td>\n",
       "      <td>0</td>\n",
       "      <td>0</td>\n",
       "      <td>0</td>\n",
       "    </tr>\n",
       "    <tr>\n",
       "      <th>2</th>\n",
       "      <td>951.223001</td>\n",
       "      <td>95000.0</td>\n",
       "      <td>0</td>\n",
       "      <td>0</td>\n",
       "      <td>0</td>\n",
       "      <td>0</td>\n",
       "      <td>0</td>\n",
       "      <td>0</td>\n",
       "      <td>0</td>\n",
       "      <td>0</td>\n",
       "      <td>...</td>\n",
       "      <td>0</td>\n",
       "      <td>0</td>\n",
       "      <td>0</td>\n",
       "      <td>0</td>\n",
       "      <td>0</td>\n",
       "      <td>0</td>\n",
       "      <td>0</td>\n",
       "      <td>0</td>\n",
       "      <td>0</td>\n",
       "      <td>0</td>\n",
       "    </tr>\n",
       "    <tr>\n",
       "      <th>3</th>\n",
       "      <td>3066.666667</td>\n",
       "      <td>138000.0</td>\n",
       "      <td>0</td>\n",
       "      <td>0</td>\n",
       "      <td>1</td>\n",
       "      <td>0</td>\n",
       "      <td>0</td>\n",
       "      <td>0</td>\n",
       "      <td>0</td>\n",
       "      <td>0</td>\n",
       "      <td>...</td>\n",
       "      <td>0</td>\n",
       "      <td>0</td>\n",
       "      <td>0</td>\n",
       "      <td>0</td>\n",
       "      <td>0</td>\n",
       "      <td>0</td>\n",
       "      <td>0</td>\n",
       "      <td>0</td>\n",
       "      <td>0</td>\n",
       "      <td>0</td>\n",
       "    </tr>\n",
       "    <tr>\n",
       "      <th>4</th>\n",
       "      <td>3000.000000</td>\n",
       "      <td>195000.0</td>\n",
       "      <td>0</td>\n",
       "      <td>0</td>\n",
       "      <td>1</td>\n",
       "      <td>0</td>\n",
       "      <td>0</td>\n",
       "      <td>0</td>\n",
       "      <td>0</td>\n",
       "      <td>0</td>\n",
       "      <td>...</td>\n",
       "      <td>0</td>\n",
       "      <td>0</td>\n",
       "      <td>0</td>\n",
       "      <td>0</td>\n",
       "      <td>0</td>\n",
       "      <td>0</td>\n",
       "      <td>0</td>\n",
       "      <td>0</td>\n",
       "      <td>0</td>\n",
       "      <td>0</td>\n",
       "    </tr>\n",
       "  </tbody>\n",
       "</table>\n",
       "<p>5 rows × 80 columns</p>\n",
       "</div>"
      ],
      "text/plain": [
       "        usd_m2  precio_usd  prop_PH_big  prop_PH_xl  prop_apartment  \\\n",
       "0  1127.272727     62000.0            0           0               0   \n",
       "1  1309.090909     72000.0            0           0               1   \n",
       "2   951.223001     95000.0            0           0               0   \n",
       "3  3066.666667    138000.0            0           0               1   \n",
       "4  3000.000000    195000.0            0           0               1   \n",
       "\n",
       "   prop_apartment_big  prop_apartment_xl  prop_house  prop_house_big  \\\n",
       "0                   0                  0           0               0   \n",
       "1                   0                  0           0               0   \n",
       "2                   0                  0           0               0   \n",
       "3                   0                  0           0               0   \n",
       "4                   0                  0           0               0   \n",
       "\n",
       "   prop_house_xl  ...  loc_Villa Lugano  loc_Villa Luro  loc_Villa Ortuzar  \\\n",
       "0              0  ...                 0               0                  0   \n",
       "1              0  ...                 0               0                  0   \n",
       "2              0  ...                 0               0                  0   \n",
       "3              0  ...                 0               0                  0   \n",
       "4              0  ...                 0               0                  0   \n",
       "\n",
       "   loc_Villa Pueyrredón  loc_Villa Real loc_Villa Riachuelo  \\\n",
       "0                     0               0                   0   \n",
       "1                     0               0                   0   \n",
       "2                     0               0                   0   \n",
       "3                     0               0                   0   \n",
       "4                     0               0                   0   \n",
       "\n",
       "   loc_Villa Santa Rita loc_Villa Soldati loc_Villa Urquiza  \\\n",
       "0                     0                 0                 0   \n",
       "1                     0                 0                 0   \n",
       "2                     0                 0                 0   \n",
       "3                     0                 0                 0   \n",
       "4                     0                 0                 0   \n",
       "\n",
       "   loc_Villa del Parque  \n",
       "0                     0  \n",
       "1                     0  \n",
       "2                     0  \n",
       "3                     0  \n",
       "4                     0  \n",
       "\n",
       "[5 rows x 80 columns]"
      ]
     },
     "execution_count": 62,
     "metadata": {},
     "output_type": "execute_result"
    }
   ],
   "source": [
    "# columnas ordenadas y depuradas\n",
    "df.head()"
   ]
  },
  {
   "cell_type": "code",
   "execution_count": 63,
   "metadata": {},
   "outputs": [],
   "source": [
    "df.to_csv('df_limpio_modelo.csv',sep='|',index=None)"
   ]
  },
  {
   "cell_type": "markdown",
   "metadata": {},
   "source": [
    "# HASTA ACÁ ESTÁ EN EL ARCHIVO EXPORTADO\n",
    "para analizar distitos modelos comenzamos desde aqui con la importación del df_limpio_modelo.csv"
   ]
  },
  {
   "cell_type": "code",
   "execution_count": 64,
   "metadata": {},
   "outputs": [],
   "source": [
    "df = pd.read_csv('df_limpio_modelo.csv',sep='|')"
   ]
  },
  {
   "cell_type": "code",
   "execution_count": 65,
   "metadata": {},
   "outputs": [
    {
     "data": {
      "text/html": [
       "<div>\n",
       "<style scoped>\n",
       "    .dataframe tbody tr th:only-of-type {\n",
       "        vertical-align: middle;\n",
       "    }\n",
       "\n",
       "    .dataframe tbody tr th {\n",
       "        vertical-align: top;\n",
       "    }\n",
       "\n",
       "    .dataframe thead th {\n",
       "        text-align: right;\n",
       "    }\n",
       "</style>\n",
       "<table border=\"1\" class=\"dataframe\">\n",
       "  <thead>\n",
       "    <tr style=\"text-align: right;\">\n",
       "      <th></th>\n",
       "      <th>usd_m2</th>\n",
       "      <th>precio_usd</th>\n",
       "      <th>prop_PH_big</th>\n",
       "      <th>prop_PH_xl</th>\n",
       "      <th>prop_apartment</th>\n",
       "      <th>prop_apartment_big</th>\n",
       "      <th>prop_apartment_xl</th>\n",
       "      <th>prop_house</th>\n",
       "      <th>prop_house_big</th>\n",
       "      <th>prop_house_xl</th>\n",
       "      <th>...</th>\n",
       "      <th>loc_Villa Lugano</th>\n",
       "      <th>loc_Villa Luro</th>\n",
       "      <th>loc_Villa Ortuzar</th>\n",
       "      <th>loc_Villa Pueyrredón</th>\n",
       "      <th>loc_Villa Real</th>\n",
       "      <th>loc_Villa Riachuelo</th>\n",
       "      <th>loc_Villa Santa Rita</th>\n",
       "      <th>loc_Villa Soldati</th>\n",
       "      <th>loc_Villa Urquiza</th>\n",
       "      <th>loc_Villa del Parque</th>\n",
       "    </tr>\n",
       "  </thead>\n",
       "  <tbody>\n",
       "    <tr>\n",
       "      <th>0</th>\n",
       "      <td>1127.272727</td>\n",
       "      <td>62000.0</td>\n",
       "      <td>0</td>\n",
       "      <td>0</td>\n",
       "      <td>0</td>\n",
       "      <td>0</td>\n",
       "      <td>0</td>\n",
       "      <td>0</td>\n",
       "      <td>0</td>\n",
       "      <td>0</td>\n",
       "      <td>...</td>\n",
       "      <td>0</td>\n",
       "      <td>0</td>\n",
       "      <td>0</td>\n",
       "      <td>0</td>\n",
       "      <td>0</td>\n",
       "      <td>0</td>\n",
       "      <td>0</td>\n",
       "      <td>0</td>\n",
       "      <td>0</td>\n",
       "      <td>0</td>\n",
       "    </tr>\n",
       "    <tr>\n",
       "      <th>1</th>\n",
       "      <td>1309.090909</td>\n",
       "      <td>72000.0</td>\n",
       "      <td>0</td>\n",
       "      <td>0</td>\n",
       "      <td>1</td>\n",
       "      <td>0</td>\n",
       "      <td>0</td>\n",
       "      <td>0</td>\n",
       "      <td>0</td>\n",
       "      <td>0</td>\n",
       "      <td>...</td>\n",
       "      <td>0</td>\n",
       "      <td>0</td>\n",
       "      <td>0</td>\n",
       "      <td>0</td>\n",
       "      <td>0</td>\n",
       "      <td>0</td>\n",
       "      <td>0</td>\n",
       "      <td>0</td>\n",
       "      <td>0</td>\n",
       "      <td>0</td>\n",
       "    </tr>\n",
       "    <tr>\n",
       "      <th>2</th>\n",
       "      <td>951.223001</td>\n",
       "      <td>95000.0</td>\n",
       "      <td>0</td>\n",
       "      <td>0</td>\n",
       "      <td>0</td>\n",
       "      <td>0</td>\n",
       "      <td>0</td>\n",
       "      <td>0</td>\n",
       "      <td>0</td>\n",
       "      <td>0</td>\n",
       "      <td>...</td>\n",
       "      <td>0</td>\n",
       "      <td>0</td>\n",
       "      <td>0</td>\n",
       "      <td>0</td>\n",
       "      <td>0</td>\n",
       "      <td>0</td>\n",
       "      <td>0</td>\n",
       "      <td>0</td>\n",
       "      <td>0</td>\n",
       "      <td>0</td>\n",
       "    </tr>\n",
       "    <tr>\n",
       "      <th>3</th>\n",
       "      <td>3066.666667</td>\n",
       "      <td>138000.0</td>\n",
       "      <td>0</td>\n",
       "      <td>0</td>\n",
       "      <td>1</td>\n",
       "      <td>0</td>\n",
       "      <td>0</td>\n",
       "      <td>0</td>\n",
       "      <td>0</td>\n",
       "      <td>0</td>\n",
       "      <td>...</td>\n",
       "      <td>0</td>\n",
       "      <td>0</td>\n",
       "      <td>0</td>\n",
       "      <td>0</td>\n",
       "      <td>0</td>\n",
       "      <td>0</td>\n",
       "      <td>0</td>\n",
       "      <td>0</td>\n",
       "      <td>0</td>\n",
       "      <td>0</td>\n",
       "    </tr>\n",
       "    <tr>\n",
       "      <th>4</th>\n",
       "      <td>3000.000000</td>\n",
       "      <td>195000.0</td>\n",
       "      <td>0</td>\n",
       "      <td>0</td>\n",
       "      <td>1</td>\n",
       "      <td>0</td>\n",
       "      <td>0</td>\n",
       "      <td>0</td>\n",
       "      <td>0</td>\n",
       "      <td>0</td>\n",
       "      <td>...</td>\n",
       "      <td>0</td>\n",
       "      <td>0</td>\n",
       "      <td>0</td>\n",
       "      <td>0</td>\n",
       "      <td>0</td>\n",
       "      <td>0</td>\n",
       "      <td>0</td>\n",
       "      <td>0</td>\n",
       "      <td>0</td>\n",
       "      <td>0</td>\n",
       "    </tr>\n",
       "  </tbody>\n",
       "</table>\n",
       "<p>5 rows × 80 columns</p>\n",
       "</div>"
      ],
      "text/plain": [
       "        usd_m2  precio_usd  prop_PH_big  prop_PH_xl  prop_apartment  \\\n",
       "0  1127.272727     62000.0            0           0               0   \n",
       "1  1309.090909     72000.0            0           0               1   \n",
       "2   951.223001     95000.0            0           0               0   \n",
       "3  3066.666667    138000.0            0           0               1   \n",
       "4  3000.000000    195000.0            0           0               1   \n",
       "\n",
       "   prop_apartment_big  prop_apartment_xl  prop_house  prop_house_big  \\\n",
       "0                   0                  0           0               0   \n",
       "1                   0                  0           0               0   \n",
       "2                   0                  0           0               0   \n",
       "3                   0                  0           0               0   \n",
       "4                   0                  0           0               0   \n",
       "\n",
       "   prop_house_xl  ...  loc_Villa Lugano  loc_Villa Luro  loc_Villa Ortuzar  \\\n",
       "0              0  ...                 0               0                  0   \n",
       "1              0  ...                 0               0                  0   \n",
       "2              0  ...                 0               0                  0   \n",
       "3              0  ...                 0               0                  0   \n",
       "4              0  ...                 0               0                  0   \n",
       "\n",
       "   loc_Villa Pueyrredón  loc_Villa Real  loc_Villa Riachuelo  \\\n",
       "0                     0               0                    0   \n",
       "1                     0               0                    0   \n",
       "2                     0               0                    0   \n",
       "3                     0               0                    0   \n",
       "4                     0               0                    0   \n",
       "\n",
       "   loc_Villa Santa Rita  loc_Villa Soldati  loc_Villa Urquiza  \\\n",
       "0                     0                  0                  0   \n",
       "1                     0                  0                  0   \n",
       "2                     0                  0                  0   \n",
       "3                     0                  0                  0   \n",
       "4                     0                  0                  0   \n",
       "\n",
       "   loc_Villa del Parque  \n",
       "0                     0  \n",
       "1                     0  \n",
       "2                     0  \n",
       "3                     0  \n",
       "4                     0  \n",
       "\n",
       "[5 rows x 80 columns]"
      ]
     },
     "execution_count": 65,
     "metadata": {},
     "output_type": "execute_result"
    }
   ],
   "source": [
    "df.head()"
   ]
  },
  {
   "cell_type": "markdown",
   "metadata": {},
   "source": [
    "## 5. Obtención de matriz de features (X) y vector de variable explicada (y)"
   ]
  },
  {
   "cell_type": "markdown",
   "metadata": {},
   "source": [
    "Observamos las columnas de nuestro dataset actual"
   ]
  },
  {
   "cell_type": "code",
   "execution_count": null,
   "metadata": {},
   "outputs": [],
   "source": [
    "df.columns"
   ]
  },
  {
   "cell_type": "markdown",
   "metadata": {},
   "source": [
    "La columna usd_m2 representa el precio por metro cuadrado en dólares. Esta va a ser nuestra variable **target**, a la que llamaremos y.\n",
    "\n",
    "Las columnas de superficie, ambientes y expensas, sumadas a las dummies correspondientes a las variables categóricas de subtipo de propiedad y localidad, son las posibles variables explicativas que nos permitiran llegar al valor de nuestra y. Estas serán nuestras **features** y estarán en la matriz X.\n"
   ]
  },
  {
   "cell_type": "code",
   "execution_count": null,
   "metadata": {},
   "outputs": [],
   "source": [
    "y = df[['usd_m2']]\n",
    "\n",
    "X = df.drop(['Unnamed: 0', 'tipo_propiedad', 'prop_subtipo', 'localidad', 'provincia',\n",
    "             'usd_m2', 'descripcion', 'titulo', 'geometry'], axis=1)"
   ]
  },
  {
   "cell_type": "code",
   "execution_count": null,
   "metadata": {},
   "outputs": [],
   "source": [
    "print(\"Shape X:\", X.shape)\n",
    "print(\"Shape y:\", y.shape)\n",
    "print(\"Type X:\", type(X))\n",
    "print(\"Type y:\", type(y))"
   ]
  },
  {
   "cell_type": "code",
   "execution_count": null,
   "metadata": {
    "scrolled": true
   },
   "outputs": [],
   "source": [
    "X"
   ]
  },
  {
   "cell_type": "code",
   "execution_count": null,
   "metadata": {},
   "outputs": [],
   "source": [
    "y"
   ]
  },
  {
   "cell_type": "markdown",
   "metadata": {},
   "source": [
    "## 6. División de dataset en train-test para validación de modelo"
   ]
  },
  {
   "cell_type": "markdown",
   "metadata": {},
   "source": [
    "Creamos una columna para estatificar, y splitear con ella."
   ]
  },
  {
   "cell_type": "code",
   "execution_count": null,
   "metadata": {},
   "outputs": [],
   "source": [
    "X['usd_stratify'] = pd.qcut(X['precio_usd'],4,labels=[1,2,3,4])\n",
    "\n",
    "X = X[[x for x in X.columns if (x!='precio_usd')]]"
   ]
  },
  {
   "cell_type": "markdown",
   "metadata": {},
   "source": [
    "Dividimos en train-test"
   ]
  },
  {
   "cell_type": "code",
   "execution_count": null,
   "metadata": {},
   "outputs": [],
   "source": [
    "X_train, X_test, y_train, y_test = train_test_split(X, y, stratify=X['usd_stratify'],test_size=0.2, random_state=0)\n",
    "\n",
    "print(X_train.shape, y_train.shape)\n",
    "print(X_test.shape, y_test.shape)"
   ]
  },
  {
   "cell_type": "markdown",
   "metadata": {},
   "source": [
    "## 7. Normalización de variables por estandarización para el set de train\n",
    "\n",
    "Apliquemos estandarización, transformando las variables para que tengan media 0 $(\\mu = 0)$ y desvío estándar 1 $(\\sigma = 1)$, aplicando la fórmula:\n",
    "\n",
    "$$ x' = \\frac{x - \\mu}{\\sigma}$$"
   ]
  },
  {
   "cell_type": "markdown",
   "metadata": {},
   "source": [
    "Estandarizamos feautures:"
   ]
  },
  {
   "cell_type": "code",
   "execution_count": null,
   "metadata": {},
   "outputs": [],
   "source": [
    "# Fiteamos el estandarizador y estandarizamos con X_train\n",
    "\n",
    "stdscaler_X = preprocessing.StandardScaler()\n",
    "X_train_scaled = stdscaler_X.fit_transform(X_train)\n",
    "X_train = pd.DataFrame(X_train_scaled, columns=X_train.columns)\n",
    "\n",
    "# Estandarizamos X_test con el estandarizador fiteado con X_train\n",
    "\n",
    "X_test_scaled = stdscaler_X.transform(X_test)\n",
    "X_test = pd.DataFrame(X_test_scaled, columns=X_test.columns)\n",
    "\n",
    "#UTILIZAR INVERSE_TRANSFORM PARA ANALIZAR LOS DATOS OBTENIDOS POSTERIORMENTE\n"
   ]
  },
  {
   "cell_type": "markdown",
   "metadata": {},
   "source": [
    "Estandarizamos target y lo centramos con una fución logarítmica, ya que su distribución es asimétrica con cola a la derecha:\n"
   ]
  },
  {
   "cell_type": "code",
   "execution_count": null,
   "metadata": {},
   "outputs": [],
   "source": [
    "y_train = np.log(y_train)\n",
    "y_test = np.log(y_test)"
   ]
  },
  {
   "cell_type": "code",
   "execution_count": null,
   "metadata": {},
   "outputs": [],
   "source": [
    "#### ESTO NO LO HACE MARTIN, PERO NO LE QUEDA LA Y NORMALIZADA Y NUESTRO R2 MEJORA AL HACERLO,YO LO DEJARÍA\n",
    "\n",
    "\n",
    "# Fiteamos el estandarizador y estandarizamos con y_train\n",
    "\n",
    "stdscaler_y = preprocessing.StandardScaler()\n",
    "y_train_scaled = stdscaler_y.fit_transform(y_train)\n",
    "y_train = pd.DataFrame(y_train_scaled, columns=y_train.columns)\n",
    "\n",
    "# Estandarizamos y_test con el estandarizador fiteado con y_train\n",
    "\n",
    "y_test_scaled = stdscaler_y.transform(y_test)\n",
    "y_test = pd.DataFrame(y_test_scaled, columns=y_test.columns)\n",
    "\n",
    "#UTILIZAR INVERSE_TRANSFORM PARA ANALIZAR LOS DATOS OBTENIDOS POSTERIORMENTE"
   ]
  },
  {
   "cell_type": "markdown",
   "metadata": {},
   "source": [
    "Vemos que todo esté bien"
   ]
  },
  {
   "cell_type": "code",
   "execution_count": null,
   "metadata": {},
   "outputs": [],
   "source": [
    "display(X_train)"
   ]
  },
  {
   "cell_type": "code",
   "execution_count": null,
   "metadata": {},
   "outputs": [],
   "source": [
    "y_train"
   ]
  },
  {
   "cell_type": "markdown",
   "metadata": {},
   "source": [
    "Verificamos que estén normalizadas y verificamos que:\n",
    "\n",
    "   + $\\bar{x_{j}} \\approx 0$\n",
    "    \n",
    "   + $s_{j}=1.00002$"
   ]
  },
  {
   "cell_type": "code",
   "execution_count": null,
   "metadata": {
    "scrolled": true
   },
   "outputs": [],
   "source": [
    "X_train.apply(['mean','std']).T"
   ]
  },
  {
   "cell_type": "code",
   "execution_count": null,
   "metadata": {},
   "outputs": [],
   "source": [
    "y_train.apply(['mean','std']).T"
   ]
  },
  {
   "cell_type": "markdown",
   "metadata": {},
   "source": [
    "## 8. Prueba de distintos modelos (con el set de train) y evaluación de la performance con el set de test (MAE, MSE, RMSE, R2)\n",
    "  \n",
    "a. Con dummies de localización (sin lat-lon)\n",
    "\n",
    "    I)   Sin regularización (Se determinan los parámetros por cross-validation, dividiento el set train en k grupos)\n",
    "   \n",
    "    II)  Ridge (optimizamos parámetros usando cross-validation de forma automática con k grupos)\n",
    "\n",
    "    III) Lasso (optimizamos parámetros usando cross-validation de forma automática con k grupos)\n",
    "\n",
    "    IV)  Ambas (optimizamos parámetros usando cross-validation de forma automática con k grupos)\n",
    "\n",
    "    V)   Sin regularización pero con PCA previo\n",
    "   \n",
    "b. Sin dummies de localización (con lat-lon)\n",
    "\n",
    "    I)   Sin regularización (Se determinan los parámetros por cross-validation, dividiento el set train en k grupos)\n",
    "   \n",
    "    II)  Ridge (optimizamos parámetros usando cross-validation de forma automática con k grupos)\n",
    "   \n",
    "    III) Lasso (optimizamos parámetros usando cross-validation de forma automática con k grupos)\n",
    "   \n",
    "    IV)  Ambas (optimizamos parámetros usando cross-validation de forma automática con k grupos)\n",
    "   \n",
    "    V)   Feature engineering\n",
    "   "
   ]
  },
  {
   "cell_type": "markdown",
   "metadata": {},
   "source": [
    "## 8.a. Con dummies de localización (sin lat-lon)"
   ]
  },
  {
   "cell_type": "markdown",
   "metadata": {},
   "source": [
    "### 8.a. I) Sin regularización (Se determinan los parámetros por cross-validation, dividiento el set train en k grupos)\n"
   ]
  },
  {
   "cell_type": "markdown",
   "metadata": {},
   "source": [
    "#### a) Con Intercepto"
   ]
  },
  {
   "cell_type": "markdown",
   "metadata": {},
   "source": [
    "Instanciamos el modelo"
   ]
  },
  {
   "cell_type": "code",
   "execution_count": null,
   "metadata": {},
   "outputs": [],
   "source": [
    "lm = LinearRegression()"
   ]
  },
  {
   "cell_type": "markdown",
   "metadata": {},
   "source": [
    "Fiteamos el modelo, para que aprenda de los datos."
   ]
  },
  {
   "cell_type": "code",
   "execution_count": null,
   "metadata": {},
   "outputs": [],
   "source": [
    "model = lm.fit(X_train, y_train)"
   ]
  },
  {
   "cell_type": "markdown",
   "metadata": {},
   "source": [
    "El modelo ya determinó sus coeficientes de regresión (betas). Los vemos"
   ]
  },
  {
   "cell_type": "code",
   "execution_count": null,
   "metadata": {},
   "outputs": [],
   "source": [
    "np.set_printoptions(precision=3, suppress=True)\n",
    "\n",
    "print('Intercept Linear model: ',lm.intercept_,'\\n',\n",
    "      'Coefs Linear model:',lm.coef_,'\\n')"
   ]
  },
  {
   "cell_type": "markdown",
   "metadata": {},
   "source": [
    "Vemos la performance del modelo sobre sus propios datos de train"
   ]
  },
  {
   "cell_type": "code",
   "execution_count": null,
   "metadata": {
    "scrolled": true
   },
   "outputs": [],
   "source": [
    "# Calculamos el R2\n",
    "\n",
    "print(\" Score Train Lineal: %.5f\\n\" % lm.score(X_train, y_train))\n",
    "\n",
    "# Calculamos el RMSE\n",
    "\n",
    "y_pred_tr_lm = lm.predict(X_train)\n",
    "\n",
    "rmse = lambda y, y_pred: np.sqrt(mean_squared_error(y, y_pred))\n",
    "\n",
    "print(\" Train RMSE lineal   : %.5f \\n\" % rmse(y_train,y_pred_tr_lm))\n",
    "\n",
    "# Calculamos el MAE\n",
    "\n",
    "print (' MAE: %.5f\\n' % metrics.mean_absolute_error(y_train,y_pred_tr_lm))\n",
    "\n",
    "# Calculamos el MSE\n",
    "\n",
    "print (' MSE: %.5f\\n' % metrics.mean_squared_error(y_train,y_pred_tr_lm))"
   ]
  },
  {
   "cell_type": "markdown",
   "metadata": {},
   "source": [
    "Evaluamos el modelo sobre el set de test:"
   ]
  },
  {
   "cell_type": "code",
   "execution_count": null,
   "metadata": {},
   "outputs": [],
   "source": [
    "# Hacemos las predicciones sobre la matriz de predictores del Test Set\n",
    "\n",
    "y_pred_lm = lm.predict(X_test)\n",
    "\n",
    "print(\" Score Test Lineal: %.5f\\n\" % lm.score(X_test, y_test))\n",
    "print(\" Test RMSE lineal= %.2f\\n\" % rmse(y_test, y_pred_lm))"
   ]
  },
  {
   "cell_type": "markdown",
   "metadata": {},
   "source": [
    "#### b) Sin Intercepto\n",
    "\n",
    "\n",
    "Se toma intercepto nulo ya que el valor del m2 para valores de X = 0, es 0. Veremos que el resultado es el mismo, ya que el modelo anterior, llevaba el intercepto a 0."
   ]
  },
  {
   "cell_type": "code",
   "execution_count": null,
   "metadata": {},
   "outputs": [],
   "source": [
    "lm2 = LinearRegression(fit_intercept=False)"
   ]
  },
  {
   "cell_type": "markdown",
   "metadata": {},
   "source": [
    "Fiteamos el modelo, para que aprenda de los datos."
   ]
  },
  {
   "cell_type": "code",
   "execution_count": null,
   "metadata": {},
   "outputs": [],
   "source": [
    "model2 = lm2.fit(X_train, y_train)"
   ]
  },
  {
   "cell_type": "markdown",
   "metadata": {},
   "source": [
    "El modelo ya determinó sus coeficientes de regresión (betas). Los vemos"
   ]
  },
  {
   "cell_type": "code",
   "execution_count": null,
   "metadata": {},
   "outputs": [],
   "source": [
    "np.set_printoptions(precision=3, suppress=True)\n",
    "\n",
    "print('Intercept Linear model: ',lm2.intercept_,'\\n',\n",
    "      'Coefs Linear model:',lm2.coef_,'\\n')"
   ]
  },
  {
   "cell_type": "markdown",
   "metadata": {},
   "source": [
    "Vemos la performance del modelo sobre sus propios datos de train"
   ]
  },
  {
   "cell_type": "code",
   "execution_count": null,
   "metadata": {},
   "outputs": [],
   "source": [
    "# Calculamos el R2\n",
    "\n",
    "print(\" Score Train Lineal: %.5f\\n\" % lm2.score(X_train, y_train))\n",
    "\n",
    "# Calculamos el RMSE\n",
    "\n",
    "y_pred_tr_lm2 = lm2.predict(X_train)\n",
    "\n",
    "rmse = lambda y, y_pred: np.sqrt(mean_squared_error(y, y_pred))\n",
    "\n",
    "print(\" Train RMSE lineal   : %.5f \\n\" % rmse(y_train,y_pred_tr_lm2))\n",
    "\n",
    "# Calculamos el MAE\n",
    "\n",
    "print (' MAE: %.5f\\n' % metrics.mean_absolute_error(y_train,y_pred_tr_lm2))\n",
    "\n",
    "# Calculamos el MSE\n",
    "\n",
    "print (' MSE: %.5f\\n' % metrics.mean_squared_error(y_train,y_pred_tr_lm2))"
   ]
  },
  {
   "cell_type": "markdown",
   "metadata": {},
   "source": [
    "SObre el set de test:"
   ]
  },
  {
   "cell_type": "code",
   "execution_count": null,
   "metadata": {},
   "outputs": [],
   "source": [
    "# Hacemos las predicciones sobre la matriz de predictores del Test Set\n",
    "\n",
    "y_pred_lm2 = lm2.predict(X_test)\n",
    "\n",
    "print(\" Score Test Lineal: %.5f\\n\" % lm2.score(X_test, y_test))\n",
    "print(\" Test RMSE lineal= %.5f\\n\" % rmse(y_test, y_pred_lm2))"
   ]
  },
  {
   "cell_type": "markdown",
   "metadata": {},
   "source": [
    "### Analizamos la regresión lineal con statsmodel para eliminar variables con coeficientes no significativos"
   ]
  },
  {
   "cell_type": "code",
   "execution_count": null,
   "metadata": {},
   "outputs": [],
   "source": []
  },
  {
   "cell_type": "code",
   "execution_count": null,
   "metadata": {},
   "outputs": [],
   "source": []
  },
  {
   "cell_type": "code",
   "execution_count": null,
   "metadata": {},
   "outputs": [],
   "source": []
  },
  {
   "cell_type": "code",
   "execution_count": null,
   "metadata": {},
   "outputs": [],
   "source": []
  },
  {
   "cell_type": "code",
   "execution_count": null,
   "metadata": {},
   "outputs": [],
   "source": []
  },
  {
   "cell_type": "markdown",
   "metadata": {},
   "source": [
    "### 8.a. II) Ridge (Se setea el modelo para que optimice parámetros usando cross-validation de forma automática con k grupos)"
   ]
  },
  {
   "cell_type": "markdown",
   "metadata": {},
   "source": [
    "Instanciamos el modelo, generando un grid de $\\alpha$ para probar e instanciamos un particionador en k partes para la cross-validation"
   ]
  },
  {
   "cell_type": "code",
   "execution_count": null,
   "metadata": {},
   "outputs": [],
   "source": [
    "al_ridge = np.linspace(0.001, 0.3, 300)\n",
    "\n",
    "kf = KFold(n_splits=5, shuffle=True, random_state=0)\n",
    "\n",
    "lm_ridge_cv= RidgeCV(alphas=al_ridge, cv=kf, normalize=False)"
   ]
  },
  {
   "cell_type": "markdown",
   "metadata": {},
   "source": [
    "Fiteamos el modelo, para que aprenda de los datos. "
   ]
  },
  {
   "cell_type": "code",
   "execution_count": null,
   "metadata": {},
   "outputs": [],
   "source": [
    "lm_ridge_cv.fit(X_train, y_train)"
   ]
  },
  {
   "cell_type": "markdown",
   "metadata": {},
   "source": [
    "EL modelo ya determina sus coeficientes de regresión y su hiperparámetro. Los vemos"
   ]
  },
  {
   "cell_type": "code",
   "execution_count": null,
   "metadata": {},
   "outputs": [],
   "source": [
    "np.set_printoptions(precision=3, suppress=True)\n",
    "\n",
    "print('Alpha Ridge:',lm_ridge_cv.alpha_,'\\n',\n",
    "      'Intercept Ridge: ',lm_ridge_cv.intercept_,'\\n',\n",
    "      'Coefs Ridge:',lm_ridge_cv.coef_,'\\n')\n"
   ]
  },
  {
   "cell_type": "markdown",
   "metadata": {},
   "source": [
    "Vemos la performance del modelo sobre sus propios datos de train"
   ]
  },
  {
   "cell_type": "code",
   "execution_count": null,
   "metadata": {},
   "outputs": [],
   "source": [
    "# Calculamos el R2\n",
    "\n",
    "print(\"Score Train Ridge : %.5f\\n\" % lm_ridge_cv.score(X_train, y_train))\n",
    "\n",
    "# Calculamos el RMSE\n",
    "\n",
    "y_pred_tr_ridge = lm_ridge_cv.predict(X_train)\n",
    "\n",
    "rmse = lambda y, y_pred: np.sqrt(mean_squared_error(y, y_pred))\n",
    "\n",
    "print(\"Train RMSE Ridge    : %.5f \\n\" % rmse(y_train,y_pred_tr_ridge))\n",
    "\n",
    "# Calculamos el MAE\n",
    "\n",
    "print (' MAE: %.5f\\n' % metrics.mean_absolute_error(y_train,y_pred_tr_ridge))\n",
    "\n",
    "# Calculamos el MSE\n",
    "\n",
    "print (' MSE: %.5f\\n' % metrics.mean_squared_error(y_train,y_pred_tr_ridge))"
   ]
  },
  {
   "cell_type": "markdown",
   "metadata": {},
   "source": [
    "SObre el set test"
   ]
  },
  {
   "cell_type": "code",
   "execution_count": null,
   "metadata": {},
   "outputs": [],
   "source": [
    "# Hacemos las predicciones sobre la matriz de predictores del Test Set\n",
    "\n",
    "y_pred_ridge = lm_ridge_cv.predict(X_test)\n",
    "\n",
    "print(\" Score Test Ridge: %.5f\\n\" % lm_ridge_cv.score(X_test, y_test))\n",
    "print(\" Test RMSE Ridge= %.f\\n\" % rmse(y_test, y_pred_ridge))"
   ]
  },
  {
   "cell_type": "markdown",
   "metadata": {},
   "source": [
    "### 8.a. III) Lasso (Se setea el modelo para que optimice parámetros usando cross-validation de forma automática con k grupos)\n",
    "\n",
    "De la misma forma que antes, hacemos:"
   ]
  },
  {
   "cell_type": "code",
   "execution_count": null,
   "metadata": {},
   "outputs": [],
   "source": [
    "al_lasso = np.linspace(0.1, 0.5, 300)\n",
    "\n",
    "kf = KFold(n_splits=5, shuffle=True, random_state=0)\n",
    "\n",
    "lm_lasso_cv = LassoCV(alphas=al_lasso, cv=kf, normalize=False)"
   ]
  },
  {
   "cell_type": "code",
   "execution_count": null,
   "metadata": {},
   "outputs": [],
   "source": [
    "lm_lasso_cv.fit(X_train, y_train)"
   ]
  },
  {
   "cell_type": "code",
   "execution_count": null,
   "metadata": {},
   "outputs": [],
   "source": [
    "np.set_printoptions(precision=3, suppress=True)\n",
    "\n",
    "print('Alpha Lasso:',lm_lasso_cv.alpha_,'\\n'\n",
    "      'Intercept Lasso: ',lm_ridge_cv.intercept_,'\\n'\n",
    "      'Coefs Lasso:',lm_lasso_cv.coef_,'\\n')"
   ]
  },
  {
   "cell_type": "markdown",
   "metadata": {},
   "source": [
    "Análisis de las variables que elimina."
   ]
  },
  {
   "cell_type": "code",
   "execution_count": null,
   "metadata": {},
   "outputs": [],
   "source": []
  },
  {
   "cell_type": "code",
   "execution_count": null,
   "metadata": {},
   "outputs": [],
   "source": []
  },
  {
   "cell_type": "code",
   "execution_count": null,
   "metadata": {},
   "outputs": [],
   "source": []
  },
  {
   "cell_type": "code",
   "execution_count": null,
   "metadata": {},
   "outputs": [],
   "source": [
    "# Calculamos el R2\n",
    "\n",
    "print(\"Score Train Lasso : %.5f\\n\" % lm_lasso_cv.score(X_train, y_train))\n",
    "\n",
    "# Calculamos el RMSE\n",
    "\n",
    "y_pred_tr_lasso = lm_lasso_cv.predict(X_train)\n",
    "\n",
    "rmse = lambda y, y_pred: np.sqrt(mean_squared_error(y, y_pred))\n",
    "\n",
    "print(\"Train RMSE Lasso    : %.5f \\n\" % rmse(y_train,y_pred_tr_lasso))\n",
    "\n",
    "# Calculamos el MAE\n",
    "\n",
    "print (' MAE: %.5f\\n' % metrics.mean_absolute_error(y_train,y_pred_tr_lasso))\n",
    "\n",
    "# Calculamos el MSE\n",
    "\n",
    "print (' MSE: %.5f\\n' % metrics.mean_squared_error(y_train,y_pred_tr_lasso))"
   ]
  },
  {
   "cell_type": "markdown",
   "metadata": {},
   "source": [
    "Sobre el set test"
   ]
  },
  {
   "cell_type": "code",
   "execution_count": null,
   "metadata": {},
   "outputs": [],
   "source": [
    "# Hacemos las predicciones sobre la matriz de predictores del Test Set\n",
    "\n",
    "y_pred_lasso = lm_lasso_cv.predict(X_test)\n",
    "\n",
    "print(\" Score Test Lasso: %.5f\\n\" % lm_lasso_cv.score(X_test, y_test))\n",
    "print(\" Test RMSE Lasso= %.f\\n\" % rmse(y_test, y_pred_lasso))"
   ]
  },
  {
   "cell_type": "markdown",
   "metadata": {},
   "source": [
    "### 8.a. IV) Ambas (Se setea el modelo para que optimice parámetros usando cross-validation de forma automática con k grupos)"
   ]
  },
  {
   "cell_type": "code",
   "execution_count": null,
   "metadata": {},
   "outputs": [],
   "source": []
  },
  {
   "cell_type": "code",
   "execution_count": null,
   "metadata": {},
   "outputs": [],
   "source": []
  },
  {
   "cell_type": "code",
   "execution_count": null,
   "metadata": {},
   "outputs": [],
   "source": []
  },
  {
   "cell_type": "markdown",
   "metadata": {},
   "source": [
    "###  8.a. V)   Sin regularización pero con PCA previo"
   ]
  },
  {
   "cell_type": "code",
   "execution_count": null,
   "metadata": {},
   "outputs": [],
   "source": [
    "from sklearn.decomposition import PCA\n",
    "\n",
    "# Instanciamos la clase PCA:\n",
    "pca_prop = PCA()\n",
    "\n",
    "# Al no especificar el número de componentes, PCA va a conservar todos los CP.\n",
    "\n",
    "# Calculamos los componentes principales con el método fit()\n",
    "pca_prop.fit(X_train)"
   ]
  },
  {
   "cell_type": "code",
   "execution_count": null,
   "metadata": {},
   "outputs": [],
   "source": [
    "# Creamos un DataFRame con los loadings:\n",
    "\n",
    "pca_loadings = pd.DataFrame(pca_prop.components_.T,index=X_train.columns)\n",
    "pca_loadings"
   ]
  },
  {
   "cell_type": "code",
   "execution_count": null,
   "metadata": {},
   "outputs": [],
   "source": [
    "# Verificamos la ortonormalidad de los componentes principales:\n",
    "\n",
    "pca_loadings.T.dot(pca_loadings)"
   ]
  },
  {
   "cell_type": "code",
   "execution_count": null,
   "metadata": {},
   "outputs": [],
   "source": [
    "# Generamos un DataFrame expresando en términos de nuestros componentes principales:\n",
    "\n",
    "df_pca = pd.DataFrame(pca_prop.fit_transform(X_train),\n",
    "                      index=X_train.index)\n",
    "df_pca.head()"
   ]
  },
  {
   "cell_type": "code",
   "execution_count": null,
   "metadata": {},
   "outputs": [],
   "source": [
    "# Observamos la media de las variables:\n",
    "print(\"Media de los CP: \")\n",
    "print(df_pca.mean(axis=0))\n",
    "\n",
    "print('\\n')\n",
    "\n",
    "# Observamos la varianza de las variables:\n",
    "print(\"Varianza de los CPs: \")\n",
    "print(df_pca.var(axis=0))"
   ]
  },
  {
   "cell_type": "code",
   "execution_count": null,
   "metadata": {},
   "outputs": [],
   "source": [
    "# Vemos la varianza explicada de cada componente principal como atributo del modelo.\n",
    "\n",
    "pca_prop.explained_variance_"
   ]
  },
  {
   "cell_type": "code",
   "execution_count": null,
   "metadata": {},
   "outputs": [],
   "source": [
    "# Vemos el ratio la varianza explicada de cada componente principal como atributo del modelo.\n",
    "\n",
    "pca_prop.explained_variance_ratio_"
   ]
  },
  {
   "cell_type": "code",
   "execution_count": null,
   "metadata": {},
   "outputs": [],
   "source": [
    "# Vemos el ratio acumulado de variaza explicada. El \n",
    "\n",
    "np.cumsum(pca_prop.explained_variance_ratio_)"
   ]
  },
  {
   "cell_type": "markdown",
   "metadata": {},
   "source": [
    "Vemos que el 80% de la varianza se explica usando hasta la componente 55. Probamos un modelo de regresión con estas variables nuevas."
   ]
  },
  {
   "cell_type": "code",
   "execution_count": null,
   "metadata": {},
   "outputs": [],
   "source": [
    "pca_prop = PCA(n_components=55, svd_solver=\"full\")"
   ]
  },
  {
   "cell_type": "code",
   "execution_count": null,
   "metadata": {},
   "outputs": [],
   "source": [
    "pca_prop.fit(X_train)"
   ]
  },
  {
   "cell_type": "code",
   "execution_count": null,
   "metadata": {},
   "outputs": [],
   "source": [
    "df_pca = pd.DataFrame(pca_prop.fit_transform(X_train),\n",
    "                      index=X_train.index)"
   ]
  },
  {
   "cell_type": "markdown",
   "metadata": {},
   "source": [
    "Instanciamos el modelo"
   ]
  },
  {
   "cell_type": "code",
   "execution_count": null,
   "metadata": {},
   "outputs": [],
   "source": [
    "lm_pca = LinearRegression()"
   ]
  },
  {
   "cell_type": "markdown",
   "metadata": {},
   "source": [
    "Fiteamos el modelo, para que aprenda de los datos."
   ]
  },
  {
   "cell_type": "code",
   "execution_count": null,
   "metadata": {},
   "outputs": [],
   "source": [
    "model = lm_pca.fit(df_pca, y_train)"
   ]
  },
  {
   "cell_type": "markdown",
   "metadata": {},
   "source": [
    "El modelo ya determinó sus coeficientes de regresión (betas). Los vemos"
   ]
  },
  {
   "cell_type": "code",
   "execution_count": null,
   "metadata": {},
   "outputs": [],
   "source": [
    "np.set_printoptions(precision=3, suppress=True)\n",
    "\n",
    "print('Intercept Linear model: ',lm_pca.intercept_,'\\n',\n",
    "      'Coefs Linear model:',lm_pca.coef_,'\\n')"
   ]
  },
  {
   "cell_type": "markdown",
   "metadata": {},
   "source": [
    "Vemos la performance del modelo sobre sus propios datos de train"
   ]
  },
  {
   "cell_type": "code",
   "execution_count": null,
   "metadata": {
    "scrolled": true
   },
   "outputs": [],
   "source": [
    "# Calculamos el R2\n",
    "\n",
    "print(\" Score Train Lineal PCA: %.5f\\n\" % lm_pca.score(df_pca, y_train))\n",
    "\n",
    "# Calculamos el RMSE\n",
    "\n",
    "y_pred_tr_lm_pca = lm_pca.predict(df_pca)\n",
    "\n",
    "rmse = lambda y, y_pred: np.sqrt(mean_squared_error(y, y_pred))\n",
    "\n",
    "print(\" Train RMSE lineal PCA  : %.5f \\n\" % rmse(y_train,y_pred_tr_lm_pca))\n",
    "\n",
    "# Calculamos el MAE\n",
    "\n",
    "print (' MAE: %.5f\\n' % metrics.mean_absolute_error(y_train,y_pred_tr_lm_pca))\n",
    "\n",
    "# Calculamos el MSE\n",
    "\n",
    "print (' MSE: %.5f\\n' % metrics.mean_squared_error(y_train,y_pred_tr_lm_pca))"
   ]
  },
  {
   "cell_type": "markdown",
   "metadata": {},
   "source": [
    "Evaluamos sobre el set de test, pasandolo a términos del PCA\n",
    "\n"
   ]
  },
  {
   "cell_type": "code",
   "execution_count": null,
   "metadata": {},
   "outputs": [],
   "source": [
    "y_test = pca_prop.transform(y_test)\n",
    "\n",
    "X_test = pca_prop.transform(X_test)"
   ]
  },
  {
   "cell_type": "code",
   "execution_count": null,
   "metadata": {
    "scrolled": true
   },
   "outputs": [],
   "source": [
    "# Hacemos las predicciones sobre la matriz de predictores del Test Set\n",
    "\n",
    "#y_pred_lm_pca = lm_pca.predict(X_test)\n",
    "\n",
    "#print(\" Score Test Ridge: %.5f\\n\" % lm_pca.score(X_test, y_test))\n",
    "#print(\" Test RMSE Ridge= %.f\\n\" % rmse(y_test, y_pred_lm_pca))"
   ]
  },
  {
   "cell_type": "code",
   "execution_count": null,
   "metadata": {},
   "outputs": [],
   "source": []
  },
  {
   "cell_type": "code",
   "execution_count": null,
   "metadata": {},
   "outputs": [],
   "source": []
  },
  {
   "cell_type": "markdown",
   "metadata": {},
   "source": [
    "## 8.b. Sin dummies de localización (con lat-lon)"
   ]
  },
  {
   "cell_type": "code",
   "execution_count": null,
   "metadata": {},
   "outputs": [],
   "source": []
  },
  {
   "cell_type": "code",
   "execution_count": null,
   "metadata": {},
   "outputs": [],
   "source": []
  },
  {
   "cell_type": "code",
   "execution_count": null,
   "metadata": {},
   "outputs": [],
   "source": []
  },
  {
   "cell_type": "code",
   "execution_count": null,
   "metadata": {},
   "outputs": [],
   "source": []
  },
  {
   "cell_type": "markdown",
   "metadata": {},
   "source": [
    "## 9. Selección del mejor modelo"
   ]
  },
  {
   "cell_type": "markdown",
   "metadata": {},
   "source": [
    "## 10. Análisis de los resultados\n",
    "\n",
    "I)  Análisis de signos y valores de coeficientes de regresión\n",
    "    \n",
    "II)  Generación de un intervalo de confianza para el precio por m2 para algún caso particular "
   ]
  },
  {
   "cell_type": "markdown",
   "metadata": {},
   "source": [
    "### I)  Análisis de signos y valores de coeficientes de regresión"
   ]
  },
  {
   "cell_type": "markdown",
   "metadata": {},
   "source": [
    "### II) Generación de un intervalo de confianza para el precio por m2 para algún caso particular"
   ]
  },
  {
   "cell_type": "code",
   "execution_count": null,
   "metadata": {},
   "outputs": [],
   "source": []
  }
 ],
 "metadata": {
  "kernelspec": {
   "display_name": "Python 3",
   "language": "python",
   "name": "python3"
  },
  "language_info": {
   "codemirror_mode": {
    "name": "ipython",
    "version": 3
   },
   "file_extension": ".py",
   "mimetype": "text/x-python",
   "name": "python",
   "nbconvert_exporter": "python",
   "pygments_lexer": "ipython3",
   "version": "3.7.7"
  }
 },
 "nbformat": 4,
 "nbformat_minor": 4
}
