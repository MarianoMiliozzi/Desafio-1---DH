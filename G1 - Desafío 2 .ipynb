{
 "cells": [
  {
   "cell_type": "markdown",
   "metadata": {},
   "source": [
    "# Desafío 2\n",
    "\n",
    "En este desafío se logrará encontrar una relación explicativa entre variables y el precio por m2 de una propiedad en la Ciudad Autónoma de Buenos Aires, a partir del dataset de properati trabajado en el desafío 1, mediante una regresión lineal múltiple (analizar si es necesario combinar con procesador polinómico, y si es mejor con o sin intercepto).\n",
    "\n",
    "Para esto se seguirán los siguientes pasos:\n",
    "    1. Limpieza final del dataset\n",
    "    2. Visualización: Mapa de correlaciones\n",
    "    3. Preselección de variables para el modelo\n",
    "    4. Creación de dummies para variables categóricas ****************Exportamos dataset para división********************* \n",
    "    5. Obtención de matriz de features (X) y vector de variable explicada (y)\n",
    "    6. División de dataset en train-test para validación de modelo con randomstate(9) y test size (0.2)\n",
    "    7. Normalización de set de entrenamiento por estandarización\n",
    "    8. Prueba de distintos modelos (con el set de train) y evaluación de la performance con el set de test (MAE, MSE, RMSE, R2)\n",
    "        a. Con dummies de localización (sin lat-lon)\n",
    "           I)   Sin regularización (Se determinan los parámetros por cross-validation, dividiento el set train en k grupos)\n",
    "           II)  Ridge (optimizamos parámetros usando cross-validation de forma automática con k grupos)\n",
    "           III) Lasso (optimizamos parámetros usando cross-validation de forma automática con k grupos)\n",
    "           IV)  Ambas (optimizamos parámetros usando cross-validation de forma automática con k grupos)\n",
    "           V)   Sin regularización pero con PCA previo\n",
    "        b. Sin dummies de localización (con lat-lon)\n",
    "           I)   Sin regularización (Se determinan los parámetros por cross-validation, dividiento el set train en k grupos)\n",
    "           II)  Ridge (optimizamos parámetros usando cross-validation de forma automática con k grupos)\n",
    "           III) Lasso (optimizamos parámetros usando cross-validation de forma automática con k grupos)\n",
    "           IV)  Ambas (optimizamos parámetros usando cross-validation de forma automática con k grupos)\n",
    "           V)   Feature engineering\n",
    "    9. Selección del mejor modelo\n",
    "    10. Análisis de los resultados\n",
    "        a.  Análisis de signos y valores de coeficientes de regresión\n",
    "        b.  Generación de un intervalo de confianza para el precio por m2 para algún caso particular          \n",
    "    \n"
   ]
  },
  {
   "cell_type": "code",
   "execution_count": 1,
   "metadata": {},
   "outputs": [],
   "source": [
    "import pandas as pd\n",
    "from sklearn import preprocessing\n",
    "from sklearn import metrics\n",
    "import numpy as np\n",
    "\n",
    "from sklearn import datasets, linear_model\n",
    "from sklearn.model_selection import train_test_split, KFold, cross_val_score\n",
    "from sklearn.linear_model import LinearRegression, Lasso, LassoCV, Ridge, RidgeCV\n",
    "from sklearn.preprocessing import PolynomialFeatures, StandardScaler\n",
    "from sklearn.metrics import mean_squared_error, r2_score"
   ]
  },
  {
   "cell_type": "markdown",
   "metadata": {},
   "source": [
    "## 1. Limpieza final del dataset"
   ]
  },
  {
   "cell_type": "code",
   "execution_count": 2,
   "metadata": {},
   "outputs": [],
   "source": [
    "df = pd.read_csv('df_limpio.csv', sep = '|')"
   ]
  },
  {
   "cell_type": "code",
   "execution_count": 3,
   "metadata": {},
   "outputs": [
    {
     "data": {
      "text/plain": [
       "(121220, 14)"
      ]
     },
     "execution_count": 3,
     "metadata": {},
     "output_type": "execute_result"
    }
   ],
   "source": [
    "df.shape"
   ]
  },
  {
   "cell_type": "code",
   "execution_count": 4,
   "metadata": {},
   "outputs": [
    {
     "data": {
      "text/plain": [
       "Index(['Unnamed: 0', 'id', 'tipo_propiedad', 'prop_subtipo', 'localidad',\n",
       "       'provincia', 'precio_usd', 'superficie_m2', 'usd_m2', 'ambientes',\n",
       "       'expensas', 'descripcion', 'titulo', 'geometry'],\n",
       "      dtype='object')"
      ]
     },
     "execution_count": 4,
     "metadata": {},
     "output_type": "execute_result"
    }
   ],
   "source": [
    "df.columns"
   ]
  },
  {
   "cell_type": "code",
   "execution_count": 5,
   "metadata": {},
   "outputs": [
    {
     "data": {
      "text/html": [
       "<div>\n",
       "<style scoped>\n",
       "    .dataframe tbody tr th:only-of-type {\n",
       "        vertical-align: middle;\n",
       "    }\n",
       "\n",
       "    .dataframe tbody tr th {\n",
       "        vertical-align: top;\n",
       "    }\n",
       "\n",
       "    .dataframe thead th {\n",
       "        text-align: right;\n",
       "    }\n",
       "</style>\n",
       "<table border=\"1\" class=\"dataframe\">\n",
       "  <thead>\n",
       "    <tr style=\"text-align: right;\">\n",
       "      <th></th>\n",
       "      <th>Unnamed: 0</th>\n",
       "      <th>id</th>\n",
       "      <th>tipo_propiedad</th>\n",
       "      <th>prop_subtipo</th>\n",
       "      <th>localidad</th>\n",
       "      <th>provincia</th>\n",
       "      <th>precio_usd</th>\n",
       "      <th>superficie_m2</th>\n",
       "      <th>usd_m2</th>\n",
       "      <th>ambientes</th>\n",
       "      <th>expensas</th>\n",
       "      <th>descripcion</th>\n",
       "      <th>titulo</th>\n",
       "      <th>geometry</th>\n",
       "    </tr>\n",
       "  </thead>\n",
       "  <tbody>\n",
       "    <tr>\n",
       "      <th>0</th>\n",
       "      <td>0</td>\n",
       "      <td>15bo8</td>\n",
       "      <td>PH</td>\n",
       "      <td>PH</td>\n",
       "      <td>Mataderos</td>\n",
       "      <td>Ciudad Autónoma de Buenos Aires</td>\n",
       "      <td>62000.0</td>\n",
       "      <td>55.0000</td>\n",
       "      <td>1127.272727</td>\n",
       "      <td>2.0</td>\n",
       "      <td>NaN</td>\n",
       "      <td>2 AMBIENTES TIPO CASA PLANTA BAJA POR PASILLO,...</td>\n",
       "      <td>2 AMB TIPO CASA SIN EXPENSAS EN PB</td>\n",
       "      <td>POINT (-58.5088387 -34.6618237)</td>\n",
       "    </tr>\n",
       "    <tr>\n",
       "      <th>1</th>\n",
       "      <td>1</td>\n",
       "      <td>15bob</td>\n",
       "      <td>apartment</td>\n",
       "      <td>apartment</td>\n",
       "      <td>La Plata</td>\n",
       "      <td>Buenos Aires</td>\n",
       "      <td>150000.0</td>\n",
       "      <td>70.4456</td>\n",
       "      <td>2129.302602</td>\n",
       "      <td>2.0</td>\n",
       "      <td>NaN</td>\n",
       "      <td>Venta de departamento en décimo piso al frente...</td>\n",
       "      <td>VENTA Depto 2 dorm. a estrenar 7 e/ 36 y 37   ...</td>\n",
       "      <td>POINT (-57.96432950000001 -34.9038831)</td>\n",
       "    </tr>\n",
       "  </tbody>\n",
       "</table>\n",
       "</div>"
      ],
      "text/plain": [
       "   Unnamed: 0     id tipo_propiedad prop_subtipo  localidad  \\\n",
       "0           0  15bo8             PH           PH  Mataderos   \n",
       "1           1  15bob      apartment    apartment   La Plata   \n",
       "\n",
       "                         provincia  precio_usd  superficie_m2       usd_m2  \\\n",
       "0  Ciudad Autónoma de Buenos Aires     62000.0        55.0000  1127.272727   \n",
       "1                     Buenos Aires    150000.0        70.4456  2129.302602   \n",
       "\n",
       "   ambientes  expensas                                        descripcion  \\\n",
       "0        2.0       NaN  2 AMBIENTES TIPO CASA PLANTA BAJA POR PASILLO,...   \n",
       "1        2.0       NaN  Venta de departamento en décimo piso al frente...   \n",
       "\n",
       "                                              titulo  \\\n",
       "0                 2 AMB TIPO CASA SIN EXPENSAS EN PB   \n",
       "1  VENTA Depto 2 dorm. a estrenar 7 e/ 36 y 37   ...   \n",
       "\n",
       "                                 geometry  \n",
       "0         POINT (-58.5088387 -34.6618237)  \n",
       "1  POINT (-57.96432950000001 -34.9038831)  "
      ]
     },
     "execution_count": 5,
     "metadata": {},
     "output_type": "execute_result"
    }
   ],
   "source": [
    "df.head(2)"
   ]
  },
  {
   "cell_type": "markdown",
   "metadata": {},
   "source": [
    "Vemos las pertenecientes a CABA:"
   ]
  },
  {
   "cell_type": "code",
   "execution_count": 6,
   "metadata": {},
   "outputs": [
    {
     "data": {
      "text/plain": [
       "(32316, 14)"
      ]
     },
     "execution_count": 6,
     "metadata": {},
     "output_type": "execute_result"
    }
   ],
   "source": [
    "df[df['provincia'] == 'Ciudad Autónoma de Buenos Aires'].shape"
   ]
  },
  {
   "cell_type": "markdown",
   "metadata": {},
   "source": [
    "Nos quedamos con las filas pertenecientes a CABA:"
   ]
  },
  {
   "cell_type": "code",
   "execution_count": 7,
   "metadata": {},
   "outputs": [],
   "source": [
    "df = df[df['provincia'] == 'Ciudad Autónoma de Buenos Aires']"
   ]
  },
  {
   "cell_type": "markdown",
   "metadata": {},
   "source": [
    "Vemos datos vacíos para las filas de interés:"
   ]
  },
  {
   "cell_type": "code",
   "execution_count": 8,
   "metadata": {},
   "outputs": [
    {
     "data": {
      "text/plain": [
       "Unnamed: 0            0\n",
       "id                    0\n",
       "tipo_propiedad        0\n",
       "prop_subtipo          0\n",
       "localidad             0\n",
       "provincia             0\n",
       "precio_usd            0\n",
       "superficie_m2         1\n",
       "usd_m2                1\n",
       "ambientes          7325\n",
       "expensas          25724\n",
       "descripcion           0\n",
       "titulo                0\n",
       "geometry              0\n",
       "dtype: int64"
      ]
     },
     "execution_count": 8,
     "metadata": {},
     "output_type": "execute_result"
    }
   ],
   "source": [
    "df.isnull().sum()"
   ]
  },
  {
   "cell_type": "code",
   "execution_count": 9,
   "metadata": {},
   "outputs": [
    {
     "data": {
      "text/plain": [
       "array(['PH', 'apartment', 'house', 'store'], dtype=object)"
      ]
     },
     "execution_count": 9,
     "metadata": {},
     "output_type": "execute_result"
    }
   ],
   "source": [
    "df.tipo_propiedad.unique()"
   ]
  },
  {
   "cell_type": "code",
   "execution_count": 10,
   "metadata": {},
   "outputs": [
    {
     "data": {
      "text/plain": [
       "Unnamed: 0           0\n",
       "id                   0\n",
       "tipo_propiedad       0\n",
       "prop_subtipo         0\n",
       "localidad            0\n",
       "provincia            0\n",
       "precio_usd           0\n",
       "superficie_m2        1\n",
       "usd_m2               1\n",
       "ambientes          481\n",
       "expensas          2075\n",
       "descripcion          0\n",
       "titulo               0\n",
       "geometry             0\n",
       "dtype: int64"
      ]
     },
     "execution_count": 10,
     "metadata": {},
     "output_type": "execute_result"
    }
   ],
   "source": [
    "df[df['tipo_propiedad'] == 'house'].isnull().sum()"
   ]
  },
  {
   "cell_type": "code",
   "execution_count": 11,
   "metadata": {},
   "outputs": [
    {
     "data": {
      "text/plain": [
       "Unnamed: 0        0\n",
       "id                0\n",
       "tipo_propiedad    0\n",
       "prop_subtipo      0\n",
       "localidad         0\n",
       "provincia         0\n",
       "precio_usd        0\n",
       "superficie_m2     0\n",
       "usd_m2            0\n",
       "ambientes         0\n",
       "expensas          0\n",
       "descripcion       0\n",
       "titulo            0\n",
       "geometry          0\n",
       "dtype: int64"
      ]
     },
     "execution_count": 11,
     "metadata": {},
     "output_type": "execute_result"
    }
   ],
   "source": [
    "df[df['tipo_propiedad'] == 'stores'].isnull().sum()"
   ]
  },
  {
   "cell_type": "markdown",
   "metadata": {},
   "source": [
    "LLevamos todos los valores de expersas para casas y a stores a 0, tanto nulos como otros, para corregirlos"
   ]
  },
  {
   "cell_type": "code",
   "execution_count": 12,
   "metadata": {},
   "outputs": [],
   "source": [
    "df.loc[df['tipo_propiedad'] == (('house') or ('stores')), 'expensas'] = 0"
   ]
  },
  {
   "cell_type": "code",
   "execution_count": 13,
   "metadata": {},
   "outputs": [
    {
     "data": {
      "text/plain": [
       "Unnamed: 0          0\n",
       "id                  0\n",
       "tipo_propiedad      0\n",
       "prop_subtipo        0\n",
       "localidad           0\n",
       "provincia           0\n",
       "precio_usd          0\n",
       "superficie_m2       1\n",
       "usd_m2              1\n",
       "ambientes         481\n",
       "expensas            0\n",
       "descripcion         0\n",
       "titulo              0\n",
       "geometry            0\n",
       "dtype: int64"
      ]
     },
     "execution_count": 13,
     "metadata": {},
     "output_type": "execute_result"
    }
   ],
   "source": [
    "df[df['tipo_propiedad'] == 'house'].isnull().sum()"
   ]
  },
  {
   "cell_type": "markdown",
   "metadata": {},
   "source": [
    "Llenamos las expensas de las propiedades faltantes agrupando por propiedad y barrio"
   ]
  },
  {
   "cell_type": "code",
   "execution_count": 14,
   "metadata": {},
   "outputs": [],
   "source": [
    "df.expensas.fillna(df.groupby(['tipo_propiedad', 'localidad'])['expensas'].transform('mean'), inplace=True)"
   ]
  },
  {
   "cell_type": "code",
   "execution_count": 15,
   "metadata": {},
   "outputs": [
    {
     "data": {
      "text/plain": [
       "Unnamed: 0           0\n",
       "id                   0\n",
       "tipo_propiedad       0\n",
       "prop_subtipo         0\n",
       "localidad            0\n",
       "provincia            0\n",
       "precio_usd           0\n",
       "superficie_m2        1\n",
       "usd_m2               1\n",
       "ambientes         7325\n",
       "expensas           372\n",
       "descripcion          0\n",
       "titulo               0\n",
       "geometry             0\n",
       "dtype: int64"
      ]
     },
     "execution_count": 15,
     "metadata": {},
     "output_type": "execute_result"
    }
   ],
   "source": [
    "df.isnull().sum()"
   ]
  },
  {
   "cell_type": "markdown",
   "metadata": {},
   "source": [
    "Llenamos las faltantes con la media por barrio unicamente:"
   ]
  },
  {
   "cell_type": "code",
   "execution_count": 16,
   "metadata": {},
   "outputs": [],
   "source": [
    "df.expensas.fillna(df.groupby('localidad')['expensas'].transform('mean'), inplace=True)"
   ]
  },
  {
   "cell_type": "code",
   "execution_count": 17,
   "metadata": {},
   "outputs": [
    {
     "data": {
      "text/plain": [
       "Unnamed: 0           0\n",
       "id                   0\n",
       "tipo_propiedad       0\n",
       "prop_subtipo         0\n",
       "localidad            0\n",
       "provincia            0\n",
       "precio_usd           0\n",
       "superficie_m2        1\n",
       "usd_m2               1\n",
       "ambientes         7325\n",
       "expensas             4\n",
       "descripcion          0\n",
       "titulo               0\n",
       "geometry             0\n",
       "dtype: int64"
      ]
     },
     "execution_count": 17,
     "metadata": {},
     "output_type": "execute_result"
    }
   ],
   "source": [
    "df.isnull().sum()"
   ]
  },
  {
   "cell_type": "code",
   "execution_count": 18,
   "metadata": {},
   "outputs": [
    {
     "data": {
      "text/html": [
       "<div>\n",
       "<style scoped>\n",
       "    .dataframe tbody tr th:only-of-type {\n",
       "        vertical-align: middle;\n",
       "    }\n",
       "\n",
       "    .dataframe tbody tr th {\n",
       "        vertical-align: top;\n",
       "    }\n",
       "\n",
       "    .dataframe thead th {\n",
       "        text-align: right;\n",
       "    }\n",
       "</style>\n",
       "<table border=\"1\" class=\"dataframe\">\n",
       "  <thead>\n",
       "    <tr style=\"text-align: right;\">\n",
       "      <th></th>\n",
       "      <th>Unnamed: 0</th>\n",
       "      <th>id</th>\n",
       "      <th>tipo_propiedad</th>\n",
       "      <th>prop_subtipo</th>\n",
       "      <th>localidad</th>\n",
       "      <th>provincia</th>\n",
       "      <th>precio_usd</th>\n",
       "      <th>superficie_m2</th>\n",
       "      <th>usd_m2</th>\n",
       "      <th>ambientes</th>\n",
       "      <th>expensas</th>\n",
       "      <th>descripcion</th>\n",
       "      <th>titulo</th>\n",
       "      <th>geometry</th>\n",
       "    </tr>\n",
       "  </thead>\n",
       "  <tbody>\n",
       "    <tr>\n",
       "      <th>2763</th>\n",
       "      <td>2763</td>\n",
       "      <td>15ki9</td>\n",
       "      <td>apartment</td>\n",
       "      <td>apartment</td>\n",
       "      <td>Catalinas</td>\n",
       "      <td>Ciudad Autónoma de Buenos Aires</td>\n",
       "      <td>95000.0</td>\n",
       "      <td>48.0</td>\n",
       "      <td>1979.166667</td>\n",
       "      <td>1.0</td>\n",
       "      <td>NaN</td>\n",
       "      <td>Edificio racionalista, Excelente departamento ...</td>\n",
       "      <td>U$D 95.000 - Departamento en Venta - Reconquis...</td>\n",
       "      <td>POINT (-58.38155746 -34.60368347)</td>\n",
       "    </tr>\n",
       "    <tr>\n",
       "      <th>5495</th>\n",
       "      <td>5495</td>\n",
       "      <td>15qkd</td>\n",
       "      <td>apartment</td>\n",
       "      <td>apartment_big</td>\n",
       "      <td>Catalinas</td>\n",
       "      <td>Ciudad Autónoma de Buenos Aires</td>\n",
       "      <td>550000.0</td>\n",
       "      <td>300.0</td>\n",
       "      <td>1833.333333</td>\n",
       "      <td>5.0</td>\n",
       "      <td>NaN</td>\n",
       "      <td>Amplia planta en excelente estado conservando ...</td>\n",
       "      <td>Excelente departamento antiguo en venta recicl...</td>\n",
       "      <td>POINT (-58.376624255 -34.6000039032)</td>\n",
       "    </tr>\n",
       "    <tr>\n",
       "      <th>63654</th>\n",
       "      <td>63654</td>\n",
       "      <td>1a96l</td>\n",
       "      <td>apartment</td>\n",
       "      <td>apartment</td>\n",
       "      <td>Catalinas</td>\n",
       "      <td>Ciudad Autónoma de Buenos Aires</td>\n",
       "      <td>322500.0</td>\n",
       "      <td>44.0</td>\n",
       "      <td>7329.545455</td>\n",
       "      <td>2.0</td>\n",
       "      <td>NaN</td>\n",
       "      <td>EXCELENTE DOS AMBIENTES MUY LUMINOSO ORIENTACI...</td>\n",
       "      <td>LINDO 2 AMB. TODO A NUEVO. APTO. PROFESIONAL</td>\n",
       "      <td>POINT (-58.3728676 -34.5976219)</td>\n",
       "    </tr>\n",
       "    <tr>\n",
       "      <th>73605</th>\n",
       "      <td>73605</td>\n",
       "      <td>1anwu</td>\n",
       "      <td>store</td>\n",
       "      <td>store</td>\n",
       "      <td>Catalinas</td>\n",
       "      <td>Ciudad Autónoma de Buenos Aires</td>\n",
       "      <td>350000.0</td>\n",
       "      <td>115.0</td>\n",
       "      <td>3043.478261</td>\n",
       "      <td>NaN</td>\n",
       "      <td>NaN</td>\n",
       "      <td>\"VENTA\" O \"ALQUILER\". PARA VER FOTOS Y PLANO ...</td>\n",
       "      <td>Excelente Local situado en plena zona turística.</td>\n",
       "      <td>POINT (-58.376913 -34.600861)</td>\n",
       "    </tr>\n",
       "  </tbody>\n",
       "</table>\n",
       "</div>"
      ],
      "text/plain": [
       "       Unnamed: 0     id tipo_propiedad   prop_subtipo  localidad  \\\n",
       "2763         2763  15ki9      apartment      apartment  Catalinas   \n",
       "5495         5495  15qkd      apartment  apartment_big  Catalinas   \n",
       "63654       63654  1a96l      apartment      apartment  Catalinas   \n",
       "73605       73605  1anwu          store          store  Catalinas   \n",
       "\n",
       "                             provincia  precio_usd  superficie_m2  \\\n",
       "2763   Ciudad Autónoma de Buenos Aires     95000.0           48.0   \n",
       "5495   Ciudad Autónoma de Buenos Aires    550000.0          300.0   \n",
       "63654  Ciudad Autónoma de Buenos Aires    322500.0           44.0   \n",
       "73605  Ciudad Autónoma de Buenos Aires    350000.0          115.0   \n",
       "\n",
       "            usd_m2  ambientes  expensas  \\\n",
       "2763   1979.166667        1.0       NaN   \n",
       "5495   1833.333333        5.0       NaN   \n",
       "63654  7329.545455        2.0       NaN   \n",
       "73605  3043.478261        NaN       NaN   \n",
       "\n",
       "                                             descripcion  \\\n",
       "2763   Edificio racionalista, Excelente departamento ...   \n",
       "5495   Amplia planta en excelente estado conservando ...   \n",
       "63654  EXCELENTE DOS AMBIENTES MUY LUMINOSO ORIENTACI...   \n",
       "73605   \"VENTA\" O \"ALQUILER\". PARA VER FOTOS Y PLANO ...   \n",
       "\n",
       "                                                  titulo  \\\n",
       "2763   U$D 95.000 - Departamento en Venta - Reconquis...   \n",
       "5495   Excelente departamento antiguo en venta recicl...   \n",
       "63654       LINDO 2 AMB. TODO A NUEVO. APTO. PROFESIONAL   \n",
       "73605   Excelente Local situado en plena zona turística.   \n",
       "\n",
       "                                   geometry  \n",
       "2763      POINT (-58.38155746 -34.60368347)  \n",
       "5495   POINT (-58.376624255 -34.6000039032)  \n",
       "63654       POINT (-58.3728676 -34.5976219)  \n",
       "73605         POINT (-58.376913 -34.600861)  "
      ]
     },
     "execution_count": 18,
     "metadata": {},
     "output_type": "execute_result"
    }
   ],
   "source": [
    "df[df.expensas.isnull()]"
   ]
  },
  {
   "cell_type": "code",
   "execution_count": 19,
   "metadata": {},
   "outputs": [
    {
     "data": {
      "text/html": [
       "<div>\n",
       "<style scoped>\n",
       "    .dataframe tbody tr th:only-of-type {\n",
       "        vertical-align: middle;\n",
       "    }\n",
       "\n",
       "    .dataframe tbody tr th {\n",
       "        vertical-align: top;\n",
       "    }\n",
       "\n",
       "    .dataframe thead th {\n",
       "        text-align: right;\n",
       "    }\n",
       "</style>\n",
       "<table border=\"1\" class=\"dataframe\">\n",
       "  <thead>\n",
       "    <tr style=\"text-align: right;\">\n",
       "      <th></th>\n",
       "      <th>Unnamed: 0</th>\n",
       "      <th>id</th>\n",
       "      <th>tipo_propiedad</th>\n",
       "      <th>prop_subtipo</th>\n",
       "      <th>localidad</th>\n",
       "      <th>provincia</th>\n",
       "      <th>precio_usd</th>\n",
       "      <th>superficie_m2</th>\n",
       "      <th>usd_m2</th>\n",
       "      <th>ambientes</th>\n",
       "      <th>expensas</th>\n",
       "      <th>descripcion</th>\n",
       "      <th>titulo</th>\n",
       "      <th>geometry</th>\n",
       "    </tr>\n",
       "  </thead>\n",
       "  <tbody>\n",
       "    <tr>\n",
       "      <th>2763</th>\n",
       "      <td>2763</td>\n",
       "      <td>15ki9</td>\n",
       "      <td>apartment</td>\n",
       "      <td>apartment</td>\n",
       "      <td>Catalinas</td>\n",
       "      <td>Ciudad Autónoma de Buenos Aires</td>\n",
       "      <td>95000.0</td>\n",
       "      <td>48.0</td>\n",
       "      <td>1979.166667</td>\n",
       "      <td>1.0</td>\n",
       "      <td>NaN</td>\n",
       "      <td>Edificio racionalista, Excelente departamento ...</td>\n",
       "      <td>U$D 95.000 - Departamento en Venta - Reconquis...</td>\n",
       "      <td>POINT (-58.38155746 -34.60368347)</td>\n",
       "    </tr>\n",
       "    <tr>\n",
       "      <th>5495</th>\n",
       "      <td>5495</td>\n",
       "      <td>15qkd</td>\n",
       "      <td>apartment</td>\n",
       "      <td>apartment_big</td>\n",
       "      <td>Catalinas</td>\n",
       "      <td>Ciudad Autónoma de Buenos Aires</td>\n",
       "      <td>550000.0</td>\n",
       "      <td>300.0</td>\n",
       "      <td>1833.333333</td>\n",
       "      <td>5.0</td>\n",
       "      <td>NaN</td>\n",
       "      <td>Amplia planta en excelente estado conservando ...</td>\n",
       "      <td>Excelente departamento antiguo en venta recicl...</td>\n",
       "      <td>POINT (-58.376624255 -34.6000039032)</td>\n",
       "    </tr>\n",
       "    <tr>\n",
       "      <th>63654</th>\n",
       "      <td>63654</td>\n",
       "      <td>1a96l</td>\n",
       "      <td>apartment</td>\n",
       "      <td>apartment</td>\n",
       "      <td>Catalinas</td>\n",
       "      <td>Ciudad Autónoma de Buenos Aires</td>\n",
       "      <td>322500.0</td>\n",
       "      <td>44.0</td>\n",
       "      <td>7329.545455</td>\n",
       "      <td>2.0</td>\n",
       "      <td>NaN</td>\n",
       "      <td>EXCELENTE DOS AMBIENTES MUY LUMINOSO ORIENTACI...</td>\n",
       "      <td>LINDO 2 AMB. TODO A NUEVO. APTO. PROFESIONAL</td>\n",
       "      <td>POINT (-58.3728676 -34.5976219)</td>\n",
       "    </tr>\n",
       "    <tr>\n",
       "      <th>73605</th>\n",
       "      <td>73605</td>\n",
       "      <td>1anwu</td>\n",
       "      <td>store</td>\n",
       "      <td>store</td>\n",
       "      <td>Catalinas</td>\n",
       "      <td>Ciudad Autónoma de Buenos Aires</td>\n",
       "      <td>350000.0</td>\n",
       "      <td>115.0</td>\n",
       "      <td>3043.478261</td>\n",
       "      <td>NaN</td>\n",
       "      <td>NaN</td>\n",
       "      <td>\"VENTA\" O \"ALQUILER\". PARA VER FOTOS Y PLANO ...</td>\n",
       "      <td>Excelente Local situado en plena zona turística.</td>\n",
       "      <td>POINT (-58.376913 -34.600861)</td>\n",
       "    </tr>\n",
       "  </tbody>\n",
       "</table>\n",
       "</div>"
      ],
      "text/plain": [
       "       Unnamed: 0     id tipo_propiedad   prop_subtipo  localidad  \\\n",
       "2763         2763  15ki9      apartment      apartment  Catalinas   \n",
       "5495         5495  15qkd      apartment  apartment_big  Catalinas   \n",
       "63654       63654  1a96l      apartment      apartment  Catalinas   \n",
       "73605       73605  1anwu          store          store  Catalinas   \n",
       "\n",
       "                             provincia  precio_usd  superficie_m2  \\\n",
       "2763   Ciudad Autónoma de Buenos Aires     95000.0           48.0   \n",
       "5495   Ciudad Autónoma de Buenos Aires    550000.0          300.0   \n",
       "63654  Ciudad Autónoma de Buenos Aires    322500.0           44.0   \n",
       "73605  Ciudad Autónoma de Buenos Aires    350000.0          115.0   \n",
       "\n",
       "            usd_m2  ambientes  expensas  \\\n",
       "2763   1979.166667        1.0       NaN   \n",
       "5495   1833.333333        5.0       NaN   \n",
       "63654  7329.545455        2.0       NaN   \n",
       "73605  3043.478261        NaN       NaN   \n",
       "\n",
       "                                             descripcion  \\\n",
       "2763   Edificio racionalista, Excelente departamento ...   \n",
       "5495   Amplia planta en excelente estado conservando ...   \n",
       "63654  EXCELENTE DOS AMBIENTES MUY LUMINOSO ORIENTACI...   \n",
       "73605   \"VENTA\" O \"ALQUILER\". PARA VER FOTOS Y PLANO ...   \n",
       "\n",
       "                                                  titulo  \\\n",
       "2763   U$D 95.000 - Departamento en Venta - Reconquis...   \n",
       "5495   Excelente departamento antiguo en venta recicl...   \n",
       "63654       LINDO 2 AMB. TODO A NUEVO. APTO. PROFESIONAL   \n",
       "73605   Excelente Local situado en plena zona turística.   \n",
       "\n",
       "                                   geometry  \n",
       "2763      POINT (-58.38155746 -34.60368347)  \n",
       "5495   POINT (-58.376624255 -34.6000039032)  \n",
       "63654       POINT (-58.3728676 -34.5976219)  \n",
       "73605         POINT (-58.376913 -34.600861)  "
      ]
     },
     "execution_count": 19,
     "metadata": {},
     "output_type": "execute_result"
    }
   ],
   "source": [
    "df[df.localidad == 'Catalinas']"
   ]
  },
  {
   "cell_type": "markdown",
   "metadata": {},
   "source": [
    "Como no hay otras propiedades en Catalinas para usar de parámetro, llenamos por tipo de propiedad en general:"
   ]
  },
  {
   "cell_type": "code",
   "execution_count": 20,
   "metadata": {},
   "outputs": [],
   "source": [
    "df.expensas.fillna(df.groupby('tipo_propiedad')['expensas'].transform('mean'), inplace=True)"
   ]
  },
  {
   "cell_type": "code",
   "execution_count": 21,
   "metadata": {},
   "outputs": [
    {
     "data": {
      "text/plain": [
       "Unnamed: 0           0\n",
       "id                   0\n",
       "tipo_propiedad       0\n",
       "prop_subtipo         0\n",
       "localidad            0\n",
       "provincia            0\n",
       "precio_usd           0\n",
       "superficie_m2        1\n",
       "usd_m2               1\n",
       "ambientes         7325\n",
       "expensas             0\n",
       "descripcion          0\n",
       "titulo               0\n",
       "geometry             0\n",
       "dtype: int64"
      ]
     },
     "execution_count": 21,
     "metadata": {},
     "output_type": "execute_result"
    }
   ],
   "source": [
    "df.isnull().sum()"
   ]
  },
  {
   "cell_type": "markdown",
   "metadata": {},
   "source": [
    "Para las faltantes de ambientes, vemos la distribución:"
   ]
  },
  {
   "cell_type": "code",
   "execution_count": 22,
   "metadata": {},
   "outputs": [
    {
     "data": {
      "image/png": "[encoded data removed]",
      "text/plain": [
       "<Figure size 432x288 with 1 Axes>"
      ]
     },
     "metadata": {
      "needs_background": "light"
     },
     "output_type": "display_data"
    }
   ],
   "source": [
    "import numpy as np\n",
    "import matplotlib.pyplot as plt\n",
    "%matplotlib inline\n",
    "import seaborn as sns\n",
    "\n",
    "sns.distplot(df['ambientes'],kde=False, color='Red', bins=20)\n",
    "plt.title('Distribución de ambientes', fontsize=14)\n",
    "plt.xlabel('Ambientes', fontsize=12)\n",
    "plt.ylabel('Frecuencia', fontsize=12)\n",
    "plt.savefig('Histograma seaborn')\n",
    "\n",
    "import math\n",
    "# Set plotting style\n",
    "sns.set_style('whitegrid')\n",
    "\n",
    "# Get current axis on current figure\n",
    "ax = plt.gca()\n",
    "\n",
    "# ylim max value to be set\n",
    "y_max = df['ambientes'].value_counts().max() \n",
    "ax.set_ylim([0, y_max])\n",
    "\n",
    "# Iterate through the list of axes' patches\n",
    "for p in ax.patches:\n",
    "    ax.text(p.get_x() + p.get_width(), p.get_height(), '%d' % int(p.get_height()), \n",
    "            fontsize=12, color='black', ha='center', va='bottom')\n",
    "\n",
    "plt.show()\n"
   ]
  },
  {
   "cell_type": "code",
   "execution_count": 23,
   "metadata": {
    "scrolled": true
   },
   "outputs": [
    {
     "data": {
      "text/plain": [
       "(316, 14)"
      ]
     },
     "execution_count": 23,
     "metadata": {},
     "output_type": "execute_result"
    }
   ],
   "source": [
    "df[df.ambientes > 6].shape"
   ]
  },
  {
   "cell_type": "markdown",
   "metadata": {},
   "source": [
    "### Decisión: nuestro modelo explicará la variación del precio por m2 de propiedades de hasta 6 ambientes en la Ciudad de Buenos Aires\n",
    "\n",
    "Tiramos los valores que no nos son útiles."
   ]
  },
  {
   "cell_type": "code",
   "execution_count": 24,
   "metadata": {},
   "outputs": [],
   "source": [
    "df = df[~(df.ambientes > 6)]"
   ]
  },
  {
   "cell_type": "code",
   "execution_count": 25,
   "metadata": {},
   "outputs": [
    {
     "data": {
      "text/plain": [
       "(32000, 14)"
      ]
     },
     "execution_count": 25,
     "metadata": {},
     "output_type": "execute_result"
    }
   ],
   "source": [
    "df.shape"
   ]
  },
  {
   "cell_type": "markdown",
   "metadata": {},
   "source": [
    "Ahora podemos rellenar el dataset con los ambientes por media, teniendo en cuenta el subtipo de propiedad. \n",
    "Más adelante se analizará si suma o resta al modelo involucrar la variable ambientes, ya que muchos de sus datos serán estimados por la media."
   ]
  },
  {
   "cell_type": "code",
   "execution_count": 26,
   "metadata": {},
   "outputs": [],
   "source": [
    "df.ambientes.fillna(df.groupby(['prop_subtipo'])['ambientes'].transform('mean'), inplace=True)"
   ]
  },
  {
   "cell_type": "code",
   "execution_count": 27,
   "metadata": {},
   "outputs": [
    {
     "data": {
      "text/plain": [
       "Unnamed: 0        0\n",
       "id                0\n",
       "tipo_propiedad    0\n",
       "prop_subtipo      0\n",
       "localidad         0\n",
       "provincia         0\n",
       "precio_usd        0\n",
       "superficie_m2     1\n",
       "usd_m2            1\n",
       "ambientes         0\n",
       "expensas          0\n",
       "descripcion       0\n",
       "titulo            0\n",
       "geometry          0\n",
       "dtype: int64"
      ]
     },
     "execution_count": 27,
     "metadata": {},
     "output_type": "execute_result"
    }
   ],
   "source": [
    "df.isnull().sum()"
   ]
  },
  {
   "cell_type": "markdown",
   "metadata": {},
   "source": [
    "Quedó un dato vacío en Y, vemos cuál es y lo eliminamos."
   ]
  },
  {
   "cell_type": "code",
   "execution_count": 28,
   "metadata": {},
   "outputs": [
    {
     "data": {
      "text/html": [
       "<div>\n",
       "<style scoped>\n",
       "    .dataframe tbody tr th:only-of-type {\n",
       "        vertical-align: middle;\n",
       "    }\n",
       "\n",
       "    .dataframe tbody tr th {\n",
       "        vertical-align: top;\n",
       "    }\n",
       "\n",
       "    .dataframe thead th {\n",
       "        text-align: right;\n",
       "    }\n",
       "</style>\n",
       "<table border=\"1\" class=\"dataframe\">\n",
       "  <thead>\n",
       "    <tr style=\"text-align: right;\">\n",
       "      <th></th>\n",
       "      <th>Unnamed: 0</th>\n",
       "      <th>id</th>\n",
       "      <th>tipo_propiedad</th>\n",
       "      <th>prop_subtipo</th>\n",
       "      <th>localidad</th>\n",
       "      <th>provincia</th>\n",
       "      <th>precio_usd</th>\n",
       "      <th>superficie_m2</th>\n",
       "      <th>usd_m2</th>\n",
       "      <th>ambientes</th>\n",
       "      <th>expensas</th>\n",
       "      <th>descripcion</th>\n",
       "      <th>titulo</th>\n",
       "      <th>geometry</th>\n",
       "    </tr>\n",
       "  </thead>\n",
       "  <tbody>\n",
       "    <tr>\n",
       "      <th>24895</th>\n",
       "      <td>24895</td>\n",
       "      <td>17p8s</td>\n",
       "      <td>house</td>\n",
       "      <td>house</td>\n",
       "      <td>Congreso</td>\n",
       "      <td>Ciudad Autónoma de Buenos Aires</td>\n",
       "      <td>63000.0</td>\n",
       "      <td>NaN</td>\n",
       "      <td>NaN</td>\n",
       "      <td>1.0</td>\n",
       "      <td>0.0</td>\n",
       "      <td>1 AMB DIVISIBLE, SE VENDE TODO EQUIPADO, BAO C...</td>\n",
       "      <td>1004</td>\n",
       "      <td>POINT (-58.391032 -34.610544)</td>\n",
       "    </tr>\n",
       "  </tbody>\n",
       "</table>\n",
       "</div>"
      ],
      "text/plain": [
       "       Unnamed: 0     id tipo_propiedad prop_subtipo localidad  \\\n",
       "24895       24895  17p8s          house        house  Congreso   \n",
       "\n",
       "                             provincia  precio_usd  superficie_m2  usd_m2  \\\n",
       "24895  Ciudad Autónoma de Buenos Aires     63000.0            NaN     NaN   \n",
       "\n",
       "       ambientes  expensas                                        descripcion  \\\n",
       "24895        1.0       0.0  1 AMB DIVISIBLE, SE VENDE TODO EQUIPADO, BAO C...   \n",
       "\n",
       "      titulo                       geometry  \n",
       "24895   1004  POINT (-58.391032 -34.610544)  "
      ]
     },
     "execution_count": 28,
     "metadata": {},
     "output_type": "execute_result"
    }
   ],
   "source": [
    "df[df.usd_m2.isna()]"
   ]
  },
  {
   "cell_type": "code",
   "execution_count": 29,
   "metadata": {},
   "outputs": [],
   "source": [
    "df.dropna(inplace=True)"
   ]
  },
  {
   "cell_type": "markdown",
   "metadata": {},
   "source": [
    "## Agregamos variables categóricas 'cochera' y 'amenities'"
   ]
  },
  {
   "cell_type": "code",
   "execution_count": null,
   "metadata": {},
   "outputs": [],
   "source": []
  },
  {
   "cell_type": "code",
   "execution_count": null,
   "metadata": {},
   "outputs": [],
   "source": []
  },
  {
   "cell_type": "code",
   "execution_count": null,
   "metadata": {},
   "outputs": [],
   "source": []
  },
  {
   "cell_type": "code",
   "execution_count": null,
   "metadata": {},
   "outputs": [],
   "source": []
  },
  {
   "cell_type": "code",
   "execution_count": null,
   "metadata": {},
   "outputs": [],
   "source": []
  },
  {
   "cell_type": "code",
   "execution_count": null,
   "metadata": {},
   "outputs": [],
   "source": []
  },
  {
   "cell_type": "markdown",
   "metadata": {},
   "source": [
    "## Modificamos la variable 'geometry' para que se pueda usar en la predicción"
   ]
  },
  {
   "cell_type": "code",
   "execution_count": null,
   "metadata": {},
   "outputs": [],
   "source": []
  },
  {
   "cell_type": "code",
   "execution_count": null,
   "metadata": {},
   "outputs": [],
   "source": []
  },
  {
   "cell_type": "code",
   "execution_count": null,
   "metadata": {},
   "outputs": [],
   "source": []
  },
  {
   "cell_type": "code",
   "execution_count": null,
   "metadata": {},
   "outputs": [],
   "source": []
  },
  {
   "cell_type": "code",
   "execution_count": null,
   "metadata": {},
   "outputs": [],
   "source": []
  },
  {
   "cell_type": "code",
   "execution_count": null,
   "metadata": {},
   "outputs": [],
   "source": []
  },
  {
   "cell_type": "markdown",
   "metadata": {},
   "source": [
    "Finalmente, eliminamos la columna unnamed e id ya que no están relacionadas con el precio y no aportan información al modelo"
   ]
  },
  {
   "cell_type": "code",
   "execution_count": 30,
   "metadata": {},
   "outputs": [],
   "source": [
    "df = df[['tipo_propiedad', 'prop_subtipo', 'localidad',\n",
    "       'provincia', 'precio_usd', 'superficie_m2', 'usd_m2', 'ambientes',\n",
    "       'expensas', 'descripcion', 'titulo', 'geometry']]"
   ]
  },
  {
   "cell_type": "markdown",
   "metadata": {},
   "source": [
    "## 2. Visualización: Mapa de correlaciones"
   ]
  },
  {
   "cell_type": "markdown",
   "metadata": {},
   "source": [
    "Con el dataset listo, realizamos un mapa de correlaciones para visualizar la importancia de cada variable para el modelo a construir:"
   ]
  },
  {
   "cell_type": "code",
   "execution_count": 31,
   "metadata": {},
   "outputs": [
    {
     "data": {
      "text/plain": [
       "(array([0.5, 1.5, 2.5, 3.5, 4.5]), <a list of 5 Text yticklabel objects>)"
      ]
     },
     "execution_count": 31,
     "metadata": {},
     "output_type": "execute_result"
    },
    {
     "data": {
      "image/png": "[encoded data removed]",
      "text/plain": [
       "<Figure size 1080x720 with 2 Axes>"
      ]
     },
     "metadata": {},
     "output_type": "display_data"
    }
   ],
   "source": [
    "corr = df.corr()\n",
    "\n",
    "mask = np.zeros(corr.shape, dtype=bool)\n",
    "mask[np.triu_indices(len(mask))] = True\n",
    "\n",
    "plt.figure(figsize=(15,10))\n",
    "ax = sns.heatmap(\n",
    "    corr, annot=True, \n",
    "    vmin=-1, vmax=1, center=0,\n",
    "    square=True, linewidths=1, mask=mask, cmap = 'coolwarm'\n",
    ")\n",
    "\n",
    "\n",
    "plt.title('Correlation map', size = 25)\n",
    "plt.xticks(size =15, rotation=45)\n",
    "plt.yticks(size =15,rotation=45)\n"
   ]
  },
  {
   "cell_type": "markdown",
   "metadata": {},
   "source": [
    "## 3. Preselección de variables para el modelo"
   ]
  },
  {
   "cell_type": "markdown",
   "metadata": {},
   "source": [
    "Vemos la poca correlación que tiene expesnas, por lo que es en principio poco útil para el modelo, por lo que, sumado a que no era una variable que viniese muy completa, se la dejará de lado para la creación del modelo.\n",
    "\n",
    "Notamos además una altísima correlación entre el precio de la propiedad y el precio por m2, lo que es esperado ya que la primera revela información de la segunda. Por esto tampoco se la incluirá en el modelo.\n",
    "\n",
    "Las variables restantes parecen ser de gran importancia.\n"
   ]
  },
  {
   "cell_type": "markdown",
   "metadata": {},
   "source": [
    "## 4. Creación de dummies para variables categóricas"
   ]
  },
  {
   "cell_type": "markdown",
   "metadata": {},
   "source": [
    "Usaremos el subtipo de propiedad generado y la localidad."
   ]
  },
  {
   "cell_type": "code",
   "execution_count": 32,
   "metadata": {
    "scrolled": true
   },
   "outputs": [
    {
     "data": {
      "text/html": [
       "<div>\n",
       "<style scoped>\n",
       "    .dataframe tbody tr th:only-of-type {\n",
       "        vertical-align: middle;\n",
       "    }\n",
       "\n",
       "    .dataframe tbody tr th {\n",
       "        vertical-align: top;\n",
       "    }\n",
       "\n",
       "    .dataframe thead th {\n",
       "        text-align: right;\n",
       "    }\n",
       "</style>\n",
       "<table border=\"1\" class=\"dataframe\">\n",
       "  <thead>\n",
       "    <tr style=\"text-align: right;\">\n",
       "      <th></th>\n",
       "      <th>prop_subtipo_PH_big</th>\n",
       "      <th>prop_subtipo_PH_xl</th>\n",
       "      <th>prop_subtipo_apartment</th>\n",
       "      <th>prop_subtipo_apartment_big</th>\n",
       "      <th>prop_subtipo_apartment_xl</th>\n",
       "      <th>prop_subtipo_house</th>\n",
       "      <th>prop_subtipo_house_big</th>\n",
       "      <th>prop_subtipo_house_xl</th>\n",
       "      <th>prop_subtipo_store</th>\n",
       "      <th>prop_subtipo_store_big</th>\n",
       "      <th>...</th>\n",
       "      <th>localidad_Villa Lugano</th>\n",
       "      <th>localidad_Villa Luro</th>\n",
       "      <th>localidad_Villa Ortuzar</th>\n",
       "      <th>localidad_Villa Pueyrredón</th>\n",
       "      <th>localidad_Villa Real</th>\n",
       "      <th>localidad_Villa Riachuelo</th>\n",
       "      <th>localidad_Villa Santa Rita</th>\n",
       "      <th>localidad_Villa Soldati</th>\n",
       "      <th>localidad_Villa Urquiza</th>\n",
       "      <th>localidad_Villa del Parque</th>\n",
       "    </tr>\n",
       "  </thead>\n",
       "  <tbody>\n",
       "    <tr>\n",
       "      <th>0</th>\n",
       "      <td>0</td>\n",
       "      <td>0</td>\n",
       "      <td>0</td>\n",
       "      <td>0</td>\n",
       "      <td>0</td>\n",
       "      <td>0</td>\n",
       "      <td>0</td>\n",
       "      <td>0</td>\n",
       "      <td>0</td>\n",
       "      <td>0</td>\n",
       "      <td>...</td>\n",
       "      <td>0</td>\n",
       "      <td>0</td>\n",
       "      <td>0</td>\n",
       "      <td>0</td>\n",
       "      <td>0</td>\n",
       "      <td>0</td>\n",
       "      <td>0</td>\n",
       "      <td>0</td>\n",
       "      <td>0</td>\n",
       "      <td>0</td>\n",
       "    </tr>\n",
       "    <tr>\n",
       "      <th>2</th>\n",
       "      <td>0</td>\n",
       "      <td>0</td>\n",
       "      <td>1</td>\n",
       "      <td>0</td>\n",
       "      <td>0</td>\n",
       "      <td>0</td>\n",
       "      <td>0</td>\n",
       "      <td>0</td>\n",
       "      <td>0</td>\n",
       "      <td>0</td>\n",
       "      <td>...</td>\n",
       "      <td>0</td>\n",
       "      <td>0</td>\n",
       "      <td>0</td>\n",
       "      <td>0</td>\n",
       "      <td>0</td>\n",
       "      <td>0</td>\n",
       "      <td>0</td>\n",
       "      <td>0</td>\n",
       "      <td>0</td>\n",
       "      <td>0</td>\n",
       "    </tr>\n",
       "  </tbody>\n",
       "</table>\n",
       "<p>2 rows × 72 columns</p>\n",
       "</div>"
      ],
      "text/plain": [
       "   prop_subtipo_PH_big  prop_subtipo_PH_xl  prop_subtipo_apartment  \\\n",
       "0                    0                   0                       0   \n",
       "2                    0                   0                       1   \n",
       "\n",
       "   prop_subtipo_apartment_big  prop_subtipo_apartment_xl  prop_subtipo_house  \\\n",
       "0                           0                          0                   0   \n",
       "2                           0                          0                   0   \n",
       "\n",
       "   prop_subtipo_house_big  prop_subtipo_house_xl  prop_subtipo_store  \\\n",
       "0                       0                      0                   0   \n",
       "2                       0                      0                   0   \n",
       "\n",
       "   prop_subtipo_store_big  ...  localidad_Villa Lugano  localidad_Villa Luro  \\\n",
       "0                       0  ...                       0                     0   \n",
       "2                       0  ...                       0                     0   \n",
       "\n",
       "   localidad_Villa Ortuzar  localidad_Villa Pueyrredón  localidad_Villa Real  \\\n",
       "0                        0                           0                     0   \n",
       "2                        0                           0                     0   \n",
       "\n",
       "   localidad_Villa Riachuelo  localidad_Villa Santa Rita  \\\n",
       "0                          0                           0   \n",
       "2                          0                           0   \n",
       "\n",
       "   localidad_Villa Soldati  localidad_Villa Urquiza  \\\n",
       "0                        0                        0   \n",
       "2                        0                        0   \n",
       "\n",
       "   localidad_Villa del Parque  \n",
       "0                           0  \n",
       "2                           0  \n",
       "\n",
       "[2 rows x 72 columns]"
      ]
     },
     "execution_count": 32,
     "metadata": {},
     "output_type": "execute_result"
    }
   ],
   "source": [
    "dummies = pd.get_dummies(df[['prop_subtipo', 'localidad']], drop_first=True)\n",
    "dummies.head(2)"
   ]
  },
  {
   "cell_type": "code",
   "execution_count": 33,
   "metadata": {},
   "outputs": [],
   "source": [
    "df = pd.concat([df, dummies], axis='columns')"
   ]
  },
  {
   "cell_type": "code",
   "execution_count": 34,
   "metadata": {},
   "outputs": [
    {
     "data": {
      "text/plain": [
       "Index(['tipo_propiedad', 'prop_subtipo', 'localidad', 'provincia',\n",
       "       'precio_usd', 'superficie_m2', 'usd_m2', 'ambientes', 'expensas',\n",
       "       'descripcion', 'titulo', 'geometry', 'prop_subtipo_PH_big',\n",
       "       'prop_subtipo_PH_xl', 'prop_subtipo_apartment',\n",
       "       'prop_subtipo_apartment_big', 'prop_subtipo_apartment_xl',\n",
       "       'prop_subtipo_house', 'prop_subtipo_house_big', 'prop_subtipo_house_xl',\n",
       "       'prop_subtipo_store', 'prop_subtipo_store_big', 'prop_subtipo_store_xl',\n",
       "       'localidad_Agronomía', 'localidad_Almagro', 'localidad_Balvanera',\n",
       "       'localidad_Barracas', 'localidad_Barrio Norte', 'localidad_Belgrano',\n",
       "       'localidad_Boca', 'localidad_Boedo', 'localidad_Caballito',\n",
       "       'localidad_Capital Federal', 'localidad_Catalinas',\n",
       "       'localidad_Centro / Microcentro', 'localidad_Chacarita',\n",
       "       'localidad_Coghlan', 'localidad_Colegiales', 'localidad_Congreso',\n",
       "       'localidad_Constitución', 'localidad_Flores', 'localidad_Floresta',\n",
       "       'localidad_Las Cañitas', 'localidad_Liniers', 'localidad_Mataderos',\n",
       "       'localidad_Monserrat', 'localidad_Monte Castro', 'localidad_Nuñez',\n",
       "       'localidad_Once', 'localidad_Palermo', 'localidad_Palermo Chico',\n",
       "       'localidad_Palermo Hollywood', 'localidad_Palermo Soho',\n",
       "       'localidad_Palermo Viejo', 'localidad_Parque Avellaneda',\n",
       "       'localidad_Parque Centenario', 'localidad_Parque Chacabuco',\n",
       "       'localidad_Parque Chas', 'localidad_Parque Patricios',\n",
       "       'localidad_Paternal', 'localidad_Pompeya', 'localidad_Puerto Madero',\n",
       "       'localidad_Recoleta', 'localidad_Retiro', 'localidad_Saavedra',\n",
       "       'localidad_San Cristobal', 'localidad_San Nicolás',\n",
       "       'localidad_San Telmo', 'localidad_Tribunales',\n",
       "       'localidad_Velez Sarsfield', 'localidad_Versalles',\n",
       "       'localidad_Villa Crespo', 'localidad_Villa Devoto',\n",
       "       'localidad_Villa General Mitre', 'localidad_Villa Lugano',\n",
       "       'localidad_Villa Luro', 'localidad_Villa Ortuzar',\n",
       "       'localidad_Villa Pueyrredón', 'localidad_Villa Real',\n",
       "       'localidad_Villa Riachuelo', 'localidad_Villa Santa Rita',\n",
       "       'localidad_Villa Soldati', 'localidad_Villa Urquiza',\n",
       "       'localidad_Villa del Parque'],\n",
       "      dtype='object')"
      ]
     },
     "execution_count": 34,
     "metadata": {},
     "output_type": "execute_result"
    }
   ],
   "source": [
    "df.columns"
   ]
  },
  {
   "cell_type": "markdown",
   "metadata": {},
   "source": [
    "Reindexamos para que quede primera la columna objetivo:]"
   ]
  },
  {
   "cell_type": "code",
   "execution_count": 35,
   "metadata": {},
   "outputs": [],
   "source": [
    "df = df[['usd_m2', 'tipo_propiedad', 'prop_subtipo', 'localidad', 'provincia',\n",
    "       'precio_usd', 'superficie_m2', 'ambientes', 'expensas',\n",
    "       'descripcion', 'titulo', 'geometry', 'prop_subtipo_PH_big',\n",
    "       'prop_subtipo_PH_xl', 'prop_subtipo_apartment',\n",
    "       'prop_subtipo_apartment_big', 'prop_subtipo_apartment_xl',\n",
    "       'prop_subtipo_house', 'prop_subtipo_house_big', 'prop_subtipo_house_xl',\n",
    "       'prop_subtipo_store', 'prop_subtipo_store_big', 'prop_subtipo_store_xl',\n",
    "       'localidad_Agronomía', 'localidad_Almagro', 'localidad_Balvanera',\n",
    "       'localidad_Barracas', 'localidad_Barrio Norte', 'localidad_Belgrano',\n",
    "       'localidad_Boca', 'localidad_Boedo', 'localidad_Caballito',\n",
    "       'localidad_Capital Federal', 'localidad_Catalinas',\n",
    "       'localidad_Centro / Microcentro', 'localidad_Chacarita',\n",
    "       'localidad_Coghlan', 'localidad_Colegiales', 'localidad_Congreso',\n",
    "       'localidad_Constitución', 'localidad_Flores', 'localidad_Floresta',\n",
    "       'localidad_Las Cañitas', 'localidad_Liniers', 'localidad_Mataderos',\n",
    "       'localidad_Monserrat', 'localidad_Monte Castro', 'localidad_Nuñez',\n",
    "       'localidad_Once', 'localidad_Palermo', 'localidad_Palermo Chico',\n",
    "       'localidad_Palermo Hollywood', 'localidad_Palermo Soho',\n",
    "       'localidad_Palermo Viejo', 'localidad_Parque Avellaneda',\n",
    "       'localidad_Parque Centenario', 'localidad_Parque Chacabuco',\n",
    "       'localidad_Parque Chas', 'localidad_Parque Patricios',\n",
    "       'localidad_Paternal', 'localidad_Pompeya', 'localidad_Puerto Madero',\n",
    "       'localidad_Recoleta', 'localidad_Retiro', 'localidad_Saavedra',\n",
    "       'localidad_San Cristobal', 'localidad_San Nicolás',\n",
    "       'localidad_San Telmo', 'localidad_Tribunales',\n",
    "       'localidad_Velez Sarsfield', 'localidad_Versalles',\n",
    "       'localidad_Villa Crespo', 'localidad_Villa Devoto',\n",
    "       'localidad_Villa General Mitre', 'localidad_Villa Lugano',\n",
    "       'localidad_Villa Luro', 'localidad_Villa Ortuzar',\n",
    "       'localidad_Villa Pueyrredón', 'localidad_Villa Real',\n",
    "       'localidad_Villa Riachuelo', 'localidad_Villa Santa Rita',\n",
    "       'localidad_Villa Soldati', 'localidad_Villa Urquiza',\n",
    "       'localidad_Villa del Parque']]"
   ]
  },
  {
   "cell_type": "code",
   "execution_count": null,
   "metadata": {},
   "outputs": [],
   "source": []
  },
  {
   "cell_type": "code",
   "execution_count": null,
   "metadata": {},
   "outputs": [],
   "source": []
  },
  {
   "cell_type": "code",
   "execution_count": null,
   "metadata": {},
   "outputs": [],
   "source": []
  },
  {
   "cell_type": "code",
   "execution_count": null,
   "metadata": {},
   "outputs": [],
   "source": []
  },
  {
   "cell_type": "code",
   "execution_count": null,
   "metadata": {},
   "outputs": [],
   "source": []
  },
  {
   "cell_type": "code",
   "execution_count": null,
   "metadata": {},
   "outputs": [],
   "source": []
  },
  {
   "cell_type": "markdown",
   "metadata": {},
   "source": [
    "Exportamos el dataframe final, listo para trabajar:"
   ]
  },
  {
   "cell_type": "code",
   "execution_count": 36,
   "metadata": {},
   "outputs": [],
   "source": [
    "df.to_csv('df_limpio2')"
   ]
  },
  {
   "cell_type": "markdown",
   "metadata": {},
   "source": [
    "# HASTA ACÁ ESTÁ EN EL ARCHIVO EXPORTADO"
   ]
  },
  {
   "cell_type": "code",
   "execution_count": null,
   "metadata": {},
   "outputs": [],
   "source": []
  },
  {
   "cell_type": "code",
   "execution_count": null,
   "metadata": {},
   "outputs": [],
   "source": []
  },
  {
   "cell_type": "code",
   "execution_count": null,
   "metadata": {},
   "outputs": [],
   "source": []
  },
  {
   "cell_type": "code",
   "execution_count": null,
   "metadata": {},
   "outputs": [],
   "source": []
  },
  {
   "cell_type": "code",
   "execution_count": 37,
   "metadata": {},
   "outputs": [],
   "source": [
    "df = pd.read_csv('df_limpio2')"
   ]
  },
  {
   "cell_type": "markdown",
   "metadata": {},
   "source": [
    "## 5. Obtención de matriz de features (X) y vector de variable explicada (y)"
   ]
  },
  {
   "cell_type": "markdown",
   "metadata": {},
   "source": [
    "Observamos las columnas de nuestro dataset actual"
   ]
  },
  {
   "cell_type": "code",
   "execution_count": 38,
   "metadata": {},
   "outputs": [
    {
     "data": {
      "text/plain": [
       "Index(['Unnamed: 0', 'usd_m2', 'tipo_propiedad', 'prop_subtipo', 'localidad',\n",
       "       'provincia', 'precio_usd', 'superficie_m2', 'ambientes', 'expensas',\n",
       "       'descripcion', 'titulo', 'geometry', 'prop_subtipo_PH_big',\n",
       "       'prop_subtipo_PH_xl', 'prop_subtipo_apartment',\n",
       "       'prop_subtipo_apartment_big', 'prop_subtipo_apartment_xl',\n",
       "       'prop_subtipo_house', 'prop_subtipo_house_big', 'prop_subtipo_house_xl',\n",
       "       'prop_subtipo_store', 'prop_subtipo_store_big', 'prop_subtipo_store_xl',\n",
       "       'localidad_Agronomía', 'localidad_Almagro', 'localidad_Balvanera',\n",
       "       'localidad_Barracas', 'localidad_Barrio Norte', 'localidad_Belgrano',\n",
       "       'localidad_Boca', 'localidad_Boedo', 'localidad_Caballito',\n",
       "       'localidad_Capital Federal', 'localidad_Catalinas',\n",
       "       'localidad_Centro / Microcentro', 'localidad_Chacarita',\n",
       "       'localidad_Coghlan', 'localidad_Colegiales', 'localidad_Congreso',\n",
       "       'localidad_Constitución', 'localidad_Flores', 'localidad_Floresta',\n",
       "       'localidad_Las Cañitas', 'localidad_Liniers', 'localidad_Mataderos',\n",
       "       'localidad_Monserrat', 'localidad_Monte Castro', 'localidad_Nuñez',\n",
       "       'localidad_Once', 'localidad_Palermo', 'localidad_Palermo Chico',\n",
       "       'localidad_Palermo Hollywood', 'localidad_Palermo Soho',\n",
       "       'localidad_Palermo Viejo', 'localidad_Parque Avellaneda',\n",
       "       'localidad_Parque Centenario', 'localidad_Parque Chacabuco',\n",
       "       'localidad_Parque Chas', 'localidad_Parque Patricios',\n",
       "       'localidad_Paternal', 'localidad_Pompeya', 'localidad_Puerto Madero',\n",
       "       'localidad_Recoleta', 'localidad_Retiro', 'localidad_Saavedra',\n",
       "       'localidad_San Cristobal', 'localidad_San Nicolás',\n",
       "       'localidad_San Telmo', 'localidad_Tribunales',\n",
       "       'localidad_Velez Sarsfield', 'localidad_Versalles',\n",
       "       'localidad_Villa Crespo', 'localidad_Villa Devoto',\n",
       "       'localidad_Villa General Mitre', 'localidad_Villa Lugano',\n",
       "       'localidad_Villa Luro', 'localidad_Villa Ortuzar',\n",
       "       'localidad_Villa Pueyrredón', 'localidad_Villa Real',\n",
       "       'localidad_Villa Riachuelo', 'localidad_Villa Santa Rita',\n",
       "       'localidad_Villa Soldati', 'localidad_Villa Urquiza',\n",
       "       'localidad_Villa del Parque'],\n",
       "      dtype='object')"
      ]
     },
     "execution_count": 38,
     "metadata": {},
     "output_type": "execute_result"
    }
   ],
   "source": [
    "df.columns"
   ]
  },
  {
   "cell_type": "markdown",
   "metadata": {},
   "source": [
    "La columna usd_m2 representa el precio por metro cuadrado en dólares. Esta va a ser nuestra variable **target**, a la que llamaremos y.\n",
    "\n",
    "Las columnas de superficie, ambientes y expensas, sumadas a las dummies correspondientes a las variables categóricas de subtipo de propiedad y localidad, son las posibles variables explicativas que nos permitiran llegar al valor de nuestra y. Estas serán nuestras **features** y estarán en la matriz X.\n"
   ]
  },
  {
   "cell_type": "code",
   "execution_count": 39,
   "metadata": {},
   "outputs": [],
   "source": [
    "y = df[['usd_m2']]\n",
    "\n",
    "X = df.drop(['Unnamed: 0', 'tipo_propiedad', 'prop_subtipo', 'localidad', 'provincia',\n",
    "             'usd_m2', 'descripcion', 'titulo', 'geometry'], axis=1)"
   ]
  },
  {
   "cell_type": "code",
   "execution_count": 40,
   "metadata": {},
   "outputs": [
    {
     "name": "stdout",
     "output_type": "stream",
     "text": [
      "Shape X: (31999, 76)\n",
      "Shape y: (31999, 1)\n",
      "Type X: <class 'pandas.core.frame.DataFrame'>\n",
      "Type y: <class 'pandas.core.frame.DataFrame'>\n"
     ]
    }
   ],
   "source": [
    "print(\"Shape X:\", X.shape)\n",
    "print(\"Shape y:\", y.shape)\n",
    "print(\"Type X:\", type(X))\n",
    "print(\"Type y:\", type(y))"
   ]
  },
  {
   "cell_type": "code",
   "execution_count": 41,
   "metadata": {
    "scrolled": true
   },
   "outputs": [
    {
     "data": {
      "text/html": [
       "<div>\n",
       "<style scoped>\n",
       "    .dataframe tbody tr th:only-of-type {\n",
       "        vertical-align: middle;\n",
       "    }\n",
       "\n",
       "    .dataframe tbody tr th {\n",
       "        vertical-align: top;\n",
       "    }\n",
       "\n",
       "    .dataframe thead th {\n",
       "        text-align: right;\n",
       "    }\n",
       "</style>\n",
       "<table border=\"1\" class=\"dataframe\">\n",
       "  <thead>\n",
       "    <tr style=\"text-align: right;\">\n",
       "      <th></th>\n",
       "      <th>precio_usd</th>\n",
       "      <th>superficie_m2</th>\n",
       "      <th>ambientes</th>\n",
       "      <th>expensas</th>\n",
       "      <th>prop_subtipo_PH_big</th>\n",
       "      <th>prop_subtipo_PH_xl</th>\n",
       "      <th>prop_subtipo_apartment</th>\n",
       "      <th>prop_subtipo_apartment_big</th>\n",
       "      <th>prop_subtipo_apartment_xl</th>\n",
       "      <th>prop_subtipo_house</th>\n",
       "      <th>...</th>\n",
       "      <th>localidad_Villa Lugano</th>\n",
       "      <th>localidad_Villa Luro</th>\n",
       "      <th>localidad_Villa Ortuzar</th>\n",
       "      <th>localidad_Villa Pueyrredón</th>\n",
       "      <th>localidad_Villa Real</th>\n",
       "      <th>localidad_Villa Riachuelo</th>\n",
       "      <th>localidad_Villa Santa Rita</th>\n",
       "      <th>localidad_Villa Soldati</th>\n",
       "      <th>localidad_Villa Urquiza</th>\n",
       "      <th>localidad_Villa del Parque</th>\n",
       "    </tr>\n",
       "  </thead>\n",
       "  <tbody>\n",
       "    <tr>\n",
       "      <th>0</th>\n",
       "      <td>62000.000000</td>\n",
       "      <td>55.000000</td>\n",
       "      <td>2.000000</td>\n",
       "      <td>394.444444</td>\n",
       "      <td>0</td>\n",
       "      <td>0</td>\n",
       "      <td>0</td>\n",
       "      <td>0</td>\n",
       "      <td>0</td>\n",
       "      <td>0</td>\n",
       "      <td>...</td>\n",
       "      <td>0</td>\n",
       "      <td>0</td>\n",
       "      <td>0</td>\n",
       "      <td>0</td>\n",
       "      <td>0</td>\n",
       "      <td>0</td>\n",
       "      <td>0</td>\n",
       "      <td>0</td>\n",
       "      <td>0</td>\n",
       "      <td>0</td>\n",
       "    </tr>\n",
       "    <tr>\n",
       "      <th>1</th>\n",
       "      <td>72000.000000</td>\n",
       "      <td>55.000000</td>\n",
       "      <td>2.000000</td>\n",
       "      <td>1106.250000</td>\n",
       "      <td>0</td>\n",
       "      <td>0</td>\n",
       "      <td>1</td>\n",
       "      <td>0</td>\n",
       "      <td>0</td>\n",
       "      <td>0</td>\n",
       "      <td>...</td>\n",
       "      <td>0</td>\n",
       "      <td>0</td>\n",
       "      <td>0</td>\n",
       "      <td>0</td>\n",
       "      <td>0</td>\n",
       "      <td>0</td>\n",
       "      <td>0</td>\n",
       "      <td>0</td>\n",
       "      <td>0</td>\n",
       "      <td>0</td>\n",
       "    </tr>\n",
       "    <tr>\n",
       "      <th>2</th>\n",
       "      <td>95000.000000</td>\n",
       "      <td>99.871429</td>\n",
       "      <td>3.000000</td>\n",
       "      <td>475.166667</td>\n",
       "      <td>0</td>\n",
       "      <td>0</td>\n",
       "      <td>0</td>\n",
       "      <td>0</td>\n",
       "      <td>0</td>\n",
       "      <td>0</td>\n",
       "      <td>...</td>\n",
       "      <td>0</td>\n",
       "      <td>0</td>\n",
       "      <td>0</td>\n",
       "      <td>0</td>\n",
       "      <td>0</td>\n",
       "      <td>0</td>\n",
       "      <td>0</td>\n",
       "      <td>0</td>\n",
       "      <td>0</td>\n",
       "      <td>0</td>\n",
       "    </tr>\n",
       "    <tr>\n",
       "      <th>3</th>\n",
       "      <td>138000.000000</td>\n",
       "      <td>45.000000</td>\n",
       "      <td>2.486814</td>\n",
       "      <td>5312.906122</td>\n",
       "      <td>0</td>\n",
       "      <td>0</td>\n",
       "      <td>1</td>\n",
       "      <td>0</td>\n",
       "      <td>0</td>\n",
       "      <td>0</td>\n",
       "      <td>...</td>\n",
       "      <td>0</td>\n",
       "      <td>0</td>\n",
       "      <td>0</td>\n",
       "      <td>0</td>\n",
       "      <td>0</td>\n",
       "      <td>0</td>\n",
       "      <td>0</td>\n",
       "      <td>0</td>\n",
       "      <td>0</td>\n",
       "      <td>0</td>\n",
       "    </tr>\n",
       "    <tr>\n",
       "      <th>4</th>\n",
       "      <td>195000.000000</td>\n",
       "      <td>65.000000</td>\n",
       "      <td>2.486814</td>\n",
       "      <td>5312.906122</td>\n",
       "      <td>0</td>\n",
       "      <td>0</td>\n",
       "      <td>1</td>\n",
       "      <td>0</td>\n",
       "      <td>0</td>\n",
       "      <td>0</td>\n",
       "      <td>...</td>\n",
       "      <td>0</td>\n",
       "      <td>0</td>\n",
       "      <td>0</td>\n",
       "      <td>0</td>\n",
       "      <td>0</td>\n",
       "      <td>0</td>\n",
       "      <td>0</td>\n",
       "      <td>0</td>\n",
       "      <td>0</td>\n",
       "      <td>0</td>\n",
       "    </tr>\n",
       "    <tr>\n",
       "      <th>...</th>\n",
       "      <td>...</td>\n",
       "      <td>...</td>\n",
       "      <td>...</td>\n",
       "      <td>...</td>\n",
       "      <td>...</td>\n",
       "      <td>...</td>\n",
       "      <td>...</td>\n",
       "      <td>...</td>\n",
       "      <td>...</td>\n",
       "      <td>...</td>\n",
       "      <td>...</td>\n",
       "      <td>...</td>\n",
       "      <td>...</td>\n",
       "      <td>...</td>\n",
       "      <td>...</td>\n",
       "      <td>...</td>\n",
       "      <td>...</td>\n",
       "      <td>...</td>\n",
       "      <td>...</td>\n",
       "      <td>...</td>\n",
       "      <td>...</td>\n",
       "    </tr>\n",
       "    <tr>\n",
       "      <th>31994</th>\n",
       "      <td>410000.000000</td>\n",
       "      <td>157.000000</td>\n",
       "      <td>2.486814</td>\n",
       "      <td>6300.000000</td>\n",
       "      <td>0</td>\n",
       "      <td>0</td>\n",
       "      <td>1</td>\n",
       "      <td>0</td>\n",
       "      <td>0</td>\n",
       "      <td>0</td>\n",
       "      <td>...</td>\n",
       "      <td>0</td>\n",
       "      <td>0</td>\n",
       "      <td>0</td>\n",
       "      <td>0</td>\n",
       "      <td>0</td>\n",
       "      <td>0</td>\n",
       "      <td>0</td>\n",
       "      <td>0</td>\n",
       "      <td>0</td>\n",
       "      <td>0</td>\n",
       "    </tr>\n",
       "    <tr>\n",
       "      <th>31995</th>\n",
       "      <td>410000.000000</td>\n",
       "      <td>157.000000</td>\n",
       "      <td>2.486814</td>\n",
       "      <td>6300.000000</td>\n",
       "      <td>0</td>\n",
       "      <td>0</td>\n",
       "      <td>1</td>\n",
       "      <td>0</td>\n",
       "      <td>0</td>\n",
       "      <td>0</td>\n",
       "      <td>...</td>\n",
       "      <td>0</td>\n",
       "      <td>0</td>\n",
       "      <td>0</td>\n",
       "      <td>0</td>\n",
       "      <td>0</td>\n",
       "      <td>0</td>\n",
       "      <td>0</td>\n",
       "      <td>0</td>\n",
       "      <td>0</td>\n",
       "      <td>0</td>\n",
       "    </tr>\n",
       "    <tr>\n",
       "      <th>31996</th>\n",
       "      <td>220587.094282</td>\n",
       "      <td>113.000000</td>\n",
       "      <td>3.000000</td>\n",
       "      <td>10000.000000</td>\n",
       "      <td>0</td>\n",
       "      <td>0</td>\n",
       "      <td>1</td>\n",
       "      <td>0</td>\n",
       "      <td>0</td>\n",
       "      <td>0</td>\n",
       "      <td>...</td>\n",
       "      <td>0</td>\n",
       "      <td>0</td>\n",
       "      <td>0</td>\n",
       "      <td>0</td>\n",
       "      <td>0</td>\n",
       "      <td>0</td>\n",
       "      <td>0</td>\n",
       "      <td>0</td>\n",
       "      <td>0</td>\n",
       "      <td>0</td>\n",
       "    </tr>\n",
       "    <tr>\n",
       "      <th>31997</th>\n",
       "      <td>131500.000000</td>\n",
       "      <td>46.000000</td>\n",
       "      <td>2.486814</td>\n",
       "      <td>2133.138728</td>\n",
       "      <td>0</td>\n",
       "      <td>0</td>\n",
       "      <td>1</td>\n",
       "      <td>0</td>\n",
       "      <td>0</td>\n",
       "      <td>0</td>\n",
       "      <td>...</td>\n",
       "      <td>0</td>\n",
       "      <td>0</td>\n",
       "      <td>0</td>\n",
       "      <td>0</td>\n",
       "      <td>0</td>\n",
       "      <td>0</td>\n",
       "      <td>0</td>\n",
       "      <td>0</td>\n",
       "      <td>1</td>\n",
       "      <td>0</td>\n",
       "    </tr>\n",
       "    <tr>\n",
       "      <th>31998</th>\n",
       "      <td>129000.000000</td>\n",
       "      <td>77.000000</td>\n",
       "      <td>2.486814</td>\n",
       "      <td>3500.000000</td>\n",
       "      <td>0</td>\n",
       "      <td>0</td>\n",
       "      <td>1</td>\n",
       "      <td>0</td>\n",
       "      <td>0</td>\n",
       "      <td>0</td>\n",
       "      <td>...</td>\n",
       "      <td>0</td>\n",
       "      <td>0</td>\n",
       "      <td>0</td>\n",
       "      <td>0</td>\n",
       "      <td>0</td>\n",
       "      <td>0</td>\n",
       "      <td>0</td>\n",
       "      <td>0</td>\n",
       "      <td>0</td>\n",
       "      <td>0</td>\n",
       "    </tr>\n",
       "  </tbody>\n",
       "</table>\n",
       "<p>31999 rows × 76 columns</p>\n",
       "</div>"
      ],
      "text/plain": [
       "          precio_usd  superficie_m2  ambientes      expensas  \\\n",
       "0       62000.000000      55.000000   2.000000    394.444444   \n",
       "1       72000.000000      55.000000   2.000000   1106.250000   \n",
       "2       95000.000000      99.871429   3.000000    475.166667   \n",
       "3      138000.000000      45.000000   2.486814   5312.906122   \n",
       "4      195000.000000      65.000000   2.486814   5312.906122   \n",
       "...              ...            ...        ...           ...   \n",
       "31994  410000.000000     157.000000   2.486814   6300.000000   \n",
       "31995  410000.000000     157.000000   2.486814   6300.000000   \n",
       "31996  220587.094282     113.000000   3.000000  10000.000000   \n",
       "31997  131500.000000      46.000000   2.486814   2133.138728   \n",
       "31998  129000.000000      77.000000   2.486814   3500.000000   \n",
       "\n",
       "       prop_subtipo_PH_big  prop_subtipo_PH_xl  prop_subtipo_apartment  \\\n",
       "0                        0                   0                       0   \n",
       "1                        0                   0                       1   \n",
       "2                        0                   0                       0   \n",
       "3                        0                   0                       1   \n",
       "4                        0                   0                       1   \n",
       "...                    ...                 ...                     ...   \n",
       "31994                    0                   0                       1   \n",
       "31995                    0                   0                       1   \n",
       "31996                    0                   0                       1   \n",
       "31997                    0                   0                       1   \n",
       "31998                    0                   0                       1   \n",
       "\n",
       "       prop_subtipo_apartment_big  prop_subtipo_apartment_xl  \\\n",
       "0                               0                          0   \n",
       "1                               0                          0   \n",
       "2                               0                          0   \n",
       "3                               0                          0   \n",
       "4                               0                          0   \n",
       "...                           ...                        ...   \n",
       "31994                           0                          0   \n",
       "31995                           0                          0   \n",
       "31996                           0                          0   \n",
       "31997                           0                          0   \n",
       "31998                           0                          0   \n",
       "\n",
       "       prop_subtipo_house  ...  localidad_Villa Lugano  localidad_Villa Luro  \\\n",
       "0                       0  ...                       0                     0   \n",
       "1                       0  ...                       0                     0   \n",
       "2                       0  ...                       0                     0   \n",
       "3                       0  ...                       0                     0   \n",
       "4                       0  ...                       0                     0   \n",
       "...                   ...  ...                     ...                   ...   \n",
       "31994                   0  ...                       0                     0   \n",
       "31995                   0  ...                       0                     0   \n",
       "31996                   0  ...                       0                     0   \n",
       "31997                   0  ...                       0                     0   \n",
       "31998                   0  ...                       0                     0   \n",
       "\n",
       "       localidad_Villa Ortuzar  localidad_Villa Pueyrredón  \\\n",
       "0                            0                           0   \n",
       "1                            0                           0   \n",
       "2                            0                           0   \n",
       "3                            0                           0   \n",
       "4                            0                           0   \n",
       "...                        ...                         ...   \n",
       "31994                        0                           0   \n",
       "31995                        0                           0   \n",
       "31996                        0                           0   \n",
       "31997                        0                           0   \n",
       "31998                        0                           0   \n",
       "\n",
       "       localidad_Villa Real  localidad_Villa Riachuelo  \\\n",
       "0                         0                          0   \n",
       "1                         0                          0   \n",
       "2                         0                          0   \n",
       "3                         0                          0   \n",
       "4                         0                          0   \n",
       "...                     ...                        ...   \n",
       "31994                     0                          0   \n",
       "31995                     0                          0   \n",
       "31996                     0                          0   \n",
       "31997                     0                          0   \n",
       "31998                     0                          0   \n",
       "\n",
       "       localidad_Villa Santa Rita  localidad_Villa Soldati  \\\n",
       "0                               0                        0   \n",
       "1                               0                        0   \n",
       "2                               0                        0   \n",
       "3                               0                        0   \n",
       "4                               0                        0   \n",
       "...                           ...                      ...   \n",
       "31994                           0                        0   \n",
       "31995                           0                        0   \n",
       "31996                           0                        0   \n",
       "31997                           0                        0   \n",
       "31998                           0                        0   \n",
       "\n",
       "       localidad_Villa Urquiza  localidad_Villa del Parque  \n",
       "0                            0                           0  \n",
       "1                            0                           0  \n",
       "2                            0                           0  \n",
       "3                            0                           0  \n",
       "4                            0                           0  \n",
       "...                        ...                         ...  \n",
       "31994                        0                           0  \n",
       "31995                        0                           0  \n",
       "31996                        0                           0  \n",
       "31997                        1                           0  \n",
       "31998                        0                           0  \n",
       "\n",
       "[31999 rows x 76 columns]"
      ]
     },
     "execution_count": 41,
     "metadata": {},
     "output_type": "execute_result"
    }
   ],
   "source": [
    "X"
   ]
  },
  {
   "cell_type": "code",
   "execution_count": 42,
   "metadata": {},
   "outputs": [
    {
     "data": {
      "text/html": [
       "<div>\n",
       "<style scoped>\n",
       "    .dataframe tbody tr th:only-of-type {\n",
       "        vertical-align: middle;\n",
       "    }\n",
       "\n",
       "    .dataframe tbody tr th {\n",
       "        vertical-align: top;\n",
       "    }\n",
       "\n",
       "    .dataframe thead th {\n",
       "        text-align: right;\n",
       "    }\n",
       "</style>\n",
       "<table border=\"1\" class=\"dataframe\">\n",
       "  <thead>\n",
       "    <tr style=\"text-align: right;\">\n",
       "      <th></th>\n",
       "      <th>usd_m2</th>\n",
       "    </tr>\n",
       "  </thead>\n",
       "  <tbody>\n",
       "    <tr>\n",
       "      <th>0</th>\n",
       "      <td>1127.272727</td>\n",
       "    </tr>\n",
       "    <tr>\n",
       "      <th>1</th>\n",
       "      <td>1309.090909</td>\n",
       "    </tr>\n",
       "    <tr>\n",
       "      <th>2</th>\n",
       "      <td>951.223001</td>\n",
       "    </tr>\n",
       "    <tr>\n",
       "      <th>3</th>\n",
       "      <td>3066.666667</td>\n",
       "    </tr>\n",
       "    <tr>\n",
       "      <th>4</th>\n",
       "      <td>3000.000000</td>\n",
       "    </tr>\n",
       "    <tr>\n",
       "      <th>...</th>\n",
       "      <td>...</td>\n",
       "    </tr>\n",
       "    <tr>\n",
       "      <th>31994</th>\n",
       "      <td>2611.464968</td>\n",
       "    </tr>\n",
       "    <tr>\n",
       "      <th>31995</th>\n",
       "      <td>2611.464968</td>\n",
       "    </tr>\n",
       "    <tr>\n",
       "      <th>31996</th>\n",
       "      <td>1952.098179</td>\n",
       "    </tr>\n",
       "    <tr>\n",
       "      <th>31997</th>\n",
       "      <td>2858.695652</td>\n",
       "    </tr>\n",
       "    <tr>\n",
       "      <th>31998</th>\n",
       "      <td>1675.324675</td>\n",
       "    </tr>\n",
       "  </tbody>\n",
       "</table>\n",
       "<p>31999 rows × 1 columns</p>\n",
       "</div>"
      ],
      "text/plain": [
       "            usd_m2\n",
       "0      1127.272727\n",
       "1      1309.090909\n",
       "2       951.223001\n",
       "3      3066.666667\n",
       "4      3000.000000\n",
       "...            ...\n",
       "31994  2611.464968\n",
       "31995  2611.464968\n",
       "31996  1952.098179\n",
       "31997  2858.695652\n",
       "31998  1675.324675\n",
       "\n",
       "[31999 rows x 1 columns]"
      ]
     },
     "execution_count": 42,
     "metadata": {},
     "output_type": "execute_result"
    }
   ],
   "source": [
    "y"
   ]
  },
  {
   "cell_type": "markdown",
   "metadata": {},
   "source": [
    "## 6. División de dataset en train-test para validación de modelo"
   ]
  },
  {
   "cell_type": "markdown",
   "metadata": {},
   "source": [
    "Creamos una columna para estatificar, y splitear con ella."
   ]
  },
  {
   "cell_type": "code",
   "execution_count": 43,
   "metadata": {},
   "outputs": [],
   "source": [
    "X['usd_stratify'] = pd.qcut(X['precio_usd'],4,labels=[1,2,3,4])\n",
    "\n",
    "X = X[[x for x in X.columns if (x!='precio_usd')]]"
   ]
  },
  {
   "cell_type": "markdown",
   "metadata": {},
   "source": [
    "Dividimos en train-test"
   ]
  },
  {
   "cell_type": "code",
   "execution_count": 44,
   "metadata": {},
   "outputs": [
    {
     "name": "stdout",
     "output_type": "stream",
     "text": [
      "(25599, 76) (25599, 1)\n",
      "(6400, 76) (6400, 1)\n"
     ]
    }
   ],
   "source": [
    "X_train, X_test, y_train, y_test = train_test_split(X, y, stratify=X['usd_stratify'],test_size=0.2, random_state=0)\n",
    "\n",
    "print(X_train.shape, y_train.shape)\n",
    "print(X_test.shape, y_test.shape)"
   ]
  },
  {
   "cell_type": "markdown",
   "metadata": {},
   "source": [
    "## 7. Normalización de variables por estandarización para el set de train\n",
    "\n",
    "Apliquemos estandarización, transformando las variables para que tengan media 0 $(\\mu = 0)$ y desvío estándar 1 $(\\sigma = 1)$, aplicando la fórmula:\n",
    "\n",
    "$$ x' = \\frac{x - \\mu}{\\sigma}$$"
   ]
  },
  {
   "cell_type": "markdown",
   "metadata": {},
   "source": [
    "Estandarizamos feautures:"
   ]
  },
  {
   "cell_type": "code",
   "execution_count": 45,
   "metadata": {},
   "outputs": [],
   "source": [
    "# Fiteamos el estandarizador y estandarizamos con X_train\n",
    "\n",
    "stdscaler_X = preprocessing.StandardScaler()\n",
    "X_train_scaled = stdscaler_X.fit_transform(X_train)\n",
    "X_train = pd.DataFrame(X_train_scaled, columns=X_train.columns)\n",
    "\n",
    "# Estandarizamos X_test con el estandarizador fiteado con X_train\n",
    "\n",
    "X_test_scaled = stdscaler_X.transform(X_test)\n",
    "X_test = pd.DataFrame(X_test_scaled, columns=X_test.columns)\n",
    "\n",
    "#UTILIZAR INVERSE_TRANSFORM PARA ANALIZAR LOS DATOS OBTENIDOS POSTERIORMENTE\n"
   ]
  },
  {
   "cell_type": "markdown",
   "metadata": {},
   "source": [
    "Estandarizamos target y lo centramos con una fución logarítmica, ya que su distribución es asimétrica con cola a la derecha:\n"
   ]
  },
  {
   "cell_type": "code",
   "execution_count": 46,
   "metadata": {},
   "outputs": [],
   "source": [
    "y_train = np.log(y_train)\n",
    "y_test = np.log(y_test)"
   ]
  },
  {
   "cell_type": "code",
   "execution_count": 47,
   "metadata": {},
   "outputs": [],
   "source": [
    "#### ESTO NO LO HACE MARTIN, PERO NO LE QUEDA LA Y NORMALIZADA Y NUESTRO R2 MEJORA AL HACERLO,YO LO DEJARÍA\n",
    "\n",
    "\n",
    "# Fiteamos el estandarizador y estandarizamos con y_train\n",
    "\n",
    "stdscaler_y = preprocessing.StandardScaler()\n",
    "y_train_scaled = stdscaler_y.fit_transform(y_train)\n",
    "y_train = pd.DataFrame(y_train_scaled, columns=y_train.columns)\n",
    "\n",
    "# Estandarizamos y_test con el estandarizador fiteado con y_train\n",
    "\n",
    "y_test_scaled = stdscaler_y.transform(y_test)\n",
    "y_test = pd.DataFrame(y_test_scaled, columns=y_test.columns)\n",
    "\n",
    "#UTILIZAR INVERSE_TRANSFORM PARA ANALIZAR LOS DATOS OBTENIDOS POSTERIORMENTE"
   ]
  },
  {
   "cell_type": "markdown",
   "metadata": {},
   "source": [
    "Vemos que todo esté bien"
   ]
  },
  {
   "cell_type": "code",
   "execution_count": 48,
   "metadata": {},
   "outputs": [
    {
     "data": {
      "text/html": [
       "<div>\n",
       "<style scoped>\n",
       "    .dataframe tbody tr th:only-of-type {\n",
       "        vertical-align: middle;\n",
       "    }\n",
       "\n",
       "    .dataframe tbody tr th {\n",
       "        vertical-align: top;\n",
       "    }\n",
       "\n",
       "    .dataframe thead th {\n",
       "        text-align: right;\n",
       "    }\n",
       "</style>\n",
       "<table border=\"1\" class=\"dataframe\">\n",
       "  <thead>\n",
       "    <tr style=\"text-align: right;\">\n",
       "      <th></th>\n",
       "      <th>superficie_m2</th>\n",
       "      <th>ambientes</th>\n",
       "      <th>expensas</th>\n",
       "      <th>prop_subtipo_PH_big</th>\n",
       "      <th>prop_subtipo_PH_xl</th>\n",
       "      <th>prop_subtipo_apartment</th>\n",
       "      <th>prop_subtipo_apartment_big</th>\n",
       "      <th>prop_subtipo_apartment_xl</th>\n",
       "      <th>prop_subtipo_house</th>\n",
       "      <th>prop_subtipo_house_big</th>\n",
       "      <th>...</th>\n",
       "      <th>localidad_Villa Luro</th>\n",
       "      <th>localidad_Villa Ortuzar</th>\n",
       "      <th>localidad_Villa Pueyrredón</th>\n",
       "      <th>localidad_Villa Real</th>\n",
       "      <th>localidad_Villa Riachuelo</th>\n",
       "      <th>localidad_Villa Santa Rita</th>\n",
       "      <th>localidad_Villa Soldati</th>\n",
       "      <th>localidad_Villa Urquiza</th>\n",
       "      <th>localidad_Villa del Parque</th>\n",
       "      <th>usd_stratify</th>\n",
       "    </tr>\n",
       "  </thead>\n",
       "  <tbody>\n",
       "    <tr>\n",
       "      <th>0</th>\n",
       "      <td>-0.307016</td>\n",
       "      <td>-0.144835</td>\n",
       "      <td>-0.081220</td>\n",
       "      <td>-0.042429</td>\n",
       "      <td>-0.008839</td>\n",
       "      <td>0.471939</td>\n",
       "      <td>-0.142147</td>\n",
       "      <td>-0.016539</td>\n",
       "      <td>-0.250808</td>\n",
       "      <td>-0.067176</td>\n",
       "      <td>...</td>\n",
       "      <td>-0.115847</td>\n",
       "      <td>-0.051227</td>\n",
       "      <td>-0.073889</td>\n",
       "      <td>-0.034253</td>\n",
       "      <td>-0.013977</td>\n",
       "      <td>-0.041964</td>\n",
       "      <td>-0.021656</td>\n",
       "      <td>-0.23233</td>\n",
       "      <td>-0.124219</td>\n",
       "      <td>-1.334790</td>\n",
       "    </tr>\n",
       "    <tr>\n",
       "      <th>1</th>\n",
       "      <td>1.464753</td>\n",
       "      <td>2.992099</td>\n",
       "      <td>-0.018473</td>\n",
       "      <td>-0.042429</td>\n",
       "      <td>-0.008839</td>\n",
       "      <td>-2.118918</td>\n",
       "      <td>7.034993</td>\n",
       "      <td>-0.016539</td>\n",
       "      <td>-0.250808</td>\n",
       "      <td>-0.067176</td>\n",
       "      <td>...</td>\n",
       "      <td>-0.115847</td>\n",
       "      <td>-0.051227</td>\n",
       "      <td>-0.073889</td>\n",
       "      <td>-0.034253</td>\n",
       "      <td>-0.013977</td>\n",
       "      <td>-0.041964</td>\n",
       "      <td>-0.021656</td>\n",
       "      <td>-0.23233</td>\n",
       "      <td>-0.124219</td>\n",
       "      <td>1.350208</td>\n",
       "    </tr>\n",
       "    <tr>\n",
       "      <th>2</th>\n",
       "      <td>-0.314873</td>\n",
       "      <td>-0.144835</td>\n",
       "      <td>-0.061616</td>\n",
       "      <td>-0.042429</td>\n",
       "      <td>-0.008839</td>\n",
       "      <td>0.471939</td>\n",
       "      <td>-0.142147</td>\n",
       "      <td>-0.016539</td>\n",
       "      <td>-0.250808</td>\n",
       "      <td>-0.067176</td>\n",
       "      <td>...</td>\n",
       "      <td>-0.115847</td>\n",
       "      <td>-0.051227</td>\n",
       "      <td>-0.073889</td>\n",
       "      <td>-0.034253</td>\n",
       "      <td>-0.013977</td>\n",
       "      <td>-0.041964</td>\n",
       "      <td>-0.021656</td>\n",
       "      <td>-0.23233</td>\n",
       "      <td>-0.124219</td>\n",
       "      <td>-0.439790</td>\n",
       "    </tr>\n",
       "    <tr>\n",
       "      <th>3</th>\n",
       "      <td>-0.287373</td>\n",
       "      <td>0.313390</td>\n",
       "      <td>-0.064627</td>\n",
       "      <td>-0.042429</td>\n",
       "      <td>-0.008839</td>\n",
       "      <td>0.471939</td>\n",
       "      <td>-0.142147</td>\n",
       "      <td>-0.016539</td>\n",
       "      <td>-0.250808</td>\n",
       "      <td>-0.067176</td>\n",
       "      <td>...</td>\n",
       "      <td>-0.115847</td>\n",
       "      <td>-0.051227</td>\n",
       "      <td>-0.073889</td>\n",
       "      <td>-0.034253</td>\n",
       "      <td>-0.013977</td>\n",
       "      <td>-0.041964</td>\n",
       "      <td>-0.021656</td>\n",
       "      <td>-0.23233</td>\n",
       "      <td>-0.124219</td>\n",
       "      <td>-1.334790</td>\n",
       "    </tr>\n",
       "    <tr>\n",
       "      <th>4</th>\n",
       "      <td>0.007267</td>\n",
       "      <td>1.206293</td>\n",
       "      <td>-0.040855</td>\n",
       "      <td>-0.042429</td>\n",
       "      <td>-0.008839</td>\n",
       "      <td>0.471939</td>\n",
       "      <td>-0.142147</td>\n",
       "      <td>-0.016539</td>\n",
       "      <td>-0.250808</td>\n",
       "      <td>-0.067176</td>\n",
       "      <td>...</td>\n",
       "      <td>-0.115847</td>\n",
       "      <td>-0.051227</td>\n",
       "      <td>-0.073889</td>\n",
       "      <td>-0.034253</td>\n",
       "      <td>-0.013977</td>\n",
       "      <td>-0.041964</td>\n",
       "      <td>-0.021656</td>\n",
       "      <td>-0.23233</td>\n",
       "      <td>-0.124219</td>\n",
       "      <td>0.455209</td>\n",
       "    </tr>\n",
       "    <tr>\n",
       "      <th>...</th>\n",
       "      <td>...</td>\n",
       "      <td>...</td>\n",
       "      <td>...</td>\n",
       "      <td>...</td>\n",
       "      <td>...</td>\n",
       "      <td>...</td>\n",
       "      <td>...</td>\n",
       "      <td>...</td>\n",
       "      <td>...</td>\n",
       "      <td>...</td>\n",
       "      <td>...</td>\n",
       "      <td>...</td>\n",
       "      <td>...</td>\n",
       "      <td>...</td>\n",
       "      <td>...</td>\n",
       "      <td>...</td>\n",
       "      <td>...</td>\n",
       "      <td>...</td>\n",
       "      <td>...</td>\n",
       "      <td>...</td>\n",
       "      <td>...</td>\n",
       "    </tr>\n",
       "    <tr>\n",
       "      <th>25594</th>\n",
       "      <td>-0.157732</td>\n",
       "      <td>-0.579513</td>\n",
       "      <td>-0.081231</td>\n",
       "      <td>-0.042429</td>\n",
       "      <td>-0.008839</td>\n",
       "      <td>-2.118918</td>\n",
       "      <td>-0.142147</td>\n",
       "      <td>-0.016539</td>\n",
       "      <td>3.987108</td>\n",
       "      <td>-0.067176</td>\n",
       "      <td>...</td>\n",
       "      <td>-0.115847</td>\n",
       "      <td>-0.051227</td>\n",
       "      <td>-0.073889</td>\n",
       "      <td>-0.034253</td>\n",
       "      <td>-0.013977</td>\n",
       "      <td>-0.041964</td>\n",
       "      <td>-0.021656</td>\n",
       "      <td>-0.23233</td>\n",
       "      <td>-0.124219</td>\n",
       "      <td>-0.439790</td>\n",
       "    </tr>\n",
       "    <tr>\n",
       "      <th>25595</th>\n",
       "      <td>-0.169517</td>\n",
       "      <td>-0.144835</td>\n",
       "      <td>-0.068455</td>\n",
       "      <td>-0.042429</td>\n",
       "      <td>-0.008839</td>\n",
       "      <td>0.471939</td>\n",
       "      <td>-0.142147</td>\n",
       "      <td>-0.016539</td>\n",
       "      <td>-0.250808</td>\n",
       "      <td>-0.067176</td>\n",
       "      <td>...</td>\n",
       "      <td>-0.115847</td>\n",
       "      <td>-0.051227</td>\n",
       "      <td>-0.073889</td>\n",
       "      <td>-0.034253</td>\n",
       "      <td>-0.013977</td>\n",
       "      <td>-0.041964</td>\n",
       "      <td>-0.021656</td>\n",
       "      <td>-0.23233</td>\n",
       "      <td>-0.124219</td>\n",
       "      <td>-0.439790</td>\n",
       "    </tr>\n",
       "    <tr>\n",
       "      <th>25596</th>\n",
       "      <td>-0.248088</td>\n",
       "      <td>-0.579513</td>\n",
       "      <td>-0.053900</td>\n",
       "      <td>-0.042429</td>\n",
       "      <td>-0.008839</td>\n",
       "      <td>0.471939</td>\n",
       "      <td>-0.142147</td>\n",
       "      <td>-0.016539</td>\n",
       "      <td>-0.250808</td>\n",
       "      <td>-0.067176</td>\n",
       "      <td>...</td>\n",
       "      <td>-0.115847</td>\n",
       "      <td>-0.051227</td>\n",
       "      <td>-0.073889</td>\n",
       "      <td>-0.034253</td>\n",
       "      <td>-0.013977</td>\n",
       "      <td>-0.041964</td>\n",
       "      <td>-0.021656</td>\n",
       "      <td>-0.23233</td>\n",
       "      <td>-0.124219</td>\n",
       "      <td>-0.439790</td>\n",
       "    </tr>\n",
       "    <tr>\n",
       "      <th>25597</th>\n",
       "      <td>-0.244160</td>\n",
       "      <td>-0.579513</td>\n",
       "      <td>-0.033847</td>\n",
       "      <td>-0.042429</td>\n",
       "      <td>-0.008839</td>\n",
       "      <td>0.471939</td>\n",
       "      <td>-0.142147</td>\n",
       "      <td>-0.016539</td>\n",
       "      <td>-0.250808</td>\n",
       "      <td>-0.067176</td>\n",
       "      <td>...</td>\n",
       "      <td>-0.115847</td>\n",
       "      <td>-0.051227</td>\n",
       "      <td>-0.073889</td>\n",
       "      <td>-0.034253</td>\n",
       "      <td>-0.013977</td>\n",
       "      <td>-0.041964</td>\n",
       "      <td>-0.021656</td>\n",
       "      <td>-0.23233</td>\n",
       "      <td>-0.124219</td>\n",
       "      <td>0.455209</td>\n",
       "    </tr>\n",
       "    <tr>\n",
       "      <th>25598</th>\n",
       "      <td>-0.200946</td>\n",
       "      <td>0.313390</td>\n",
       "      <td>-0.055915</td>\n",
       "      <td>-0.042429</td>\n",
       "      <td>-0.008839</td>\n",
       "      <td>0.471939</td>\n",
       "      <td>-0.142147</td>\n",
       "      <td>-0.016539</td>\n",
       "      <td>-0.250808</td>\n",
       "      <td>-0.067176</td>\n",
       "      <td>...</td>\n",
       "      <td>-0.115847</td>\n",
       "      <td>-0.051227</td>\n",
       "      <td>-0.073889</td>\n",
       "      <td>-0.034253</td>\n",
       "      <td>-0.013977</td>\n",
       "      <td>-0.041964</td>\n",
       "      <td>-0.021656</td>\n",
       "      <td>-0.23233</td>\n",
       "      <td>-0.124219</td>\n",
       "      <td>-0.439790</td>\n",
       "    </tr>\n",
       "  </tbody>\n",
       "</table>\n",
       "<p>25599 rows × 76 columns</p>\n",
       "</div>"
      ],
      "text/plain": [
       "       superficie_m2  ambientes  expensas  prop_subtipo_PH_big  \\\n",
       "0          -0.307016  -0.144835 -0.081220            -0.042429   \n",
       "1           1.464753   2.992099 -0.018473            -0.042429   \n",
       "2          -0.314873  -0.144835 -0.061616            -0.042429   \n",
       "3          -0.287373   0.313390 -0.064627            -0.042429   \n",
       "4           0.007267   1.206293 -0.040855            -0.042429   \n",
       "...              ...        ...       ...                  ...   \n",
       "25594      -0.157732  -0.579513 -0.081231            -0.042429   \n",
       "25595      -0.169517  -0.144835 -0.068455            -0.042429   \n",
       "25596      -0.248088  -0.579513 -0.053900            -0.042429   \n",
       "25597      -0.244160  -0.579513 -0.033847            -0.042429   \n",
       "25598      -0.200946   0.313390 -0.055915            -0.042429   \n",
       "\n",
       "       prop_subtipo_PH_xl  prop_subtipo_apartment  prop_subtipo_apartment_big  \\\n",
       "0               -0.008839                0.471939                   -0.142147   \n",
       "1               -0.008839               -2.118918                    7.034993   \n",
       "2               -0.008839                0.471939                   -0.142147   \n",
       "3               -0.008839                0.471939                   -0.142147   \n",
       "4               -0.008839                0.471939                   -0.142147   \n",
       "...                   ...                     ...                         ...   \n",
       "25594           -0.008839               -2.118918                   -0.142147   \n",
       "25595           -0.008839                0.471939                   -0.142147   \n",
       "25596           -0.008839                0.471939                   -0.142147   \n",
       "25597           -0.008839                0.471939                   -0.142147   \n",
       "25598           -0.008839                0.471939                   -0.142147   \n",
       "\n",
       "       prop_subtipo_apartment_xl  prop_subtipo_house  prop_subtipo_house_big  \\\n",
       "0                      -0.016539           -0.250808               -0.067176   \n",
       "1                      -0.016539           -0.250808               -0.067176   \n",
       "2                      -0.016539           -0.250808               -0.067176   \n",
       "3                      -0.016539           -0.250808               -0.067176   \n",
       "4                      -0.016539           -0.250808               -0.067176   \n",
       "...                          ...                 ...                     ...   \n",
       "25594                  -0.016539            3.987108               -0.067176   \n",
       "25595                  -0.016539           -0.250808               -0.067176   \n",
       "25596                  -0.016539           -0.250808               -0.067176   \n",
       "25597                  -0.016539           -0.250808               -0.067176   \n",
       "25598                  -0.016539           -0.250808               -0.067176   \n",
       "\n",
       "       ...  localidad_Villa Luro  localidad_Villa Ortuzar  \\\n",
       "0      ...             -0.115847                -0.051227   \n",
       "1      ...             -0.115847                -0.051227   \n",
       "2      ...             -0.115847                -0.051227   \n",
       "3      ...             -0.115847                -0.051227   \n",
       "4      ...             -0.115847                -0.051227   \n",
       "...    ...                   ...                      ...   \n",
       "25594  ...             -0.115847                -0.051227   \n",
       "25595  ...             -0.115847                -0.051227   \n",
       "25596  ...             -0.115847                -0.051227   \n",
       "25597  ...             -0.115847                -0.051227   \n",
       "25598  ...             -0.115847                -0.051227   \n",
       "\n",
       "       localidad_Villa Pueyrredón  localidad_Villa Real  \\\n",
       "0                       -0.073889             -0.034253   \n",
       "1                       -0.073889             -0.034253   \n",
       "2                       -0.073889             -0.034253   \n",
       "3                       -0.073889             -0.034253   \n",
       "4                       -0.073889             -0.034253   \n",
       "...                           ...                   ...   \n",
       "25594                   -0.073889             -0.034253   \n",
       "25595                   -0.073889             -0.034253   \n",
       "25596                   -0.073889             -0.034253   \n",
       "25597                   -0.073889             -0.034253   \n",
       "25598                   -0.073889             -0.034253   \n",
       "\n",
       "       localidad_Villa Riachuelo  localidad_Villa Santa Rita  \\\n",
       "0                      -0.013977                   -0.041964   \n",
       "1                      -0.013977                   -0.041964   \n",
       "2                      -0.013977                   -0.041964   \n",
       "3                      -0.013977                   -0.041964   \n",
       "4                      -0.013977                   -0.041964   \n",
       "...                          ...                         ...   \n",
       "25594                  -0.013977                   -0.041964   \n",
       "25595                  -0.013977                   -0.041964   \n",
       "25596                  -0.013977                   -0.041964   \n",
       "25597                  -0.013977                   -0.041964   \n",
       "25598                  -0.013977                   -0.041964   \n",
       "\n",
       "       localidad_Villa Soldati  localidad_Villa Urquiza  \\\n",
       "0                    -0.021656                 -0.23233   \n",
       "1                    -0.021656                 -0.23233   \n",
       "2                    -0.021656                 -0.23233   \n",
       "3                    -0.021656                 -0.23233   \n",
       "4                    -0.021656                 -0.23233   \n",
       "...                        ...                      ...   \n",
       "25594                -0.021656                 -0.23233   \n",
       "25595                -0.021656                 -0.23233   \n",
       "25596                -0.021656                 -0.23233   \n",
       "25597                -0.021656                 -0.23233   \n",
       "25598                -0.021656                 -0.23233   \n",
       "\n",
       "       localidad_Villa del Parque  usd_stratify  \n",
       "0                       -0.124219     -1.334790  \n",
       "1                       -0.124219      1.350208  \n",
       "2                       -0.124219     -0.439790  \n",
       "3                       -0.124219     -1.334790  \n",
       "4                       -0.124219      0.455209  \n",
       "...                           ...           ...  \n",
       "25594                   -0.124219     -0.439790  \n",
       "25595                   -0.124219     -0.439790  \n",
       "25596                   -0.124219     -0.439790  \n",
       "25597                   -0.124219      0.455209  \n",
       "25598                   -0.124219     -0.439790  \n",
       "\n",
       "[25599 rows x 76 columns]"
      ]
     },
     "metadata": {},
     "output_type": "display_data"
    }
   ],
   "source": [
    "display(X_train)"
   ]
  },
  {
   "cell_type": "code",
   "execution_count": 49,
   "metadata": {},
   "outputs": [
    {
     "data": {
      "text/html": [
       "<div>\n",
       "<style scoped>\n",
       "    .dataframe tbody tr th:only-of-type {\n",
       "        vertical-align: middle;\n",
       "    }\n",
       "\n",
       "    .dataframe tbody tr th {\n",
       "        vertical-align: top;\n",
       "    }\n",
       "\n",
       "    .dataframe thead th {\n",
       "        text-align: right;\n",
       "    }\n",
       "</style>\n",
       "<table border=\"1\" class=\"dataframe\">\n",
       "  <thead>\n",
       "    <tr style=\"text-align: right;\">\n",
       "      <th></th>\n",
       "      <th>usd_m2</th>\n",
       "    </tr>\n",
       "  </thead>\n",
       "  <tbody>\n",
       "    <tr>\n",
       "      <th>0</th>\n",
       "      <td>0.063505</td>\n",
       "    </tr>\n",
       "    <tr>\n",
       "      <th>1</th>\n",
       "      <td>-2.325969</td>\n",
       "    </tr>\n",
       "    <tr>\n",
       "      <th>2</th>\n",
       "      <td>0.045897</td>\n",
       "    </tr>\n",
       "    <tr>\n",
       "      <th>3</th>\n",
       "      <td>-0.051567</td>\n",
       "    </tr>\n",
       "    <tr>\n",
       "      <th>4</th>\n",
       "      <td>-0.502603</td>\n",
       "    </tr>\n",
       "    <tr>\n",
       "      <th>...</th>\n",
       "      <td>...</td>\n",
       "    </tr>\n",
       "    <tr>\n",
       "      <th>25594</th>\n",
       "      <td>-0.316124</td>\n",
       "    </tr>\n",
       "    <tr>\n",
       "      <th>25595</th>\n",
       "      <td>-0.480667</td>\n",
       "    </tr>\n",
       "    <tr>\n",
       "      <th>25596</th>\n",
       "      <td>0.341347</td>\n",
       "    </tr>\n",
       "    <tr>\n",
       "      <th>25597</th>\n",
       "      <td>0.946237</td>\n",
       "    </tr>\n",
       "    <tr>\n",
       "      <th>25598</th>\n",
       "      <td>-0.097237</td>\n",
       "    </tr>\n",
       "  </tbody>\n",
       "</table>\n",
       "<p>25599 rows × 1 columns</p>\n",
       "</div>"
      ],
      "text/plain": [
       "         usd_m2\n",
       "0      0.063505\n",
       "1     -2.325969\n",
       "2      0.045897\n",
       "3     -0.051567\n",
       "4     -0.502603\n",
       "...         ...\n",
       "25594 -0.316124\n",
       "25595 -0.480667\n",
       "25596  0.341347\n",
       "25597  0.946237\n",
       "25598 -0.097237\n",
       "\n",
       "[25599 rows x 1 columns]"
      ]
     },
     "execution_count": 49,
     "metadata": {},
     "output_type": "execute_result"
    }
   ],
   "source": [
    "y_train"
   ]
  },
  {
   "cell_type": "markdown",
   "metadata": {},
   "source": [
    "Verificamos que estén normalizadas y verificamos que:\n",
    "\n",
    "   + $\\bar{x_{j}} \\approx 0$\n",
    "    \n",
    "   + $s_{j}=1.00002$"
   ]
  },
  {
   "cell_type": "code",
   "execution_count": 50,
   "metadata": {
    "scrolled": true
   },
   "outputs": [
    {
     "data": {
      "text/html": [
       "<div>\n",
       "<style scoped>\n",
       "    .dataframe tbody tr th:only-of-type {\n",
       "        vertical-align: middle;\n",
       "    }\n",
       "\n",
       "    .dataframe tbody tr th {\n",
       "        vertical-align: top;\n",
       "    }\n",
       "\n",
       "    .dataframe thead th {\n",
       "        text-align: right;\n",
       "    }\n",
       "</style>\n",
       "<table border=\"1\" class=\"dataframe\">\n",
       "  <thead>\n",
       "    <tr style=\"text-align: right;\">\n",
       "      <th></th>\n",
       "      <th>mean</th>\n",
       "      <th>std</th>\n",
       "    </tr>\n",
       "  </thead>\n",
       "  <tbody>\n",
       "    <tr>\n",
       "      <th>superficie_m2</th>\n",
       "      <td>-3.887017e-18</td>\n",
       "      <td>1.00002</td>\n",
       "    </tr>\n",
       "    <tr>\n",
       "      <th>ambientes</th>\n",
       "      <td>4.510891e-17</td>\n",
       "      <td>1.00002</td>\n",
       "    </tr>\n",
       "    <tr>\n",
       "      <th>expensas</th>\n",
       "      <td>1.058589e-16</td>\n",
       "      <td>1.00002</td>\n",
       "    </tr>\n",
       "    <tr>\n",
       "      <th>prop_subtipo_PH_big</th>\n",
       "      <td>4.288458e-17</td>\n",
       "      <td>1.00002</td>\n",
       "    </tr>\n",
       "    <tr>\n",
       "      <th>prop_subtipo_PH_xl</th>\n",
       "      <td>1.323903e-15</td>\n",
       "      <td>1.00002</td>\n",
       "    </tr>\n",
       "    <tr>\n",
       "      <th>...</th>\n",
       "      <td>...</td>\n",
       "      <td>...</td>\n",
       "    </tr>\n",
       "    <tr>\n",
       "      <th>localidad_Villa Santa Rita</th>\n",
       "      <td>1.484390e-16</td>\n",
       "      <td>1.00002</td>\n",
       "    </tr>\n",
       "    <tr>\n",
       "      <th>localidad_Villa Soldati</th>\n",
       "      <td>-1.050485e-15</td>\n",
       "      <td>1.00002</td>\n",
       "    </tr>\n",
       "    <tr>\n",
       "      <th>localidad_Villa Urquiza</th>\n",
       "      <td>-7.286665e-16</td>\n",
       "      <td>1.00002</td>\n",
       "    </tr>\n",
       "    <tr>\n",
       "      <th>localidad_Villa del Parque</th>\n",
       "      <td>6.180161e-16</td>\n",
       "      <td>1.00002</td>\n",
       "    </tr>\n",
       "    <tr>\n",
       "      <th>usd_stratify</th>\n",
       "      <td>-5.852058e-16</td>\n",
       "      <td>1.00002</td>\n",
       "    </tr>\n",
       "  </tbody>\n",
       "</table>\n",
       "<p>76 rows × 2 columns</p>\n",
       "</div>"
      ],
      "text/plain": [
       "                                    mean      std\n",
       "superficie_m2              -3.887017e-18  1.00002\n",
       "ambientes                   4.510891e-17  1.00002\n",
       "expensas                    1.058589e-16  1.00002\n",
       "prop_subtipo_PH_big         4.288458e-17  1.00002\n",
       "prop_subtipo_PH_xl          1.323903e-15  1.00002\n",
       "...                                  ...      ...\n",
       "localidad_Villa Santa Rita  1.484390e-16  1.00002\n",
       "localidad_Villa Soldati    -1.050485e-15  1.00002\n",
       "localidad_Villa Urquiza    -7.286665e-16  1.00002\n",
       "localidad_Villa del Parque  6.180161e-16  1.00002\n",
       "usd_stratify               -5.852058e-16  1.00002\n",
       "\n",
       "[76 rows x 2 columns]"
      ]
     },
     "execution_count": 50,
     "metadata": {},
     "output_type": "execute_result"
    }
   ],
   "source": [
    "X_train.apply(['mean','std']).T"
   ]
  },
  {
   "cell_type": "code",
   "execution_count": 51,
   "metadata": {},
   "outputs": [
    {
     "data": {
      "text/html": [
       "<div>\n",
       "<style scoped>\n",
       "    .dataframe tbody tr th:only-of-type {\n",
       "        vertical-align: middle;\n",
       "    }\n",
       "\n",
       "    .dataframe tbody tr th {\n",
       "        vertical-align: top;\n",
       "    }\n",
       "\n",
       "    .dataframe thead th {\n",
       "        text-align: right;\n",
       "    }\n",
       "</style>\n",
       "<table border=\"1\" class=\"dataframe\">\n",
       "  <thead>\n",
       "    <tr style=\"text-align: right;\">\n",
       "      <th></th>\n",
       "      <th>mean</th>\n",
       "      <th>std</th>\n",
       "    </tr>\n",
       "  </thead>\n",
       "  <tbody>\n",
       "    <tr>\n",
       "      <th>usd_m2</th>\n",
       "      <td>-1.440769e-15</td>\n",
       "      <td>1.00002</td>\n",
       "    </tr>\n",
       "  </tbody>\n",
       "</table>\n",
       "</div>"
      ],
      "text/plain": [
       "                mean      std\n",
       "usd_m2 -1.440769e-15  1.00002"
      ]
     },
     "execution_count": 51,
     "metadata": {},
     "output_type": "execute_result"
    }
   ],
   "source": [
    "y_train.apply(['mean','std']).T"
   ]
  },
  {
   "cell_type": "markdown",
   "metadata": {},
   "source": [
    "## 8. Prueba de distintos modelos (con el set de train) y evaluación de la performance con el set de test (MAE, MSE, RMSE, R2)\n",
    "  \n",
    "a. Con dummies de localización (sin lat-lon)\n",
    "\n",
    "    I)   Sin regularización (Se determinan los parámetros por cross-validation, dividiento el set train en k grupos)\n",
    "   \n",
    "    II)  Ridge (optimizamos parámetros usando cross-validation de forma automática con k grupos)\n",
    "\n",
    "    III) Lasso (optimizamos parámetros usando cross-validation de forma automática con k grupos)\n",
    "\n",
    "    IV)  Ambas (optimizamos parámetros usando cross-validation de forma automática con k grupos)\n",
    "\n",
    "    V)   Sin regularización pero con PCA previo\n",
    "   \n",
    "b. Sin dummies de localización (con lat-lon)\n",
    "\n",
    "    I)   Sin regularización (Se determinan los parámetros por cross-validation, dividiento el set train en k grupos)\n",
    "   \n",
    "    II)  Ridge (optimizamos parámetros usando cross-validation de forma automática con k grupos)\n",
    "   \n",
    "    III) Lasso (optimizamos parámetros usando cross-validation de forma automática con k grupos)\n",
    "   \n",
    "    IV)  Ambas (optimizamos parámetros usando cross-validation de forma automática con k grupos)\n",
    "   \n",
    "    V)   Feature engineering\n",
    "   "
   ]
  },
  {
   "cell_type": "markdown",
   "metadata": {},
   "source": [
    "## 8.a. Con dummies de localización (sin lat-lon)"
   ]
  },
  {
   "cell_type": "markdown",
   "metadata": {},
   "source": [
    "### 8.a. I) Sin regularización (Se determinan los parámetros por cross-validation, dividiento el set train en k grupos)\n"
   ]
  },
  {
   "cell_type": "markdown",
   "metadata": {},
   "source": [
    "#### a) Con Intercepto"
   ]
  },
  {
   "cell_type": "markdown",
   "metadata": {},
   "source": [
    "Instanciamos el modelo"
   ]
  },
  {
   "cell_type": "code",
   "execution_count": 52,
   "metadata": {},
   "outputs": [],
   "source": [
    "lm = LinearRegression()"
   ]
  },
  {
   "cell_type": "markdown",
   "metadata": {},
   "source": [
    "Fiteamos el modelo, para que aprenda de los datos."
   ]
  },
  {
   "cell_type": "code",
   "execution_count": 53,
   "metadata": {},
   "outputs": [],
   "source": [
    "model = lm.fit(X_train, y_train)"
   ]
  },
  {
   "cell_type": "markdown",
   "metadata": {},
   "source": [
    "El modelo ya determinó sus coeficientes de regresión (betas). Los vemos"
   ]
  },
  {
   "cell_type": "code",
   "execution_count": 54,
   "metadata": {},
   "outputs": [
    {
     "name": "stdout",
     "output_type": "stream",
     "text": [
      "Intercept Linear model:  [-0.] \n",
      " Coefs Linear model: [[-0.456 -0.252 -0.002 -0.048 -0.017  0.169  0.052  0.037 -0.08  -0.014\n",
      "   0.12  -0.015  0.01   0.156  0.004  0.012 -0.016 -0.029  0.027  0.104\n",
      "  -0.024  0.195  0.041 -0.036  0.007 -0.001  0.011  0.025  0.025 -0.023\n",
      "  -0.021 -0.009 -0.016  0.033 -0.02  -0.04   0.015 -0.004  0.043 -0.016\n",
      "   0.079  0.089  0.043  0.03   0.019 -0.006  0.008 -0.012  0.008 -0.015\n",
      "  -0.    -0.026  0.192  0.067  0.008  0.018  0.145 -0.004  0.028 -0.011\n",
      "  -0.001 -0.004  0.046  0.012  0.001 -0.048  0.004  0.011  0.003 -0.009\n",
      "   0.002  0.001 -0.018  0.055  0.015  0.381]] \n",
      "\n"
     ]
    }
   ],
   "source": [
    "np.set_printoptions(precision=3, suppress=True)\n",
    "\n",
    "print('Intercept Linear model: ',lm.intercept_,'\\n',\n",
    "      'Coefs Linear model:',lm.coef_,'\\n')"
   ]
  },
  {
   "cell_type": "markdown",
   "metadata": {},
   "source": [
    "Vemos la performance del modelo sobre sus propios datos de train"
   ]
  },
  {
   "cell_type": "code",
   "execution_count": 55,
   "metadata": {
    "scrolled": true
   },
   "outputs": [
    {
     "name": "stdout",
     "output_type": "stream",
     "text": [
      " Score Train Lineal: 0.56767\n",
      "\n",
      " Train RMSE lineal   : 0.65752 \n",
      "\n",
      " MAE: 0.45111\n",
      "\n",
      " MSE: 0.43233\n",
      "\n"
     ]
    }
   ],
   "source": [
    "# Calculamos el R2\n",
    "\n",
    "print(\" Score Train Lineal: %.5f\\n\" % lm.score(X_train, y_train))\n",
    "\n",
    "# Calculamos el RMSE\n",
    "\n",
    "y_pred_tr_lm = lm.predict(X_train)\n",
    "\n",
    "rmse = lambda y, y_pred: np.sqrt(mean_squared_error(y, y_pred))\n",
    "\n",
    "print(\" Train RMSE lineal   : %.5f \\n\" % rmse(y_train,y_pred_tr_lm))\n",
    "\n",
    "# Calculamos el MAE\n",
    "\n",
    "print (' MAE: %.5f\\n' % metrics.mean_absolute_error(y_train,y_pred_tr_lm))\n",
    "\n",
    "# Calculamos el MSE\n",
    "\n",
    "print (' MSE: %.5f\\n' % metrics.mean_squared_error(y_train,y_pred_tr_lm))"
   ]
  },
  {
   "cell_type": "markdown",
   "metadata": {},
   "source": [
    "Evaluamos el modelo sobre el set de test:"
   ]
  },
  {
   "cell_type": "code",
   "execution_count": 56,
   "metadata": {},
   "outputs": [
    {
     "name": "stdout",
     "output_type": "stream",
     "text": [
      " Score Test Lineal: 0.57525\n",
      "\n",
      " Test RMSE lineal= 0.64\n",
      "\n"
     ]
    }
   ],
   "source": [
    "# Hacemos las predicciones sobre la matriz de predictores del Test Set\n",
    "\n",
    "y_pred_lm = lm.predict(X_test)\n",
    "\n",
    "print(\" Score Test Lineal: %.5f\\n\" % lm.score(X_test, y_test))\n",
    "print(\" Test RMSE lineal= %.2f\\n\" % rmse(y_test, y_pred_lm))"
   ]
  },
  {
   "cell_type": "markdown",
   "metadata": {},
   "source": [
    "#### b) Sin Intercepto\n",
    "\n",
    "\n",
    "Se toma intercepto nulo ya que el valor del m2 para valores de X = 0, es 0. Veremos que el resultado es el mismo, ya que el modelo anterior, llevaba el intercepto a 0."
   ]
  },
  {
   "cell_type": "code",
   "execution_count": 57,
   "metadata": {},
   "outputs": [],
   "source": [
    "lm2 = LinearRegression(fit_intercept=False)"
   ]
  },
  {
   "cell_type": "markdown",
   "metadata": {},
   "source": [
    "Fiteamos el modelo, para que aprenda de los datos."
   ]
  },
  {
   "cell_type": "code",
   "execution_count": 58,
   "metadata": {},
   "outputs": [],
   "source": [
    "model2 = lm2.fit(X_train, y_train)"
   ]
  },
  {
   "cell_type": "markdown",
   "metadata": {},
   "source": [
    "El modelo ya determinó sus coeficientes de regresión (betas). Los vemos"
   ]
  },
  {
   "cell_type": "code",
   "execution_count": 59,
   "metadata": {},
   "outputs": [
    {
     "name": "stdout",
     "output_type": "stream",
     "text": [
      "Intercept Linear model:  0.0 \n",
      " Coefs Linear model: [[-0.456 -0.252 -0.002 -0.048 -0.017  0.169  0.052  0.037 -0.08  -0.014\n",
      "   0.12  -0.015  0.01   0.156  0.004  0.012 -0.016 -0.029  0.027  0.104\n",
      "  -0.024  0.195  0.041 -0.036  0.007 -0.001  0.011  0.025  0.025 -0.023\n",
      "  -0.021 -0.009 -0.016  0.033 -0.02  -0.04   0.015 -0.004  0.043 -0.016\n",
      "   0.079  0.089  0.043  0.03   0.019 -0.006  0.008 -0.012  0.008 -0.015\n",
      "  -0.    -0.026  0.192  0.067  0.008  0.018  0.145 -0.004  0.028 -0.011\n",
      "  -0.001 -0.004  0.046  0.012  0.001 -0.048  0.004  0.011  0.003 -0.009\n",
      "   0.002  0.001 -0.018  0.055  0.015  0.381]] \n",
      "\n"
     ]
    }
   ],
   "source": [
    "np.set_printoptions(precision=3, suppress=True)\n",
    "\n",
    "print('Intercept Linear model: ',lm2.intercept_,'\\n',\n",
    "      'Coefs Linear model:',lm2.coef_,'\\n')"
   ]
  },
  {
   "cell_type": "markdown",
   "metadata": {},
   "source": [
    "Vemos la performance del modelo sobre sus propios datos de train"
   ]
  },
  {
   "cell_type": "code",
   "execution_count": 60,
   "metadata": {},
   "outputs": [
    {
     "name": "stdout",
     "output_type": "stream",
     "text": [
      " Score Train Lineal: 0.56767\n",
      "\n",
      " Train RMSE lineal   : 0.65752 \n",
      "\n",
      " MAE: 0.45111\n",
      "\n",
      " MSE: 0.43233\n",
      "\n"
     ]
    }
   ],
   "source": [
    "# Calculamos el R2\n",
    "\n",
    "print(\" Score Train Lineal: %.5f\\n\" % lm2.score(X_train, y_train))\n",
    "\n",
    "# Calculamos el RMSE\n",
    "\n",
    "y_pred_tr_lm2 = lm2.predict(X_train)\n",
    "\n",
    "rmse = lambda y, y_pred: np.sqrt(mean_squared_error(y, y_pred))\n",
    "\n",
    "print(\" Train RMSE lineal   : %.5f \\n\" % rmse(y_train,y_pred_tr_lm2))\n",
    "\n",
    "# Calculamos el MAE\n",
    "\n",
    "print (' MAE: %.5f\\n' % metrics.mean_absolute_error(y_train,y_pred_tr_lm2))\n",
    "\n",
    "# Calculamos el MSE\n",
    "\n",
    "print (' MSE: %.5f\\n' % metrics.mean_squared_error(y_train,y_pred_tr_lm2))"
   ]
  },
  {
   "cell_type": "markdown",
   "metadata": {},
   "source": [
    "SObre el set de test:"
   ]
  },
  {
   "cell_type": "code",
   "execution_count": 61,
   "metadata": {},
   "outputs": [
    {
     "name": "stdout",
     "output_type": "stream",
     "text": [
      " Score Test Lineal: 0.57525\n",
      "\n",
      " Test RMSE lineal= 0.63643\n",
      "\n"
     ]
    }
   ],
   "source": [
    "# Hacemos las predicciones sobre la matriz de predictores del Test Set\n",
    "\n",
    "y_pred_lm2 = lm2.predict(X_test)\n",
    "\n",
    "print(\" Score Test Lineal: %.5f\\n\" % lm2.score(X_test, y_test))\n",
    "print(\" Test RMSE lineal= %.5f\\n\" % rmse(y_test, y_pred_lm2))"
   ]
  },
  {
   "cell_type": "markdown",
   "metadata": {},
   "source": [
    "### Analizamos la regresión lineal con statsmodel para eliminar variables con coeficientes no significativos"
   ]
  },
  {
   "cell_type": "code",
   "execution_count": null,
   "metadata": {},
   "outputs": [],
   "source": []
  },
  {
   "cell_type": "code",
   "execution_count": null,
   "metadata": {},
   "outputs": [],
   "source": []
  },
  {
   "cell_type": "code",
   "execution_count": null,
   "metadata": {},
   "outputs": [],
   "source": []
  },
  {
   "cell_type": "code",
   "execution_count": null,
   "metadata": {},
   "outputs": [],
   "source": []
  },
  {
   "cell_type": "code",
   "execution_count": null,
   "metadata": {},
   "outputs": [],
   "source": []
  },
  {
   "cell_type": "markdown",
   "metadata": {},
   "source": [
    "### 8.a. II) Ridge (Se setea el modelo para que optimice parámetros usando cross-validation de forma automática con k grupos)"
   ]
  },
  {
   "cell_type": "markdown",
   "metadata": {},
   "source": [
    "Instanciamos el modelo, generando un grid de $\\alpha$ para probar e instanciamos un particionador en k partes para la cross-validation"
   ]
  },
  {
   "cell_type": "code",
   "execution_count": 62,
   "metadata": {},
   "outputs": [],
   "source": [
    "al_ridge = np.linspace(0.001, 0.3, 300)\n",
    "\n",
    "kf = KFold(n_splits=5, shuffle=True, random_state=0)\n",
    "\n",
    "lm_ridge_cv= RidgeCV(alphas=al_ridge, cv=kf, normalize=False)"
   ]
  },
  {
   "cell_type": "markdown",
   "metadata": {},
   "source": [
    "Fiteamos el modelo, para que aprenda de los datos. "
   ]
  },
  {
   "cell_type": "code",
   "execution_count": 63,
   "metadata": {},
   "outputs": [
    {
     "data": {
      "text/plain": [
       "RidgeCV(alphas=array([0.001, 0.002, 0.003, 0.004, 0.005, 0.006, 0.007, 0.008, 0.009,\n",
       "       0.01 , 0.011, 0.012, 0.013, 0.014, 0.015, 0.016, 0.017, 0.018,\n",
       "       0.019, 0.02 , 0.021, 0.022, 0.023, 0.024, 0.025, 0.026, 0.027,\n",
       "       0.028, 0.029, 0.03 , 0.031, 0.032, 0.033, 0.034, 0.035, 0.036,\n",
       "       0.037, 0.038, 0.039, 0.04 , 0.041, 0.042, 0.043, 0.044, 0.045,\n",
       "       0.046, 0.047, 0.048, 0.049, 0.05 , 0.051, 0.052, 0.053, 0.054,\n",
       "       0.055, 0.0...\n",
       "       0.262, 0.263, 0.264, 0.265, 0.266, 0.267, 0.268, 0.269, 0.27 ,\n",
       "       0.271, 0.272, 0.273, 0.274, 0.275, 0.276, 0.277, 0.278, 0.279,\n",
       "       0.28 , 0.281, 0.282, 0.283, 0.284, 0.285, 0.286, 0.287, 0.288,\n",
       "       0.289, 0.29 , 0.291, 0.292, 0.293, 0.294, 0.295, 0.296, 0.297,\n",
       "       0.298, 0.299, 0.3  ]),\n",
       "        cv=KFold(n_splits=5, random_state=0, shuffle=True), fit_intercept=True,\n",
       "        gcv_mode=None, normalize=False, scoring=None, store_cv_values=False)"
      ]
     },
     "execution_count": 63,
     "metadata": {},
     "output_type": "execute_result"
    }
   ],
   "source": [
    "lm_ridge_cv.fit(X_train, y_train)"
   ]
  },
  {
   "cell_type": "markdown",
   "metadata": {},
   "source": [
    "EL modelo ya determina sus coeficientes de regresión y su hiperparámetro. Los vemos"
   ]
  },
  {
   "cell_type": "code",
   "execution_count": 64,
   "metadata": {},
   "outputs": [
    {
     "name": "stdout",
     "output_type": "stream",
     "text": [
      "Alpha Ridge: 0.3 \n",
      " Intercept Ridge:  [-0.] \n",
      " Coefs Ridge: [[-0.456 -0.252 -0.002 -0.048 -0.017  0.169  0.052  0.037 -0.08  -0.014\n",
      "   0.12  -0.015  0.01   0.156  0.004  0.012 -0.016 -0.029  0.027  0.104\n",
      "  -0.025  0.195  0.041 -0.036  0.007 -0.001  0.011  0.025  0.025 -0.023\n",
      "  -0.021 -0.009 -0.016  0.033 -0.02  -0.04   0.015 -0.004  0.043 -0.016\n",
      "   0.079  0.089  0.043  0.03   0.019 -0.006  0.008 -0.013  0.008 -0.015\n",
      "  -0.001 -0.026  0.192  0.067  0.008  0.018  0.145 -0.004  0.028 -0.011\n",
      "  -0.001 -0.004  0.046  0.012  0.001 -0.048  0.003  0.011  0.002 -0.009\n",
      "   0.002  0.001 -0.018  0.055  0.015  0.381]] \n",
      "\n"
     ]
    }
   ],
   "source": [
    "np.set_printoptions(precision=3, suppress=True)\n",
    "\n",
    "print('Alpha Ridge:',lm_ridge_cv.alpha_,'\\n',\n",
    "      'Intercept Ridge: ',lm_ridge_cv.intercept_,'\\n',\n",
    "      'Coefs Ridge:',lm_ridge_cv.coef_,'\\n')\n"
   ]
  },
  {
   "cell_type": "markdown",
   "metadata": {},
   "source": [
    "Vemos la performance del modelo sobre sus propios datos de train"
   ]
  },
  {
   "cell_type": "code",
   "execution_count": 65,
   "metadata": {},
   "outputs": [
    {
     "name": "stdout",
     "output_type": "stream",
     "text": [
      "Score Train Ridge : 0.56767\n",
      "\n",
      "Train RMSE Ridge    : 0.65752 \n",
      "\n",
      " MAE: 0.45111\n",
      "\n",
      " MSE: 0.43233\n",
      "\n"
     ]
    }
   ],
   "source": [
    "# Calculamos el R2\n",
    "\n",
    "print(\"Score Train Ridge : %.5f\\n\" % lm_ridge_cv.score(X_train, y_train))\n",
    "\n",
    "# Calculamos el RMSE\n",
    "\n",
    "y_pred_tr_ridge = lm_ridge_cv.predict(X_train)\n",
    "\n",
    "rmse = lambda y, y_pred: np.sqrt(mean_squared_error(y, y_pred))\n",
    "\n",
    "print(\"Train RMSE Ridge    : %.5f \\n\" % rmse(y_train,y_pred_tr_ridge))\n",
    "\n",
    "# Calculamos el MAE\n",
    "\n",
    "print (' MAE: %.5f\\n' % metrics.mean_absolute_error(y_train,y_pred_tr_ridge))\n",
    "\n",
    "# Calculamos el MSE\n",
    "\n",
    "print (' MSE: %.5f\\n' % metrics.mean_squared_error(y_train,y_pred_tr_ridge))"
   ]
  },
  {
   "cell_type": "markdown",
   "metadata": {},
   "source": [
    "SObre el set test"
   ]
  },
  {
   "cell_type": "code",
   "execution_count": 66,
   "metadata": {},
   "outputs": [
    {
     "name": "stdout",
     "output_type": "stream",
     "text": [
      " Score Test Ridge: 0.57525\n",
      "\n",
      " Test RMSE Ridge= 1\n",
      "\n"
     ]
    }
   ],
   "source": [
    "# Hacemos las predicciones sobre la matriz de predictores del Test Set\n",
    "\n",
    "y_pred_ridge = lm_ridge_cv.predict(X_test)\n",
    "\n",
    "print(\" Score Test Ridge: %.5f\\n\" % lm_ridge_cv.score(X_test, y_test))\n",
    "print(\" Test RMSE Ridge= %.f\\n\" % rmse(y_test, y_pred_ridge))"
   ]
  },
  {
   "cell_type": "markdown",
   "metadata": {},
   "source": [
    "### 8.a. III) Lasso (Se setea el modelo para que optimice parámetros usando cross-validation de forma automática con k grupos)\n",
    "\n",
    "De la misma forma que antes, hacemos:"
   ]
  },
  {
   "cell_type": "code",
   "execution_count": 67,
   "metadata": {},
   "outputs": [],
   "source": [
    "al_lasso = np.linspace(0.1, 0.5, 300)\n",
    "\n",
    "kf = KFold(n_splits=5, shuffle=True, random_state=0)\n",
    "\n",
    "lm_lasso_cv = LassoCV(alphas=al_lasso, cv=kf, normalize=False)"
   ]
  },
  {
   "cell_type": "code",
   "execution_count": 68,
   "metadata": {},
   "outputs": [
    {
     "name": "stderr",
     "output_type": "stream",
     "text": [
      "C:\\Users\\user\\anaconda3\\lib\\site-packages\\sklearn\\linear_model\\_coordinate_descent.py:1088: DataConversionWarning: A column-vector y was passed when a 1d array was expected. Please change the shape of y to (n_samples, ), for example using ravel().\n",
      "  y = column_or_1d(y, warn=True)\n"
     ]
    },
    {
     "data": {
      "text/plain": [
       "LassoCV(alphas=array([0.1  , 0.101, 0.103, 0.104, 0.105, 0.107, 0.108, 0.109, 0.111,\n",
       "       0.112, 0.113, 0.115, 0.116, 0.117, 0.119, 0.12 , 0.121, 0.123,\n",
       "       0.124, 0.125, 0.127, 0.128, 0.129, 0.131, 0.132, 0.133, 0.135,\n",
       "       0.136, 0.137, 0.139, 0.14 , 0.141, 0.143, 0.144, 0.145, 0.147,\n",
       "       0.148, 0.149, 0.151, 0.152, 0.154, 0.155, 0.156, 0.158, 0.159,\n",
       "       0.16 , 0.162, 0.163, 0.164, 0.166, 0.167, 0.168, 0.17 , 0.171,\n",
       "       0.172, 0.17...\n",
       "       0.473, 0.475, 0.476, 0.477, 0.479, 0.48 , 0.481, 0.483, 0.484,\n",
       "       0.485, 0.487, 0.488, 0.489, 0.491, 0.492, 0.493, 0.495, 0.496,\n",
       "       0.497, 0.499, 0.5  ]),\n",
       "        copy_X=True, cv=KFold(n_splits=5, random_state=0, shuffle=True),\n",
       "        eps=0.001, fit_intercept=True, max_iter=1000, n_alphas=100, n_jobs=None,\n",
       "        normalize=False, positive=False, precompute='auto', random_state=None,\n",
       "        selection='cyclic', tol=0.0001, verbose=False)"
      ]
     },
     "execution_count": 68,
     "metadata": {},
     "output_type": "execute_result"
    }
   ],
   "source": [
    "lm_lasso_cv.fit(X_train, y_train)"
   ]
  },
  {
   "cell_type": "code",
   "execution_count": 69,
   "metadata": {},
   "outputs": [
    {
     "name": "stdout",
     "output_type": "stream",
     "text": [
      "Alpha Lasso: 0.1 \n",
      "Intercept Lasso:  [-0.] \n",
      "Coefs Lasso: [-0.231 -0.155 -0.    -0.    -0.     0.186  0.     0.    -0.051 -0.\n",
      "  0.    -0.    -0.     0.    -0.    -0.    -0.    -0.     0.     0.\n",
      " -0.     0.098 -0.    -0.016  0.    -0.    -0.     0.     0.    -0.\n",
      " -0.    -0.    -0.     0.    -0.    -0.    -0.    -0.     0.    -0.\n",
      "  0.     0.     0.     0.     0.    -0.    -0.    -0.     0.    -0.\n",
      " -0.    -0.     0.09   0.    -0.    -0.     0.035 -0.    -0.    -0.\n",
      " -0.    -0.     0.    -0.    -0.    -0.    -0.    -0.    -0.    -0.\n",
      " -0.    -0.    -0.     0.    -0.     0.259] \n",
      "\n"
     ]
    }
   ],
   "source": [
    "np.set_printoptions(precision=3, suppress=True)\n",
    "\n",
    "print('Alpha Lasso:',lm_lasso_cv.alpha_,'\\n'\n",
    "      'Intercept Lasso: ',lm_ridge_cv.intercept_,'\\n'\n",
    "      'Coefs Lasso:',lm_lasso_cv.coef_,'\\n')"
   ]
  },
  {
   "cell_type": "markdown",
   "metadata": {},
   "source": [
    "Análisis de las variables que elimina."
   ]
  },
  {
   "cell_type": "code",
   "execution_count": null,
   "metadata": {},
   "outputs": [],
   "source": []
  },
  {
   "cell_type": "code",
   "execution_count": null,
   "metadata": {},
   "outputs": [],
   "source": []
  },
  {
   "cell_type": "code",
   "execution_count": null,
   "metadata": {},
   "outputs": [],
   "source": []
  },
  {
   "cell_type": "code",
   "execution_count": 70,
   "metadata": {},
   "outputs": [
    {
     "name": "stdout",
     "output_type": "stream",
     "text": [
      "Score Train Lasso : 0.42863\n",
      "\n",
      "Train RMSE Lasso    : 0.75589 \n",
      "\n",
      " MAE: 0.51546\n",
      "\n",
      " MSE: 0.57137\n",
      "\n"
     ]
    }
   ],
   "source": [
    "# Calculamos el R2\n",
    "\n",
    "print(\"Score Train Lasso : %.5f\\n\" % lm_lasso_cv.score(X_train, y_train))\n",
    "\n",
    "# Calculamos el RMSE\n",
    "\n",
    "y_pred_tr_lasso = lm_lasso_cv.predict(X_train)\n",
    "\n",
    "rmse = lambda y, y_pred: np.sqrt(mean_squared_error(y, y_pred))\n",
    "\n",
    "print(\"Train RMSE Lasso    : %.5f \\n\" % rmse(y_train,y_pred_tr_lasso))\n",
    "\n",
    "# Calculamos el MAE\n",
    "\n",
    "print (' MAE: %.5f\\n' % metrics.mean_absolute_error(y_train,y_pred_tr_lasso))\n",
    "\n",
    "# Calculamos el MSE\n",
    "\n",
    "print (' MSE: %.5f\\n' % metrics.mean_squared_error(y_train,y_pred_tr_lasso))"
   ]
  },
  {
   "cell_type": "markdown",
   "metadata": {},
   "source": [
    "Sobre el set test"
   ]
  },
  {
   "cell_type": "code",
   "execution_count": 71,
   "metadata": {},
   "outputs": [
    {
     "name": "stdout",
     "output_type": "stream",
     "text": [
      " Score Test Lasso: 0.43112\n",
      "\n",
      " Test RMSE Lasso= 1\n",
      "\n"
     ]
    }
   ],
   "source": [
    "# Hacemos las predicciones sobre la matriz de predictores del Test Set\n",
    "\n",
    "y_pred_lasso = lm_lasso_cv.predict(X_test)\n",
    "\n",
    "print(\" Score Test Lasso: %.5f\\n\" % lm_lasso_cv.score(X_test, y_test))\n",
    "print(\" Test RMSE Lasso= %.f\\n\" % rmse(y_test, y_pred_lasso))"
   ]
  },
  {
   "cell_type": "markdown",
   "metadata": {},
   "source": [
    "### 8.a. IV) Ambas (Se setea el modelo para que optimice parámetros usando cross-validation de forma automática con k grupos)"
   ]
  },
  {
   "cell_type": "code",
   "execution_count": null,
   "metadata": {},
   "outputs": [],
   "source": []
  },
  {
   "cell_type": "code",
   "execution_count": null,
   "metadata": {},
   "outputs": [],
   "source": []
  },
  {
   "cell_type": "code",
   "execution_count": null,
   "metadata": {},
   "outputs": [],
   "source": []
  },
  {
   "cell_type": "markdown",
   "metadata": {},
   "source": [
    "###  8.a. V)   Sin regularización pero con PCA previo"
   ]
  },
  {
   "cell_type": "code",
   "execution_count": 72,
   "metadata": {},
   "outputs": [
    {
     "data": {
      "text/plain": [
       "PCA(copy=True, iterated_power='auto', n_components=None, random_state=None,\n",
       "    svd_solver='auto', tol=0.0, whiten=False)"
      ]
     },
     "execution_count": 72,
     "metadata": {},
     "output_type": "execute_result"
    }
   ],
   "source": [
    "from sklearn.decomposition import PCA\n",
    "\n",
    "# Instanciamos la clase PCA:\n",
    "pca_prop = PCA()\n",
    "\n",
    "# Al no especificar el número de componentes, PCA va a conservar todos los CP.\n",
    "\n",
    "# Calculamos los componentes principales con el método fit()\n",
    "pca_prop.fit(X_train)"
   ]
  },
  {
   "cell_type": "code",
   "execution_count": 73,
   "metadata": {},
   "outputs": [
    {
     "data": {
      "text/html": [
       "<div>\n",
       "<style scoped>\n",
       "    .dataframe tbody tr th:only-of-type {\n",
       "        vertical-align: middle;\n",
       "    }\n",
       "\n",
       "    .dataframe tbody tr th {\n",
       "        vertical-align: top;\n",
       "    }\n",
       "\n",
       "    .dataframe thead th {\n",
       "        text-align: right;\n",
       "    }\n",
       "</style>\n",
       "<table border=\"1\" class=\"dataframe\">\n",
       "  <thead>\n",
       "    <tr style=\"text-align: right;\">\n",
       "      <th></th>\n",
       "      <th>0</th>\n",
       "      <th>1</th>\n",
       "      <th>2</th>\n",
       "      <th>3</th>\n",
       "      <th>4</th>\n",
       "      <th>5</th>\n",
       "      <th>6</th>\n",
       "      <th>7</th>\n",
       "      <th>8</th>\n",
       "      <th>9</th>\n",
       "      <th>...</th>\n",
       "      <th>66</th>\n",
       "      <th>67</th>\n",
       "      <th>68</th>\n",
       "      <th>69</th>\n",
       "      <th>70</th>\n",
       "      <th>71</th>\n",
       "      <th>72</th>\n",
       "      <th>73</th>\n",
       "      <th>74</th>\n",
       "      <th>75</th>\n",
       "    </tr>\n",
       "  </thead>\n",
       "  <tbody>\n",
       "    <tr>\n",
       "      <th>superficie_m2</th>\n",
       "      <td>0.431974</td>\n",
       "      <td>0.455232</td>\n",
       "      <td>0.121550</td>\n",
       "      <td>-0.006700</td>\n",
       "      <td>0.000183</td>\n",
       "      <td>-0.011675</td>\n",
       "      <td>-0.108547</td>\n",
       "      <td>0.077039</td>\n",
       "      <td>-0.013584</td>\n",
       "      <td>0.001901</td>\n",
       "      <td>...</td>\n",
       "      <td>0.020013</td>\n",
       "      <td>0.042648</td>\n",
       "      <td>0.145458</td>\n",
       "      <td>0.055418</td>\n",
       "      <td>-0.033100</td>\n",
       "      <td>0.032052</td>\n",
       "      <td>0.016311</td>\n",
       "      <td>0.328159</td>\n",
       "      <td>0.648848</td>\n",
       "      <td>0.001234</td>\n",
       "    </tr>\n",
       "    <tr>\n",
       "      <th>ambientes</th>\n",
       "      <td>0.351278</td>\n",
       "      <td>-0.286317</td>\n",
       "      <td>0.189172</td>\n",
       "      <td>0.042529</td>\n",
       "      <td>0.219443</td>\n",
       "      <td>-0.113017</td>\n",
       "      <td>-0.153022</td>\n",
       "      <td>-0.092695</td>\n",
       "      <td>0.125042</td>\n",
       "      <td>0.001995</td>\n",
       "      <td>...</td>\n",
       "      <td>0.032952</td>\n",
       "      <td>-0.198367</td>\n",
       "      <td>0.107939</td>\n",
       "      <td>-0.189570</td>\n",
       "      <td>0.410509</td>\n",
       "      <td>-0.409434</td>\n",
       "      <td>0.439677</td>\n",
       "      <td>0.060137</td>\n",
       "      <td>-0.075655</td>\n",
       "      <td>-0.000528</td>\n",
       "    </tr>\n",
       "    <tr>\n",
       "      <th>expensas</th>\n",
       "      <td>-0.025780</td>\n",
       "      <td>0.024461</td>\n",
       "      <td>0.054955</td>\n",
       "      <td>0.692456</td>\n",
       "      <td>-0.077816</td>\n",
       "      <td>0.037835</td>\n",
       "      <td>0.021014</td>\n",
       "      <td>-0.002614</td>\n",
       "      <td>0.001013</td>\n",
       "      <td>0.003939</td>\n",
       "      <td>...</td>\n",
       "      <td>-0.007512</td>\n",
       "      <td>0.022713</td>\n",
       "      <td>0.007034</td>\n",
       "      <td>-0.012171</td>\n",
       "      <td>0.488278</td>\n",
       "      <td>0.517106</td>\n",
       "      <td>0.034572</td>\n",
       "      <td>-0.013238</td>\n",
       "      <td>0.004828</td>\n",
       "      <td>0.000206</td>\n",
       "    </tr>\n",
       "    <tr>\n",
       "      <th>prop_subtipo_PH_big</th>\n",
       "      <td>0.052693</td>\n",
       "      <td>-0.028965</td>\n",
       "      <td>-0.011855</td>\n",
       "      <td>0.009218</td>\n",
       "      <td>0.038951</td>\n",
       "      <td>-0.000946</td>\n",
       "      <td>-0.029112</td>\n",
       "      <td>0.080114</td>\n",
       "      <td>0.156086</td>\n",
       "      <td>0.025300</td>\n",
       "      <td>...</td>\n",
       "      <td>-0.066407</td>\n",
       "      <td>0.087544</td>\n",
       "      <td>-0.074992</td>\n",
       "      <td>0.067924</td>\n",
       "      <td>-0.065071</td>\n",
       "      <td>0.074552</td>\n",
       "      <td>-0.030812</td>\n",
       "      <td>0.064205</td>\n",
       "      <td>-0.048944</td>\n",
       "      <td>0.000266</td>\n",
       "    </tr>\n",
       "    <tr>\n",
       "      <th>prop_subtipo_PH_xl</th>\n",
       "      <td>0.012691</td>\n",
       "      <td>0.001613</td>\n",
       "      <td>-0.002163</td>\n",
       "      <td>0.000591</td>\n",
       "      <td>0.029722</td>\n",
       "      <td>-0.010574</td>\n",
       "      <td>-0.031716</td>\n",
       "      <td>-0.012672</td>\n",
       "      <td>0.083692</td>\n",
       "      <td>0.165663</td>\n",
       "      <td>...</td>\n",
       "      <td>-0.028954</td>\n",
       "      <td>-0.011075</td>\n",
       "      <td>-0.020500</td>\n",
       "      <td>0.012491</td>\n",
       "      <td>-0.012388</td>\n",
       "      <td>0.011565</td>\n",
       "      <td>-0.012184</td>\n",
       "      <td>0.008642</td>\n",
       "      <td>-0.018239</td>\n",
       "      <td>0.000056</td>\n",
       "    </tr>\n",
       "    <tr>\n",
       "      <th>...</th>\n",
       "      <td>...</td>\n",
       "      <td>...</td>\n",
       "      <td>...</td>\n",
       "      <td>...</td>\n",
       "      <td>...</td>\n",
       "      <td>...</td>\n",
       "      <td>...</td>\n",
       "      <td>...</td>\n",
       "      <td>...</td>\n",
       "      <td>...</td>\n",
       "      <td>...</td>\n",
       "      <td>...</td>\n",
       "      <td>...</td>\n",
       "      <td>...</td>\n",
       "      <td>...</td>\n",
       "      <td>...</td>\n",
       "      <td>...</td>\n",
       "      <td>...</td>\n",
       "      <td>...</td>\n",
       "      <td>...</td>\n",
       "      <td>...</td>\n",
       "    </tr>\n",
       "    <tr>\n",
       "      <th>localidad_Villa Santa Rita</th>\n",
       "      <td>0.007998</td>\n",
       "      <td>-0.009140</td>\n",
       "      <td>-0.038093</td>\n",
       "      <td>0.001971</td>\n",
       "      <td>0.037218</td>\n",
       "      <td>-0.007707</td>\n",
       "      <td>0.018398</td>\n",
       "      <td>0.007371</td>\n",
       "      <td>-0.013180</td>\n",
       "      <td>-0.005614</td>\n",
       "      <td>...</td>\n",
       "      <td>0.023541</td>\n",
       "      <td>0.055796</td>\n",
       "      <td>-0.004270</td>\n",
       "      <td>-0.007399</td>\n",
       "      <td>0.025847</td>\n",
       "      <td>-0.015456</td>\n",
       "      <td>-0.021167</td>\n",
       "      <td>0.014644</td>\n",
       "      <td>-0.002707</td>\n",
       "      <td>-0.042752</td>\n",
       "    </tr>\n",
       "    <tr>\n",
       "      <th>localidad_Villa Soldati</th>\n",
       "      <td>0.063852</td>\n",
       "      <td>0.269295</td>\n",
       "      <td>0.120352</td>\n",
       "      <td>-0.009553</td>\n",
       "      <td>0.295590</td>\n",
       "      <td>0.254632</td>\n",
       "      <td>0.338128</td>\n",
       "      <td>-0.187100</td>\n",
       "      <td>0.044949</td>\n",
       "      <td>-0.009538</td>\n",
       "      <td>...</td>\n",
       "      <td>0.001095</td>\n",
       "      <td>-0.129397</td>\n",
       "      <td>-0.516587</td>\n",
       "      <td>-0.499994</td>\n",
       "      <td>-0.036391</td>\n",
       "      <td>0.039511</td>\n",
       "      <td>-0.037693</td>\n",
       "      <td>0.020828</td>\n",
       "      <td>0.024004</td>\n",
       "      <td>-0.022054</td>\n",
       "    </tr>\n",
       "    <tr>\n",
       "      <th>localidad_Villa Urquiza</th>\n",
       "      <td>-0.052326</td>\n",
       "      <td>0.027171</td>\n",
       "      <td>-0.014104</td>\n",
       "      <td>-0.019497</td>\n",
       "      <td>0.084553</td>\n",
       "      <td>-0.084784</td>\n",
       "      <td>-0.007165</td>\n",
       "      <td>-0.001890</td>\n",
       "      <td>-0.017380</td>\n",
       "      <td>-0.050848</td>\n",
       "      <td>...</td>\n",
       "      <td>-0.046588</td>\n",
       "      <td>-0.004938</td>\n",
       "      <td>0.049850</td>\n",
       "      <td>-0.037357</td>\n",
       "      <td>0.023154</td>\n",
       "      <td>0.013755</td>\n",
       "      <td>-0.034931</td>\n",
       "      <td>0.004143</td>\n",
       "      <td>0.004163</td>\n",
       "      <td>-0.225405</td>\n",
       "    </tr>\n",
       "    <tr>\n",
       "      <th>localidad_Villa del Parque</th>\n",
       "      <td>0.000703</td>\n",
       "      <td>-0.017025</td>\n",
       "      <td>-0.030109</td>\n",
       "      <td>-0.003706</td>\n",
       "      <td>0.065705</td>\n",
       "      <td>-0.036440</td>\n",
       "      <td>0.038151</td>\n",
       "      <td>0.018647</td>\n",
       "      <td>-0.001671</td>\n",
       "      <td>0.007893</td>\n",
       "      <td>...</td>\n",
       "      <td>0.062275</td>\n",
       "      <td>0.089007</td>\n",
       "      <td>-0.008901</td>\n",
       "      <td>0.000449</td>\n",
       "      <td>0.009907</td>\n",
       "      <td>0.010022</td>\n",
       "      <td>-0.031321</td>\n",
       "      <td>0.010253</td>\n",
       "      <td>0.001109</td>\n",
       "      <td>-0.125049</td>\n",
       "    </tr>\n",
       "    <tr>\n",
       "      <th>usd_stratify</th>\n",
       "      <td>0.366234</td>\n",
       "      <td>-0.274453</td>\n",
       "      <td>0.310117</td>\n",
       "      <td>-0.045552</td>\n",
       "      <td>-0.202688</td>\n",
       "      <td>0.021719</td>\n",
       "      <td>0.215614</td>\n",
       "      <td>0.142962</td>\n",
       "      <td>-0.046419</td>\n",
       "      <td>0.060859</td>\n",
       "      <td>...</td>\n",
       "      <td>-0.195039</td>\n",
       "      <td>-0.082599</td>\n",
       "      <td>0.117513</td>\n",
       "      <td>-0.118079</td>\n",
       "      <td>0.135621</td>\n",
       "      <td>-0.068529</td>\n",
       "      <td>-0.684432</td>\n",
       "      <td>-0.070523</td>\n",
       "      <td>-0.036879</td>\n",
       "      <td>0.002422</td>\n",
       "    </tr>\n",
       "  </tbody>\n",
       "</table>\n",
       "<p>76 rows × 76 columns</p>\n",
       "</div>"
      ],
      "text/plain": [
       "                                  0         1         2         3         4   \\\n",
       "superficie_m2               0.431974  0.455232  0.121550 -0.006700  0.000183   \n",
       "ambientes                   0.351278 -0.286317  0.189172  0.042529  0.219443   \n",
       "expensas                   -0.025780  0.024461  0.054955  0.692456 -0.077816   \n",
       "prop_subtipo_PH_big         0.052693 -0.028965 -0.011855  0.009218  0.038951   \n",
       "prop_subtipo_PH_xl          0.012691  0.001613 -0.002163  0.000591  0.029722   \n",
       "...                              ...       ...       ...       ...       ...   \n",
       "localidad_Villa Santa Rita  0.007998 -0.009140 -0.038093  0.001971  0.037218   \n",
       "localidad_Villa Soldati     0.063852  0.269295  0.120352 -0.009553  0.295590   \n",
       "localidad_Villa Urquiza    -0.052326  0.027171 -0.014104 -0.019497  0.084553   \n",
       "localidad_Villa del Parque  0.000703 -0.017025 -0.030109 -0.003706  0.065705   \n",
       "usd_stratify                0.366234 -0.274453  0.310117 -0.045552 -0.202688   \n",
       "\n",
       "                                  5         6         7         8         9   \\\n",
       "superficie_m2              -0.011675 -0.108547  0.077039 -0.013584  0.001901   \n",
       "ambientes                  -0.113017 -0.153022 -0.092695  0.125042  0.001995   \n",
       "expensas                    0.037835  0.021014 -0.002614  0.001013  0.003939   \n",
       "prop_subtipo_PH_big        -0.000946 -0.029112  0.080114  0.156086  0.025300   \n",
       "prop_subtipo_PH_xl         -0.010574 -0.031716 -0.012672  0.083692  0.165663   \n",
       "...                              ...       ...       ...       ...       ...   \n",
       "localidad_Villa Santa Rita -0.007707  0.018398  0.007371 -0.013180 -0.005614   \n",
       "localidad_Villa Soldati     0.254632  0.338128 -0.187100  0.044949 -0.009538   \n",
       "localidad_Villa Urquiza    -0.084784 -0.007165 -0.001890 -0.017380 -0.050848   \n",
       "localidad_Villa del Parque -0.036440  0.038151  0.018647 -0.001671  0.007893   \n",
       "usd_stratify                0.021719  0.215614  0.142962 -0.046419  0.060859   \n",
       "\n",
       "                            ...        66        67        68        69  \\\n",
       "superficie_m2               ...  0.020013  0.042648  0.145458  0.055418   \n",
       "ambientes                   ...  0.032952 -0.198367  0.107939 -0.189570   \n",
       "expensas                    ... -0.007512  0.022713  0.007034 -0.012171   \n",
       "prop_subtipo_PH_big         ... -0.066407  0.087544 -0.074992  0.067924   \n",
       "prop_subtipo_PH_xl          ... -0.028954 -0.011075 -0.020500  0.012491   \n",
       "...                         ...       ...       ...       ...       ...   \n",
       "localidad_Villa Santa Rita  ...  0.023541  0.055796 -0.004270 -0.007399   \n",
       "localidad_Villa Soldati     ...  0.001095 -0.129397 -0.516587 -0.499994   \n",
       "localidad_Villa Urquiza     ... -0.046588 -0.004938  0.049850 -0.037357   \n",
       "localidad_Villa del Parque  ...  0.062275  0.089007 -0.008901  0.000449   \n",
       "usd_stratify                ... -0.195039 -0.082599  0.117513 -0.118079   \n",
       "\n",
       "                                  70        71        72        73        74  \\\n",
       "superficie_m2              -0.033100  0.032052  0.016311  0.328159  0.648848   \n",
       "ambientes                   0.410509 -0.409434  0.439677  0.060137 -0.075655   \n",
       "expensas                    0.488278  0.517106  0.034572 -0.013238  0.004828   \n",
       "prop_subtipo_PH_big        -0.065071  0.074552 -0.030812  0.064205 -0.048944   \n",
       "prop_subtipo_PH_xl         -0.012388  0.011565 -0.012184  0.008642 -0.018239   \n",
       "...                              ...       ...       ...       ...       ...   \n",
       "localidad_Villa Santa Rita  0.025847 -0.015456 -0.021167  0.014644 -0.002707   \n",
       "localidad_Villa Soldati    -0.036391  0.039511 -0.037693  0.020828  0.024004   \n",
       "localidad_Villa Urquiza     0.023154  0.013755 -0.034931  0.004143  0.004163   \n",
       "localidad_Villa del Parque  0.009907  0.010022 -0.031321  0.010253  0.001109   \n",
       "usd_stratify                0.135621 -0.068529 -0.684432 -0.070523 -0.036879   \n",
       "\n",
       "                                  75  \n",
       "superficie_m2               0.001234  \n",
       "ambientes                  -0.000528  \n",
       "expensas                    0.000206  \n",
       "prop_subtipo_PH_big         0.000266  \n",
       "prop_subtipo_PH_xl          0.000056  \n",
       "...                              ...  \n",
       "localidad_Villa Santa Rita -0.042752  \n",
       "localidad_Villa Soldati    -0.022054  \n",
       "localidad_Villa Urquiza    -0.225405  \n",
       "localidad_Villa del Parque -0.125049  \n",
       "usd_stratify                0.002422  \n",
       "\n",
       "[76 rows x 76 columns]"
      ]
     },
     "execution_count": 73,
     "metadata": {},
     "output_type": "execute_result"
    }
   ],
   "source": [
    "# Creamos un DataFRame con los loadings:\n",
    "\n",
    "pca_loadings = pd.DataFrame(pca_prop.components_.T,index=X_train.columns)\n",
    "pca_loadings"
   ]
  },
  {
   "cell_type": "code",
   "execution_count": 74,
   "metadata": {},
   "outputs": [
    {
     "data": {
      "text/html": [
       "<div>\n",
       "<style scoped>\n",
       "    .dataframe tbody tr th:only-of-type {\n",
       "        vertical-align: middle;\n",
       "    }\n",
       "\n",
       "    .dataframe tbody tr th {\n",
       "        vertical-align: top;\n",
       "    }\n",
       "\n",
       "    .dataframe thead th {\n",
       "        text-align: right;\n",
       "    }\n",
       "</style>\n",
       "<table border=\"1\" class=\"dataframe\">\n",
       "  <thead>\n",
       "    <tr style=\"text-align: right;\">\n",
       "      <th></th>\n",
       "      <th>0</th>\n",
       "      <th>1</th>\n",
       "      <th>2</th>\n",
       "      <th>3</th>\n",
       "      <th>4</th>\n",
       "      <th>5</th>\n",
       "      <th>6</th>\n",
       "      <th>7</th>\n",
       "      <th>8</th>\n",
       "      <th>9</th>\n",
       "      <th>...</th>\n",
       "      <th>66</th>\n",
       "      <th>67</th>\n",
       "      <th>68</th>\n",
       "      <th>69</th>\n",
       "      <th>70</th>\n",
       "      <th>71</th>\n",
       "      <th>72</th>\n",
       "      <th>73</th>\n",
       "      <th>74</th>\n",
       "      <th>75</th>\n",
       "    </tr>\n",
       "  </thead>\n",
       "  <tbody>\n",
       "    <tr>\n",
       "      <th>0</th>\n",
       "      <td>1.000000e+00</td>\n",
       "      <td>1.780147e-18</td>\n",
       "      <td>2.269885e-16</td>\n",
       "      <td>-1.110067e-20</td>\n",
       "      <td>1.271423e-16</td>\n",
       "      <td>2.341962e-16</td>\n",
       "      <td>2.155154e-17</td>\n",
       "      <td>9.299022e-17</td>\n",
       "      <td>-1.062721e-17</td>\n",
       "      <td>1.596094e-17</td>\n",
       "      <td>...</td>\n",
       "      <td>-1.266019e-17</td>\n",
       "      <td>6.621885e-17</td>\n",
       "      <td>3.503289e-17</td>\n",
       "      <td>3.172677e-17</td>\n",
       "      <td>1.207389e-16</td>\n",
       "      <td>4.567490e-17</td>\n",
       "      <td>-1.549654e-16</td>\n",
       "      <td>-3.334755e-17</td>\n",
       "      <td>-2.667757e-16</td>\n",
       "      <td>4.445439e-17</td>\n",
       "    </tr>\n",
       "    <tr>\n",
       "      <th>1</th>\n",
       "      <td>1.780147e-18</td>\n",
       "      <td>1.000000e+00</td>\n",
       "      <td>-1.000256e-16</td>\n",
       "      <td>-2.640390e-16</td>\n",
       "      <td>-1.001175e-16</td>\n",
       "      <td>-1.137692e-16</td>\n",
       "      <td>-1.176251e-16</td>\n",
       "      <td>1.738339e-17</td>\n",
       "      <td>-1.548733e-17</td>\n",
       "      <td>1.200690e-18</td>\n",
       "      <td>...</td>\n",
       "      <td>-1.633791e-17</td>\n",
       "      <td>1.347241e-16</td>\n",
       "      <td>9.365244e-17</td>\n",
       "      <td>-8.263588e-17</td>\n",
       "      <td>-1.757783e-16</td>\n",
       "      <td>-7.710931e-17</td>\n",
       "      <td>1.541801e-16</td>\n",
       "      <td>1.295816e-16</td>\n",
       "      <td>-1.608790e-17</td>\n",
       "      <td>-2.238504e-17</td>\n",
       "    </tr>\n",
       "    <tr>\n",
       "      <th>2</th>\n",
       "      <td>2.269885e-16</td>\n",
       "      <td>-1.000256e-16</td>\n",
       "      <td>1.000000e+00</td>\n",
       "      <td>3.253232e-17</td>\n",
       "      <td>9.706672e-17</td>\n",
       "      <td>-2.190592e-16</td>\n",
       "      <td>-1.076269e-16</td>\n",
       "      <td>2.243471e-16</td>\n",
       "      <td>2.313799e-17</td>\n",
       "      <td>1.912880e-17</td>\n",
       "      <td>...</td>\n",
       "      <td>1.172083e-16</td>\n",
       "      <td>3.519853e-17</td>\n",
       "      <td>5.013365e-17</td>\n",
       "      <td>1.300686e-16</td>\n",
       "      <td>-3.340499e-16</td>\n",
       "      <td>8.826243e-17</td>\n",
       "      <td>7.733091e-17</td>\n",
       "      <td>-1.028206e-16</td>\n",
       "      <td>-2.070744e-16</td>\n",
       "      <td>1.074500e-16</td>\n",
       "    </tr>\n",
       "    <tr>\n",
       "      <th>3</th>\n",
       "      <td>-1.110067e-20</td>\n",
       "      <td>-2.640390e-16</td>\n",
       "      <td>3.253232e-17</td>\n",
       "      <td>1.000000e+00</td>\n",
       "      <td>-1.063898e-16</td>\n",
       "      <td>-8.738214e-16</td>\n",
       "      <td>-2.303105e-16</td>\n",
       "      <td>-2.617864e-16</td>\n",
       "      <td>6.273167e-17</td>\n",
       "      <td>-6.104975e-17</td>\n",
       "      <td>...</td>\n",
       "      <td>1.663187e-16</td>\n",
       "      <td>8.484325e-17</td>\n",
       "      <td>-1.733001e-16</td>\n",
       "      <td>-1.947697e-16</td>\n",
       "      <td>-1.411516e-16</td>\n",
       "      <td>-2.890734e-16</td>\n",
       "      <td>1.368708e-16</td>\n",
       "      <td>-5.958392e-17</td>\n",
       "      <td>5.474116e-17</td>\n",
       "      <td>-2.061447e-16</td>\n",
       "    </tr>\n",
       "    <tr>\n",
       "      <th>4</th>\n",
       "      <td>1.271423e-16</td>\n",
       "      <td>-1.001175e-16</td>\n",
       "      <td>9.706672e-17</td>\n",
       "      <td>-1.063898e-16</td>\n",
       "      <td>1.000000e+00</td>\n",
       "      <td>-1.856627e-16</td>\n",
       "      <td>-2.400538e-17</td>\n",
       "      <td>4.452581e-16</td>\n",
       "      <td>1.506589e-15</td>\n",
       "      <td>-2.072189e-16</td>\n",
       "      <td>...</td>\n",
       "      <td>-2.019902e-16</td>\n",
       "      <td>-5.176781e-17</td>\n",
       "      <td>-1.237670e-16</td>\n",
       "      <td>-1.285926e-16</td>\n",
       "      <td>-1.219012e-17</td>\n",
       "      <td>-1.080235e-17</td>\n",
       "      <td>6.884456e-17</td>\n",
       "      <td>4.936508e-17</td>\n",
       "      <td>-1.449082e-16</td>\n",
       "      <td>6.131444e-17</td>\n",
       "    </tr>\n",
       "    <tr>\n",
       "      <th>...</th>\n",
       "      <td>...</td>\n",
       "      <td>...</td>\n",
       "      <td>...</td>\n",
       "      <td>...</td>\n",
       "      <td>...</td>\n",
       "      <td>...</td>\n",
       "      <td>...</td>\n",
       "      <td>...</td>\n",
       "      <td>...</td>\n",
       "      <td>...</td>\n",
       "      <td>...</td>\n",
       "      <td>...</td>\n",
       "      <td>...</td>\n",
       "      <td>...</td>\n",
       "      <td>...</td>\n",
       "      <td>...</td>\n",
       "      <td>...</td>\n",
       "      <td>...</td>\n",
       "      <td>...</td>\n",
       "      <td>...</td>\n",
       "      <td>...</td>\n",
       "    </tr>\n",
       "    <tr>\n",
       "      <th>71</th>\n",
       "      <td>4.567490e-17</td>\n",
       "      <td>-7.710931e-17</td>\n",
       "      <td>8.826243e-17</td>\n",
       "      <td>-2.890734e-16</td>\n",
       "      <td>-1.080235e-17</td>\n",
       "      <td>-1.618350e-16</td>\n",
       "      <td>-3.285426e-16</td>\n",
       "      <td>2.508499e-17</td>\n",
       "      <td>-6.012297e-17</td>\n",
       "      <td>-2.608944e-17</td>\n",
       "      <td>...</td>\n",
       "      <td>1.637953e-16</td>\n",
       "      <td>-6.028418e-17</td>\n",
       "      <td>3.182690e-16</td>\n",
       "      <td>-1.339410e-16</td>\n",
       "      <td>3.627208e-16</td>\n",
       "      <td>1.000000e+00</td>\n",
       "      <td>1.932603e-17</td>\n",
       "      <td>-2.118645e-16</td>\n",
       "      <td>6.148569e-17</td>\n",
       "      <td>-2.703231e-16</td>\n",
       "    </tr>\n",
       "    <tr>\n",
       "      <th>72</th>\n",
       "      <td>-1.549654e-16</td>\n",
       "      <td>1.541801e-16</td>\n",
       "      <td>7.733091e-17</td>\n",
       "      <td>1.368708e-16</td>\n",
       "      <td>6.884456e-17</td>\n",
       "      <td>1.331516e-16</td>\n",
       "      <td>-3.800623e-16</td>\n",
       "      <td>-9.315362e-17</td>\n",
       "      <td>2.096541e-18</td>\n",
       "      <td>-3.612720e-17</td>\n",
       "      <td>...</td>\n",
       "      <td>-2.819947e-17</td>\n",
       "      <td>-3.024696e-16</td>\n",
       "      <td>9.731344e-17</td>\n",
       "      <td>1.973716e-16</td>\n",
       "      <td>2.613273e-16</td>\n",
       "      <td>1.932603e-17</td>\n",
       "      <td>1.000000e+00</td>\n",
       "      <td>-2.783681e-17</td>\n",
       "      <td>6.407139e-17</td>\n",
       "      <td>3.876597e-16</td>\n",
       "    </tr>\n",
       "    <tr>\n",
       "      <th>73</th>\n",
       "      <td>-3.334755e-17</td>\n",
       "      <td>1.295816e-16</td>\n",
       "      <td>-1.028206e-16</td>\n",
       "      <td>-5.958392e-17</td>\n",
       "      <td>4.936508e-17</td>\n",
       "      <td>-2.817159e-16</td>\n",
       "      <td>3.446177e-16</td>\n",
       "      <td>-1.657379e-16</td>\n",
       "      <td>-2.480446e-18</td>\n",
       "      <td>-1.822181e-17</td>\n",
       "      <td>...</td>\n",
       "      <td>-1.190626e-16</td>\n",
       "      <td>6.704534e-17</td>\n",
       "      <td>1.266089e-16</td>\n",
       "      <td>-3.749845e-17</td>\n",
       "      <td>1.206093e-16</td>\n",
       "      <td>-2.118645e-16</td>\n",
       "      <td>-2.783681e-17</td>\n",
       "      <td>1.000000e+00</td>\n",
       "      <td>-6.665764e-17</td>\n",
       "      <td>-3.587022e-16</td>\n",
       "    </tr>\n",
       "    <tr>\n",
       "      <th>74</th>\n",
       "      <td>-2.667757e-16</td>\n",
       "      <td>-1.608790e-17</td>\n",
       "      <td>-2.070744e-16</td>\n",
       "      <td>5.474116e-17</td>\n",
       "      <td>-1.449082e-16</td>\n",
       "      <td>4.148792e-17</td>\n",
       "      <td>5.909226e-17</td>\n",
       "      <td>-2.322470e-16</td>\n",
       "      <td>1.938882e-18</td>\n",
       "      <td>-2.700722e-17</td>\n",
       "      <td>...</td>\n",
       "      <td>-2.650322e-17</td>\n",
       "      <td>-1.321077e-16</td>\n",
       "      <td>1.861557e-17</td>\n",
       "      <td>1.933637e-17</td>\n",
       "      <td>-2.776238e-16</td>\n",
       "      <td>6.148569e-17</td>\n",
       "      <td>6.407139e-17</td>\n",
       "      <td>-6.665764e-17</td>\n",
       "      <td>1.000000e+00</td>\n",
       "      <td>1.066945e-16</td>\n",
       "    </tr>\n",
       "    <tr>\n",
       "      <th>75</th>\n",
       "      <td>4.445439e-17</td>\n",
       "      <td>-2.238504e-17</td>\n",
       "      <td>1.074500e-16</td>\n",
       "      <td>-2.061447e-16</td>\n",
       "      <td>6.131444e-17</td>\n",
       "      <td>-9.660177e-17</td>\n",
       "      <td>1.991606e-16</td>\n",
       "      <td>4.272058e-16</td>\n",
       "      <td>-1.065996e-16</td>\n",
       "      <td>-5.911089e-17</td>\n",
       "      <td>...</td>\n",
       "      <td>1.640669e-16</td>\n",
       "      <td>-1.482232e-16</td>\n",
       "      <td>8.248201e-17</td>\n",
       "      <td>9.516351e-17</td>\n",
       "      <td>-7.686401e-18</td>\n",
       "      <td>-2.703231e-16</td>\n",
       "      <td>3.876597e-16</td>\n",
       "      <td>-3.587022e-16</td>\n",
       "      <td>1.066945e-16</td>\n",
       "      <td>1.000000e+00</td>\n",
       "    </tr>\n",
       "  </tbody>\n",
       "</table>\n",
       "<p>76 rows × 76 columns</p>\n",
       "</div>"
      ],
      "text/plain": [
       "              0             1             2             3             4   \\\n",
       "0   1.000000e+00  1.780147e-18  2.269885e-16 -1.110067e-20  1.271423e-16   \n",
       "1   1.780147e-18  1.000000e+00 -1.000256e-16 -2.640390e-16 -1.001175e-16   \n",
       "2   2.269885e-16 -1.000256e-16  1.000000e+00  3.253232e-17  9.706672e-17   \n",
       "3  -1.110067e-20 -2.640390e-16  3.253232e-17  1.000000e+00 -1.063898e-16   \n",
       "4   1.271423e-16 -1.001175e-16  9.706672e-17 -1.063898e-16  1.000000e+00   \n",
       "..           ...           ...           ...           ...           ...   \n",
       "71  4.567490e-17 -7.710931e-17  8.826243e-17 -2.890734e-16 -1.080235e-17   \n",
       "72 -1.549654e-16  1.541801e-16  7.733091e-17  1.368708e-16  6.884456e-17   \n",
       "73 -3.334755e-17  1.295816e-16 -1.028206e-16 -5.958392e-17  4.936508e-17   \n",
       "74 -2.667757e-16 -1.608790e-17 -2.070744e-16  5.474116e-17 -1.449082e-16   \n",
       "75  4.445439e-17 -2.238504e-17  1.074500e-16 -2.061447e-16  6.131444e-17   \n",
       "\n",
       "              5             6             7             8             9   ...  \\\n",
       "0   2.341962e-16  2.155154e-17  9.299022e-17 -1.062721e-17  1.596094e-17  ...   \n",
       "1  -1.137692e-16 -1.176251e-16  1.738339e-17 -1.548733e-17  1.200690e-18  ...   \n",
       "2  -2.190592e-16 -1.076269e-16  2.243471e-16  2.313799e-17  1.912880e-17  ...   \n",
       "3  -8.738214e-16 -2.303105e-16 -2.617864e-16  6.273167e-17 -6.104975e-17  ...   \n",
       "4  -1.856627e-16 -2.400538e-17  4.452581e-16  1.506589e-15 -2.072189e-16  ...   \n",
       "..           ...           ...           ...           ...           ...  ...   \n",
       "71 -1.618350e-16 -3.285426e-16  2.508499e-17 -6.012297e-17 -2.608944e-17  ...   \n",
       "72  1.331516e-16 -3.800623e-16 -9.315362e-17  2.096541e-18 -3.612720e-17  ...   \n",
       "73 -2.817159e-16  3.446177e-16 -1.657379e-16 -2.480446e-18 -1.822181e-17  ...   \n",
       "74  4.148792e-17  5.909226e-17 -2.322470e-16  1.938882e-18 -2.700722e-17  ...   \n",
       "75 -9.660177e-17  1.991606e-16  4.272058e-16 -1.065996e-16 -5.911089e-17  ...   \n",
       "\n",
       "              66            67            68            69            70  \\\n",
       "0  -1.266019e-17  6.621885e-17  3.503289e-17  3.172677e-17  1.207389e-16   \n",
       "1  -1.633791e-17  1.347241e-16  9.365244e-17 -8.263588e-17 -1.757783e-16   \n",
       "2   1.172083e-16  3.519853e-17  5.013365e-17  1.300686e-16 -3.340499e-16   \n",
       "3   1.663187e-16  8.484325e-17 -1.733001e-16 -1.947697e-16 -1.411516e-16   \n",
       "4  -2.019902e-16 -5.176781e-17 -1.237670e-16 -1.285926e-16 -1.219012e-17   \n",
       "..           ...           ...           ...           ...           ...   \n",
       "71  1.637953e-16 -6.028418e-17  3.182690e-16 -1.339410e-16  3.627208e-16   \n",
       "72 -2.819947e-17 -3.024696e-16  9.731344e-17  1.973716e-16  2.613273e-16   \n",
       "73 -1.190626e-16  6.704534e-17  1.266089e-16 -3.749845e-17  1.206093e-16   \n",
       "74 -2.650322e-17 -1.321077e-16  1.861557e-17  1.933637e-17 -2.776238e-16   \n",
       "75  1.640669e-16 -1.482232e-16  8.248201e-17  9.516351e-17 -7.686401e-18   \n",
       "\n",
       "              71            72            73            74            75  \n",
       "0   4.567490e-17 -1.549654e-16 -3.334755e-17 -2.667757e-16  4.445439e-17  \n",
       "1  -7.710931e-17  1.541801e-16  1.295816e-16 -1.608790e-17 -2.238504e-17  \n",
       "2   8.826243e-17  7.733091e-17 -1.028206e-16 -2.070744e-16  1.074500e-16  \n",
       "3  -2.890734e-16  1.368708e-16 -5.958392e-17  5.474116e-17 -2.061447e-16  \n",
       "4  -1.080235e-17  6.884456e-17  4.936508e-17 -1.449082e-16  6.131444e-17  \n",
       "..           ...           ...           ...           ...           ...  \n",
       "71  1.000000e+00  1.932603e-17 -2.118645e-16  6.148569e-17 -2.703231e-16  \n",
       "72  1.932603e-17  1.000000e+00 -2.783681e-17  6.407139e-17  3.876597e-16  \n",
       "73 -2.118645e-16 -2.783681e-17  1.000000e+00 -6.665764e-17 -3.587022e-16  \n",
       "74  6.148569e-17  6.407139e-17 -6.665764e-17  1.000000e+00  1.066945e-16  \n",
       "75 -2.703231e-16  3.876597e-16 -3.587022e-16  1.066945e-16  1.000000e+00  \n",
       "\n",
       "[76 rows x 76 columns]"
      ]
     },
     "execution_count": 74,
     "metadata": {},
     "output_type": "execute_result"
    }
   ],
   "source": [
    "# Verificamos la ortonormalidad de los componentes principales:\n",
    "\n",
    "pca_loadings.T.dot(pca_loadings)"
   ]
  },
  {
   "cell_type": "code",
   "execution_count": 75,
   "metadata": {},
   "outputs": [
    {
     "data": {
      "text/html": [
       "<div>\n",
       "<style scoped>\n",
       "    .dataframe tbody tr th:only-of-type {\n",
       "        vertical-align: middle;\n",
       "    }\n",
       "\n",
       "    .dataframe tbody tr th {\n",
       "        vertical-align: top;\n",
       "    }\n",
       "\n",
       "    .dataframe thead th {\n",
       "        text-align: right;\n",
       "    }\n",
       "</style>\n",
       "<table border=\"1\" class=\"dataframe\">\n",
       "  <thead>\n",
       "    <tr style=\"text-align: right;\">\n",
       "      <th></th>\n",
       "      <th>0</th>\n",
       "      <th>1</th>\n",
       "      <th>2</th>\n",
       "      <th>3</th>\n",
       "      <th>4</th>\n",
       "      <th>5</th>\n",
       "      <th>6</th>\n",
       "      <th>7</th>\n",
       "      <th>8</th>\n",
       "      <th>9</th>\n",
       "      <th>...</th>\n",
       "      <th>66</th>\n",
       "      <th>67</th>\n",
       "      <th>68</th>\n",
       "      <th>69</th>\n",
       "      <th>70</th>\n",
       "      <th>71</th>\n",
       "      <th>72</th>\n",
       "      <th>73</th>\n",
       "      <th>74</th>\n",
       "      <th>75</th>\n",
       "    </tr>\n",
       "  </thead>\n",
       "  <tbody>\n",
       "    <tr>\n",
       "      <th>0</th>\n",
       "      <td>-1.109592</td>\n",
       "      <td>0.419543</td>\n",
       "      <td>-0.677202</td>\n",
       "      <td>-0.045676</td>\n",
       "      <td>0.889906</td>\n",
       "      <td>-0.235917</td>\n",
       "      <td>-0.762550</td>\n",
       "      <td>-0.526288</td>\n",
       "      <td>0.401631</td>\n",
       "      <td>-0.344187</td>\n",
       "      <td>...</td>\n",
       "      <td>0.097636</td>\n",
       "      <td>0.292903</td>\n",
       "      <td>-0.031718</td>\n",
       "      <td>0.058621</td>\n",
       "      <td>-0.008535</td>\n",
       "      <td>0.051471</td>\n",
       "      <td>0.232695</td>\n",
       "      <td>0.110207</td>\n",
       "      <td>-0.064443</td>\n",
       "      <td>-0.004567</td>\n",
       "    </tr>\n",
       "    <tr>\n",
       "      <th>1</th>\n",
       "      <td>4.514809</td>\n",
       "      <td>-2.513312</td>\n",
       "      <td>2.861639</td>\n",
       "      <td>0.058970</td>\n",
       "      <td>0.025043</td>\n",
       "      <td>2.001858</td>\n",
       "      <td>-3.011162</td>\n",
       "      <td>-2.455237</td>\n",
       "      <td>0.348995</td>\n",
       "      <td>1.099560</td>\n",
       "      <td>...</td>\n",
       "      <td>3.495123</td>\n",
       "      <td>-0.355748</td>\n",
       "      <td>-0.613960</td>\n",
       "      <td>0.752170</td>\n",
       "      <td>-0.049589</td>\n",
       "      <td>0.047020</td>\n",
       "      <td>-0.121624</td>\n",
       "      <td>0.455779</td>\n",
       "      <td>0.136359</td>\n",
       "      <td>0.000841</td>\n",
       "    </tr>\n",
       "    <tr>\n",
       "      <th>2</th>\n",
       "      <td>-1.137771</td>\n",
       "      <td>0.659206</td>\n",
       "      <td>-0.318562</td>\n",
       "      <td>-0.161933</td>\n",
       "      <td>0.133437</td>\n",
       "      <td>-0.074104</td>\n",
       "      <td>-0.769355</td>\n",
       "      <td>-0.005781</td>\n",
       "      <td>-0.360950</td>\n",
       "      <td>-0.513948</td>\n",
       "      <td>...</td>\n",
       "      <td>-0.655241</td>\n",
       "      <td>-0.952366</td>\n",
       "      <td>0.602040</td>\n",
       "      <td>-0.453394</td>\n",
       "      <td>0.432924</td>\n",
       "      <td>-0.286007</td>\n",
       "      <td>-0.111686</td>\n",
       "      <td>-0.026850</td>\n",
       "      <td>-0.106848</td>\n",
       "      <td>-0.003080</td>\n",
       "    </tr>\n",
       "    <tr>\n",
       "      <th>3</th>\n",
       "      <td>-0.940571</td>\n",
       "      <td>0.297693</td>\n",
       "      <td>-0.587219</td>\n",
       "      <td>-0.014829</td>\n",
       "      <td>0.989173</td>\n",
       "      <td>-0.287306</td>\n",
       "      <td>-0.834452</td>\n",
       "      <td>-0.567294</td>\n",
       "      <td>0.458678</td>\n",
       "      <td>-0.343170</td>\n",
       "      <td>...</td>\n",
       "      <td>0.113004</td>\n",
       "      <td>0.203221</td>\n",
       "      <td>0.020716</td>\n",
       "      <td>-0.027358</td>\n",
       "      <td>0.187022</td>\n",
       "      <td>-0.126932</td>\n",
       "      <td>0.435060</td>\n",
       "      <td>0.143989</td>\n",
       "      <td>-0.086284</td>\n",
       "      <td>-0.004782</td>\n",
       "    </tr>\n",
       "    <tr>\n",
       "      <th>4</th>\n",
       "      <td>-0.030543</td>\n",
       "      <td>-0.168139</td>\n",
       "      <td>0.409016</td>\n",
       "      <td>-0.095521</td>\n",
       "      <td>0.445230</td>\n",
       "      <td>-0.367091</td>\n",
       "      <td>-0.370301</td>\n",
       "      <td>-0.544879</td>\n",
       "      <td>0.378525</td>\n",
       "      <td>-0.236797</td>\n",
       "      <td>...</td>\n",
       "      <td>-0.419455</td>\n",
       "      <td>-0.648492</td>\n",
       "      <td>0.489002</td>\n",
       "      <td>-0.485648</td>\n",
       "      <td>0.797719</td>\n",
       "      <td>-0.614489</td>\n",
       "      <td>-0.159826</td>\n",
       "      <td>0.157108</td>\n",
       "      <td>-0.034210</td>\n",
       "      <td>-0.001268</td>\n",
       "    </tr>\n",
       "  </tbody>\n",
       "</table>\n",
       "<p>5 rows × 76 columns</p>\n",
       "</div>"
      ],
      "text/plain": [
       "         0         1         2         3         4         5         6   \\\n",
       "0 -1.109592  0.419543 -0.677202 -0.045676  0.889906 -0.235917 -0.762550   \n",
       "1  4.514809 -2.513312  2.861639  0.058970  0.025043  2.001858 -3.011162   \n",
       "2 -1.137771  0.659206 -0.318562 -0.161933  0.133437 -0.074104 -0.769355   \n",
       "3 -0.940571  0.297693 -0.587219 -0.014829  0.989173 -0.287306 -0.834452   \n",
       "4 -0.030543 -0.168139  0.409016 -0.095521  0.445230 -0.367091 -0.370301   \n",
       "\n",
       "         7         8         9   ...        66        67        68        69  \\\n",
       "0 -0.526288  0.401631 -0.344187  ...  0.097636  0.292903 -0.031718  0.058621   \n",
       "1 -2.455237  0.348995  1.099560  ...  3.495123 -0.355748 -0.613960  0.752170   \n",
       "2 -0.005781 -0.360950 -0.513948  ... -0.655241 -0.952366  0.602040 -0.453394   \n",
       "3 -0.567294  0.458678 -0.343170  ...  0.113004  0.203221  0.020716 -0.027358   \n",
       "4 -0.544879  0.378525 -0.236797  ... -0.419455 -0.648492  0.489002 -0.485648   \n",
       "\n",
       "         70        71        72        73        74        75  \n",
       "0 -0.008535  0.051471  0.232695  0.110207 -0.064443 -0.004567  \n",
       "1 -0.049589  0.047020 -0.121624  0.455779  0.136359  0.000841  \n",
       "2  0.432924 -0.286007 -0.111686 -0.026850 -0.106848 -0.003080  \n",
       "3  0.187022 -0.126932  0.435060  0.143989 -0.086284 -0.004782  \n",
       "4  0.797719 -0.614489 -0.159826  0.157108 -0.034210 -0.001268  \n",
       "\n",
       "[5 rows x 76 columns]"
      ]
     },
     "execution_count": 75,
     "metadata": {},
     "output_type": "execute_result"
    }
   ],
   "source": [
    "# Generamos un DataFrame expresando en términos de nuestros componentes principales:\n",
    "\n",
    "df_pca = pd.DataFrame(pca_prop.fit_transform(X_train),\n",
    "                      index=X_train.index)\n",
    "df_pca.head()"
   ]
  },
  {
   "cell_type": "code",
   "execution_count": 76,
   "metadata": {},
   "outputs": [
    {
     "name": "stdout",
     "output_type": "stream",
     "text": [
      "Media de los CP: \n",
      "0     2.423937e-17\n",
      "1    -1.062993e-17\n",
      "2    -2.866634e-17\n",
      "3    -1.233816e-17\n",
      "4     2.201884e-17\n",
      "          ...     \n",
      "71    2.352268e-17\n",
      "72   -1.324730e-17\n",
      "73   -6.440412e-19\n",
      "74    9.492561e-19\n",
      "75   -1.828084e-17\n",
      "Length: 76, dtype: float64\n",
      "\n",
      "\n",
      "Varianza de los CPs: \n",
      "0     2.691614\n",
      "1     1.694623\n",
      "2     1.490564\n",
      "3     1.459749\n",
      "4     1.301380\n",
      "        ...   \n",
      "71    0.547790\n",
      "72    0.307164\n",
      "73    0.174774\n",
      "74    0.111934\n",
      "75    0.003700\n",
      "Length: 76, dtype: float64\n"
     ]
    }
   ],
   "source": [
    "# Observamos la media de las variables:\n",
    "print(\"Media de los CP: \")\n",
    "print(df_pca.mean(axis=0))\n",
    "\n",
    "print('\\n')\n",
    "\n",
    "# Observamos la varianza de las variables:\n",
    "print(\"Varianza de los CPs: \")\n",
    "print(df_pca.var(axis=0))"
   ]
  },
  {
   "cell_type": "code",
   "execution_count": 77,
   "metadata": {},
   "outputs": [
    {
     "data": {
      "text/plain": [
       "array([2.692, 1.695, 1.491, 1.46 , 1.301, 1.286, 1.176, 1.12 , 1.104,\n",
       "       1.081, 1.073, 1.061, 1.057, 1.053, 1.047, 1.045, 1.042, 1.042,\n",
       "       1.039, 1.036, 1.031, 1.026, 1.024, 1.021, 1.018, 1.017, 1.017,\n",
       "       1.016, 1.014, 1.014, 1.013, 1.012, 1.012, 1.01 , 1.009, 1.009,\n",
       "       1.008, 1.007, 1.007, 1.007, 1.006, 1.006, 1.006, 1.006, 1.005,\n",
       "       1.005, 1.004, 1.004, 1.003, 1.003, 1.003, 1.002, 1.002, 1.002,\n",
       "       1.002, 1.002, 1.002, 1.002, 1.001, 1.   , 1.   , 0.979, 0.971,\n",
       "       0.958, 0.933, 0.928, 0.917, 0.851, 0.77 , 0.73 , 0.565, 0.548,\n",
       "       0.307, 0.175, 0.112, 0.004])"
      ]
     },
     "execution_count": 77,
     "metadata": {},
     "output_type": "execute_result"
    }
   ],
   "source": [
    "# Vemos la varianza explicada de cada componente principal como atributo del modelo.\n",
    "\n",
    "pca_prop.explained_variance_"
   ]
  },
  {
   "cell_type": "code",
   "execution_count": 78,
   "metadata": {},
   "outputs": [
    {
     "data": {
      "text/plain": [
       "array([0.035, 0.022, 0.02 , 0.019, 0.017, 0.017, 0.015, 0.015, 0.015,\n",
       "       0.014, 0.014, 0.014, 0.014, 0.014, 0.014, 0.014, 0.014, 0.014,\n",
       "       0.014, 0.014, 0.014, 0.014, 0.013, 0.013, 0.013, 0.013, 0.013,\n",
       "       0.013, 0.013, 0.013, 0.013, 0.013, 0.013, 0.013, 0.013, 0.013,\n",
       "       0.013, 0.013, 0.013, 0.013, 0.013, 0.013, 0.013, 0.013, 0.013,\n",
       "       0.013, 0.013, 0.013, 0.013, 0.013, 0.013, 0.013, 0.013, 0.013,\n",
       "       0.013, 0.013, 0.013, 0.013, 0.013, 0.013, 0.013, 0.013, 0.013,\n",
       "       0.013, 0.012, 0.012, 0.012, 0.011, 0.01 , 0.01 , 0.007, 0.007,\n",
       "       0.004, 0.002, 0.001, 0.   ])"
      ]
     },
     "execution_count": 78,
     "metadata": {},
     "output_type": "execute_result"
    }
   ],
   "source": [
    "# Vemos el ratio la varianza explicada de cada componente principal como atributo del modelo.\n",
    "\n",
    "pca_prop.explained_variance_ratio_"
   ]
  },
  {
   "cell_type": "code",
   "execution_count": 79,
   "metadata": {},
   "outputs": [
    {
     "data": {
      "text/plain": [
       "array([0.035, 0.058, 0.077, 0.097, 0.114, 0.131, 0.146, 0.161, 0.175,\n",
       "       0.19 , 0.204, 0.218, 0.232, 0.245, 0.259, 0.273, 0.287, 0.3  ,\n",
       "       0.314, 0.328, 0.341, 0.355, 0.368, 0.382, 0.395, 0.408, 0.422,\n",
       "       0.435, 0.448, 0.462, 0.475, 0.488, 0.502, 0.515, 0.528, 0.542,\n",
       "       0.555, 0.568, 0.581, 0.595, 0.608, 0.621, 0.634, 0.648, 0.661,\n",
       "       0.674, 0.687, 0.7  , 0.714, 0.727, 0.74 , 0.753, 0.766, 0.78 ,\n",
       "       0.793, 0.806, 0.819, 0.832, 0.845, 0.859, 0.872, 0.885, 0.897,\n",
       "       0.91 , 0.922, 0.934, 0.947, 0.958, 0.968, 0.977, 0.985, 0.992,\n",
       "       0.996, 0.998, 1.   , 1.   ])"
      ]
     },
     "execution_count": 79,
     "metadata": {},
     "output_type": "execute_result"
    }
   ],
   "source": [
    "# Vemos el ratio acumulado de variaza explicada. El \n",
    "\n",
    "np.cumsum(pca_prop.explained_variance_ratio_)"
   ]
  },
  {
   "cell_type": "markdown",
   "metadata": {},
   "source": [
    "Vemos que el 80% de la varianza se explica usando hasta la componente 55. Probamos un modelo de regresión con estas variables nuevas."
   ]
  },
  {
   "cell_type": "code",
   "execution_count": 80,
   "metadata": {},
   "outputs": [],
   "source": [
    "pca_prop = PCA(n_components=55, svd_solver=\"full\")"
   ]
  },
  {
   "cell_type": "code",
   "execution_count": 81,
   "metadata": {},
   "outputs": [
    {
     "data": {
      "text/plain": [
       "PCA(copy=True, iterated_power='auto', n_components=55, random_state=None,\n",
       "    svd_solver='full', tol=0.0, whiten=False)"
      ]
     },
     "execution_count": 81,
     "metadata": {},
     "output_type": "execute_result"
    }
   ],
   "source": [
    "pca_prop.fit(X_train)"
   ]
  },
  {
   "cell_type": "code",
   "execution_count": 82,
   "metadata": {},
   "outputs": [],
   "source": [
    "df_pca = pd.DataFrame(pca_prop.fit_transform(X_train),\n",
    "                      index=X_train.index)"
   ]
  },
  {
   "cell_type": "markdown",
   "metadata": {},
   "source": [
    "Instanciamos el modelo"
   ]
  },
  {
   "cell_type": "code",
   "execution_count": 83,
   "metadata": {},
   "outputs": [],
   "source": [
    "lm_pca = LinearRegression()"
   ]
  },
  {
   "cell_type": "markdown",
   "metadata": {},
   "source": [
    "Fiteamos el modelo, para que aprenda de los datos."
   ]
  },
  {
   "cell_type": "code",
   "execution_count": 84,
   "metadata": {},
   "outputs": [],
   "source": [
    "model = lm_pca.fit(df_pca, y_train)"
   ]
  },
  {
   "cell_type": "markdown",
   "metadata": {},
   "source": [
    "El modelo ya determinó sus coeficientes de regresión (betas). Los vemos"
   ]
  },
  {
   "cell_type": "code",
   "execution_count": 85,
   "metadata": {},
   "outputs": [
    {
     "name": "stdout",
     "output_type": "stream",
     "text": [
      "Intercept Linear model:  [-0.] \n",
      " Coefs Linear model: [[-0.224 -0.148  0.287 -0.067 -0.192  0.1    0.236  0.117 -0.132  0.048\n",
      "  -0.07   0.076  0.062  0.003  0.004  0.051 -0.014 -0.004 -0.062 -0.082\n",
      "   0.025 -0.043 -0.003 -0.06   0.035 -0.019  0.001  0.018 -0.027 -0.001\n",
      "   0.032  0.031  0.004 -0.001  0.    -0.023  0.016  0.009 -0.028 -0.015\n",
      "  -0.005 -0.008  0.007  0.016 -0.002 -0.009 -0.016  0.004  0.003  0.012\n",
      "   0.004  0.013  0.011 -0.004 -0.002]] \n",
      "\n"
     ]
    }
   ],
   "source": [
    "np.set_printoptions(precision=3, suppress=True)\n",
    "\n",
    "print('Intercept Linear model: ',lm_pca.intercept_,'\\n',\n",
    "      'Coefs Linear model:',lm_pca.coef_,'\\n')"
   ]
  },
  {
   "cell_type": "markdown",
   "metadata": {},
   "source": [
    "Vemos la performance del modelo sobre sus propios datos de train"
   ]
  },
  {
   "cell_type": "code",
   "execution_count": 86,
   "metadata": {
    "scrolled": true
   },
   "outputs": [
    {
     "name": "stdout",
     "output_type": "stream",
     "text": [
      " Score Train Lineal PCA: 0.50847\n",
      "\n",
      " Train RMSE lineal PCA  : 0.70109 \n",
      "\n",
      " MAE: 0.47163\n",
      "\n",
      " MSE: 0.49153\n",
      "\n"
     ]
    }
   ],
   "source": [
    "# Calculamos el R2\n",
    "\n",
    "print(\" Score Train Lineal PCA: %.5f\\n\" % lm_pca.score(df_pca, y_train))\n",
    "\n",
    "# Calculamos el RMSE\n",
    "\n",
    "y_pred_tr_lm_pca = lm_pca.predict(df_pca)\n",
    "\n",
    "rmse = lambda y, y_pred: np.sqrt(mean_squared_error(y, y_pred))\n",
    "\n",
    "print(\" Train RMSE lineal PCA  : %.5f \\n\" % rmse(y_train,y_pred_tr_lm_pca))\n",
    "\n",
    "# Calculamos el MAE\n",
    "\n",
    "print (' MAE: %.5f\\n' % metrics.mean_absolute_error(y_train,y_pred_tr_lm_pca))\n",
    "\n",
    "# Calculamos el MSE\n",
    "\n",
    "print (' MSE: %.5f\\n' % metrics.mean_squared_error(y_train,y_pred_tr_lm_pca))"
   ]
  },
  {
   "cell_type": "markdown",
   "metadata": {},
   "source": [
    "Evaluamos sobre el set de test, pasandolo a términos del PCA\n",
    "\n"
   ]
  },
  {
   "cell_type": "code",
   "execution_count": 87,
   "metadata": {},
   "outputs": [],
   "source": [
    "y_test = pca_prop.transform(y_test)\n",
    "\n",
    "X_test = pca_prop.transform(X_test)"
   ]
  },
  {
   "cell_type": "code",
   "execution_count": 88,
   "metadata": {
    "scrolled": true
   },
   "outputs": [],
   "source": [
    "# Hacemos las predicciones sobre la matriz de predictores del Test Set\n",
    "\n",
    "#y_pred_lm_pca = lm_pca.predict(X_test)\n",
    "\n",
    "#print(\" Score Test Ridge: %.5f\\n\" % lm_pca.score(X_test, y_test))\n",
    "#print(\" Test RMSE Ridge= %.f\\n\" % rmse(y_test, y_pred_lm_pca))"
   ]
  },
  {
   "cell_type": "code",
   "execution_count": null,
   "metadata": {},
   "outputs": [],
   "source": []
  },
  {
   "cell_type": "code",
   "execution_count": null,
   "metadata": {},
   "outputs": [],
   "source": []
  },
  {
   "cell_type": "markdown",
   "metadata": {},
   "source": [
    "## 8.b. Sin dummies de localización (con lat-lon)"
   ]
  },
  {
   "cell_type": "code",
   "execution_count": null,
   "metadata": {},
   "outputs": [],
   "source": []
  },
  {
   "cell_type": "code",
   "execution_count": null,
   "metadata": {},
   "outputs": [],
   "source": []
  },
  {
   "cell_type": "code",
   "execution_count": null,
   "metadata": {},
   "outputs": [],
   "source": []
  },
  {
   "cell_type": "code",
   "execution_count": null,
   "metadata": {},
   "outputs": [],
   "source": []
  },
  {
   "cell_type": "markdown",
   "metadata": {},
   "source": [
    "## 9. Selección del mejor modelo"
   ]
  },
  {
   "cell_type": "markdown",
   "metadata": {},
   "source": [
    "## 10. Análisis de los resultados\n",
    "\n",
    "I)  Análisis de signos y valores de coeficientes de regresión\n",
    "    \n",
    "II)  Generación de un intervalo de confianza para el precio por m2 para algún caso particular "
   ]
  },
  {
   "cell_type": "markdown",
   "metadata": {},
   "source": [
    "### I)  Análisis de signos y valores de coeficientes de regresión"
   ]
  },
  {
   "cell_type": "markdown",
   "metadata": {},
   "source": [
    "### II) Generación de un intervalo de confianza para el precio por m2 para algún caso particular"
   ]
  },
  {
   "cell_type": "code",
   "execution_count": null,
   "metadata": {},
   "outputs": [],
   "source": []
  }
 ],
 "metadata": {
  "kernelspec": {
   "display_name": "Python 3",
   "language": "python",
   "name": "python3"
  },
  "language_info": {
   "codemirror_mode": {
    "name": "ipython",
    "version": 3
   },
   "file_extension": ".py",
   "mimetype": "text/x-python",
   "name": "python",
   "nbconvert_exporter": "python",
   "pygments_lexer": "ipython3",
   "version": "3.7.6"
  }
 },
 "nbformat": 4,
 "nbformat_minor": 4
}
