{
 "cells": [
  {
   "cell_type": "markdown",
   "metadata": {},
   "source": [
    "# Desafío 2\n",
    "\n",
    "En este desafío se logrará encontrar una relación explicativa entre variables y el precio por m2 de una propiedad en la Ciudad Autónoma de Buenos Aires, a partir del dataset de properati trabajado en el desafío 1, mediante una regresión lineal múltiple (analizar si es necesario combinar con procesador polinómico, y si es mejor con o sin intercepto).\n",
    "\n",
    "Para esto se seguirán los siguientes pasos:\n",
    "    1. Limpieza final del dataset\n",
    "    2. Visualización: Mapa de correlaciones\n",
    "    3. Preselección de variables para el modelo\n",
    "    4. Creación de dummies para variables categóricas ****************Exportamos dataset para división********************* \n",
    "    5. Obtención de matriz de features (X) y vector de variable explicada (y)\n",
    "    6. División de dataset en train-test para validación de modelo con randomstate(9) y test size (0.2)\n",
    "    7. Normalización de set de entrenamiento por estandarización\n",
    "    8. Prueba de distintos modelos (con el set de train) y evaluación de la performance con el set de test (MAE, MSE, RMSE, R2)\n",
    "        a. Sin dummies de localización (con lat-lon)\n",
    "           I)   Sin regularización, con procesador polinómico y uso de stats model\n",
    "           II)  Ridge (optimizamos parámetros usando cross-validation de forma automática con k grupos)\n",
    "           III) Lasso (optimizamos parámetros usando cross-validation de forma automática con k grupos)\n",
    "        b. Con dummies de localización (sin lat-lon)\n",
    "           I)   Sin regularización, descartando variables con Stats model\n",
    "           II)  Ridge (optimizamos parámetros usando cross-validation de forma automática con k grupos)\n",
    "           III) Lasso (optimizamos parámetros usando cross-validation de forma automática con k grupos)\n",
    "           IV)   Sin regularización pero con PCA previo\n",
    "    9. Selección del mejor modelo\n",
    "    10. Análisis de los resultados   \n",
    "    \n"
   ]
  },
  {
   "cell_type": "code",
   "execution_count": 1,
   "metadata": {},
   "outputs": [],
   "source": [
    "import pandas as pd\n",
    "from sklearn import preprocessing\n",
    "from sklearn import metrics\n",
    "import numpy as np\n",
    "import unidecode\n",
    "import re ; import time\n",
    "\n",
    "from sklearn import datasets, linear_model\n",
    "from sklearn.model_selection import train_test_split, KFold, cross_val_score\n",
    "from sklearn.linear_model import LinearRegression, Lasso, LassoCV, Ridge, RidgeCV\n",
    "from sklearn.preprocessing import PolynomialFeatures, StandardScaler\n",
    "from sklearn.metrics import mean_squared_error, r2_score"
   ]
  },
  {
   "cell_type": "code",
   "execution_count": 2,
   "metadata": {},
   "outputs": [],
   "source": [
    "import geopandas as gpd                   ;   from shapely.geometry import Polygon, Point, LineString, LinearRing, MultiPolygon\n",
    "import shapely as sp                      ;   import matplotlib.pyplot as plt\n",
    "import seaborn as sns                     ;   import shapely.wkt\n",
    "from shapely.ops import cascaded_union    ;   from IPython.display import display\n",
    "import plotly.graph_objects as go\n",
    "\n",
    "plt.rcParams.update({'figure.max_open_warning': 0})"
   ]
  },
  {
   "cell_type": "code",
   "execution_count": 3,
   "metadata": {},
   "outputs": [],
   "source": [
    "startAll = time.time()\n",
    "def t():\n",
    "    global start\n",
    "    start = time.time()\n",
    "def tt():\n",
    "    end = time.time() ; minutos = int(round(end - start)/60) ; segundos = int(round(end - start)-(int(round(end - start)/60))*60) ;     tiempo = 'Esta celda tardo en ejecutar: '+str(minutos)+' minutos, '+str(segundos)+' segundos.' ;\n",
    "    return tiempo\n",
    "def tiempo():\n",
    "    endAll = time.time() ; minutos = int(round(endAll - startAll)/60) ; segundos = int(round(endAll - startAll)-(int(round(endAll - startAll)/60))*60) ;     tiempo = 'Desde el inicio, tardo en ejecutar: '+str(minutos)+' minutos, '+str(segundos)+' segundos.' ;\n",
    "    return tiempo"
   ]
  },
  {
   "cell_type": "markdown",
   "metadata": {},
   "source": [
    "## 1. Limpieza final del dataset"
   ]
  },
  {
   "cell_type": "code",
   "execution_count": 4,
   "metadata": {},
   "outputs": [],
   "source": [
    "df = pd.read_csv('df_limpio.csv', sep = '|')"
   ]
  },
  {
   "cell_type": "code",
   "execution_count": 5,
   "metadata": {},
   "outputs": [
    {
     "data": {
      "text/plain": [
       "(121220, 14)"
      ]
     },
     "execution_count": 5,
     "metadata": {},
     "output_type": "execute_result"
    }
   ],
   "source": [
    "df.shape"
   ]
  },
  {
   "cell_type": "code",
   "execution_count": 6,
   "metadata": {},
   "outputs": [
    {
     "data": {
      "text/plain": [
       "Index(['Unnamed: 0', 'id', 'tipo_propiedad', 'prop_subtipo', 'localidad',\n",
       "       'provincia', 'precio_usd', 'superficie_m2', 'usd_m2', 'ambientes',\n",
       "       'expensas', 'descripcion', 'titulo', 'geometry'],\n",
       "      dtype='object')"
      ]
     },
     "execution_count": 6,
     "metadata": {},
     "output_type": "execute_result"
    }
   ],
   "source": [
    "df.columns"
   ]
  },
  {
   "cell_type": "code",
   "execution_count": 7,
   "metadata": {},
   "outputs": [
    {
     "data": {
      "text/html": [
       "<div>\n",
       "<style scoped>\n",
       "    .dataframe tbody tr th:only-of-type {\n",
       "        vertical-align: middle;\n",
       "    }\n",
       "\n",
       "    .dataframe tbody tr th {\n",
       "        vertical-align: top;\n",
       "    }\n",
       "\n",
       "    .dataframe thead th {\n",
       "        text-align: right;\n",
       "    }\n",
       "</style>\n",
       "<table border=\"1\" class=\"dataframe\">\n",
       "  <thead>\n",
       "    <tr style=\"text-align: right;\">\n",
       "      <th></th>\n",
       "      <th>Unnamed: 0</th>\n",
       "      <th>id</th>\n",
       "      <th>tipo_propiedad</th>\n",
       "      <th>prop_subtipo</th>\n",
       "      <th>localidad</th>\n",
       "      <th>provincia</th>\n",
       "      <th>precio_usd</th>\n",
       "      <th>superficie_m2</th>\n",
       "      <th>usd_m2</th>\n",
       "      <th>ambientes</th>\n",
       "      <th>expensas</th>\n",
       "      <th>descripcion</th>\n",
       "      <th>titulo</th>\n",
       "      <th>geometry</th>\n",
       "    </tr>\n",
       "  </thead>\n",
       "  <tbody>\n",
       "    <tr>\n",
       "      <th>0</th>\n",
       "      <td>0</td>\n",
       "      <td>15bo8</td>\n",
       "      <td>PH</td>\n",
       "      <td>PH</td>\n",
       "      <td>Mataderos</td>\n",
       "      <td>Ciudad Autónoma de Buenos Aires</td>\n",
       "      <td>62000.0</td>\n",
       "      <td>55.0000</td>\n",
       "      <td>1127.272727</td>\n",
       "      <td>2.0</td>\n",
       "      <td>NaN</td>\n",
       "      <td>2 AMBIENTES TIPO CASA PLANTA BAJA POR PASILLO,...</td>\n",
       "      <td>2 AMB TIPO CASA SIN EXPENSAS EN PB</td>\n",
       "      <td>POINT (-58.5088387 -34.6618237)</td>\n",
       "    </tr>\n",
       "    <tr>\n",
       "      <th>1</th>\n",
       "      <td>1</td>\n",
       "      <td>15bob</td>\n",
       "      <td>apartment</td>\n",
       "      <td>apartment</td>\n",
       "      <td>La Plata</td>\n",
       "      <td>Buenos Aires</td>\n",
       "      <td>150000.0</td>\n",
       "      <td>70.4456</td>\n",
       "      <td>2129.302602</td>\n",
       "      <td>2.0</td>\n",
       "      <td>NaN</td>\n",
       "      <td>Venta de departamento en décimo piso al frente...</td>\n",
       "      <td>VENTA Depto 2 dorm. a estrenar 7 e/ 36 y 37   ...</td>\n",
       "      <td>POINT (-57.96432950000001 -34.9038831)</td>\n",
       "    </tr>\n",
       "  </tbody>\n",
       "</table>\n",
       "</div>"
      ],
      "text/plain": [
       "   Unnamed: 0     id tipo_propiedad prop_subtipo  localidad  \\\n",
       "0           0  15bo8             PH           PH  Mataderos   \n",
       "1           1  15bob      apartment    apartment   La Plata   \n",
       "\n",
       "                         provincia  precio_usd  superficie_m2       usd_m2  \\\n",
       "0  Ciudad Autónoma de Buenos Aires     62000.0        55.0000  1127.272727   \n",
       "1                     Buenos Aires    150000.0        70.4456  2129.302602   \n",
       "\n",
       "   ambientes  expensas                                        descripcion  \\\n",
       "0        2.0       NaN  2 AMBIENTES TIPO CASA PLANTA BAJA POR PASILLO,...   \n",
       "1        2.0       NaN  Venta de departamento en décimo piso al frente...   \n",
       "\n",
       "                                              titulo  \\\n",
       "0                 2 AMB TIPO CASA SIN EXPENSAS EN PB   \n",
       "1  VENTA Depto 2 dorm. a estrenar 7 e/ 36 y 37   ...   \n",
       "\n",
       "                                 geometry  \n",
       "0         POINT (-58.5088387 -34.6618237)  \n",
       "1  POINT (-57.96432950000001 -34.9038831)  "
      ]
     },
     "execution_count": 7,
     "metadata": {},
     "output_type": "execute_result"
    }
   ],
   "source": [
    "df.head(2)"
   ]
  },
  {
   "cell_type": "markdown",
   "metadata": {},
   "source": [
    "Vemos las pertenecientes a CABA:"
   ]
  },
  {
   "cell_type": "code",
   "execution_count": 8,
   "metadata": {},
   "outputs": [
    {
     "data": {
      "text/plain": [
       "(32316, 14)"
      ]
     },
     "execution_count": 8,
     "metadata": {},
     "output_type": "execute_result"
    }
   ],
   "source": [
    "df[df['provincia'] == 'Ciudad Autónoma de Buenos Aires'].shape"
   ]
  },
  {
   "cell_type": "markdown",
   "metadata": {},
   "source": [
    "Nos quedamos con las filas pertenecientes a CABA:"
   ]
  },
  {
   "cell_type": "code",
   "execution_count": 9,
   "metadata": {},
   "outputs": [],
   "source": [
    "df = df[df['provincia'] == 'Ciudad Autónoma de Buenos Aires']"
   ]
  },
  {
   "cell_type": "markdown",
   "metadata": {},
   "source": [
    "Vemos datos vacíos para las filas de interés:"
   ]
  },
  {
   "cell_type": "code",
   "execution_count": 10,
   "metadata": {},
   "outputs": [
    {
     "data": {
      "text/plain": [
       "Unnamed: 0            0\n",
       "id                    0\n",
       "tipo_propiedad        0\n",
       "prop_subtipo          0\n",
       "localidad             0\n",
       "provincia             0\n",
       "precio_usd            0\n",
       "superficie_m2         1\n",
       "usd_m2                1\n",
       "ambientes          7325\n",
       "expensas          25724\n",
       "descripcion           0\n",
       "titulo                0\n",
       "geometry              0\n",
       "dtype: int64"
      ]
     },
     "execution_count": 10,
     "metadata": {},
     "output_type": "execute_result"
    }
   ],
   "source": [
    "df.isnull().sum()"
   ]
  },
  {
   "cell_type": "code",
   "execution_count": 11,
   "metadata": {},
   "outputs": [
    {
     "data": {
      "text/plain": [
       "array(['PH', 'apartment', 'house', 'store'], dtype=object)"
      ]
     },
     "execution_count": 11,
     "metadata": {},
     "output_type": "execute_result"
    }
   ],
   "source": [
    "df.tipo_propiedad.unique()"
   ]
  },
  {
   "cell_type": "code",
   "execution_count": 12,
   "metadata": {},
   "outputs": [
    {
     "data": {
      "text/plain": [
       "Unnamed: 0           0\n",
       "id                   0\n",
       "tipo_propiedad       0\n",
       "prop_subtipo         0\n",
       "localidad            0\n",
       "provincia            0\n",
       "precio_usd           0\n",
       "superficie_m2        1\n",
       "usd_m2               1\n",
       "ambientes          481\n",
       "expensas          2075\n",
       "descripcion          0\n",
       "titulo               0\n",
       "geometry             0\n",
       "dtype: int64"
      ]
     },
     "execution_count": 12,
     "metadata": {},
     "output_type": "execute_result"
    }
   ],
   "source": [
    "df[df['tipo_propiedad'] == 'house'].isnull().sum()"
   ]
  },
  {
   "cell_type": "code",
   "execution_count": 13,
   "metadata": {},
   "outputs": [
    {
     "data": {
      "text/plain": [
       "Unnamed: 0        0\n",
       "id                0\n",
       "tipo_propiedad    0\n",
       "prop_subtipo      0\n",
       "localidad         0\n",
       "provincia         0\n",
       "precio_usd        0\n",
       "superficie_m2     0\n",
       "usd_m2            0\n",
       "ambientes         0\n",
       "expensas          0\n",
       "descripcion       0\n",
       "titulo            0\n",
       "geometry          0\n",
       "dtype: int64"
      ]
     },
     "execution_count": 13,
     "metadata": {},
     "output_type": "execute_result"
    }
   ],
   "source": [
    "df[df['tipo_propiedad'] == 'stores'].isnull().sum()"
   ]
  },
  {
   "cell_type": "markdown",
   "metadata": {},
   "source": [
    "LLevamos todos los valores de expersas para casas y a stores a 0, tanto nulos como otros, para corregirlos"
   ]
  },
  {
   "cell_type": "code",
   "execution_count": 14,
   "metadata": {},
   "outputs": [],
   "source": [
    "df.loc[df['tipo_propiedad'] == (('house') or ('stores')), 'expensas'] = 0"
   ]
  },
  {
   "cell_type": "code",
   "execution_count": 15,
   "metadata": {},
   "outputs": [
    {
     "data": {
      "text/plain": [
       "Unnamed: 0          0\n",
       "id                  0\n",
       "tipo_propiedad      0\n",
       "prop_subtipo        0\n",
       "localidad           0\n",
       "provincia           0\n",
       "precio_usd          0\n",
       "superficie_m2       1\n",
       "usd_m2              1\n",
       "ambientes         481\n",
       "expensas            0\n",
       "descripcion         0\n",
       "titulo              0\n",
       "geometry            0\n",
       "dtype: int64"
      ]
     },
     "execution_count": 15,
     "metadata": {},
     "output_type": "execute_result"
    }
   ],
   "source": [
    "df[df['tipo_propiedad'] == 'house'].isnull().sum()"
   ]
  },
  {
   "cell_type": "markdown",
   "metadata": {},
   "source": [
    "Llenamos las expensas de las propiedades faltantes agrupando por propiedad y barrio"
   ]
  },
  {
   "cell_type": "code",
   "execution_count": 16,
   "metadata": {},
   "outputs": [],
   "source": [
    "df.expensas.fillna(df.groupby(['tipo_propiedad', 'localidad'])['expensas'].transform('mean'), inplace=True)"
   ]
  },
  {
   "cell_type": "code",
   "execution_count": 17,
   "metadata": {},
   "outputs": [
    {
     "data": {
      "text/plain": [
       "Unnamed: 0           0\n",
       "id                   0\n",
       "tipo_propiedad       0\n",
       "prop_subtipo         0\n",
       "localidad            0\n",
       "provincia            0\n",
       "precio_usd           0\n",
       "superficie_m2        1\n",
       "usd_m2               1\n",
       "ambientes         7325\n",
       "expensas           372\n",
       "descripcion          0\n",
       "titulo               0\n",
       "geometry             0\n",
       "dtype: int64"
      ]
     },
     "execution_count": 17,
     "metadata": {},
     "output_type": "execute_result"
    }
   ],
   "source": [
    "df.isnull().sum()"
   ]
  },
  {
   "cell_type": "markdown",
   "metadata": {},
   "source": [
    "Llenamos las faltantes con la media por barrio unicamente:"
   ]
  },
  {
   "cell_type": "code",
   "execution_count": 18,
   "metadata": {},
   "outputs": [],
   "source": [
    "df.expensas.fillna(df.groupby('localidad')['expensas'].transform('mean'), inplace=True)"
   ]
  },
  {
   "cell_type": "code",
   "execution_count": 19,
   "metadata": {},
   "outputs": [
    {
     "data": {
      "text/plain": [
       "Unnamed: 0           0\n",
       "id                   0\n",
       "tipo_propiedad       0\n",
       "prop_subtipo         0\n",
       "localidad            0\n",
       "provincia            0\n",
       "precio_usd           0\n",
       "superficie_m2        1\n",
       "usd_m2               1\n",
       "ambientes         7325\n",
       "expensas             4\n",
       "descripcion          0\n",
       "titulo               0\n",
       "geometry             0\n",
       "dtype: int64"
      ]
     },
     "execution_count": 19,
     "metadata": {},
     "output_type": "execute_result"
    }
   ],
   "source": [
    "df.isnull().sum()"
   ]
  },
  {
   "cell_type": "code",
   "execution_count": 20,
   "metadata": {},
   "outputs": [
    {
     "data": {
      "text/html": [
       "<div>\n",
       "<style scoped>\n",
       "    .dataframe tbody tr th:only-of-type {\n",
       "        vertical-align: middle;\n",
       "    }\n",
       "\n",
       "    .dataframe tbody tr th {\n",
       "        vertical-align: top;\n",
       "    }\n",
       "\n",
       "    .dataframe thead th {\n",
       "        text-align: right;\n",
       "    }\n",
       "</style>\n",
       "<table border=\"1\" class=\"dataframe\">\n",
       "  <thead>\n",
       "    <tr style=\"text-align: right;\">\n",
       "      <th></th>\n",
       "      <th>Unnamed: 0</th>\n",
       "      <th>id</th>\n",
       "      <th>tipo_propiedad</th>\n",
       "      <th>prop_subtipo</th>\n",
       "      <th>localidad</th>\n",
       "      <th>provincia</th>\n",
       "      <th>precio_usd</th>\n",
       "      <th>superficie_m2</th>\n",
       "      <th>usd_m2</th>\n",
       "      <th>ambientes</th>\n",
       "      <th>expensas</th>\n",
       "      <th>descripcion</th>\n",
       "      <th>titulo</th>\n",
       "      <th>geometry</th>\n",
       "    </tr>\n",
       "  </thead>\n",
       "  <tbody>\n",
       "    <tr>\n",
       "      <th>2763</th>\n",
       "      <td>2763</td>\n",
       "      <td>15ki9</td>\n",
       "      <td>apartment</td>\n",
       "      <td>apartment</td>\n",
       "      <td>Catalinas</td>\n",
       "      <td>Ciudad Autónoma de Buenos Aires</td>\n",
       "      <td>95000.0</td>\n",
       "      <td>48.0</td>\n",
       "      <td>1979.166667</td>\n",
       "      <td>1.0</td>\n",
       "      <td>NaN</td>\n",
       "      <td>Edificio racionalista, Excelente departamento ...</td>\n",
       "      <td>U$D 95.000 - Departamento en Venta - Reconquis...</td>\n",
       "      <td>POINT (-58.38155746 -34.60368347)</td>\n",
       "    </tr>\n",
       "    <tr>\n",
       "      <th>5495</th>\n",
       "      <td>5495</td>\n",
       "      <td>15qkd</td>\n",
       "      <td>apartment</td>\n",
       "      <td>apartment_big</td>\n",
       "      <td>Catalinas</td>\n",
       "      <td>Ciudad Autónoma de Buenos Aires</td>\n",
       "      <td>550000.0</td>\n",
       "      <td>300.0</td>\n",
       "      <td>1833.333333</td>\n",
       "      <td>5.0</td>\n",
       "      <td>NaN</td>\n",
       "      <td>Amplia planta en excelente estado conservando ...</td>\n",
       "      <td>Excelente departamento antiguo en venta recicl...</td>\n",
       "      <td>POINT (-58.376624255 -34.6000039032)</td>\n",
       "    </tr>\n",
       "    <tr>\n",
       "      <th>63654</th>\n",
       "      <td>63654</td>\n",
       "      <td>1a96l</td>\n",
       "      <td>apartment</td>\n",
       "      <td>apartment</td>\n",
       "      <td>Catalinas</td>\n",
       "      <td>Ciudad Autónoma de Buenos Aires</td>\n",
       "      <td>322500.0</td>\n",
       "      <td>44.0</td>\n",
       "      <td>7329.545455</td>\n",
       "      <td>2.0</td>\n",
       "      <td>NaN</td>\n",
       "      <td>EXCELENTE DOS AMBIENTES MUY LUMINOSO ORIENTACI...</td>\n",
       "      <td>LINDO 2 AMB. TODO A NUEVO. APTO. PROFESIONAL</td>\n",
       "      <td>POINT (-58.3728676 -34.5976219)</td>\n",
       "    </tr>\n",
       "    <tr>\n",
       "      <th>73605</th>\n",
       "      <td>73605</td>\n",
       "      <td>1anwu</td>\n",
       "      <td>store</td>\n",
       "      <td>store</td>\n",
       "      <td>Catalinas</td>\n",
       "      <td>Ciudad Autónoma de Buenos Aires</td>\n",
       "      <td>350000.0</td>\n",
       "      <td>115.0</td>\n",
       "      <td>3043.478261</td>\n",
       "      <td>NaN</td>\n",
       "      <td>NaN</td>\n",
       "      <td>\"VENTA\" O \"ALQUILER\". PARA VER FOTOS Y PLANO ...</td>\n",
       "      <td>Excelente Local situado en plena zona turística.</td>\n",
       "      <td>POINT (-58.376913 -34.600861)</td>\n",
       "    </tr>\n",
       "  </tbody>\n",
       "</table>\n",
       "</div>"
      ],
      "text/plain": [
       "       Unnamed: 0     id tipo_propiedad   prop_subtipo  localidad  \\\n",
       "2763         2763  15ki9      apartment      apartment  Catalinas   \n",
       "5495         5495  15qkd      apartment  apartment_big  Catalinas   \n",
       "63654       63654  1a96l      apartment      apartment  Catalinas   \n",
       "73605       73605  1anwu          store          store  Catalinas   \n",
       "\n",
       "                             provincia  precio_usd  superficie_m2  \\\n",
       "2763   Ciudad Autónoma de Buenos Aires     95000.0           48.0   \n",
       "5495   Ciudad Autónoma de Buenos Aires    550000.0          300.0   \n",
       "63654  Ciudad Autónoma de Buenos Aires    322500.0           44.0   \n",
       "73605  Ciudad Autónoma de Buenos Aires    350000.0          115.0   \n",
       "\n",
       "            usd_m2  ambientes  expensas  \\\n",
       "2763   1979.166667        1.0       NaN   \n",
       "5495   1833.333333        5.0       NaN   \n",
       "63654  7329.545455        2.0       NaN   \n",
       "73605  3043.478261        NaN       NaN   \n",
       "\n",
       "                                             descripcion  \\\n",
       "2763   Edificio racionalista, Excelente departamento ...   \n",
       "5495   Amplia planta en excelente estado conservando ...   \n",
       "63654  EXCELENTE DOS AMBIENTES MUY LUMINOSO ORIENTACI...   \n",
       "73605   \"VENTA\" O \"ALQUILER\". PARA VER FOTOS Y PLANO ...   \n",
       "\n",
       "                                                  titulo  \\\n",
       "2763   U$D 95.000 - Departamento en Venta - Reconquis...   \n",
       "5495   Excelente departamento antiguo en venta recicl...   \n",
       "63654       LINDO 2 AMB. TODO A NUEVO. APTO. PROFESIONAL   \n",
       "73605   Excelente Local situado en plena zona turística.   \n",
       "\n",
       "                                   geometry  \n",
       "2763      POINT (-58.38155746 -34.60368347)  \n",
       "5495   POINT (-58.376624255 -34.6000039032)  \n",
       "63654       POINT (-58.3728676 -34.5976219)  \n",
       "73605         POINT (-58.376913 -34.600861)  "
      ]
     },
     "execution_count": 20,
     "metadata": {},
     "output_type": "execute_result"
    }
   ],
   "source": [
    "df[df.expensas.isnull()]"
   ]
  },
  {
   "cell_type": "code",
   "execution_count": 21,
   "metadata": {},
   "outputs": [
    {
     "data": {
      "text/html": [
       "<div>\n",
       "<style scoped>\n",
       "    .dataframe tbody tr th:only-of-type {\n",
       "        vertical-align: middle;\n",
       "    }\n",
       "\n",
       "    .dataframe tbody tr th {\n",
       "        vertical-align: top;\n",
       "    }\n",
       "\n",
       "    .dataframe thead th {\n",
       "        text-align: right;\n",
       "    }\n",
       "</style>\n",
       "<table border=\"1\" class=\"dataframe\">\n",
       "  <thead>\n",
       "    <tr style=\"text-align: right;\">\n",
       "      <th></th>\n",
       "      <th>Unnamed: 0</th>\n",
       "      <th>id</th>\n",
       "      <th>tipo_propiedad</th>\n",
       "      <th>prop_subtipo</th>\n",
       "      <th>localidad</th>\n",
       "      <th>provincia</th>\n",
       "      <th>precio_usd</th>\n",
       "      <th>superficie_m2</th>\n",
       "      <th>usd_m2</th>\n",
       "      <th>ambientes</th>\n",
       "      <th>expensas</th>\n",
       "      <th>descripcion</th>\n",
       "      <th>titulo</th>\n",
       "      <th>geometry</th>\n",
       "    </tr>\n",
       "  </thead>\n",
       "  <tbody>\n",
       "    <tr>\n",
       "      <th>2763</th>\n",
       "      <td>2763</td>\n",
       "      <td>15ki9</td>\n",
       "      <td>apartment</td>\n",
       "      <td>apartment</td>\n",
       "      <td>Catalinas</td>\n",
       "      <td>Ciudad Autónoma de Buenos Aires</td>\n",
       "      <td>95000.0</td>\n",
       "      <td>48.0</td>\n",
       "      <td>1979.166667</td>\n",
       "      <td>1.0</td>\n",
       "      <td>NaN</td>\n",
       "      <td>Edificio racionalista, Excelente departamento ...</td>\n",
       "      <td>U$D 95.000 - Departamento en Venta - Reconquis...</td>\n",
       "      <td>POINT (-58.38155746 -34.60368347)</td>\n",
       "    </tr>\n",
       "    <tr>\n",
       "      <th>5495</th>\n",
       "      <td>5495</td>\n",
       "      <td>15qkd</td>\n",
       "      <td>apartment</td>\n",
       "      <td>apartment_big</td>\n",
       "      <td>Catalinas</td>\n",
       "      <td>Ciudad Autónoma de Buenos Aires</td>\n",
       "      <td>550000.0</td>\n",
       "      <td>300.0</td>\n",
       "      <td>1833.333333</td>\n",
       "      <td>5.0</td>\n",
       "      <td>NaN</td>\n",
       "      <td>Amplia planta en excelente estado conservando ...</td>\n",
       "      <td>Excelente departamento antiguo en venta recicl...</td>\n",
       "      <td>POINT (-58.376624255 -34.6000039032)</td>\n",
       "    </tr>\n",
       "    <tr>\n",
       "      <th>63654</th>\n",
       "      <td>63654</td>\n",
       "      <td>1a96l</td>\n",
       "      <td>apartment</td>\n",
       "      <td>apartment</td>\n",
       "      <td>Catalinas</td>\n",
       "      <td>Ciudad Autónoma de Buenos Aires</td>\n",
       "      <td>322500.0</td>\n",
       "      <td>44.0</td>\n",
       "      <td>7329.545455</td>\n",
       "      <td>2.0</td>\n",
       "      <td>NaN</td>\n",
       "      <td>EXCELENTE DOS AMBIENTES MUY LUMINOSO ORIENTACI...</td>\n",
       "      <td>LINDO 2 AMB. TODO A NUEVO. APTO. PROFESIONAL</td>\n",
       "      <td>POINT (-58.3728676 -34.5976219)</td>\n",
       "    </tr>\n",
       "    <tr>\n",
       "      <th>73605</th>\n",
       "      <td>73605</td>\n",
       "      <td>1anwu</td>\n",
       "      <td>store</td>\n",
       "      <td>store</td>\n",
       "      <td>Catalinas</td>\n",
       "      <td>Ciudad Autónoma de Buenos Aires</td>\n",
       "      <td>350000.0</td>\n",
       "      <td>115.0</td>\n",
       "      <td>3043.478261</td>\n",
       "      <td>NaN</td>\n",
       "      <td>NaN</td>\n",
       "      <td>\"VENTA\" O \"ALQUILER\". PARA VER FOTOS Y PLANO ...</td>\n",
       "      <td>Excelente Local situado en plena zona turística.</td>\n",
       "      <td>POINT (-58.376913 -34.600861)</td>\n",
       "    </tr>\n",
       "  </tbody>\n",
       "</table>\n",
       "</div>"
      ],
      "text/plain": [
       "       Unnamed: 0     id tipo_propiedad   prop_subtipo  localidad  \\\n",
       "2763         2763  15ki9      apartment      apartment  Catalinas   \n",
       "5495         5495  15qkd      apartment  apartment_big  Catalinas   \n",
       "63654       63654  1a96l      apartment      apartment  Catalinas   \n",
       "73605       73605  1anwu          store          store  Catalinas   \n",
       "\n",
       "                             provincia  precio_usd  superficie_m2  \\\n",
       "2763   Ciudad Autónoma de Buenos Aires     95000.0           48.0   \n",
       "5495   Ciudad Autónoma de Buenos Aires    550000.0          300.0   \n",
       "63654  Ciudad Autónoma de Buenos Aires    322500.0           44.0   \n",
       "73605  Ciudad Autónoma de Buenos Aires    350000.0          115.0   \n",
       "\n",
       "            usd_m2  ambientes  expensas  \\\n",
       "2763   1979.166667        1.0       NaN   \n",
       "5495   1833.333333        5.0       NaN   \n",
       "63654  7329.545455        2.0       NaN   \n",
       "73605  3043.478261        NaN       NaN   \n",
       "\n",
       "                                             descripcion  \\\n",
       "2763   Edificio racionalista, Excelente departamento ...   \n",
       "5495   Amplia planta en excelente estado conservando ...   \n",
       "63654  EXCELENTE DOS AMBIENTES MUY LUMINOSO ORIENTACI...   \n",
       "73605   \"VENTA\" O \"ALQUILER\". PARA VER FOTOS Y PLANO ...   \n",
       "\n",
       "                                                  titulo  \\\n",
       "2763   U$D 95.000 - Departamento en Venta - Reconquis...   \n",
       "5495   Excelente departamento antiguo en venta recicl...   \n",
       "63654       LINDO 2 AMB. TODO A NUEVO. APTO. PROFESIONAL   \n",
       "73605   Excelente Local situado en plena zona turística.   \n",
       "\n",
       "                                   geometry  \n",
       "2763      POINT (-58.38155746 -34.60368347)  \n",
       "5495   POINT (-58.376624255 -34.6000039032)  \n",
       "63654       POINT (-58.3728676 -34.5976219)  \n",
       "73605         POINT (-58.376913 -34.600861)  "
      ]
     },
     "execution_count": 21,
     "metadata": {},
     "output_type": "execute_result"
    }
   ],
   "source": [
    "df[df.localidad == 'Catalinas']"
   ]
  },
  {
   "cell_type": "markdown",
   "metadata": {},
   "source": [
    "Como no hay otras propiedades en Catalinas para usar de parámetro, llenamos por tipo de propiedad en general:"
   ]
  },
  {
   "cell_type": "code",
   "execution_count": 22,
   "metadata": {},
   "outputs": [],
   "source": [
    "df.expensas.fillna(df.groupby('tipo_propiedad')['expensas'].transform('mean'), inplace=True)"
   ]
  },
  {
   "cell_type": "code",
   "execution_count": 23,
   "metadata": {},
   "outputs": [
    {
     "data": {
      "text/plain": [
       "Unnamed: 0           0\n",
       "id                   0\n",
       "tipo_propiedad       0\n",
       "prop_subtipo         0\n",
       "localidad            0\n",
       "provincia            0\n",
       "precio_usd           0\n",
       "superficie_m2        1\n",
       "usd_m2               1\n",
       "ambientes         7325\n",
       "expensas             0\n",
       "descripcion          0\n",
       "titulo               0\n",
       "geometry             0\n",
       "dtype: int64"
      ]
     },
     "execution_count": 23,
     "metadata": {},
     "output_type": "execute_result"
    }
   ],
   "source": [
    "df.isnull().sum()"
   ]
  },
  {
   "cell_type": "markdown",
   "metadata": {},
   "source": [
    "Para las faltantes de ambientes, vemos la distribución:"
   ]
  },
  {
   "cell_type": "code",
   "execution_count": 24,
   "metadata": {},
   "outputs": [
    {
     "data": {
      "image/png": "[encoded data removed]",
      "text/plain": [
       "<Figure size 432x288 with 1 Axes>"
      ]
     },
     "metadata": {
      "needs_background": "light"
     },
     "output_type": "display_data"
    }
   ],
   "source": [
    "import numpy as np\n",
    "import matplotlib.pyplot as plt\n",
    "%matplotlib inline\n",
    "import seaborn as sns\n",
    "\n",
    "sns.distplot(df['ambientes'],kde=False, color='Red', bins=20)\n",
    "plt.title('Distribución de ambientes', fontsize=14)\n",
    "plt.xlabel('Ambientes', fontsize=12)\n",
    "plt.ylabel('Frecuencia', fontsize=12)\n",
    "\n",
    "import math\n",
    "# Set plotting style\n",
    "sns.set_style('whitegrid')\n",
    "\n",
    "# Get current axis on current figure\n",
    "ax = plt.gca()\n",
    "\n",
    "# ylim max value to be set\n",
    "y_max = df['ambientes'].value_counts().max() \n",
    "ax.set_ylim([0, y_max])\n",
    "\n",
    "# Iterate through the list of axes' patches\n",
    "for p in ax.patches:\n",
    "    ax.text(p.get_x() + p.get_width(), p.get_height(), '%d' % int(p.get_height()), \n",
    "            fontsize=12, color='black', ha='center', va='bottom')\n",
    "\n",
    "plt.show()\n"
   ]
  },
  {
   "cell_type": "code",
   "execution_count": 25,
   "metadata": {
    "scrolled": true
   },
   "outputs": [
    {
     "data": {
      "text/plain": [
       "(316, 14)"
      ]
     },
     "execution_count": 25,
     "metadata": {},
     "output_type": "execute_result"
    }
   ],
   "source": [
    "df[df.ambientes > 6].shape"
   ]
  },
  {
   "cell_type": "markdown",
   "metadata": {},
   "source": [
    "### Decisión: nuestro modelo explicará la variación del precio por m2 de propiedades de hasta 6 ambientes en la Ciudad de Buenos Aires\n",
    "\n",
    "Tiramos los valores que no nos son útiles."
   ]
  },
  {
   "cell_type": "code",
   "execution_count": 26,
   "metadata": {},
   "outputs": [],
   "source": [
    "df = df[~(df.ambientes > 6)]"
   ]
  },
  {
   "cell_type": "code",
   "execution_count": 27,
   "metadata": {},
   "outputs": [
    {
     "data": {
      "text/plain": [
       "(32000, 14)"
      ]
     },
     "execution_count": 27,
     "metadata": {},
     "output_type": "execute_result"
    }
   ],
   "source": [
    "df.shape"
   ]
  },
  {
   "cell_type": "markdown",
   "metadata": {},
   "source": [
    "Ahora podemos rellenar el dataset con los ambientes por media, teniendo en cuenta el subtipo de propiedad. \n",
    "Más adelante se analizará si suma o resta al modelo involucrar la variable ambientes, ya que muchos de sus datos serán estimados por la media."
   ]
  },
  {
   "cell_type": "code",
   "execution_count": 28,
   "metadata": {},
   "outputs": [],
   "source": [
    "df.ambientes.fillna(df.groupby(['prop_subtipo'])['ambientes'].transform('mean'), inplace=True)"
   ]
  },
  {
   "cell_type": "code",
   "execution_count": 29,
   "metadata": {},
   "outputs": [
    {
     "data": {
      "text/plain": [
       "Unnamed: 0        0\n",
       "id                0\n",
       "tipo_propiedad    0\n",
       "prop_subtipo      0\n",
       "localidad         0\n",
       "provincia         0\n",
       "precio_usd        0\n",
       "superficie_m2     1\n",
       "usd_m2            1\n",
       "ambientes         0\n",
       "expensas          0\n",
       "descripcion       0\n",
       "titulo            0\n",
       "geometry          0\n",
       "dtype: int64"
      ]
     },
     "execution_count": 29,
     "metadata": {},
     "output_type": "execute_result"
    }
   ],
   "source": [
    "df.isnull().sum()"
   ]
  },
  {
   "cell_type": "markdown",
   "metadata": {},
   "source": [
    "Quedó un dato vacío en Y, vemos cuál es y lo eliminamos."
   ]
  },
  {
   "cell_type": "code",
   "execution_count": 30,
   "metadata": {},
   "outputs": [
    {
     "data": {
      "text/html": [
       "<div>\n",
       "<style scoped>\n",
       "    .dataframe tbody tr th:only-of-type {\n",
       "        vertical-align: middle;\n",
       "    }\n",
       "\n",
       "    .dataframe tbody tr th {\n",
       "        vertical-align: top;\n",
       "    }\n",
       "\n",
       "    .dataframe thead th {\n",
       "        text-align: right;\n",
       "    }\n",
       "</style>\n",
       "<table border=\"1\" class=\"dataframe\">\n",
       "  <thead>\n",
       "    <tr style=\"text-align: right;\">\n",
       "      <th></th>\n",
       "      <th>Unnamed: 0</th>\n",
       "      <th>id</th>\n",
       "      <th>tipo_propiedad</th>\n",
       "      <th>prop_subtipo</th>\n",
       "      <th>localidad</th>\n",
       "      <th>provincia</th>\n",
       "      <th>precio_usd</th>\n",
       "      <th>superficie_m2</th>\n",
       "      <th>usd_m2</th>\n",
       "      <th>ambientes</th>\n",
       "      <th>expensas</th>\n",
       "      <th>descripcion</th>\n",
       "      <th>titulo</th>\n",
       "      <th>geometry</th>\n",
       "    </tr>\n",
       "  </thead>\n",
       "  <tbody>\n",
       "    <tr>\n",
       "      <th>24895</th>\n",
       "      <td>24895</td>\n",
       "      <td>17p8s</td>\n",
       "      <td>house</td>\n",
       "      <td>house</td>\n",
       "      <td>Congreso</td>\n",
       "      <td>Ciudad Autónoma de Buenos Aires</td>\n",
       "      <td>63000.0</td>\n",
       "      <td>NaN</td>\n",
       "      <td>NaN</td>\n",
       "      <td>1.0</td>\n",
       "      <td>0.0</td>\n",
       "      <td>1 AMB DIVISIBLE, SE VENDE TODO EQUIPADO, BAO C...</td>\n",
       "      <td>1004</td>\n",
       "      <td>POINT (-58.391032 -34.610544)</td>\n",
       "    </tr>\n",
       "  </tbody>\n",
       "</table>\n",
       "</div>"
      ],
      "text/plain": [
       "       Unnamed: 0     id tipo_propiedad prop_subtipo localidad  \\\n",
       "24895       24895  17p8s          house        house  Congreso   \n",
       "\n",
       "                             provincia  precio_usd  superficie_m2  usd_m2  \\\n",
       "24895  Ciudad Autónoma de Buenos Aires     63000.0            NaN     NaN   \n",
       "\n",
       "       ambientes  expensas                                        descripcion  \\\n",
       "24895        1.0       0.0  1 AMB DIVISIBLE, SE VENDE TODO EQUIPADO, BAO C...   \n",
       "\n",
       "      titulo                       geometry  \n",
       "24895   1004  POINT (-58.391032 -34.610544)  "
      ]
     },
     "execution_count": 30,
     "metadata": {},
     "output_type": "execute_result"
    }
   ],
   "source": [
    "df[df.usd_m2.isna()]"
   ]
  },
  {
   "cell_type": "code",
   "execution_count": 31,
   "metadata": {},
   "outputs": [],
   "source": [
    "df.dropna(inplace=True)"
   ]
  },
  {
   "cell_type": "markdown",
   "metadata": {},
   "source": [
    "## Agregamos variables categóricas 'cochera' y 'amenities'"
   ]
  },
  {
   "cell_type": "markdown",
   "metadata": {},
   "source": [
    "### regEX en busca de amenities\n",
    "nos tramos las funciones de nuestra limpieza para buscar palabras clave"
   ]
  },
  {
   "cell_type": "code",
   "execution_count": 32,
   "metadata": {},
   "outputs": [],
   "source": [
    "# acomodamos algunas palabras para simplificar la busqueda\n",
    "df.descripcion = df.descripcion.str.replace('jacuzi','jacuzzi')\n",
    "df.descripcion = df.descripcion.str.replace('picina','pileta')\n",
    "df.descripcion = df.descripcion.str.replace('piscina','pileta')\n",
    "df.descripcion = df.descripcion.str.replace('garage','cochera')\n",
    "df.descripcion = df.descripcion.str.replace('salon de usos multiples','S.U.M.')"
   ]
  },
  {
   "cell_type": "code",
   "execution_count": 33,
   "metadata": {},
   "outputs": [],
   "source": [
    "# quitamos acentos\n",
    "def normalize_text(data):\n",
    "    data = unidecode.unidecode(data)\n",
    "    data = data.lower()\n",
    "    return data\n",
    "\n",
    "df.descripcion = df.descripcion.map(normalize_text)"
   ]
  },
  {
   "cell_type": "code",
   "execution_count": 34,
   "metadata": {},
   "outputs": [],
   "source": [
    "# eliminamos el \"No es apto crédito\" para poder buscar \"Apto crédito\" sin errores\n",
    "df.descripcion = df.descripcion.str.replace('no es apto credito','')"
   ]
  },
  {
   "cell_type": "code",
   "execution_count": 35,
   "metadata": {},
   "outputs": [],
   "source": [
    "# establecemos una lista de amenities que nos interesa buscar\n",
    "lista_am = ['cochera','pileta','jacuzzi','ping pong','parilla','s.u.m.','apto credito','apto profesional',\n",
    "            'solarium','terraza propia']"
   ]
  },
  {
   "cell_type": "code",
   "execution_count": 36,
   "metadata": {},
   "outputs": [],
   "source": [
    "# reestsablecemos el index\n",
    "df.reset_index(inplace=True,drop=True)"
   ]
  },
  {
   "cell_type": "code",
   "execution_count": 37,
   "metadata": {},
   "outputs": [
    {
     "name": "stdout",
     "output_type": "stream",
     "text": [
      "(cochera)\n",
      "(pileta)\n",
      "(jacuzzi)\n",
      "(ping pong)\n",
      "(parilla)\n",
      "(s.u.m.)\n",
      "(apto credito)\n",
      "(apto profesional)\n",
      "(solarium)\n",
      "(terraza propia)\n"
     ]
    }
   ],
   "source": [
    "# generamos una copia de nuestro df solo con el id\n",
    "amenities = df[['id']].copy()\n",
    "\n",
    "for i in range(len(lista_am)):\n",
    "    pattern = '('+lista_am[i]+')' # establecemos el pattern dinamicamente\n",
    "    regex = re.compile(pattern, flags = re.IGNORECASE)\n",
    "    \n",
    "    temp = df.descripcion.str.extract(pattern)     # esto nos devuelve una serie con los resultados\n",
    "    temp.columns = [lista_am[i]]                   # renombramos su columna con la ammenitie buscada\n",
    "    amenities = pd.concat([amenities,temp],axis=1) # concatenamos al df vacio que nos generamos \n",
    "    print(pattern)"
   ]
  },
  {
   "cell_type": "code",
   "execution_count": 38,
   "metadata": {
    "scrolled": true
   },
   "outputs": [
    {
     "data": {
      "text/html": [
       "<div>\n",
       "<style scoped>\n",
       "    .dataframe tbody tr th:only-of-type {\n",
       "        vertical-align: middle;\n",
       "    }\n",
       "\n",
       "    .dataframe tbody tr th {\n",
       "        vertical-align: top;\n",
       "    }\n",
       "\n",
       "    .dataframe thead th {\n",
       "        text-align: right;\n",
       "    }\n",
       "</style>\n",
       "<table border=\"1\" class=\"dataframe\">\n",
       "  <thead>\n",
       "    <tr style=\"text-align: right;\">\n",
       "      <th></th>\n",
       "      <th>id</th>\n",
       "      <th>cochera</th>\n",
       "      <th>pileta</th>\n",
       "      <th>jacuzzi</th>\n",
       "      <th>ping pong</th>\n",
       "      <th>parilla</th>\n",
       "      <th>s.u.m.</th>\n",
       "      <th>apto credito</th>\n",
       "      <th>apto profesional</th>\n",
       "      <th>solarium</th>\n",
       "      <th>terraza propia</th>\n",
       "    </tr>\n",
       "  </thead>\n",
       "  <tbody>\n",
       "    <tr>\n",
       "      <th>count</th>\n",
       "      <td>31999</td>\n",
       "      <td>11120</td>\n",
       "      <td>5010</td>\n",
       "      <td>1729</td>\n",
       "      <td>25</td>\n",
       "      <td>119</td>\n",
       "      <td>579</td>\n",
       "      <td>2742</td>\n",
       "      <td>3858</td>\n",
       "      <td>6260</td>\n",
       "      <td>738</td>\n",
       "    </tr>\n",
       "    <tr>\n",
       "      <th>unique</th>\n",
       "      <td>31999</td>\n",
       "      <td>1</td>\n",
       "      <td>1</td>\n",
       "      <td>1</td>\n",
       "      <td>1</td>\n",
       "      <td>1</td>\n",
       "      <td>10</td>\n",
       "      <td>1</td>\n",
       "      <td>1</td>\n",
       "      <td>1</td>\n",
       "      <td>1</td>\n",
       "    </tr>\n",
       "    <tr>\n",
       "      <th>top</th>\n",
       "      <td>1cj0z</td>\n",
       "      <td>cochera</td>\n",
       "      <td>pileta</td>\n",
       "      <td>jacuzzi</td>\n",
       "      <td>ping pong</td>\n",
       "      <td>parilla</td>\n",
       "      <td>s.u.m.</td>\n",
       "      <td>apto credito</td>\n",
       "      <td>apto profesional</td>\n",
       "      <td>solarium</td>\n",
       "      <td>terraza propia</td>\n",
       "    </tr>\n",
       "    <tr>\n",
       "      <th>freq</th>\n",
       "      <td>1</td>\n",
       "      <td>11120</td>\n",
       "      <td>5010</td>\n",
       "      <td>1729</td>\n",
       "      <td>25</td>\n",
       "      <td>119</td>\n",
       "      <td>400</td>\n",
       "      <td>2742</td>\n",
       "      <td>3858</td>\n",
       "      <td>6260</td>\n",
       "      <td>738</td>\n",
       "    </tr>\n",
       "  </tbody>\n",
       "</table>\n",
       "</div>"
      ],
      "text/plain": [
       "           id  cochera  pileta  jacuzzi  ping pong  parilla  s.u.m.  \\\n",
       "count   31999    11120    5010     1729         25      119     579   \n",
       "unique  31999        1       1        1          1        1      10   \n",
       "top     1cj0z  cochera  pileta  jacuzzi  ping pong  parilla  s.u.m.   \n",
       "freq        1    11120    5010     1729         25      119     400   \n",
       "\n",
       "        apto credito  apto profesional  solarium  terraza propia  \n",
       "count           2742              3858      6260             738  \n",
       "unique             1                 1         1               1  \n",
       "top     apto credito  apto profesional  solarium  terraza propia  \n",
       "freq            2742              3858      6260             738  "
      ]
     },
     "execution_count": 38,
     "metadata": {},
     "output_type": "execute_result"
    }
   ],
   "source": [
    "# visualizamos lo encontrado\n",
    "amenities.describe()"
   ]
  },
  {
   "cell_type": "code",
   "execution_count": 39,
   "metadata": {},
   "outputs": [],
   "source": [
    "# generamos unas dummies de forma \"casera\"\n",
    "amenities.fillna(0,inplace=True)\n",
    "\n",
    "for i in range(amenities.shape[1]-1):\n",
    "    amenities.loc[amenities[lista_am[i]]!=0,lista_am[i]] = 1"
   ]
  },
  {
   "cell_type": "code",
   "execution_count": 40,
   "metadata": {},
   "outputs": [
    {
     "data": {
      "text/plain": [
       "cochera             11120\n",
       "pileta               5010\n",
       "jacuzzi              1729\n",
       "ping pong              25\n",
       "parilla               119\n",
       "s.u.m.                579\n",
       "apto credito         2742\n",
       "apto profesional     3858\n",
       "solarium             6260\n",
       "terraza propia        738\n",
       "dtype: int64"
      ]
     },
     "execution_count": 40,
     "metadata": {},
     "output_type": "execute_result"
    }
   ],
   "source": [
    "# visualizamos las cantidades\n",
    "datos = amenities[lista_am].describe()\n",
    "\n",
    "# vemos que 1/3 del dataset tiene cochera, por lo que se decide utilizarla por si sola y con el resto hacer 1 sola columna\n",
    "datos.loc['count']-datos.loc['freq']"
   ]
  },
  {
   "cell_type": "code",
   "execution_count": 41,
   "metadata": {},
   "outputs": [],
   "source": [
    "# renombramos las columnas cambiando \" \" por \"_\"\n",
    "amen = list(amenities.columns)\n",
    "\n",
    "new_name = []\n",
    "for i in range(len(amen)):\n",
    "    new_name.append(amen[i].replace(' ','_'))\n",
    "\n",
    "amenities.columns = new_name"
   ]
  },
  {
   "cell_type": "code",
   "execution_count": 42,
   "metadata": {},
   "outputs": [
    {
     "data": {
      "text/html": [
       "<div>\n",
       "<style scoped>\n",
       "    .dataframe tbody tr th:only-of-type {\n",
       "        vertical-align: middle;\n",
       "    }\n",
       "\n",
       "    .dataframe tbody tr th {\n",
       "        vertical-align: top;\n",
       "    }\n",
       "\n",
       "    .dataframe thead th {\n",
       "        text-align: right;\n",
       "    }\n",
       "</style>\n",
       "<table border=\"1\" class=\"dataframe\">\n",
       "  <thead>\n",
       "    <tr style=\"text-align: right;\">\n",
       "      <th></th>\n",
       "      <th>id</th>\n",
       "      <th>cochera</th>\n",
       "      <th>pileta</th>\n",
       "      <th>jacuzzi</th>\n",
       "      <th>ping_pong</th>\n",
       "      <th>parilla</th>\n",
       "      <th>s.u.m.</th>\n",
       "      <th>apto_credito</th>\n",
       "      <th>apto_profesional</th>\n",
       "      <th>solarium</th>\n",
       "      <th>terraza_propia</th>\n",
       "    </tr>\n",
       "  </thead>\n",
       "  <tbody>\n",
       "    <tr>\n",
       "      <th>0</th>\n",
       "      <td>15bo8</td>\n",
       "      <td>0</td>\n",
       "      <td>0</td>\n",
       "      <td>0</td>\n",
       "      <td>0</td>\n",
       "      <td>0</td>\n",
       "      <td>0</td>\n",
       "      <td>0</td>\n",
       "      <td>0</td>\n",
       "      <td>0</td>\n",
       "      <td>0</td>\n",
       "    </tr>\n",
       "    <tr>\n",
       "      <th>1</th>\n",
       "      <td>15bod</td>\n",
       "      <td>0</td>\n",
       "      <td>0</td>\n",
       "      <td>0</td>\n",
       "      <td>0</td>\n",
       "      <td>0</td>\n",
       "      <td>0</td>\n",
       "      <td>0</td>\n",
       "      <td>0</td>\n",
       "      <td>0</td>\n",
       "      <td>0</td>\n",
       "    </tr>\n",
       "    <tr>\n",
       "      <th>2</th>\n",
       "      <td>15boh</td>\n",
       "      <td>0</td>\n",
       "      <td>0</td>\n",
       "      <td>0</td>\n",
       "      <td>0</td>\n",
       "      <td>0</td>\n",
       "      <td>0</td>\n",
       "      <td>0</td>\n",
       "      <td>0</td>\n",
       "      <td>0</td>\n",
       "      <td>0</td>\n",
       "    </tr>\n",
       "    <tr>\n",
       "      <th>3</th>\n",
       "      <td>15bot</td>\n",
       "      <td>0</td>\n",
       "      <td>1</td>\n",
       "      <td>0</td>\n",
       "      <td>0</td>\n",
       "      <td>0</td>\n",
       "      <td>0</td>\n",
       "      <td>0</td>\n",
       "      <td>1</td>\n",
       "      <td>1</td>\n",
       "      <td>0</td>\n",
       "    </tr>\n",
       "    <tr>\n",
       "      <th>4</th>\n",
       "      <td>15bou</td>\n",
       "      <td>0</td>\n",
       "      <td>1</td>\n",
       "      <td>0</td>\n",
       "      <td>0</td>\n",
       "      <td>0</td>\n",
       "      <td>0</td>\n",
       "      <td>0</td>\n",
       "      <td>1</td>\n",
       "      <td>1</td>\n",
       "      <td>0</td>\n",
       "    </tr>\n",
       "    <tr>\n",
       "      <th>...</th>\n",
       "      <td>...</td>\n",
       "      <td>...</td>\n",
       "      <td>...</td>\n",
       "      <td>...</td>\n",
       "      <td>...</td>\n",
       "      <td>...</td>\n",
       "      <td>...</td>\n",
       "      <td>...</td>\n",
       "      <td>...</td>\n",
       "      <td>...</td>\n",
       "      <td>...</td>\n",
       "    </tr>\n",
       "    <tr>\n",
       "      <th>31994</th>\n",
       "      <td>1cj5v</td>\n",
       "      <td>0</td>\n",
       "      <td>0</td>\n",
       "      <td>0</td>\n",
       "      <td>0</td>\n",
       "      <td>0</td>\n",
       "      <td>0</td>\n",
       "      <td>0</td>\n",
       "      <td>0</td>\n",
       "      <td>0</td>\n",
       "      <td>0</td>\n",
       "    </tr>\n",
       "    <tr>\n",
       "      <th>31995</th>\n",
       "      <td>1cj7c</td>\n",
       "      <td>0</td>\n",
       "      <td>0</td>\n",
       "      <td>0</td>\n",
       "      <td>0</td>\n",
       "      <td>0</td>\n",
       "      <td>0</td>\n",
       "      <td>0</td>\n",
       "      <td>0</td>\n",
       "      <td>0</td>\n",
       "      <td>0</td>\n",
       "    </tr>\n",
       "    <tr>\n",
       "      <th>31996</th>\n",
       "      <td>1cja2</td>\n",
       "      <td>1</td>\n",
       "      <td>1</td>\n",
       "      <td>0</td>\n",
       "      <td>0</td>\n",
       "      <td>0</td>\n",
       "      <td>0</td>\n",
       "      <td>0</td>\n",
       "      <td>0</td>\n",
       "      <td>0</td>\n",
       "      <td>0</td>\n",
       "    </tr>\n",
       "    <tr>\n",
       "      <th>31997</th>\n",
       "      <td>1cja7</td>\n",
       "      <td>1</td>\n",
       "      <td>0</td>\n",
       "      <td>0</td>\n",
       "      <td>0</td>\n",
       "      <td>0</td>\n",
       "      <td>0</td>\n",
       "      <td>0</td>\n",
       "      <td>0</td>\n",
       "      <td>1</td>\n",
       "      <td>0</td>\n",
       "    </tr>\n",
       "    <tr>\n",
       "      <th>31998</th>\n",
       "      <td>1cjaa</td>\n",
       "      <td>0</td>\n",
       "      <td>0</td>\n",
       "      <td>0</td>\n",
       "      <td>0</td>\n",
       "      <td>0</td>\n",
       "      <td>0</td>\n",
       "      <td>0</td>\n",
       "      <td>1</td>\n",
       "      <td>0</td>\n",
       "      <td>0</td>\n",
       "    </tr>\n",
       "  </tbody>\n",
       "</table>\n",
       "<p>31999 rows × 11 columns</p>\n",
       "</div>"
      ],
      "text/plain": [
       "          id cochera pileta jacuzzi ping_pong parilla s.u.m. apto_credito  \\\n",
       "0      15bo8       0      0       0         0       0      0            0   \n",
       "1      15bod       0      0       0         0       0      0            0   \n",
       "2      15boh       0      0       0         0       0      0            0   \n",
       "3      15bot       0      1       0         0       0      0            0   \n",
       "4      15bou       0      1       0         0       0      0            0   \n",
       "...      ...     ...    ...     ...       ...     ...    ...          ...   \n",
       "31994  1cj5v       0      0       0         0       0      0            0   \n",
       "31995  1cj7c       0      0       0         0       0      0            0   \n",
       "31996  1cja2       1      1       0         0       0      0            0   \n",
       "31997  1cja7       1      0       0         0       0      0            0   \n",
       "31998  1cjaa       0      0       0         0       0      0            0   \n",
       "\n",
       "      apto_profesional solarium terraza_propia  \n",
       "0                    0        0              0  \n",
       "1                    0        0              0  \n",
       "2                    0        0              0  \n",
       "3                    1        1              0  \n",
       "4                    1        1              0  \n",
       "...                ...      ...            ...  \n",
       "31994                0        0              0  \n",
       "31995                0        0              0  \n",
       "31996                0        0              0  \n",
       "31997                0        1              0  \n",
       "31998                1        0              0  \n",
       "\n",
       "[31999 rows x 11 columns]"
      ]
     },
     "execution_count": 42,
     "metadata": {},
     "output_type": "execute_result"
    }
   ],
   "source": [
    "# estas las agrupamos en una variable\n",
    "amenities"
   ]
  },
  {
   "cell_type": "code",
   "execution_count": 43,
   "metadata": {},
   "outputs": [],
   "source": [
    "# cochera se usa por si sola y con el resto generamos \"con_amen\"\n",
    "amenities['con_amen'] = amenities[amenities.columns[1:]].max(axis=1)"
   ]
  },
  {
   "cell_type": "code",
   "execution_count": 44,
   "metadata": {},
   "outputs": [
    {
     "data": {
      "text/html": [
       "<div>\n",
       "<style scoped>\n",
       "    .dataframe tbody tr th:only-of-type {\n",
       "        vertical-align: middle;\n",
       "    }\n",
       "\n",
       "    .dataframe tbody tr th {\n",
       "        vertical-align: top;\n",
       "    }\n",
       "\n",
       "    .dataframe thead th {\n",
       "        text-align: right;\n",
       "    }\n",
       "</style>\n",
       "<table border=\"1\" class=\"dataframe\">\n",
       "  <thead>\n",
       "    <tr style=\"text-align: right;\">\n",
       "      <th></th>\n",
       "      <th>id</th>\n",
       "      <th>cochera</th>\n",
       "      <th>pileta</th>\n",
       "      <th>jacuzzi</th>\n",
       "      <th>ping_pong</th>\n",
       "      <th>parilla</th>\n",
       "      <th>s.u.m.</th>\n",
       "      <th>apto_credito</th>\n",
       "      <th>apto_profesional</th>\n",
       "      <th>solarium</th>\n",
       "      <th>terraza_propia</th>\n",
       "      <th>con_amen</th>\n",
       "    </tr>\n",
       "  </thead>\n",
       "  <tbody>\n",
       "    <tr>\n",
       "      <th>31329</th>\n",
       "      <td>1cgx0</td>\n",
       "      <td>1</td>\n",
       "      <td>0</td>\n",
       "      <td>0</td>\n",
       "      <td>0</td>\n",
       "      <td>0</td>\n",
       "      <td>0</td>\n",
       "      <td>0</td>\n",
       "      <td>0</td>\n",
       "      <td>0</td>\n",
       "      <td>0</td>\n",
       "      <td>1.0</td>\n",
       "    </tr>\n",
       "    <tr>\n",
       "      <th>3514</th>\n",
       "      <td>16x8r</td>\n",
       "      <td>0</td>\n",
       "      <td>0</td>\n",
       "      <td>0</td>\n",
       "      <td>0</td>\n",
       "      <td>0</td>\n",
       "      <td>0</td>\n",
       "      <td>0</td>\n",
       "      <td>1</td>\n",
       "      <td>0</td>\n",
       "      <td>0</td>\n",
       "      <td>1.0</td>\n",
       "    </tr>\n",
       "    <tr>\n",
       "      <th>12363</th>\n",
       "      <td>199r6</td>\n",
       "      <td>0</td>\n",
       "      <td>0</td>\n",
       "      <td>0</td>\n",
       "      <td>0</td>\n",
       "      <td>0</td>\n",
       "      <td>0</td>\n",
       "      <td>0</td>\n",
       "      <td>0</td>\n",
       "      <td>0</td>\n",
       "      <td>0</td>\n",
       "      <td>0.0</td>\n",
       "    </tr>\n",
       "    <tr>\n",
       "      <th>25927</th>\n",
       "      <td>1biu7</td>\n",
       "      <td>0</td>\n",
       "      <td>0</td>\n",
       "      <td>0</td>\n",
       "      <td>0</td>\n",
       "      <td>0</td>\n",
       "      <td>0</td>\n",
       "      <td>0</td>\n",
       "      <td>0</td>\n",
       "      <td>0</td>\n",
       "      <td>0</td>\n",
       "      <td>0.0</td>\n",
       "    </tr>\n",
       "    <tr>\n",
       "      <th>31885</th>\n",
       "      <td>1ciz9</td>\n",
       "      <td>0</td>\n",
       "      <td>0</td>\n",
       "      <td>0</td>\n",
       "      <td>0</td>\n",
       "      <td>0</td>\n",
       "      <td>0</td>\n",
       "      <td>0</td>\n",
       "      <td>0</td>\n",
       "      <td>0</td>\n",
       "      <td>0</td>\n",
       "      <td>0.0</td>\n",
       "    </tr>\n",
       "  </tbody>\n",
       "</table>\n",
       "</div>"
      ],
      "text/plain": [
       "          id cochera pileta jacuzzi ping_pong parilla s.u.m. apto_credito  \\\n",
       "31329  1cgx0       1      0       0         0       0      0            0   \n",
       "3514   16x8r       0      0       0         0       0      0            0   \n",
       "12363  199r6       0      0       0         0       0      0            0   \n",
       "25927  1biu7       0      0       0         0       0      0            0   \n",
       "31885  1ciz9       0      0       0         0       0      0            0   \n",
       "\n",
       "      apto_profesional solarium terraza_propia  con_amen  \n",
       "31329                0        0              0       1.0  \n",
       "3514                 1        0              0       1.0  \n",
       "12363                0        0              0       0.0  \n",
       "25927                0        0              0       0.0  \n",
       "31885                0        0              0       0.0  "
      ]
     },
     "execution_count": 44,
     "metadata": {},
     "output_type": "execute_result"
    }
   ],
   "source": [
    "np.random.seed(0)\n",
    "amenities.sample(5)"
   ]
  },
  {
   "cell_type": "markdown",
   "metadata": {},
   "source": [
    "##### finalmente las agregamos a df"
   ]
  },
  {
   "cell_type": "code",
   "execution_count": 45,
   "metadata": {},
   "outputs": [],
   "source": [
    "df['amenities'] = amenities.con_amen.astype(int)"
   ]
  },
  {
   "cell_type": "code",
   "execution_count": 46,
   "metadata": {},
   "outputs": [
    {
     "data": {
      "text/html": [
       "<div>\n",
       "<style scoped>\n",
       "    .dataframe tbody tr th:only-of-type {\n",
       "        vertical-align: middle;\n",
       "    }\n",
       "\n",
       "    .dataframe tbody tr th {\n",
       "        vertical-align: top;\n",
       "    }\n",
       "\n",
       "    .dataframe thead th {\n",
       "        text-align: right;\n",
       "    }\n",
       "</style>\n",
       "<table border=\"1\" class=\"dataframe\">\n",
       "  <thead>\n",
       "    <tr style=\"text-align: right;\">\n",
       "      <th></th>\n",
       "      <th>Unnamed: 0</th>\n",
       "      <th>id</th>\n",
       "      <th>tipo_propiedad</th>\n",
       "      <th>prop_subtipo</th>\n",
       "      <th>localidad</th>\n",
       "      <th>provincia</th>\n",
       "      <th>precio_usd</th>\n",
       "      <th>superficie_m2</th>\n",
       "      <th>usd_m2</th>\n",
       "      <th>ambientes</th>\n",
       "      <th>expensas</th>\n",
       "      <th>descripcion</th>\n",
       "      <th>titulo</th>\n",
       "      <th>geometry</th>\n",
       "      <th>amenities</th>\n",
       "    </tr>\n",
       "  </thead>\n",
       "  <tbody>\n",
       "    <tr>\n",
       "      <th>0</th>\n",
       "      <td>0</td>\n",
       "      <td>15bo8</td>\n",
       "      <td>PH</td>\n",
       "      <td>PH</td>\n",
       "      <td>Mataderos</td>\n",
       "      <td>Ciudad Autónoma de Buenos Aires</td>\n",
       "      <td>62000.0</td>\n",
       "      <td>55.000000</td>\n",
       "      <td>1127.272727</td>\n",
       "      <td>2.0</td>\n",
       "      <td>394.444444</td>\n",
       "      <td>2 ambientes tipo casa planta baja por pasillo,...</td>\n",
       "      <td>2 AMB TIPO CASA SIN EXPENSAS EN PB</td>\n",
       "      <td>POINT (-58.5088387 -34.6618237)</td>\n",
       "      <td>0</td>\n",
       "    </tr>\n",
       "    <tr>\n",
       "      <th>1</th>\n",
       "      <td>2</td>\n",
       "      <td>15bod</td>\n",
       "      <td>apartment</td>\n",
       "      <td>apartment</td>\n",
       "      <td>Mataderos</td>\n",
       "      <td>Ciudad Autónoma de Buenos Aires</td>\n",
       "      <td>72000.0</td>\n",
       "      <td>55.000000</td>\n",
       "      <td>1309.090909</td>\n",
       "      <td>2.0</td>\n",
       "      <td>1106.250000</td>\n",
       "      <td>2 ambientes 3er piso lateral living comedor am...</td>\n",
       "      <td>2 AMB 3ER PISO CON ASCENSOR APTO CREDITO</td>\n",
       "      <td>POINT (-58.5229825 -34.6522615)</td>\n",
       "      <td>0</td>\n",
       "    </tr>\n",
       "    <tr>\n",
       "      <th>2</th>\n",
       "      <td>3</td>\n",
       "      <td>15boh</td>\n",
       "      <td>PH</td>\n",
       "      <td>PH</td>\n",
       "      <td>Liniers</td>\n",
       "      <td>Ciudad Autónoma de Buenos Aires</td>\n",
       "      <td>95000.0</td>\n",
       "      <td>99.871429</td>\n",
       "      <td>951.223001</td>\n",
       "      <td>3.0</td>\n",
       "      <td>475.166667</td>\n",
       "      <td>ph 3 ambientes con patio. hay 3 deptos en lote...</td>\n",
       "      <td>PH 3 amb. cfte. reciclado</td>\n",
       "      <td>POINT (-58.5164244 -34.6477969)</td>\n",
       "      <td>0</td>\n",
       "    </tr>\n",
       "  </tbody>\n",
       "</table>\n",
       "</div>"
      ],
      "text/plain": [
       "   Unnamed: 0     id tipo_propiedad prop_subtipo  localidad  \\\n",
       "0           0  15bo8             PH           PH  Mataderos   \n",
       "1           2  15bod      apartment    apartment  Mataderos   \n",
       "2           3  15boh             PH           PH    Liniers   \n",
       "\n",
       "                         provincia  precio_usd  superficie_m2       usd_m2  \\\n",
       "0  Ciudad Autónoma de Buenos Aires     62000.0      55.000000  1127.272727   \n",
       "1  Ciudad Autónoma de Buenos Aires     72000.0      55.000000  1309.090909   \n",
       "2  Ciudad Autónoma de Buenos Aires     95000.0      99.871429   951.223001   \n",
       "\n",
       "   ambientes     expensas                                        descripcion  \\\n",
       "0        2.0   394.444444  2 ambientes tipo casa planta baja por pasillo,...   \n",
       "1        2.0  1106.250000  2 ambientes 3er piso lateral living comedor am...   \n",
       "2        3.0   475.166667  ph 3 ambientes con patio. hay 3 deptos en lote...   \n",
       "\n",
       "                                     titulo                         geometry  \\\n",
       "0        2 AMB TIPO CASA SIN EXPENSAS EN PB  POINT (-58.5088387 -34.6618237)   \n",
       "1  2 AMB 3ER PISO CON ASCENSOR APTO CREDITO  POINT (-58.5229825 -34.6522615)   \n",
       "2              PH 3 amb. cfte. reciclado     POINT (-58.5164244 -34.6477969)   \n",
       "\n",
       "   amenities  \n",
       "0          0  \n",
       "1          0  \n",
       "2          0  "
      ]
     },
     "execution_count": 46,
     "metadata": {},
     "output_type": "execute_result"
    }
   ],
   "source": [
    "df.head(3)"
   ]
  },
  {
   "cell_type": "code",
   "execution_count": 47,
   "metadata": {},
   "outputs": [
    {
     "data": {
      "text/plain": [
       "(31999, 15)"
      ]
     },
     "execution_count": 47,
     "metadata": {},
     "output_type": "execute_result"
    }
   ],
   "source": [
    "df.shape"
   ]
  },
  {
   "cell_type": "markdown",
   "metadata": {},
   "source": [
    "## Modificamos la variable 'geometry' para que se pueda usar en la predicción"
   ]
  },
  {
   "cell_type": "code",
   "execution_count": 48,
   "metadata": {},
   "outputs": [],
   "source": [
    "def get_points(data):\n",
    "    ''' esta funcion toma un punto en STR y lo convierte en geometria'''\n",
    "\n",
    "    data = data.strip('POINT (')\n",
    "    data = data.strip(')')\n",
    "\n",
    "    lon = float(data.split(' ')[0][:9])\n",
    "    lat = float(data.split(' ')[1][:9])\n",
    "\n",
    "    return Point(lon,lat)\n",
    "\n",
    "# df_xl['lat'] = [df.geometry.iloc[i].y for i in range(len(df))]\n",
    "# df_xl['lon'] = [df.geometry.iloc[i].x for i in range(len(df))]"
   ]
  },
  {
   "cell_type": "code",
   "execution_count": 49,
   "metadata": {},
   "outputs": [
    {
     "data": {
      "text/plain": [
       "Index(['Unnamed: 0', 'id', 'tipo_propiedad', 'prop_subtipo', 'localidad',\n",
       "       'provincia', 'precio_usd', 'superficie_m2', 'usd_m2', 'ambientes',\n",
       "       'expensas', 'descripcion', 'titulo', 'geometry', 'amenities'],\n",
       "      dtype='object')"
      ]
     },
     "execution_count": 49,
     "metadata": {},
     "output_type": "execute_result"
    }
   ],
   "source": [
    "df.columns"
   ]
  },
  {
   "cell_type": "code",
   "execution_count": 50,
   "metadata": {},
   "outputs": [],
   "source": [
    "df['lat'] = [x.strip('POINT (').strip(')').split(' ')[1] for x in df.geometry]\n",
    "df['lon'] = [x.strip('POINT (').strip(')').split(' ')[0] for x in df.geometry]"
   ]
  },
  {
   "cell_type": "code",
   "execution_count": 51,
   "metadata": {},
   "outputs": [
    {
     "data": {
      "text/plain": [
       "['-58.5088387', '-34.6618237']"
      ]
     },
     "execution_count": 51,
     "metadata": {},
     "output_type": "execute_result"
    }
   ],
   "source": [
    "df.geometry.iloc[0].strip('POINT (').strip(')').split(' ')"
   ]
  },
  {
   "cell_type": "code",
   "execution_count": 52,
   "metadata": {},
   "outputs": [
    {
     "data": {
      "text/html": [
       "<div>\n",
       "<style scoped>\n",
       "    .dataframe tbody tr th:only-of-type {\n",
       "        vertical-align: middle;\n",
       "    }\n",
       "\n",
       "    .dataframe tbody tr th {\n",
       "        vertical-align: top;\n",
       "    }\n",
       "\n",
       "    .dataframe thead th {\n",
       "        text-align: right;\n",
       "    }\n",
       "</style>\n",
       "<table border=\"1\" class=\"dataframe\">\n",
       "  <thead>\n",
       "    <tr style=\"text-align: right;\">\n",
       "      <th></th>\n",
       "      <th>Unnamed: 0</th>\n",
       "      <th>id</th>\n",
       "      <th>tipo_propiedad</th>\n",
       "      <th>prop_subtipo</th>\n",
       "      <th>localidad</th>\n",
       "      <th>provincia</th>\n",
       "      <th>precio_usd</th>\n",
       "      <th>superficie_m2</th>\n",
       "      <th>usd_m2</th>\n",
       "      <th>ambientes</th>\n",
       "      <th>expensas</th>\n",
       "      <th>descripcion</th>\n",
       "      <th>titulo</th>\n",
       "      <th>geometry</th>\n",
       "      <th>amenities</th>\n",
       "      <th>lat</th>\n",
       "      <th>lon</th>\n",
       "    </tr>\n",
       "  </thead>\n",
       "  <tbody>\n",
       "    <tr>\n",
       "      <th>0</th>\n",
       "      <td>0</td>\n",
       "      <td>15bo8</td>\n",
       "      <td>PH</td>\n",
       "      <td>PH</td>\n",
       "      <td>Mataderos</td>\n",
       "      <td>Ciudad Autónoma de Buenos Aires</td>\n",
       "      <td>62000.0</td>\n",
       "      <td>55.000000</td>\n",
       "      <td>1127.272727</td>\n",
       "      <td>2.0</td>\n",
       "      <td>394.444444</td>\n",
       "      <td>2 ambientes tipo casa planta baja por pasillo,...</td>\n",
       "      <td>2 AMB TIPO CASA SIN EXPENSAS EN PB</td>\n",
       "      <td>POINT (-58.5088387 -34.6618237)</td>\n",
       "      <td>0</td>\n",
       "      <td>-34.6618237</td>\n",
       "      <td>-58.5088387</td>\n",
       "    </tr>\n",
       "    <tr>\n",
       "      <th>1</th>\n",
       "      <td>2</td>\n",
       "      <td>15bod</td>\n",
       "      <td>apartment</td>\n",
       "      <td>apartment</td>\n",
       "      <td>Mataderos</td>\n",
       "      <td>Ciudad Autónoma de Buenos Aires</td>\n",
       "      <td>72000.0</td>\n",
       "      <td>55.000000</td>\n",
       "      <td>1309.090909</td>\n",
       "      <td>2.0</td>\n",
       "      <td>1106.250000</td>\n",
       "      <td>2 ambientes 3er piso lateral living comedor am...</td>\n",
       "      <td>2 AMB 3ER PISO CON ASCENSOR APTO CREDITO</td>\n",
       "      <td>POINT (-58.5229825 -34.6522615)</td>\n",
       "      <td>0</td>\n",
       "      <td>-34.6522615</td>\n",
       "      <td>-58.5229825</td>\n",
       "    </tr>\n",
       "    <tr>\n",
       "      <th>2</th>\n",
       "      <td>3</td>\n",
       "      <td>15boh</td>\n",
       "      <td>PH</td>\n",
       "      <td>PH</td>\n",
       "      <td>Liniers</td>\n",
       "      <td>Ciudad Autónoma de Buenos Aires</td>\n",
       "      <td>95000.0</td>\n",
       "      <td>99.871429</td>\n",
       "      <td>951.223001</td>\n",
       "      <td>3.0</td>\n",
       "      <td>475.166667</td>\n",
       "      <td>ph 3 ambientes con patio. hay 3 deptos en lote...</td>\n",
       "      <td>PH 3 amb. cfte. reciclado</td>\n",
       "      <td>POINT (-58.5164244 -34.6477969)</td>\n",
       "      <td>0</td>\n",
       "      <td>-34.6477969</td>\n",
       "      <td>-58.5164244</td>\n",
       "    </tr>\n",
       "  </tbody>\n",
       "</table>\n",
       "</div>"
      ],
      "text/plain": [
       "   Unnamed: 0     id tipo_propiedad prop_subtipo  localidad  \\\n",
       "0           0  15bo8             PH           PH  Mataderos   \n",
       "1           2  15bod      apartment    apartment  Mataderos   \n",
       "2           3  15boh             PH           PH    Liniers   \n",
       "\n",
       "                         provincia  precio_usd  superficie_m2       usd_m2  \\\n",
       "0  Ciudad Autónoma de Buenos Aires     62000.0      55.000000  1127.272727   \n",
       "1  Ciudad Autónoma de Buenos Aires     72000.0      55.000000  1309.090909   \n",
       "2  Ciudad Autónoma de Buenos Aires     95000.0      99.871429   951.223001   \n",
       "\n",
       "   ambientes     expensas                                        descripcion  \\\n",
       "0        2.0   394.444444  2 ambientes tipo casa planta baja por pasillo,...   \n",
       "1        2.0  1106.250000  2 ambientes 3er piso lateral living comedor am...   \n",
       "2        3.0   475.166667  ph 3 ambientes con patio. hay 3 deptos en lote...   \n",
       "\n",
       "                                     titulo                         geometry  \\\n",
       "0        2 AMB TIPO CASA SIN EXPENSAS EN PB  POINT (-58.5088387 -34.6618237)   \n",
       "1  2 AMB 3ER PISO CON ASCENSOR APTO CREDITO  POINT (-58.5229825 -34.6522615)   \n",
       "2              PH 3 amb. cfte. reciclado     POINT (-58.5164244 -34.6477969)   \n",
       "\n",
       "   amenities          lat          lon  \n",
       "0          0  -34.6618237  -58.5088387  \n",
       "1          0  -34.6522615  -58.5229825  \n",
       "2          0  -34.6477969  -58.5164244  "
      ]
     },
     "execution_count": 52,
     "metadata": {},
     "output_type": "execute_result"
    }
   ],
   "source": [
    "df.head(3)"
   ]
  },
  {
   "cell_type": "markdown",
   "metadata": {},
   "source": [
    "Finalmente, eliminamos la columna unnamed e id ya que no están relacionadas con el precio y no aportan información al modelo"
   ]
  },
  {
   "cell_type": "code",
   "execution_count": 53,
   "metadata": {},
   "outputs": [],
   "source": [
    "df = df[['tipo_propiedad', 'prop_subtipo', 'localidad', 'provincia', 'precio_usd', 'superficie_m2', 'usd_m2', 'ambientes',\n",
    "       'expensas', 'descripcion', 'titulo', 'geometry', 'amenities', 'lat', 'lon']]"
   ]
  },
  {
   "cell_type": "code",
   "execution_count": 54,
   "metadata": {},
   "outputs": [],
   "source": [
    "df.lat= df.lat.astype(float)\n",
    "df.lon= df.lon.astype(float)"
   ]
  },
  {
   "cell_type": "code",
   "execution_count": 55,
   "metadata": {},
   "outputs": [],
   "source": [
    "df_sin_dummies = df[['localidad','lat','lon']].copy()"
   ]
  },
  {
   "cell_type": "code",
   "execution_count": 56,
   "metadata": {},
   "outputs": [
    {
     "data": {
      "text/plain": [
       "-34.60110959983453"
      ]
     },
     "execution_count": 56,
     "metadata": {},
     "output_type": "execute_result"
    }
   ],
   "source": [
    "df_sin_dummies.lat.mean()"
   ]
  },
  {
   "cell_type": "markdown",
   "metadata": {},
   "source": [
    "## 2. Visualización: Mapa de correlaciones"
   ]
  },
  {
   "cell_type": "markdown",
   "metadata": {},
   "source": [
    "Con el dataset listo, realizamos un mapa de correlaciones para visualizar la importancia de cada variable para el modelo a construir:"
   ]
  },
  {
   "cell_type": "code",
   "execution_count": 57,
   "metadata": {},
   "outputs": [
    {
     "data": {
      "text/plain": [
       "(array([0.5, 1.5, 2.5, 3.5, 4.5, 5.5, 6.5, 7.5]),\n",
       " <a list of 8 Text yticklabel objects>)"
      ]
     },
     "execution_count": 57,
     "metadata": {},
     "output_type": "execute_result"
    },
    {
     "data": {
      "image/png": "[encoded data removed]",
      "text/plain": [
       "<Figure size 1080x720 with 2 Axes>"
      ]
     },
     "metadata": {},
     "output_type": "display_data"
    }
   ],
   "source": [
    "corr = df.corr()\n",
    "\n",
    "mask = np.zeros(corr.shape, dtype=bool)\n",
    "mask[np.triu_indices(len(mask))] = True\n",
    "\n",
    "plt.figure(figsize=(15,10))\n",
    "ax = sns.heatmap(\n",
    "    corr, annot=True, \n",
    "    vmin=-1, vmax=1, center=0,\n",
    "    square=True, linewidths=1, mask=mask, cmap = 'coolwarm'\n",
    ")\n",
    "\n",
    "\n",
    "plt.title('Correlation map', size = 25)\n",
    "plt.xticks(size =15, rotation=45)\n",
    "plt.yticks(size =15,rotation=45)\n"
   ]
  },
  {
   "cell_type": "markdown",
   "metadata": {},
   "source": [
    "## 3. Preselección de variables para el modelo"
   ]
  },
  {
   "cell_type": "markdown",
   "metadata": {},
   "source": [
    "Vemos la poca correlación que tiene expesnas, por lo que es en principio poco útil para el modelo, por lo que, sumado a que no era una variable que viniese muy completa, se la dejará de lado para la creación del modelo.\n",
    "\n",
    "Notamos además una altísima correlación entre el precio de la propiedad y el precio por m2, lo que es esperado ya que la primera revela información de la segunda. Por esto tampoco se la incluirá en el modelo.\n",
    "\n",
    "Las variables restantes parecen ser de gran importancia.\n"
   ]
  },
  {
   "cell_type": "markdown",
   "metadata": {},
   "source": [
    "## 4. Creación de dummies para variables categóricas"
   ]
  },
  {
   "cell_type": "markdown",
   "metadata": {},
   "source": [
    "Usaremos el subtipo de propiedad generado y la localidad."
   ]
  },
  {
   "cell_type": "markdown",
   "metadata": {},
   "source": [
    "en prop_subtipo, tenemos tipo_size... vamos a hacer de ello 2 columnas para que las dummies sean menos y mas consistentes, quitaremos pa parte de tipo_ en prop_subtipo ya que es lo mismo que tipo de propiedad, y en prop subtipo quedará solo el tamaño. y con esto haremos las dummies"
   ]
  },
  {
   "cell_type": "code",
   "execution_count": 58,
   "metadata": {},
   "outputs": [
    {
     "data": {
      "text/plain": [
       "array(['PH', 'apartment', 'house', 'store', 'apartment_big', 'house_big',\n",
       "       'PH_big', 'store_xl', 'apartment_xl', 'store_big', 'house_xl',\n",
       "       'PH_xl'], dtype=object)"
      ]
     },
     "execution_count": 58,
     "metadata": {},
     "output_type": "execute_result"
    }
   ],
   "source": [
    "df.prop_subtipo.unique()"
   ]
  },
  {
   "cell_type": "code",
   "execution_count": 59,
   "metadata": {},
   "outputs": [],
   "source": [
    "df.loc[(df.prop_subtipo == 'PH')|\n",
    "       (df.prop_subtipo == 'apartment')|\n",
    "       (df.prop_subtipo == 'house')|\n",
    "       (df.prop_subtipo == 'store'),'prop_subtipo'] = 'normal'"
   ]
  },
  {
   "cell_type": "code",
   "execution_count": 60,
   "metadata": {},
   "outputs": [],
   "source": [
    "df.loc[(df.prop_subtipo == 'apartment_big')|\n",
    "       (df.prop_subtipo == 'house_big')|\n",
    "       (df.prop_subtipo == 'PH_big')|\n",
    "       (df.prop_subtipo == 'store_big'),'prop_subtipo'] = 'big'"
   ]
  },
  {
   "cell_type": "code",
   "execution_count": 61,
   "metadata": {},
   "outputs": [],
   "source": [
    "df.loc[(df.prop_subtipo == 'store_xl')|\n",
    "       (df.prop_subtipo == 'apartment_xl')|\n",
    "       (df.prop_subtipo == 'house_xl')|\n",
    "       (df.prop_subtipo == 'PH_xl'),'prop_subtipo'] = 'xl'"
   ]
  },
  {
   "cell_type": "code",
   "execution_count": 62,
   "metadata": {},
   "outputs": [
    {
     "data": {
      "text/plain": [
       "array(['normal', 'big', 'xl'], dtype=object)"
      ]
     },
     "execution_count": 62,
     "metadata": {},
     "output_type": "execute_result"
    }
   ],
   "source": [
    "df.prop_subtipo.unique()"
   ]
  },
  {
   "cell_type": "code",
   "execution_count": 63,
   "metadata": {},
   "outputs": [
    {
     "data": {
      "text/plain": [
       "array(['PH', 'apartment', 'house', 'store'], dtype=object)"
      ]
     },
     "execution_count": 63,
     "metadata": {},
     "output_type": "execute_result"
    }
   ],
   "source": [
    "df.tipo_propiedad.unique()"
   ]
  },
  {
   "cell_type": "code",
   "execution_count": 64,
   "metadata": {
    "scrolled": true
   },
   "outputs": [
    {
     "data": {
      "text/html": [
       "<div>\n",
       "<style scoped>\n",
       "    .dataframe tbody tr th:only-of-type {\n",
       "        vertical-align: middle;\n",
       "    }\n",
       "\n",
       "    .dataframe tbody tr th {\n",
       "        vertical-align: top;\n",
       "    }\n",
       "\n",
       "    .dataframe thead th {\n",
       "        text-align: right;\n",
       "    }\n",
       "</style>\n",
       "<table border=\"1\" class=\"dataframe\">\n",
       "  <thead>\n",
       "    <tr style=\"text-align: right;\">\n",
       "      <th></th>\n",
       "      <th>prop_apartment</th>\n",
       "      <th>prop_house</th>\n",
       "      <th>prop_store</th>\n",
       "      <th>size_normal</th>\n",
       "      <th>size_xl</th>\n",
       "      <th>loc_Agronomía</th>\n",
       "      <th>loc_Almagro</th>\n",
       "      <th>loc_Balvanera</th>\n",
       "      <th>loc_Barracas</th>\n",
       "      <th>loc_Barrio Norte</th>\n",
       "      <th>...</th>\n",
       "      <th>loc_Villa Lugano</th>\n",
       "      <th>loc_Villa Luro</th>\n",
       "      <th>loc_Villa Ortuzar</th>\n",
       "      <th>loc_Villa Pueyrredón</th>\n",
       "      <th>loc_Villa Real</th>\n",
       "      <th>loc_Villa Riachuelo</th>\n",
       "      <th>loc_Villa Santa Rita</th>\n",
       "      <th>loc_Villa Soldati</th>\n",
       "      <th>loc_Villa Urquiza</th>\n",
       "      <th>loc_Villa del Parque</th>\n",
       "    </tr>\n",
       "  </thead>\n",
       "  <tbody>\n",
       "    <tr>\n",
       "      <th>0</th>\n",
       "      <td>0</td>\n",
       "      <td>0</td>\n",
       "      <td>0</td>\n",
       "      <td>1</td>\n",
       "      <td>0</td>\n",
       "      <td>0</td>\n",
       "      <td>0</td>\n",
       "      <td>0</td>\n",
       "      <td>0</td>\n",
       "      <td>0</td>\n",
       "      <td>...</td>\n",
       "      <td>0</td>\n",
       "      <td>0</td>\n",
       "      <td>0</td>\n",
       "      <td>0</td>\n",
       "      <td>0</td>\n",
       "      <td>0</td>\n",
       "      <td>0</td>\n",
       "      <td>0</td>\n",
       "      <td>0</td>\n",
       "      <td>0</td>\n",
       "    </tr>\n",
       "    <tr>\n",
       "      <th>1</th>\n",
       "      <td>1</td>\n",
       "      <td>0</td>\n",
       "      <td>0</td>\n",
       "      <td>1</td>\n",
       "      <td>0</td>\n",
       "      <td>0</td>\n",
       "      <td>0</td>\n",
       "      <td>0</td>\n",
       "      <td>0</td>\n",
       "      <td>0</td>\n",
       "      <td>...</td>\n",
       "      <td>0</td>\n",
       "      <td>0</td>\n",
       "      <td>0</td>\n",
       "      <td>0</td>\n",
       "      <td>0</td>\n",
       "      <td>0</td>\n",
       "      <td>0</td>\n",
       "      <td>0</td>\n",
       "      <td>0</td>\n",
       "      <td>0</td>\n",
       "    </tr>\n",
       "  </tbody>\n",
       "</table>\n",
       "<p>2 rows × 66 columns</p>\n",
       "</div>"
      ],
      "text/plain": [
       "   prop_apartment  prop_house  prop_store  size_normal  size_xl  \\\n",
       "0               0           0           0            1        0   \n",
       "1               1           0           0            1        0   \n",
       "\n",
       "   loc_Agronomía  loc_Almagro  loc_Balvanera  loc_Barracas  loc_Barrio Norte  \\\n",
       "0              0            0              0             0                 0   \n",
       "1              0            0              0             0                 0   \n",
       "\n",
       "   ...  loc_Villa Lugano  loc_Villa Luro  loc_Villa Ortuzar  \\\n",
       "0  ...                 0               0                  0   \n",
       "1  ...                 0               0                  0   \n",
       "\n",
       "   loc_Villa Pueyrredón  loc_Villa Real  loc_Villa Riachuelo  \\\n",
       "0                     0               0                    0   \n",
       "1                     0               0                    0   \n",
       "\n",
       "   loc_Villa Santa Rita  loc_Villa Soldati  loc_Villa Urquiza  \\\n",
       "0                     0                  0                  0   \n",
       "1                     0                  0                  0   \n",
       "\n",
       "   loc_Villa del Parque  \n",
       "0                     0  \n",
       "1                     0  \n",
       "\n",
       "[2 rows x 66 columns]"
      ]
     },
     "execution_count": 64,
     "metadata": {},
     "output_type": "execute_result"
    }
   ],
   "source": [
    "dummies = pd.get_dummies(df[['tipo_propiedad','prop_subtipo', 'localidad']],prefix=['prop','size','loc'], drop_first=True)\n",
    "# acortamos un poco el prefijo de localidad\n",
    "dummies.head(2)"
   ]
  },
  {
   "cell_type": "markdown",
   "metadata": {},
   "source": [
    "### Mejora\n",
    "tenemos 5 dummies para propiedad y tamaño, lo que antes eran 11 variables"
   ]
  },
  {
   "cell_type": "code",
   "execution_count": 65,
   "metadata": {},
   "outputs": [],
   "source": [
    "df = pd.concat([df, dummies], axis='columns')"
   ]
  },
  {
   "cell_type": "code",
   "execution_count": 66,
   "metadata": {},
   "outputs": [
    {
     "data": {
      "text/plain": [
       "(31999, 81)"
      ]
     },
     "execution_count": 66,
     "metadata": {},
     "output_type": "execute_result"
    }
   ],
   "source": [
    "df.shape"
   ]
  },
  {
   "cell_type": "code",
   "execution_count": 67,
   "metadata": {},
   "outputs": [
    {
     "data": {
      "text/plain": [
       "Index(['tipo_propiedad', 'prop_subtipo', 'localidad', 'provincia',\n",
       "       'precio_usd', 'superficie_m2', 'usd_m2', 'ambientes', 'expensas',\n",
       "       'descripcion', 'titulo', 'geometry', 'amenities', 'lat', 'lon',\n",
       "       'prop_apartment', 'prop_house', 'prop_store', 'size_normal', 'size_xl',\n",
       "       'loc_Agronomía', 'loc_Almagro', 'loc_Balvanera', 'loc_Barracas',\n",
       "       'loc_Barrio Norte', 'loc_Belgrano', 'loc_Boca', 'loc_Boedo',\n",
       "       'loc_Caballito', 'loc_Capital Federal', 'loc_Catalinas',\n",
       "       'loc_Centro / Microcentro', 'loc_Chacarita', 'loc_Coghlan',\n",
       "       'loc_Colegiales', 'loc_Congreso', 'loc_Constitución', 'loc_Flores',\n",
       "       'loc_Floresta', 'loc_Las Cañitas', 'loc_Liniers', 'loc_Mataderos',\n",
       "       'loc_Monserrat', 'loc_Monte Castro', 'loc_Nuñez', 'loc_Once',\n",
       "       'loc_Palermo', 'loc_Palermo Chico', 'loc_Palermo Hollywood',\n",
       "       'loc_Palermo Soho', 'loc_Palermo Viejo', 'loc_Parque Avellaneda',\n",
       "       'loc_Parque Centenario', 'loc_Parque Chacabuco', 'loc_Parque Chas',\n",
       "       'loc_Parque Patricios', 'loc_Paternal', 'loc_Pompeya',\n",
       "       'loc_Puerto Madero', 'loc_Recoleta', 'loc_Retiro', 'loc_Saavedra',\n",
       "       'loc_San Cristobal', 'loc_San Nicolás', 'loc_San Telmo',\n",
       "       'loc_Tribunales', 'loc_Velez Sarsfield', 'loc_Versalles',\n",
       "       'loc_Villa Crespo', 'loc_Villa Devoto', 'loc_Villa General Mitre',\n",
       "       'loc_Villa Lugano', 'loc_Villa Luro', 'loc_Villa Ortuzar',\n",
       "       'loc_Villa Pueyrredón', 'loc_Villa Real', 'loc_Villa Riachuelo',\n",
       "       'loc_Villa Santa Rita', 'loc_Villa Soldati', 'loc_Villa Urquiza',\n",
       "       'loc_Villa del Parque'],\n",
       "      dtype='object')"
      ]
     },
     "execution_count": 67,
     "metadata": {},
     "output_type": "execute_result"
    }
   ],
   "source": [
    "df.columns"
   ]
  },
  {
   "cell_type": "markdown",
   "metadata": {},
   "source": [
    "Reindexamos para que quede como primera columna la variable objetivo: y eliminamos algunas columnas que ya no necesitamos"
   ]
  },
  {
   "cell_type": "code",
   "execution_count": 68,
   "metadata": {},
   "outputs": [],
   "source": [
    "# las variables que no debemos utilizar para fitear el modelo son las 2 primeras\n",
    "df = df[['usd_m2', 'precio_usd',\n",
    "         \n",
    "         'prop_apartment', 'prop_house', 'prop_store', 'size_normal', 'size_xl',\n",
    "         'superficie_m2', 'ambientes', 'amenities', 'lat','lon',\n",
    "         \n",
    "         #'tipo_propiedad', 'prop_subtipo', 'localidad', 'provincia','expensas','descripcion', 'titulo', 'geometry', \n",
    "         \n",
    "         'loc_Agronomía', 'loc_Almagro', 'loc_Balvanera','loc_Barracas', 'loc_Barrio Norte', 'loc_Belgrano', 'loc_Boca',\n",
    "         'loc_Boedo', 'loc_Caballito', 'loc_Capital Federal', 'loc_Catalinas','loc_Centro / Microcentro', 'loc_Chacarita',\n",
    "         'loc_Coghlan','loc_Colegiales', 'loc_Congreso', 'loc_Constitución', 'loc_Flores','loc_Floresta', 'loc_Las Cañitas',\n",
    "         'loc_Liniers', 'loc_Mataderos','loc_Monserrat', 'loc_Monte Castro', 'loc_Nuñez', 'loc_Once','loc_Palermo',\n",
    "         'loc_Palermo Chico', 'loc_Palermo Hollywood','loc_Palermo Soho', 'loc_Palermo Viejo', 'loc_Parque Avellaneda',\n",
    "         'loc_Parque Centenario', 'loc_Parque Chacabuco', 'loc_Parque Chas','loc_Parque Patricios', 'loc_Paternal',\n",
    "         'loc_Pompeya','loc_Puerto Madero', 'loc_Recoleta', 'loc_Retiro', 'loc_Saavedra','loc_San Cristobal',\n",
    "         'loc_San Nicolás', 'loc_San Telmo','loc_Tribunales', 'loc_Velez Sarsfield', 'loc_Versalles','loc_Villa Crespo',\n",
    "         'loc_Villa Devoto', 'loc_Villa General Mitre','loc_Villa Lugano', 'loc_Villa Luro', 'loc_Villa Ortuzar',\n",
    "         'loc_Villa Pueyrredón', 'loc_Villa Real', 'loc_Villa Riachuelo','loc_Villa Santa Rita', 'loc_Villa Soldati',\n",
    "         'loc_Villa Urquiza','loc_Villa del Parque']]"
   ]
  },
  {
   "cell_type": "code",
   "execution_count": 69,
   "metadata": {},
   "outputs": [
    {
     "data": {
      "text/html": [
       "<div>\n",
       "<style scoped>\n",
       "    .dataframe tbody tr th:only-of-type {\n",
       "        vertical-align: middle;\n",
       "    }\n",
       "\n",
       "    .dataframe tbody tr th {\n",
       "        vertical-align: top;\n",
       "    }\n",
       "\n",
       "    .dataframe thead th {\n",
       "        text-align: right;\n",
       "    }\n",
       "</style>\n",
       "<table border=\"1\" class=\"dataframe\">\n",
       "  <thead>\n",
       "    <tr style=\"text-align: right;\">\n",
       "      <th></th>\n",
       "      <th>usd_m2</th>\n",
       "      <th>precio_usd</th>\n",
       "      <th>prop_apartment</th>\n",
       "      <th>prop_house</th>\n",
       "      <th>prop_store</th>\n",
       "      <th>size_normal</th>\n",
       "      <th>size_xl</th>\n",
       "      <th>superficie_m2</th>\n",
       "      <th>ambientes</th>\n",
       "      <th>amenities</th>\n",
       "      <th>...</th>\n",
       "      <th>loc_Villa Lugano</th>\n",
       "      <th>loc_Villa Luro</th>\n",
       "      <th>loc_Villa Ortuzar</th>\n",
       "      <th>loc_Villa Pueyrredón</th>\n",
       "      <th>loc_Villa Real</th>\n",
       "      <th>loc_Villa Riachuelo</th>\n",
       "      <th>loc_Villa Santa Rita</th>\n",
       "      <th>loc_Villa Soldati</th>\n",
       "      <th>loc_Villa Urquiza</th>\n",
       "      <th>loc_Villa del Parque</th>\n",
       "    </tr>\n",
       "  </thead>\n",
       "  <tbody>\n",
       "    <tr>\n",
       "      <th>0</th>\n",
       "      <td>1127.272727</td>\n",
       "      <td>62000.0</td>\n",
       "      <td>0</td>\n",
       "      <td>0</td>\n",
       "      <td>0</td>\n",
       "      <td>1</td>\n",
       "      <td>0</td>\n",
       "      <td>55.000000</td>\n",
       "      <td>2.000000</td>\n",
       "      <td>0</td>\n",
       "      <td>...</td>\n",
       "      <td>0</td>\n",
       "      <td>0</td>\n",
       "      <td>0</td>\n",
       "      <td>0</td>\n",
       "      <td>0</td>\n",
       "      <td>0</td>\n",
       "      <td>0</td>\n",
       "      <td>0</td>\n",
       "      <td>0</td>\n",
       "      <td>0</td>\n",
       "    </tr>\n",
       "    <tr>\n",
       "      <th>1</th>\n",
       "      <td>1309.090909</td>\n",
       "      <td>72000.0</td>\n",
       "      <td>1</td>\n",
       "      <td>0</td>\n",
       "      <td>0</td>\n",
       "      <td>1</td>\n",
       "      <td>0</td>\n",
       "      <td>55.000000</td>\n",
       "      <td>2.000000</td>\n",
       "      <td>0</td>\n",
       "      <td>...</td>\n",
       "      <td>0</td>\n",
       "      <td>0</td>\n",
       "      <td>0</td>\n",
       "      <td>0</td>\n",
       "      <td>0</td>\n",
       "      <td>0</td>\n",
       "      <td>0</td>\n",
       "      <td>0</td>\n",
       "      <td>0</td>\n",
       "      <td>0</td>\n",
       "    </tr>\n",
       "    <tr>\n",
       "      <th>2</th>\n",
       "      <td>951.223001</td>\n",
       "      <td>95000.0</td>\n",
       "      <td>0</td>\n",
       "      <td>0</td>\n",
       "      <td>0</td>\n",
       "      <td>1</td>\n",
       "      <td>0</td>\n",
       "      <td>99.871429</td>\n",
       "      <td>3.000000</td>\n",
       "      <td>0</td>\n",
       "      <td>...</td>\n",
       "      <td>0</td>\n",
       "      <td>0</td>\n",
       "      <td>0</td>\n",
       "      <td>0</td>\n",
       "      <td>0</td>\n",
       "      <td>0</td>\n",
       "      <td>0</td>\n",
       "      <td>0</td>\n",
       "      <td>0</td>\n",
       "      <td>0</td>\n",
       "    </tr>\n",
       "    <tr>\n",
       "      <th>3</th>\n",
       "      <td>3066.666667</td>\n",
       "      <td>138000.0</td>\n",
       "      <td>1</td>\n",
       "      <td>0</td>\n",
       "      <td>0</td>\n",
       "      <td>1</td>\n",
       "      <td>0</td>\n",
       "      <td>45.000000</td>\n",
       "      <td>2.486814</td>\n",
       "      <td>1</td>\n",
       "      <td>...</td>\n",
       "      <td>0</td>\n",
       "      <td>0</td>\n",
       "      <td>0</td>\n",
       "      <td>0</td>\n",
       "      <td>0</td>\n",
       "      <td>0</td>\n",
       "      <td>0</td>\n",
       "      <td>0</td>\n",
       "      <td>0</td>\n",
       "      <td>0</td>\n",
       "    </tr>\n",
       "    <tr>\n",
       "      <th>4</th>\n",
       "      <td>3000.000000</td>\n",
       "      <td>195000.0</td>\n",
       "      <td>1</td>\n",
       "      <td>0</td>\n",
       "      <td>0</td>\n",
       "      <td>1</td>\n",
       "      <td>0</td>\n",
       "      <td>65.000000</td>\n",
       "      <td>2.486814</td>\n",
       "      <td>1</td>\n",
       "      <td>...</td>\n",
       "      <td>0</td>\n",
       "      <td>0</td>\n",
       "      <td>0</td>\n",
       "      <td>0</td>\n",
       "      <td>0</td>\n",
       "      <td>0</td>\n",
       "      <td>0</td>\n",
       "      <td>0</td>\n",
       "      <td>0</td>\n",
       "      <td>0</td>\n",
       "    </tr>\n",
       "  </tbody>\n",
       "</table>\n",
       "<p>5 rows × 73 columns</p>\n",
       "</div>"
      ],
      "text/plain": [
       "        usd_m2  precio_usd  prop_apartment  prop_house  prop_store  \\\n",
       "0  1127.272727     62000.0               0           0           0   \n",
       "1  1309.090909     72000.0               1           0           0   \n",
       "2   951.223001     95000.0               0           0           0   \n",
       "3  3066.666667    138000.0               1           0           0   \n",
       "4  3000.000000    195000.0               1           0           0   \n",
       "\n",
       "   size_normal  size_xl  superficie_m2  ambientes  amenities  ...  \\\n",
       "0            1        0      55.000000   2.000000          0  ...   \n",
       "1            1        0      55.000000   2.000000          0  ...   \n",
       "2            1        0      99.871429   3.000000          0  ...   \n",
       "3            1        0      45.000000   2.486814          1  ...   \n",
       "4            1        0      65.000000   2.486814          1  ...   \n",
       "\n",
       "   loc_Villa Lugano  loc_Villa Luro  loc_Villa Ortuzar  loc_Villa Pueyrredón  \\\n",
       "0                 0               0                  0                     0   \n",
       "1                 0               0                  0                     0   \n",
       "2                 0               0                  0                     0   \n",
       "3                 0               0                  0                     0   \n",
       "4                 0               0                  0                     0   \n",
       "\n",
       "   loc_Villa Real  loc_Villa Riachuelo  loc_Villa Santa Rita  \\\n",
       "0               0                    0                     0   \n",
       "1               0                    0                     0   \n",
       "2               0                    0                     0   \n",
       "3               0                    0                     0   \n",
       "4               0                    0                     0   \n",
       "\n",
       "   loc_Villa Soldati  loc_Villa Urquiza  loc_Villa del Parque  \n",
       "0                  0                  0                     0  \n",
       "1                  0                  0                     0  \n",
       "2                  0                  0                     0  \n",
       "3                  0                  0                     0  \n",
       "4                  0                  0                     0  \n",
       "\n",
       "[5 rows x 73 columns]"
      ]
     },
     "execution_count": 69,
     "metadata": {},
     "output_type": "execute_result"
    }
   ],
   "source": [
    "df.head()"
   ]
  },
  {
   "cell_type": "markdown",
   "metadata": {},
   "source": [
    "Exportamos el dataframe final, listo para trabajar:"
   ]
  },
  {
   "cell_type": "code",
   "execution_count": 70,
   "metadata": {
    "scrolled": true
   },
   "outputs": [
    {
     "data": {
      "text/plain": [
       "Series([], dtype: int64)"
      ]
     },
     "execution_count": 70,
     "metadata": {},
     "output_type": "execute_result"
    }
   ],
   "source": [
    "# todo completo\n",
    "df.isnull().sum()[df.isnull().sum()>0]"
   ]
  },
  {
   "cell_type": "code",
   "execution_count": 71,
   "metadata": {},
   "outputs": [
    {
     "data": {
      "text/html": [
       "<div>\n",
       "<style scoped>\n",
       "    .dataframe tbody tr th:only-of-type {\n",
       "        vertical-align: middle;\n",
       "    }\n",
       "\n",
       "    .dataframe tbody tr th {\n",
       "        vertical-align: top;\n",
       "    }\n",
       "\n",
       "    .dataframe thead th {\n",
       "        text-align: right;\n",
       "    }\n",
       "</style>\n",
       "<table border=\"1\" class=\"dataframe\">\n",
       "  <thead>\n",
       "    <tr style=\"text-align: right;\">\n",
       "      <th></th>\n",
       "      <th>usd_m2</th>\n",
       "      <th>precio_usd</th>\n",
       "      <th>prop_apartment</th>\n",
       "      <th>prop_house</th>\n",
       "      <th>prop_store</th>\n",
       "      <th>size_normal</th>\n",
       "      <th>size_xl</th>\n",
       "      <th>superficie_m2</th>\n",
       "      <th>ambientes</th>\n",
       "      <th>amenities</th>\n",
       "      <th>...</th>\n",
       "      <th>loc_Villa Lugano</th>\n",
       "      <th>loc_Villa Luro</th>\n",
       "      <th>loc_Villa Ortuzar</th>\n",
       "      <th>loc_Villa Pueyrredón</th>\n",
       "      <th>loc_Villa Real</th>\n",
       "      <th>loc_Villa Riachuelo</th>\n",
       "      <th>loc_Villa Santa Rita</th>\n",
       "      <th>loc_Villa Soldati</th>\n",
       "      <th>loc_Villa Urquiza</th>\n",
       "      <th>loc_Villa del Parque</th>\n",
       "    </tr>\n",
       "  </thead>\n",
       "  <tbody>\n",
       "    <tr>\n",
       "      <th>0</th>\n",
       "      <td>1127.272727</td>\n",
       "      <td>62000.0</td>\n",
       "      <td>0</td>\n",
       "      <td>0</td>\n",
       "      <td>0</td>\n",
       "      <td>1</td>\n",
       "      <td>0</td>\n",
       "      <td>55.000000</td>\n",
       "      <td>2.0</td>\n",
       "      <td>0</td>\n",
       "      <td>...</td>\n",
       "      <td>0</td>\n",
       "      <td>0</td>\n",
       "      <td>0</td>\n",
       "      <td>0</td>\n",
       "      <td>0</td>\n",
       "      <td>0</td>\n",
       "      <td>0</td>\n",
       "      <td>0</td>\n",
       "      <td>0</td>\n",
       "      <td>0</td>\n",
       "    </tr>\n",
       "    <tr>\n",
       "      <th>1</th>\n",
       "      <td>1309.090909</td>\n",
       "      <td>72000.0</td>\n",
       "      <td>1</td>\n",
       "      <td>0</td>\n",
       "      <td>0</td>\n",
       "      <td>1</td>\n",
       "      <td>0</td>\n",
       "      <td>55.000000</td>\n",
       "      <td>2.0</td>\n",
       "      <td>0</td>\n",
       "      <td>...</td>\n",
       "      <td>0</td>\n",
       "      <td>0</td>\n",
       "      <td>0</td>\n",
       "      <td>0</td>\n",
       "      <td>0</td>\n",
       "      <td>0</td>\n",
       "      <td>0</td>\n",
       "      <td>0</td>\n",
       "      <td>0</td>\n",
       "      <td>0</td>\n",
       "    </tr>\n",
       "    <tr>\n",
       "      <th>2</th>\n",
       "      <td>951.223001</td>\n",
       "      <td>95000.0</td>\n",
       "      <td>0</td>\n",
       "      <td>0</td>\n",
       "      <td>0</td>\n",
       "      <td>1</td>\n",
       "      <td>0</td>\n",
       "      <td>99.871429</td>\n",
       "      <td>3.0</td>\n",
       "      <td>0</td>\n",
       "      <td>...</td>\n",
       "      <td>0</td>\n",
       "      <td>0</td>\n",
       "      <td>0</td>\n",
       "      <td>0</td>\n",
       "      <td>0</td>\n",
       "      <td>0</td>\n",
       "      <td>0</td>\n",
       "      <td>0</td>\n",
       "      <td>0</td>\n",
       "      <td>0</td>\n",
       "    </tr>\n",
       "  </tbody>\n",
       "</table>\n",
       "<p>3 rows × 73 columns</p>\n",
       "</div>"
      ],
      "text/plain": [
       "        usd_m2  precio_usd  prop_apartment  prop_house  prop_store  \\\n",
       "0  1127.272727     62000.0               0           0           0   \n",
       "1  1309.090909     72000.0               1           0           0   \n",
       "2   951.223001     95000.0               0           0           0   \n",
       "\n",
       "   size_normal  size_xl  superficie_m2  ambientes  amenities  ...  \\\n",
       "0            1        0      55.000000        2.0          0  ...   \n",
       "1            1        0      55.000000        2.0          0  ...   \n",
       "2            1        0      99.871429        3.0          0  ...   \n",
       "\n",
       "   loc_Villa Lugano  loc_Villa Luro  loc_Villa Ortuzar  loc_Villa Pueyrredón  \\\n",
       "0                 0               0                  0                     0   \n",
       "1                 0               0                  0                     0   \n",
       "2                 0               0                  0                     0   \n",
       "\n",
       "   loc_Villa Real  loc_Villa Riachuelo  loc_Villa Santa Rita  \\\n",
       "0               0                    0                     0   \n",
       "1               0                    0                     0   \n",
       "2               0                    0                     0   \n",
       "\n",
       "   loc_Villa Soldati  loc_Villa Urquiza  loc_Villa del Parque  \n",
       "0                  0                  0                     0  \n",
       "1                  0                  0                     0  \n",
       "2                  0                  0                     0  \n",
       "\n",
       "[3 rows x 73 columns]"
      ]
     },
     "execution_count": 71,
     "metadata": {},
     "output_type": "execute_result"
    }
   ],
   "source": [
    "# columnas ordenadas y depuradas\n",
    "df.head(3)"
   ]
  },
  {
   "cell_type": "code",
   "execution_count": 72,
   "metadata": {},
   "outputs": [],
   "source": [
    "df.to_csv('df_limpio_modelo.csv',sep='|',index=None)"
   ]
  },
  {
   "cell_type": "markdown",
   "metadata": {},
   "source": [
    "# HASTA ACÁ ESTÁ EN EL ARCHIVO EXPORTADO\n",
    "Para analizar distitos modelos comenzamos desde aqui con la importación del df_limpio_modelo.csv, y realizando de los puntos 5 al 7 para preparación del dataset."
   ]
  },
  {
   "cell_type": "code",
   "execution_count": 73,
   "metadata": {},
   "outputs": [],
   "source": [
    "df = pd.read_csv('df_limpio_modelo.csv',sep='|')"
   ]
  },
  {
   "cell_type": "code",
   "execution_count": 74,
   "metadata": {},
   "outputs": [
    {
     "data": {
      "text/html": [
       "<div>\n",
       "<style scoped>\n",
       "    .dataframe tbody tr th:only-of-type {\n",
       "        vertical-align: middle;\n",
       "    }\n",
       "\n",
       "    .dataframe tbody tr th {\n",
       "        vertical-align: top;\n",
       "    }\n",
       "\n",
       "    .dataframe thead th {\n",
       "        text-align: right;\n",
       "    }\n",
       "</style>\n",
       "<table border=\"1\" class=\"dataframe\">\n",
       "  <thead>\n",
       "    <tr style=\"text-align: right;\">\n",
       "      <th></th>\n",
       "      <th>usd_m2</th>\n",
       "      <th>precio_usd</th>\n",
       "      <th>prop_apartment</th>\n",
       "      <th>prop_house</th>\n",
       "      <th>prop_store</th>\n",
       "      <th>size_normal</th>\n",
       "      <th>size_xl</th>\n",
       "      <th>superficie_m2</th>\n",
       "      <th>ambientes</th>\n",
       "      <th>amenities</th>\n",
       "      <th>...</th>\n",
       "      <th>loc_Villa Lugano</th>\n",
       "      <th>loc_Villa Luro</th>\n",
       "      <th>loc_Villa Ortuzar</th>\n",
       "      <th>loc_Villa Pueyrredón</th>\n",
       "      <th>loc_Villa Real</th>\n",
       "      <th>loc_Villa Riachuelo</th>\n",
       "      <th>loc_Villa Santa Rita</th>\n",
       "      <th>loc_Villa Soldati</th>\n",
       "      <th>loc_Villa Urquiza</th>\n",
       "      <th>loc_Villa del Parque</th>\n",
       "    </tr>\n",
       "  </thead>\n",
       "  <tbody>\n",
       "    <tr>\n",
       "      <th>0</th>\n",
       "      <td>1127.272727</td>\n",
       "      <td>62000.0</td>\n",
       "      <td>0</td>\n",
       "      <td>0</td>\n",
       "      <td>0</td>\n",
       "      <td>1</td>\n",
       "      <td>0</td>\n",
       "      <td>55.000000</td>\n",
       "      <td>2.000000</td>\n",
       "      <td>0</td>\n",
       "      <td>...</td>\n",
       "      <td>0</td>\n",
       "      <td>0</td>\n",
       "      <td>0</td>\n",
       "      <td>0</td>\n",
       "      <td>0</td>\n",
       "      <td>0</td>\n",
       "      <td>0</td>\n",
       "      <td>0</td>\n",
       "      <td>0</td>\n",
       "      <td>0</td>\n",
       "    </tr>\n",
       "    <tr>\n",
       "      <th>1</th>\n",
       "      <td>1309.090909</td>\n",
       "      <td>72000.0</td>\n",
       "      <td>1</td>\n",
       "      <td>0</td>\n",
       "      <td>0</td>\n",
       "      <td>1</td>\n",
       "      <td>0</td>\n",
       "      <td>55.000000</td>\n",
       "      <td>2.000000</td>\n",
       "      <td>0</td>\n",
       "      <td>...</td>\n",
       "      <td>0</td>\n",
       "      <td>0</td>\n",
       "      <td>0</td>\n",
       "      <td>0</td>\n",
       "      <td>0</td>\n",
       "      <td>0</td>\n",
       "      <td>0</td>\n",
       "      <td>0</td>\n",
       "      <td>0</td>\n",
       "      <td>0</td>\n",
       "    </tr>\n",
       "    <tr>\n",
       "      <th>2</th>\n",
       "      <td>951.223001</td>\n",
       "      <td>95000.0</td>\n",
       "      <td>0</td>\n",
       "      <td>0</td>\n",
       "      <td>0</td>\n",
       "      <td>1</td>\n",
       "      <td>0</td>\n",
       "      <td>99.871429</td>\n",
       "      <td>3.000000</td>\n",
       "      <td>0</td>\n",
       "      <td>...</td>\n",
       "      <td>0</td>\n",
       "      <td>0</td>\n",
       "      <td>0</td>\n",
       "      <td>0</td>\n",
       "      <td>0</td>\n",
       "      <td>0</td>\n",
       "      <td>0</td>\n",
       "      <td>0</td>\n",
       "      <td>0</td>\n",
       "      <td>0</td>\n",
       "    </tr>\n",
       "    <tr>\n",
       "      <th>3</th>\n",
       "      <td>3066.666667</td>\n",
       "      <td>138000.0</td>\n",
       "      <td>1</td>\n",
       "      <td>0</td>\n",
       "      <td>0</td>\n",
       "      <td>1</td>\n",
       "      <td>0</td>\n",
       "      <td>45.000000</td>\n",
       "      <td>2.486814</td>\n",
       "      <td>1</td>\n",
       "      <td>...</td>\n",
       "      <td>0</td>\n",
       "      <td>0</td>\n",
       "      <td>0</td>\n",
       "      <td>0</td>\n",
       "      <td>0</td>\n",
       "      <td>0</td>\n",
       "      <td>0</td>\n",
       "      <td>0</td>\n",
       "      <td>0</td>\n",
       "      <td>0</td>\n",
       "    </tr>\n",
       "    <tr>\n",
       "      <th>4</th>\n",
       "      <td>3000.000000</td>\n",
       "      <td>195000.0</td>\n",
       "      <td>1</td>\n",
       "      <td>0</td>\n",
       "      <td>0</td>\n",
       "      <td>1</td>\n",
       "      <td>0</td>\n",
       "      <td>65.000000</td>\n",
       "      <td>2.486814</td>\n",
       "      <td>1</td>\n",
       "      <td>...</td>\n",
       "      <td>0</td>\n",
       "      <td>0</td>\n",
       "      <td>0</td>\n",
       "      <td>0</td>\n",
       "      <td>0</td>\n",
       "      <td>0</td>\n",
       "      <td>0</td>\n",
       "      <td>0</td>\n",
       "      <td>0</td>\n",
       "      <td>0</td>\n",
       "    </tr>\n",
       "  </tbody>\n",
       "</table>\n",
       "<p>5 rows × 73 columns</p>\n",
       "</div>"
      ],
      "text/plain": [
       "        usd_m2  precio_usd  prop_apartment  prop_house  prop_store  \\\n",
       "0  1127.272727     62000.0               0           0           0   \n",
       "1  1309.090909     72000.0               1           0           0   \n",
       "2   951.223001     95000.0               0           0           0   \n",
       "3  3066.666667    138000.0               1           0           0   \n",
       "4  3000.000000    195000.0               1           0           0   \n",
       "\n",
       "   size_normal  size_xl  superficie_m2  ambientes  amenities  ...  \\\n",
       "0            1        0      55.000000   2.000000          0  ...   \n",
       "1            1        0      55.000000   2.000000          0  ...   \n",
       "2            1        0      99.871429   3.000000          0  ...   \n",
       "3            1        0      45.000000   2.486814          1  ...   \n",
       "4            1        0      65.000000   2.486814          1  ...   \n",
       "\n",
       "   loc_Villa Lugano  loc_Villa Luro  loc_Villa Ortuzar  loc_Villa Pueyrredón  \\\n",
       "0                 0               0                  0                     0   \n",
       "1                 0               0                  0                     0   \n",
       "2                 0               0                  0                     0   \n",
       "3                 0               0                  0                     0   \n",
       "4                 0               0                  0                     0   \n",
       "\n",
       "   loc_Villa Real  loc_Villa Riachuelo  loc_Villa Santa Rita  \\\n",
       "0               0                    0                     0   \n",
       "1               0                    0                     0   \n",
       "2               0                    0                     0   \n",
       "3               0                    0                     0   \n",
       "4               0                    0                     0   \n",
       "\n",
       "   loc_Villa Soldati  loc_Villa Urquiza  loc_Villa del Parque  \n",
       "0                  0                  0                     0  \n",
       "1                  0                  0                     0  \n",
       "2                  0                  0                     0  \n",
       "3                  0                  0                     0  \n",
       "4                  0                  0                     0  \n",
       "\n",
       "[5 rows x 73 columns]"
      ]
     },
     "execution_count": 74,
     "metadata": {},
     "output_type": "execute_result"
    }
   ],
   "source": [
    "df.head()"
   ]
  },
  {
   "cell_type": "markdown",
   "metadata": {},
   "source": [
    "## Sin dummies de localidades\n",
    "solo con los datos de lat-lon"
   ]
  },
  {
   "cell_type": "code",
   "execution_count": 75,
   "metadata": {},
   "outputs": [
    {
     "data": {
      "image/png": "[encoded data removed]",
      "text/plain": [
       "<Figure size 522x360 with 1 Axes>"
      ]
     },
     "metadata": {},
     "output_type": "display_data"
    }
   ],
   "source": [
    "sns.lmplot(x = 'precio_usd', y = 'usd_m2',data=df, aspect=1.45, scatter_kws={'alpha':0.2})\n",
    "plt.title(\"Regresión Lineal\",size=15)\n",
    "plt.xticks(size=12)\n",
    "plt.xticks(size=12);"
   ]
  },
  {
   "cell_type": "code",
   "execution_count": 76,
   "metadata": {},
   "outputs": [
    {
     "data": {
      "image/png": "[encoded data removed]",
      "text/plain": [
       "<Figure size 522x360 with 1 Axes>"
      ]
     },
     "metadata": {},
     "output_type": "display_data"
    }
   ],
   "source": [
    "# cuanto mas grande mas caro en total\n",
    "sns.lmplot(x = 'superficie_m2', y = 'precio_usd',data=df, aspect=1.45, scatter_kws={'alpha':0.2})\n",
    "plt.title(\"Regresión Lineal\",size=15)\n",
    "plt.xticks(size=12,rotation=45)\n",
    "plt.xticks(size=12, rotation=45)\n",
    "plt.xlabel('superficie_m2',size=15)\n",
    "plt.ylabel('precio_usd',size=15);"
   ]
  },
  {
   "cell_type": "code",
   "execution_count": 77,
   "metadata": {
    "scrolled": false
   },
   "outputs": [
    {
     "data": {
      "image/png": "[encoded data removed]",
      "text/plain": [
       "<Figure size 522x360 with 1 Axes>"
      ]
     },
     "metadata": {},
     "output_type": "display_data"
    }
   ],
   "source": [
    "# cuanto mas grande mas barato en general\n",
    "sns.lmplot(x = 'superficie_m2', y = 'usd_m2',data=df, aspect=1.45, scatter_kws={'alpha':0.2})\n",
    "plt.title(\"Regresión Lineal\",size=15)\n",
    "plt.xticks(size=12,rotation=45)\n",
    "plt.xticks(size=12, rotation=45)\n",
    "plt.xlabel('superficie_m2',size=15)\n",
    "plt.ylabel('usd_m2',size=15);"
   ]
  },
  {
   "cell_type": "markdown",
   "metadata": {},
   "source": [
    "### 5. Obtención de matriz de features (X) y vector de variable explicada (y)"
   ]
  },
  {
   "cell_type": "markdown",
   "metadata": {},
   "source": [
    "Observamos las columnas de nuestro dataset actual"
   ]
  },
  {
   "cell_type": "code",
   "execution_count": 78,
   "metadata": {},
   "outputs": [
    {
     "data": {
      "text/html": [
       "<div>\n",
       "<style scoped>\n",
       "    .dataframe tbody tr th:only-of-type {\n",
       "        vertical-align: middle;\n",
       "    }\n",
       "\n",
       "    .dataframe tbody tr th {\n",
       "        vertical-align: top;\n",
       "    }\n",
       "\n",
       "    .dataframe thead th {\n",
       "        text-align: right;\n",
       "    }\n",
       "</style>\n",
       "<table border=\"1\" class=\"dataframe\">\n",
       "  <thead>\n",
       "    <tr style=\"text-align: right;\">\n",
       "      <th></th>\n",
       "      <th>usd_m2</th>\n",
       "      <th>precio_usd</th>\n",
       "      <th>prop_apartment</th>\n",
       "      <th>prop_house</th>\n",
       "      <th>prop_store</th>\n",
       "      <th>size_normal</th>\n",
       "      <th>size_xl</th>\n",
       "      <th>superficie_m2</th>\n",
       "      <th>ambientes</th>\n",
       "      <th>amenities</th>\n",
       "      <th>...</th>\n",
       "      <th>loc_Villa Lugano</th>\n",
       "      <th>loc_Villa Luro</th>\n",
       "      <th>loc_Villa Ortuzar</th>\n",
       "      <th>loc_Villa Pueyrredón</th>\n",
       "      <th>loc_Villa Real</th>\n",
       "      <th>loc_Villa Riachuelo</th>\n",
       "      <th>loc_Villa Santa Rita</th>\n",
       "      <th>loc_Villa Soldati</th>\n",
       "      <th>loc_Villa Urquiza</th>\n",
       "      <th>loc_Villa del Parque</th>\n",
       "    </tr>\n",
       "  </thead>\n",
       "  <tbody>\n",
       "    <tr>\n",
       "      <th>0</th>\n",
       "      <td>1127.272727</td>\n",
       "      <td>62000.0</td>\n",
       "      <td>0</td>\n",
       "      <td>0</td>\n",
       "      <td>0</td>\n",
       "      <td>1</td>\n",
       "      <td>0</td>\n",
       "      <td>55.000000</td>\n",
       "      <td>2.000000</td>\n",
       "      <td>0</td>\n",
       "      <td>...</td>\n",
       "      <td>0</td>\n",
       "      <td>0</td>\n",
       "      <td>0</td>\n",
       "      <td>0</td>\n",
       "      <td>0</td>\n",
       "      <td>0</td>\n",
       "      <td>0</td>\n",
       "      <td>0</td>\n",
       "      <td>0</td>\n",
       "      <td>0</td>\n",
       "    </tr>\n",
       "    <tr>\n",
       "      <th>1</th>\n",
       "      <td>1309.090909</td>\n",
       "      <td>72000.0</td>\n",
       "      <td>1</td>\n",
       "      <td>0</td>\n",
       "      <td>0</td>\n",
       "      <td>1</td>\n",
       "      <td>0</td>\n",
       "      <td>55.000000</td>\n",
       "      <td>2.000000</td>\n",
       "      <td>0</td>\n",
       "      <td>...</td>\n",
       "      <td>0</td>\n",
       "      <td>0</td>\n",
       "      <td>0</td>\n",
       "      <td>0</td>\n",
       "      <td>0</td>\n",
       "      <td>0</td>\n",
       "      <td>0</td>\n",
       "      <td>0</td>\n",
       "      <td>0</td>\n",
       "      <td>0</td>\n",
       "    </tr>\n",
       "    <tr>\n",
       "      <th>2</th>\n",
       "      <td>951.223001</td>\n",
       "      <td>95000.0</td>\n",
       "      <td>0</td>\n",
       "      <td>0</td>\n",
       "      <td>0</td>\n",
       "      <td>1</td>\n",
       "      <td>0</td>\n",
       "      <td>99.871429</td>\n",
       "      <td>3.000000</td>\n",
       "      <td>0</td>\n",
       "      <td>...</td>\n",
       "      <td>0</td>\n",
       "      <td>0</td>\n",
       "      <td>0</td>\n",
       "      <td>0</td>\n",
       "      <td>0</td>\n",
       "      <td>0</td>\n",
       "      <td>0</td>\n",
       "      <td>0</td>\n",
       "      <td>0</td>\n",
       "      <td>0</td>\n",
       "    </tr>\n",
       "    <tr>\n",
       "      <th>3</th>\n",
       "      <td>3066.666667</td>\n",
       "      <td>138000.0</td>\n",
       "      <td>1</td>\n",
       "      <td>0</td>\n",
       "      <td>0</td>\n",
       "      <td>1</td>\n",
       "      <td>0</td>\n",
       "      <td>45.000000</td>\n",
       "      <td>2.486814</td>\n",
       "      <td>1</td>\n",
       "      <td>...</td>\n",
       "      <td>0</td>\n",
       "      <td>0</td>\n",
       "      <td>0</td>\n",
       "      <td>0</td>\n",
       "      <td>0</td>\n",
       "      <td>0</td>\n",
       "      <td>0</td>\n",
       "      <td>0</td>\n",
       "      <td>0</td>\n",
       "      <td>0</td>\n",
       "    </tr>\n",
       "    <tr>\n",
       "      <th>4</th>\n",
       "      <td>3000.000000</td>\n",
       "      <td>195000.0</td>\n",
       "      <td>1</td>\n",
       "      <td>0</td>\n",
       "      <td>0</td>\n",
       "      <td>1</td>\n",
       "      <td>0</td>\n",
       "      <td>65.000000</td>\n",
       "      <td>2.486814</td>\n",
       "      <td>1</td>\n",
       "      <td>...</td>\n",
       "      <td>0</td>\n",
       "      <td>0</td>\n",
       "      <td>0</td>\n",
       "      <td>0</td>\n",
       "      <td>0</td>\n",
       "      <td>0</td>\n",
       "      <td>0</td>\n",
       "      <td>0</td>\n",
       "      <td>0</td>\n",
       "      <td>0</td>\n",
       "    </tr>\n",
       "  </tbody>\n",
       "</table>\n",
       "<p>5 rows × 73 columns</p>\n",
       "</div>"
      ],
      "text/plain": [
       "        usd_m2  precio_usd  prop_apartment  prop_house  prop_store  \\\n",
       "0  1127.272727     62000.0               0           0           0   \n",
       "1  1309.090909     72000.0               1           0           0   \n",
       "2   951.223001     95000.0               0           0           0   \n",
       "3  3066.666667    138000.0               1           0           0   \n",
       "4  3000.000000    195000.0               1           0           0   \n",
       "\n",
       "   size_normal  size_xl  superficie_m2  ambientes  amenities  ...  \\\n",
       "0            1        0      55.000000   2.000000          0  ...   \n",
       "1            1        0      55.000000   2.000000          0  ...   \n",
       "2            1        0      99.871429   3.000000          0  ...   \n",
       "3            1        0      45.000000   2.486814          1  ...   \n",
       "4            1        0      65.000000   2.486814          1  ...   \n",
       "\n",
       "   loc_Villa Lugano  loc_Villa Luro  loc_Villa Ortuzar  loc_Villa Pueyrredón  \\\n",
       "0                 0               0                  0                     0   \n",
       "1                 0               0                  0                     0   \n",
       "2                 0               0                  0                     0   \n",
       "3                 0               0                  0                     0   \n",
       "4                 0               0                  0                     0   \n",
       "\n",
       "   loc_Villa Real  loc_Villa Riachuelo  loc_Villa Santa Rita  \\\n",
       "0               0                    0                     0   \n",
       "1               0                    0                     0   \n",
       "2               0                    0                     0   \n",
       "3               0                    0                     0   \n",
       "4               0                    0                     0   \n",
       "\n",
       "   loc_Villa Soldati  loc_Villa Urquiza  loc_Villa del Parque  \n",
       "0                  0                  0                     0  \n",
       "1                  0                  0                     0  \n",
       "2                  0                  0                     0  \n",
       "3                  0                  0                     0  \n",
       "4                  0                  0                     0  \n",
       "\n",
       "[5 rows x 73 columns]"
      ]
     },
     "execution_count": 78,
     "metadata": {},
     "output_type": "execute_result"
    }
   ],
   "source": [
    "df.head()"
   ]
  },
  {
   "cell_type": "code",
   "execution_count": 79,
   "metadata": {},
   "outputs": [
    {
     "data": {
      "text/plain": [
       "(array([0.5, 1.5, 2.5, 3.5, 4.5, 5.5]), <a list of 6 Text yticklabel objects>)"
      ]
     },
     "execution_count": 79,
     "metadata": {},
     "output_type": "execute_result"
    },
    {
     "data": {
      "image/png": "[encoded data removed]",
      "text/plain": [
       "<Figure size 864x720 with 2 Axes>"
      ]
     },
     "metadata": {},
     "output_type": "display_data"
    }
   ],
   "source": [
    "corr = df[['usd_m2','precio_usd','superficie_m2','amenities','lat','lon']].corr()\n",
    "\n",
    "plt.figure(figsize=(12,10))\n",
    "ax = sns.heatmap(corr, annot=True, center=0, square=True, linewidths=3, cmap = 'coolwarm')\n",
    "\n",
    "plt.title('Correlation map', size = 15)\n",
    "plt.xticks(size =12)\n",
    "plt.yticks(size =12,rotation=35)"
   ]
  },
  {
   "cell_type": "code",
   "execution_count": 80,
   "metadata": {},
   "outputs": [
    {
     "data": {
      "text/plain": [
       "Index(['usd_m2', 'precio_usd'], dtype='object')"
      ]
     },
     "execution_count": 80,
     "metadata": {},
     "output_type": "execute_result"
    }
   ],
   "source": [
    "df.columns[:2]"
   ]
  },
  {
   "cell_type": "code",
   "execution_count": 81,
   "metadata": {},
   "outputs": [
    {
     "data": {
      "text/plain": [
       "Index(['prop_apartment', 'prop_house', 'prop_store', 'size_normal', 'size_xl',\n",
       "       'superficie_m2', 'ambientes', 'amenities', 'lat', 'lon',\n",
       "       'loc_Agronomía', 'loc_Almagro', 'loc_Balvanera', 'loc_Barracas',\n",
       "       'loc_Barrio Norte', 'loc_Belgrano', 'loc_Boca'],\n",
       "      dtype='object')"
      ]
     },
     "execution_count": 81,
     "metadata": {},
     "output_type": "execute_result"
    }
   ],
   "source": [
    "df.columns[2:19]"
   ]
  },
  {
   "cell_type": "markdown",
   "metadata": {},
   "source": [
    "La columna usd_m2 representa el precio por metro cuadrado en dólares. Esta va a ser nuestra variable **target**, a la que llamaremos y.\n",
    "\n",
    "Las columnas de superficie, ambientes y expensas, sumadas a las dummies correspondientes a las variables categóricas de subtipo de propiedad y localidad, son las posibles variables explicativas que nos permitiran llegar al valor de nuestra y. Estas serán nuestras **features** y estarán en la matriz X.\n"
   ]
  },
  {
   "cell_type": "code",
   "execution_count": 82,
   "metadata": {},
   "outputs": [
    {
     "data": {
      "text/plain": [
       "Index(['usd_m2', 'precio_usd', 'prop_apartment', 'prop_house', 'prop_store',\n",
       "       'size_normal', 'size_xl', 'superficie_m2', 'ambientes', 'amenities',\n",
       "       'lat', 'lon', 'loc_Agronomía', 'loc_Almagro', 'loc_Balvanera',\n",
       "       'loc_Barracas', 'loc_Barrio Norte', 'loc_Belgrano', 'loc_Boca',\n",
       "       'loc_Boedo', 'loc_Caballito', 'loc_Capital Federal', 'loc_Catalinas',\n",
       "       'loc_Centro / Microcentro', 'loc_Chacarita', 'loc_Coghlan',\n",
       "       'loc_Colegiales', 'loc_Congreso', 'loc_Constitución', 'loc_Flores',\n",
       "       'loc_Floresta', 'loc_Las Cañitas', 'loc_Liniers', 'loc_Mataderos',\n",
       "       'loc_Monserrat', 'loc_Monte Castro', 'loc_Nuñez', 'loc_Once',\n",
       "       'loc_Palermo', 'loc_Palermo Chico', 'loc_Palermo Hollywood',\n",
       "       'loc_Palermo Soho', 'loc_Palermo Viejo', 'loc_Parque Avellaneda',\n",
       "       'loc_Parque Centenario', 'loc_Parque Chacabuco', 'loc_Parque Chas',\n",
       "       'loc_Parque Patricios', 'loc_Paternal', 'loc_Pompeya',\n",
       "       'loc_Puerto Madero', 'loc_Recoleta', 'loc_Retiro', 'loc_Saavedra',\n",
       "       'loc_San Cristobal', 'loc_San Nicolás', 'loc_San Telmo',\n",
       "       'loc_Tribunales', 'loc_Velez Sarsfield', 'loc_Versalles',\n",
       "       'loc_Villa Crespo', 'loc_Villa Devoto', 'loc_Villa General Mitre',\n",
       "       'loc_Villa Lugano', 'loc_Villa Luro', 'loc_Villa Ortuzar',\n",
       "       'loc_Villa Pueyrredón', 'loc_Villa Real', 'loc_Villa Riachuelo',\n",
       "       'loc_Villa Santa Rita', 'loc_Villa Soldati', 'loc_Villa Urquiza',\n",
       "       'loc_Villa del Parque'],\n",
       "      dtype='object')"
      ]
     },
     "execution_count": 82,
     "metadata": {},
     "output_type": "execute_result"
    }
   ],
   "source": [
    "df.columns"
   ]
  },
  {
   "cell_type": "code",
   "execution_count": 83,
   "metadata": {},
   "outputs": [],
   "source": [
    "y = df[['usd_m2']]\n",
    "\n",
    "        # por ahora mantenemos precio_usd para el \"stratify\"\n",
    "X = df[['precio_usd', 'prop_apartment', 'prop_house', 'prop_store',\n",
    "       'size_normal', 'size_xl', 'superficie_m2', 'ambientes', 'amenities', 'lat', 'lon']]"
   ]
  },
  {
   "cell_type": "code",
   "execution_count": 84,
   "metadata": {
    "scrolled": true
   },
   "outputs": [
    {
     "name": "stdout",
     "output_type": "stream",
     "text": [
      "Shape X: (31999, 11)\n",
      "Shape y: (31999, 1)\n",
      "Type X: <class 'pandas.core.frame.DataFrame'>\n",
      "Type y: <class 'pandas.core.frame.DataFrame'>\n"
     ]
    }
   ],
   "source": [
    "print(\"Shape X:\", X.shape)\n",
    "print(\"Shape y:\", y.shape)\n",
    "print(\"Type X:\", type(X))\n",
    "print(\"Type y:\", type(y))"
   ]
  },
  {
   "cell_type": "markdown",
   "metadata": {},
   "source": [
    "### 6. División de dataset en train-test para validación de modelo"
   ]
  },
  {
   "cell_type": "markdown",
   "metadata": {},
   "source": [
    "Creamos una columna para estatificar, y splitear con ella."
   ]
  },
  {
   "cell_type": "code",
   "execution_count": 85,
   "metadata": {
    "scrolled": false
   },
   "outputs": [
    {
     "name": "stderr",
     "output_type": "stream",
     "text": [
      "C:\\Users\\mmili\\.conda\\envs\\manu\\lib\\site-packages\\ipykernel_launcher.py:1: SettingWithCopyWarning:\n",
      "\n",
      "\n",
      "A value is trying to be set on a copy of a slice from a DataFrame.\n",
      "Try using .loc[row_indexer,col_indexer] = value instead\n",
      "\n",
      "See the caveats in the documentation: https://pandas.pydata.org/pandas-docs/stable/user_guide/indexing.html#returning-a-view-versus-a-copy\n",
      "\n"
     ]
    }
   ],
   "source": [
    "X['usd_stratify'] = pd.qcut(X['precio_usd'],4,labels=[1,2,3,4])"
   ]
  },
  {
   "cell_type": "code",
   "execution_count": 86,
   "metadata": {},
   "outputs": [
    {
     "data": {
      "text/html": [
       "<div>\n",
       "<style scoped>\n",
       "    .dataframe tbody tr th:only-of-type {\n",
       "        vertical-align: middle;\n",
       "    }\n",
       "\n",
       "    .dataframe tbody tr th {\n",
       "        vertical-align: top;\n",
       "    }\n",
       "\n",
       "    .dataframe thead th {\n",
       "        text-align: right;\n",
       "    }\n",
       "</style>\n",
       "<table border=\"1\" class=\"dataframe\">\n",
       "  <thead>\n",
       "    <tr style=\"text-align: right;\">\n",
       "      <th></th>\n",
       "      <th>precio_usd</th>\n",
       "      <th>usd_stratify</th>\n",
       "    </tr>\n",
       "  </thead>\n",
       "  <tbody>\n",
       "    <tr>\n",
       "      <th>21892</th>\n",
       "      <td>220587.094282</td>\n",
       "      <td>3</td>\n",
       "    </tr>\n",
       "    <tr>\n",
       "      <th>13496</th>\n",
       "      <td>237596.378786</td>\n",
       "      <td>4</td>\n",
       "    </tr>\n",
       "    <tr>\n",
       "      <th>25865</th>\n",
       "      <td>186015.000000</td>\n",
       "      <td>3</td>\n",
       "    </tr>\n",
       "  </tbody>\n",
       "</table>\n",
       "</div>"
      ],
      "text/plain": [
       "          precio_usd usd_stratify\n",
       "21892  220587.094282            3\n",
       "13496  237596.378786            4\n",
       "25865  186015.000000            3"
      ]
     },
     "execution_count": 86,
     "metadata": {},
     "output_type": "execute_result"
    }
   ],
   "source": [
    "X[['precio_usd','usd_stratify']].sample(3)"
   ]
  },
  {
   "cell_type": "markdown",
   "metadata": {},
   "source": [
    "Dividimos en train-test"
   ]
  },
  {
   "cell_type": "code",
   "execution_count": 87,
   "metadata": {},
   "outputs": [
    {
     "name": "stderr",
     "output_type": "stream",
     "text": [
      "C:\\Users\\mmili\\.conda\\envs\\manu\\lib\\site-packages\\pandas\\core\\frame.py:3997: SettingWithCopyWarning:\n",
      "\n",
      "\n",
      "A value is trying to be set on a copy of a slice from a DataFrame\n",
      "\n",
      "See the caveats in the documentation: https://pandas.pydata.org/pandas-docs/stable/user_guide/indexing.html#returning-a-view-versus-a-copy\n",
      "\n"
     ]
    }
   ],
   "source": [
    "X_train, X_test, y_train, y_test = train_test_split(X, y, stratify=X['usd_stratify'],test_size=0.2, random_state=0)\n",
    "\n",
    "X_train.drop(['precio_usd','usd_stratify'],axis=1,inplace=True)\n",
    "X_test.drop(['precio_usd','usd_stratify'],axis=1,inplace=True)"
   ]
  },
  {
   "cell_type": "code",
   "execution_count": 88,
   "metadata": {},
   "outputs": [],
   "source": [
    "def shp_split(Xtr=X_train,Xte=X_test,ytr=y_train,yte=y_test):\n",
    "    ''' imprime los .shapes de Xy divididos segun splits de train y test.'''\n",
    "    \n",
    "    lista = [Xtr.shape,Xte.shape,ytr.shape,yte.shape]\n",
    "    pd_lst = []\n",
    "    for i in range(len(lista)):\n",
    "        if i%2==0:        split = 'train'\n",
    "        else:             split = 'test'\n",
    "        tupla = list(lista[i])\n",
    "        tupla.append(split) ;         pd_lst.append(tupla)\n",
    "    global X_train,X_test,y_train,y_test\n",
    "    return     pd.DataFrame(pd_lst,columns=['rows','cols','split'],index=['X','X','y','y'])[['split','rows','cols']]"
   ]
  },
  {
   "cell_type": "code",
   "execution_count": 89,
   "metadata": {
    "scrolled": true
   },
   "outputs": [
    {
     "data": {
      "text/html": [
       "<div>\n",
       "<style scoped>\n",
       "    .dataframe tbody tr th:only-of-type {\n",
       "        vertical-align: middle;\n",
       "    }\n",
       "\n",
       "    .dataframe tbody tr th {\n",
       "        vertical-align: top;\n",
       "    }\n",
       "\n",
       "    .dataframe thead th {\n",
       "        text-align: right;\n",
       "    }\n",
       "</style>\n",
       "<table border=\"1\" class=\"dataframe\">\n",
       "  <thead>\n",
       "    <tr style=\"text-align: right;\">\n",
       "      <th></th>\n",
       "      <th>split</th>\n",
       "      <th>rows</th>\n",
       "      <th>cols</th>\n",
       "    </tr>\n",
       "  </thead>\n",
       "  <tbody>\n",
       "    <tr>\n",
       "      <th>X</th>\n",
       "      <td>train</td>\n",
       "      <td>25599</td>\n",
       "      <td>10</td>\n",
       "    </tr>\n",
       "    <tr>\n",
       "      <th>X</th>\n",
       "      <td>test</td>\n",
       "      <td>6400</td>\n",
       "      <td>10</td>\n",
       "    </tr>\n",
       "    <tr>\n",
       "      <th>y</th>\n",
       "      <td>train</td>\n",
       "      <td>25599</td>\n",
       "      <td>1</td>\n",
       "    </tr>\n",
       "    <tr>\n",
       "      <th>y</th>\n",
       "      <td>test</td>\n",
       "      <td>6400</td>\n",
       "      <td>1</td>\n",
       "    </tr>\n",
       "  </tbody>\n",
       "</table>\n",
       "</div>"
      ],
      "text/plain": [
       "   split   rows  cols\n",
       "X  train  25599    10\n",
       "X   test   6400    10\n",
       "y  train  25599     1\n",
       "y   test   6400     1"
      ]
     },
     "execution_count": 89,
     "metadata": {},
     "output_type": "execute_result"
    }
   ],
   "source": [
    "# antes de mejorar dummies teniamos 17 features\n",
    "shp_split()"
   ]
  },
  {
   "cell_type": "markdown",
   "metadata": {},
   "source": [
    "### 7. Normalización de variables por estandarización para el set de train\n",
    "\n",
    "Apliquemos estandarización, transformando las variables para que tengan media 0 $(\\mu = 0)$ y desvío estándar 1 $(\\sigma = 1)$, aplicando la fórmula:\n",
    "\n",
    "$$ x' = \\frac{x - \\mu}{\\sigma}$$"
   ]
  },
  {
   "cell_type": "markdown",
   "metadata": {},
   "source": [
    "Estandarizamos feautures:"
   ]
  },
  {
   "cell_type": "code",
   "execution_count": 90,
   "metadata": {},
   "outputs": [],
   "source": [
    "# Fiteamos el estandarizador y estandarizamos con X_train\n",
    "\n",
    "stdscaler_X = preprocessing.StandardScaler()\n",
    "X_train_scaled = stdscaler_X.fit_transform(X_train)\n",
    "X_train = pd.DataFrame(X_train_scaled, columns=X_train.columns)\n",
    "\n",
    "# Estandarizamos X_test con el estandarizador fiteado con X_train\n",
    "\n",
    "X_test_scaled = stdscaler_X.transform(X_test)\n",
    "X_test = pd.DataFrame(X_test_scaled, columns=X_test.columns)\n",
    "\n",
    "#UTILIZAR INVERSE_TRANSFORM PARA ANALIZAR LOS DATOS OBTENIDOS POSTERIORMENTE\n"
   ]
  },
  {
   "cell_type": "code",
   "execution_count": null,
   "metadata": {},
   "outputs": [],
   "source": []
  },
  {
   "cell_type": "markdown",
   "metadata": {},
   "source": [
    "Estandarizamos target y lo centramos con una fución logarítmica, ya que su distribución es asimétrica con cola a la derecha:\n"
   ]
  },
  {
   "cell_type": "code",
   "execution_count": 91,
   "metadata": {},
   "outputs": [],
   "source": [
    "y_train = np.log(y_train)\n",
    "y_test = np.log(y_test)"
   ]
  },
  {
   "cell_type": "code",
   "execution_count": 92,
   "metadata": {},
   "outputs": [],
   "source": [
    "# Fiteamos el estandarizador y estandarizamos con y_train\n",
    "\n",
    "stdscaler_y = preprocessing.StandardScaler()\n",
    "y_train_scaled = stdscaler_y.fit_transform(y_train)\n",
    "y_train = pd.DataFrame(y_train_scaled, columns=y_train.columns)\n",
    "\n",
    "# Estandarizamos y_test con el estandarizador fiteado con y_train\n",
    "\n",
    "y_test_scaled = stdscaler_y.transform(y_test)\n",
    "y_test = pd.DataFrame(y_test_scaled, columns=y_test.columns)\n",
    "\n",
    "#UTILIZAR INVERSE_TRANSFORM PARA ANALIZAR LOS DATOS OBTENIDOS POSTERIORMENTE"
   ]
  },
  {
   "cell_type": "markdown",
   "metadata": {},
   "source": [
    "Vemos que todo esté bien"
   ]
  },
  {
   "cell_type": "code",
   "execution_count": 93,
   "metadata": {},
   "outputs": [
    {
     "data": {
      "text/html": [
       "<div>\n",
       "<style scoped>\n",
       "    .dataframe tbody tr th:only-of-type {\n",
       "        vertical-align: middle;\n",
       "    }\n",
       "\n",
       "    .dataframe tbody tr th {\n",
       "        vertical-align: top;\n",
       "    }\n",
       "\n",
       "    .dataframe thead th {\n",
       "        text-align: right;\n",
       "    }\n",
       "</style>\n",
       "<table border=\"1\" class=\"dataframe\">\n",
       "  <thead>\n",
       "    <tr style=\"text-align: right;\">\n",
       "      <th></th>\n",
       "      <th>usd_m2</th>\n",
       "    </tr>\n",
       "  </thead>\n",
       "  <tbody>\n",
       "    <tr>\n",
       "      <th>0</th>\n",
       "      <td>0.063505</td>\n",
       "    </tr>\n",
       "    <tr>\n",
       "      <th>1</th>\n",
       "      <td>-2.325969</td>\n",
       "    </tr>\n",
       "    <tr>\n",
       "      <th>2</th>\n",
       "      <td>0.045897</td>\n",
       "    </tr>\n",
       "    <tr>\n",
       "      <th>3</th>\n",
       "      <td>-0.051567</td>\n",
       "    </tr>\n",
       "    <tr>\n",
       "      <th>4</th>\n",
       "      <td>-0.502603</td>\n",
       "    </tr>\n",
       "  </tbody>\n",
       "</table>\n",
       "</div>"
      ],
      "text/plain": [
       "     usd_m2\n",
       "0  0.063505\n",
       "1 -2.325969\n",
       "2  0.045897\n",
       "3 -0.051567\n",
       "4 -0.502603"
      ]
     },
     "execution_count": 93,
     "metadata": {},
     "output_type": "execute_result"
    }
   ],
   "source": [
    "y_train.head()"
   ]
  },
  {
   "cell_type": "markdown",
   "metadata": {},
   "source": [
    "Verificamos que estén normalizadas y verificamos que:\n",
    "\n",
    "   + $\\bar{x_{j}} \\approx 0$\n",
    "    \n",
    "   + $s_{j}=1.00002$"
   ]
  },
  {
   "cell_type": "code",
   "execution_count": 94,
   "metadata": {
    "scrolled": true
   },
   "outputs": [
    {
     "data": {
      "text/html": [
       "<div>\n",
       "<style scoped>\n",
       "    .dataframe tbody tr th:only-of-type {\n",
       "        vertical-align: middle;\n",
       "    }\n",
       "\n",
       "    .dataframe tbody tr th {\n",
       "        vertical-align: top;\n",
       "    }\n",
       "\n",
       "    .dataframe thead th {\n",
       "        text-align: right;\n",
       "    }\n",
       "</style>\n",
       "<table border=\"1\" class=\"dataframe\">\n",
       "  <thead>\n",
       "    <tr style=\"text-align: right;\">\n",
       "      <th></th>\n",
       "      <th>mean</th>\n",
       "      <th>std</th>\n",
       "    </tr>\n",
       "  </thead>\n",
       "  <tbody>\n",
       "    <tr>\n",
       "      <th>prop_apartment</th>\n",
       "      <td>1.312890e-16</td>\n",
       "      <td>1.00002</td>\n",
       "    </tr>\n",
       "    <tr>\n",
       "      <th>prop_house</th>\n",
       "      <td>-2.525856e-17</td>\n",
       "      <td>1.00002</td>\n",
       "    </tr>\n",
       "    <tr>\n",
       "      <th>prop_store</th>\n",
       "      <td>2.886693e-17</td>\n",
       "      <td>1.00002</td>\n",
       "    </tr>\n",
       "    <tr>\n",
       "      <th>size_normal</th>\n",
       "      <td>2.567491e-16</td>\n",
       "      <td>1.00002</td>\n",
       "    </tr>\n",
       "    <tr>\n",
       "      <th>size_xl</th>\n",
       "      <td>-1.332320e-17</td>\n",
       "      <td>1.00002</td>\n",
       "    </tr>\n",
       "    <tr>\n",
       "      <th>superficie_m2</th>\n",
       "      <td>2.546674e-17</td>\n",
       "      <td>1.00002</td>\n",
       "    </tr>\n",
       "    <tr>\n",
       "      <th>ambientes</th>\n",
       "      <td>2.703499e-16</td>\n",
       "      <td>1.00002</td>\n",
       "    </tr>\n",
       "    <tr>\n",
       "      <th>amenities</th>\n",
       "      <td>1.182434e-16</td>\n",
       "      <td>1.00002</td>\n",
       "    </tr>\n",
       "    <tr>\n",
       "      <th>lat</th>\n",
       "      <td>6.469522e-14</td>\n",
       "      <td>1.00002</td>\n",
       "    </tr>\n",
       "    <tr>\n",
       "      <th>lon</th>\n",
       "      <td>-1.156756e-13</td>\n",
       "      <td>1.00002</td>\n",
       "    </tr>\n",
       "  </tbody>\n",
       "</table>\n",
       "</div>"
      ],
      "text/plain": [
       "                        mean      std\n",
       "prop_apartment  1.312890e-16  1.00002\n",
       "prop_house     -2.525856e-17  1.00002\n",
       "prop_store      2.886693e-17  1.00002\n",
       "size_normal     2.567491e-16  1.00002\n",
       "size_xl        -1.332320e-17  1.00002\n",
       "superficie_m2   2.546674e-17  1.00002\n",
       "ambientes       2.703499e-16  1.00002\n",
       "amenities       1.182434e-16  1.00002\n",
       "lat             6.469522e-14  1.00002\n",
       "lon            -1.156756e-13  1.00002"
      ]
     },
     "execution_count": 94,
     "metadata": {},
     "output_type": "execute_result"
    }
   ],
   "source": [
    "X_train.apply(['mean','std']).T"
   ]
  },
  {
   "cell_type": "code",
   "execution_count": 95,
   "metadata": {
    "scrolled": true
   },
   "outputs": [
    {
     "data": {
      "text/html": [
       "<div>\n",
       "<style scoped>\n",
       "    .dataframe tbody tr th:only-of-type {\n",
       "        vertical-align: middle;\n",
       "    }\n",
       "\n",
       "    .dataframe tbody tr th {\n",
       "        vertical-align: top;\n",
       "    }\n",
       "\n",
       "    .dataframe thead th {\n",
       "        text-align: right;\n",
       "    }\n",
       "</style>\n",
       "<table border=\"1\" class=\"dataframe\">\n",
       "  <thead>\n",
       "    <tr style=\"text-align: right;\">\n",
       "      <th></th>\n",
       "      <th>mean</th>\n",
       "      <th>std</th>\n",
       "    </tr>\n",
       "  </thead>\n",
       "  <tbody>\n",
       "    <tr>\n",
       "      <th>usd_m2</th>\n",
       "      <td>-1.457225e-15</td>\n",
       "      <td>1.00002</td>\n",
       "    </tr>\n",
       "  </tbody>\n",
       "</table>\n",
       "</div>"
      ],
      "text/plain": [
       "                mean      std\n",
       "usd_m2 -1.457225e-15  1.00002"
      ]
     },
     "execution_count": 95,
     "metadata": {},
     "output_type": "execute_result"
    }
   ],
   "source": [
    "y_train.apply(['mean','std']).T"
   ]
  },
  {
   "cell_type": "code",
   "execution_count": 96,
   "metadata": {},
   "outputs": [
    {
     "data": {
      "text/html": [
       "<div>\n",
       "<style scoped>\n",
       "    .dataframe tbody tr th:only-of-type {\n",
       "        vertical-align: middle;\n",
       "    }\n",
       "\n",
       "    .dataframe tbody tr th {\n",
       "        vertical-align: top;\n",
       "    }\n",
       "\n",
       "    .dataframe thead th {\n",
       "        text-align: right;\n",
       "    }\n",
       "</style>\n",
       "<table border=\"1\" class=\"dataframe\">\n",
       "  <thead>\n",
       "    <tr style=\"text-align: right;\">\n",
       "      <th></th>\n",
       "      <th>split</th>\n",
       "      <th>rows</th>\n",
       "      <th>cols</th>\n",
       "    </tr>\n",
       "  </thead>\n",
       "  <tbody>\n",
       "    <tr>\n",
       "      <th>X</th>\n",
       "      <td>train</td>\n",
       "      <td>25599</td>\n",
       "      <td>10</td>\n",
       "    </tr>\n",
       "    <tr>\n",
       "      <th>X</th>\n",
       "      <td>test</td>\n",
       "      <td>6400</td>\n",
       "      <td>10</td>\n",
       "    </tr>\n",
       "    <tr>\n",
       "      <th>y</th>\n",
       "      <td>train</td>\n",
       "      <td>25599</td>\n",
       "      <td>1</td>\n",
       "    </tr>\n",
       "    <tr>\n",
       "      <th>y</th>\n",
       "      <td>test</td>\n",
       "      <td>6400</td>\n",
       "      <td>1</td>\n",
       "    </tr>\n",
       "  </tbody>\n",
       "</table>\n",
       "</div>"
      ],
      "text/plain": [
       "   split   rows  cols\n",
       "X  train  25599    10\n",
       "X   test   6400    10\n",
       "y  train  25599     1\n",
       "y   test   6400     1"
      ]
     },
     "execution_count": 96,
     "metadata": {},
     "output_type": "execute_result"
    }
   ],
   "source": [
    "shp_split()"
   ]
  },
  {
   "cell_type": "markdown",
   "metadata": {},
   "source": [
    "## 8. Prueba de distintos modelos (con el set de train) y evaluación de la performance con el set de test (MAE, MSE, RMSE, R2)\n",
    "  \n",
    "a. Sin dummies de localización (con lat-lon)\n",
    "\n",
    "    I)   Sin regularización, con procesador polinómico y uso de stats model\n",
    "   \n",
    "    II)  Ridge (optimizamos parámetros usando cross-validation de forma automática con k grupos)\n",
    "   \n",
    "    III) Lasso (optimizamos parámetros usando cross-validation de forma automática con k grupos)\n"
   ]
  },
  {
   "cell_type": "markdown",
   "metadata": {
    "colab_type": "text",
    "id": "MjbA-1NFjQTa"
   },
   "source": [
    "### 8.a.I. Testeo lineal simple"
   ]
  },
  {
   "cell_type": "code",
   "execution_count": 97,
   "metadata": {
    "scrolled": true
   },
   "outputs": [
    {
     "data": {
      "text/html": [
       "<div>\n",
       "<style scoped>\n",
       "    .dataframe tbody tr th:only-of-type {\n",
       "        vertical-align: middle;\n",
       "    }\n",
       "\n",
       "    .dataframe tbody tr th {\n",
       "        vertical-align: top;\n",
       "    }\n",
       "\n",
       "    .dataframe thead th {\n",
       "        text-align: right;\n",
       "    }\n",
       "</style>\n",
       "<table border=\"1\" class=\"dataframe\">\n",
       "  <thead>\n",
       "    <tr style=\"text-align: right;\">\n",
       "      <th></th>\n",
       "      <th>prop_apartment</th>\n",
       "      <th>prop_house</th>\n",
       "      <th>prop_store</th>\n",
       "      <th>size_normal</th>\n",
       "      <th>size_xl</th>\n",
       "      <th>superficie_m2</th>\n",
       "      <th>ambientes</th>\n",
       "      <th>amenities</th>\n",
       "      <th>lat</th>\n",
       "      <th>lon</th>\n",
       "    </tr>\n",
       "  </thead>\n",
       "  <tbody>\n",
       "    <tr>\n",
       "      <th>3473</th>\n",
       "      <td>0.439803</td>\n",
       "      <td>-0.261289</td>\n",
       "      <td>-0.211392</td>\n",
       "      <td>0.170361</td>\n",
       "      <td>-0.027254</td>\n",
       "      <td>-0.271659</td>\n",
       "      <td>-1.472416</td>\n",
       "      <td>0.83526</td>\n",
       "      <td>-0.20798</td>\n",
       "      <td>0.199324</td>\n",
       "    </tr>\n",
       "  </tbody>\n",
       "</table>\n",
       "</div>"
      ],
      "text/plain": [
       "      prop_apartment  prop_house  prop_store  size_normal   size_xl  \\\n",
       "3473        0.439803   -0.261289   -0.211392     0.170361 -0.027254   \n",
       "\n",
       "      superficie_m2  ambientes  amenities      lat       lon  \n",
       "3473      -0.271659  -1.472416    0.83526 -0.20798  0.199324  "
      ]
     },
     "execution_count": 97,
     "metadata": {},
     "output_type": "execute_result"
    }
   ],
   "source": [
    "X_train.sample()"
   ]
  },
  {
   "cell_type": "code",
   "execution_count": 98,
   "metadata": {},
   "outputs": [],
   "source": [
    "# Instanciamos el modelo\n",
    "lm = LinearRegression()"
   ]
  },
  {
   "cell_type": "code",
   "execution_count": 99,
   "metadata": {},
   "outputs": [
    {
     "data": {
      "text/plain": [
       "'Esta celda tardo en ejecutar: 0 minutos, 0 segundos.'"
      ]
     },
     "execution_count": 99,
     "metadata": {},
     "output_type": "execute_result"
    }
   ],
   "source": [
    "# fiteamos\n",
    "t()\n",
    "lm.fit(X_train, y_train)\n",
    "tt()"
   ]
  },
  {
   "cell_type": "code",
   "execution_count": 100,
   "metadata": {
    "scrolled": true
   },
   "outputs": [
    {
     "data": {
      "text/plain": [
       "(array([3.34887716e-15]),\n",
       " array([[ 0.15703815, -0.04295012,  0.03145743,  0.05630629,  0.08735901,\n",
       "         -0.30263064, -0.14159701,  0.10394158,  0.19707472,  0.15178741]]))"
      ]
     },
     "execution_count": 100,
     "metadata": {},
     "output_type": "execute_result"
    }
   ],
   "source": [
    "# esto es para regular los decimales por default\n",
    "#np.set_printoptions(precision=3, suppress=True)\n",
    "(lm.intercept_, lm.coef_)"
   ]
  },
  {
   "cell_type": "code",
   "execution_count": 101,
   "metadata": {},
   "outputs": [],
   "source": [
    "y_train_predicted = lm.predict(X_train)"
   ]
  },
  {
   "cell_type": "code",
   "execution_count": 102,
   "metadata": {},
   "outputs": [],
   "source": [
    "def metricas(X_train,y_train,y_train_predicted):\n",
    "    # Calculamos el MAE\n",
    "    print ('MAE, Mean Absolute Error:       %.5f' % metrics.mean_absolute_error(y_train,y_train_predicted))\n",
    "    # Calculamos el MSE\n",
    "    print ('MSE, Mean Square Error:         %.5f' % metrics.mean_squared_error(y_train,y_train_predicted))\n",
    "    rmse = lambda y, y_train_predicted: np.sqrt(mean_squared_error(y, y_train_predicted))\n",
    "    print(\"RMSE, Root-Mean-Square Error:   %.5f\" % rmse(y_train,y_train_predicted))\n",
    "    # Calculamos el R2\n",
    "    print(\"R2 Score Train Lineal:          %.5f\" % lm.score(X_train, y_train))"
   ]
  },
  {
   "cell_type": "code",
   "execution_count": 103,
   "metadata": {
    "scrolled": true
   },
   "outputs": [
    {
     "name": "stdout",
     "output_type": "stream",
     "text": [
      "MAE, Mean Absolute Error:       0.54656\n",
      "MSE, Mean Square Error:         0.68732\n",
      "RMSE, Root-Mean-Square Error:   0.82905\n",
      "R2 Score Train Lineal:          0.31268\n"
     ]
    }
   ],
   "source": [
    "metricas(X_train, y_train, y_train_predicted)"
   ]
  },
  {
   "cell_type": "markdown",
   "metadata": {},
   "source": [
    "##### just for fun"
   ]
  },
  {
   "cell_type": "code",
   "execution_count": 104,
   "metadata": {},
   "outputs": [],
   "source": [
    "y_test_predicted = lm.predict(X_test)"
   ]
  },
  {
   "cell_type": "code",
   "execution_count": 105,
   "metadata": {
    "scrolled": false
   },
   "outputs": [
    {
     "name": "stdout",
     "output_type": "stream",
     "text": [
      "MAE, Mean Absolute Error:       0.53974\n",
      "MSE, Mean Square Error:         0.65611\n",
      "RMSE, Root-Mean-Square Error:   0.81001\n",
      "R2 Score Train Lineal:          0.31196\n"
     ]
    }
   ],
   "source": [
    "metricas(X_test, y_test, y_test_predicted)"
   ]
  },
  {
   "cell_type": "markdown",
   "metadata": {},
   "source": [
    "### el objetivo es agrandar ese 0.30897 - era sin separar type_size"
   ]
  },
  {
   "cell_type": "markdown",
   "metadata": {},
   "source": [
    "## Feature engineering: creamos features de grado 2"
   ]
  },
  {
   "cell_type": "code",
   "execution_count": 106,
   "metadata": {},
   "outputs": [],
   "source": [
    "pol2 = PolynomialFeatures(2,include_bias=False,interaction_only=False)"
   ]
  },
  {
   "cell_type": "code",
   "execution_count": 107,
   "metadata": {},
   "outputs": [
    {
     "data": {
      "text/plain": [
       "array([[ 0.43980288, -0.26128896, -0.21139201, ...,  1.14659131,\n",
       "         0.79169263,  0.54664396],\n",
       "       [ 0.43980288, -0.26128896, -0.21139201, ...,  0.25778711,\n",
       "         0.60729616,  1.43067133],\n",
       "       [ 0.43980288, -0.26128896, -0.21139201, ...,  0.51945138,\n",
       "        -1.11376064,  2.38802476],\n",
       "       ...,\n",
       "       [ 0.43980288, -0.26128896, -0.21139201, ...,  1.11436657,\n",
       "        -0.27642342,  0.06856802],\n",
       "       [ 0.43980288, -0.26128896, -0.21139201, ...,  0.19059404,\n",
       "         0.42976457,  0.96906273],\n",
       "       [ 0.43980288, -0.26128896, -0.21139201, ...,  0.00359986,\n",
       "        -0.01528604,  0.06490886]])"
      ]
     },
     "execution_count": 107,
     "metadata": {},
     "output_type": "execute_result"
    }
   ],
   "source": [
    "pol2.fit_transform(X_train)"
   ]
  },
  {
   "cell_type": "code",
   "execution_count": 108,
   "metadata": {},
   "outputs": [],
   "source": [
    "X_train_grado2 = pol2.fit_transform(X_train)"
   ]
  },
  {
   "cell_type": "code",
   "execution_count": 109,
   "metadata": {},
   "outputs": [
    {
     "data": {
      "text/html": [
       "<div>\n",
       "<style scoped>\n",
       "    .dataframe tbody tr th:only-of-type {\n",
       "        vertical-align: middle;\n",
       "    }\n",
       "\n",
       "    .dataframe tbody tr th {\n",
       "        vertical-align: top;\n",
       "    }\n",
       "\n",
       "    .dataframe thead th {\n",
       "        text-align: right;\n",
       "    }\n",
       "</style>\n",
       "<table border=\"1\" class=\"dataframe\">\n",
       "  <thead>\n",
       "    <tr style=\"text-align: right;\">\n",
       "      <th></th>\n",
       "      <th>split</th>\n",
       "      <th>rows</th>\n",
       "      <th>cols</th>\n",
       "    </tr>\n",
       "  </thead>\n",
       "  <tbody>\n",
       "    <tr>\n",
       "      <th>X</th>\n",
       "      <td>train</td>\n",
       "      <td>25599</td>\n",
       "      <td>65</td>\n",
       "    </tr>\n",
       "    <tr>\n",
       "      <th>X</th>\n",
       "      <td>test</td>\n",
       "      <td>6400</td>\n",
       "      <td>10</td>\n",
       "    </tr>\n",
       "    <tr>\n",
       "      <th>y</th>\n",
       "      <td>train</td>\n",
       "      <td>25599</td>\n",
       "      <td>1</td>\n",
       "    </tr>\n",
       "    <tr>\n",
       "      <th>y</th>\n",
       "      <td>test</td>\n",
       "      <td>6400</td>\n",
       "      <td>1</td>\n",
       "    </tr>\n",
       "  </tbody>\n",
       "</table>\n",
       "</div>"
      ],
      "text/plain": [
       "   split   rows  cols\n",
       "X  train  25599    65\n",
       "X   test   6400    10\n",
       "y  train  25599     1\n",
       "y   test   6400     1"
      ]
     },
     "execution_count": 109,
     "metadata": {},
     "output_type": "execute_result"
    }
   ],
   "source": [
    "shp_split(Xtr=X_train_grado2)"
   ]
  },
  {
   "cell_type": "code",
   "execution_count": 110,
   "metadata": {},
   "outputs": [],
   "source": [
    "# Instanciamos los modelos\n",
    "lm = LinearRegression()"
   ]
  },
  {
   "cell_type": "code",
   "execution_count": 111,
   "metadata": {},
   "outputs": [
    {
     "data": {
      "text/plain": [
       "'Esta celda tardo en ejecutar: 0 minutos, 0 segundos.'"
      ]
     },
     "execution_count": 111,
     "metadata": {},
     "output_type": "execute_result"
    }
   ],
   "source": [
    "# Hacemos los fits respectivos\n",
    "t()\n",
    "lm.fit(X_train_grado2, y_train)\n",
    "tt()"
   ]
  },
  {
   "cell_type": "code",
   "execution_count": 112,
   "metadata": {},
   "outputs": [
    {
     "name": "stdout",
     "output_type": "stream",
     "text": [
      "R2 Score Train Lineal: 0.38403\n",
      "\n"
     ]
    }
   ],
   "source": [
    "# Calculamos el R2\n",
    "print(\"R2 Score Train Lineal: %.5f\\n\" % lm.score(X_train_grado2, y_train))"
   ]
  },
  {
   "cell_type": "markdown",
   "metadata": {},
   "source": [
    "##### en test solo transform"
   ]
  },
  {
   "cell_type": "code",
   "execution_count": 113,
   "metadata": {},
   "outputs": [],
   "source": [
    "X_test_grado2 = pol2.transform(X_test)"
   ]
  },
  {
   "cell_type": "code",
   "execution_count": 114,
   "metadata": {
    "scrolled": true
   },
   "outputs": [
    {
     "name": "stdout",
     "output_type": "stream",
     "text": [
      "R2 Score Train Lineal: 0.37755\n",
      "\n"
     ]
    }
   ],
   "source": [
    "# Calculamos el R2\n",
    "print(\"R2 Score Train Lineal: %.5f\\n\" % lm.score(X_test_grado2, y_test))"
   ]
  },
  {
   "cell_type": "markdown",
   "metadata": {},
   "source": [
    "#### 0.40 mejora bastante"
   ]
  },
  {
   "cell_type": "markdown",
   "metadata": {},
   "source": [
    "## Feature engineering: creamos features de grado 3"
   ]
  },
  {
   "cell_type": "code",
   "execution_count": 115,
   "metadata": {},
   "outputs": [],
   "source": [
    "pol3 = PolynomialFeatures(3,include_bias=False,interaction_only=False)"
   ]
  },
  {
   "cell_type": "code",
   "execution_count": 116,
   "metadata": {},
   "outputs": [
    {
     "data": {
      "text/plain": [
       "array([[ 4.39802880e-01, -2.61288957e-01, -2.11392010e-01, ...,\n",
       "        -8.47736577e-01, -5.85340907e-01, -4.04163259e-01],\n",
       "       [ 4.39802880e-01, -2.61288957e-01, -2.11392010e-01, ...,\n",
       "         3.08340900e-01,  7.26391030e-01,  1.71123561e+00],\n",
       "       [ 4.39802880e-01, -2.61288957e-01, -2.11392010e-01, ...,\n",
       "         8.02720434e-01, -1.72112050e+00,  3.69027080e+00],\n",
       "       ...,\n",
       "       [ 4.39802880e-01, -2.61288957e-01, -2.11392010e-01, ...,\n",
       "        -2.91802405e-01,  7.23828403e-02, -1.79548745e-02],\n",
       "       [ 4.39802880e-01, -2.61288957e-01, -2.11392010e-01, ...,\n",
       "         1.87622652e-01,  4.23064468e-01,  9.53954880e-01],\n",
       "       [ 4.39802880e-01, -2.61288957e-01, -2.11392010e-01, ...,\n",
       "         9.17144815e-04, -3.89445705e-03,  1.65369694e-02]])"
      ]
     },
     "execution_count": 116,
     "metadata": {},
     "output_type": "execute_result"
    }
   ],
   "source": [
    "pol3.fit_transform(X_train)"
   ]
  },
  {
   "cell_type": "code",
   "execution_count": 117,
   "metadata": {},
   "outputs": [],
   "source": [
    "X_train_grado3 = pol3.fit_transform(X_train)"
   ]
  },
  {
   "cell_type": "code",
   "execution_count": 118,
   "metadata": {},
   "outputs": [
    {
     "data": {
      "text/html": [
       "<div>\n",
       "<style scoped>\n",
       "    .dataframe tbody tr th:only-of-type {\n",
       "        vertical-align: middle;\n",
       "    }\n",
       "\n",
       "    .dataframe tbody tr th {\n",
       "        vertical-align: top;\n",
       "    }\n",
       "\n",
       "    .dataframe thead th {\n",
       "        text-align: right;\n",
       "    }\n",
       "</style>\n",
       "<table border=\"1\" class=\"dataframe\">\n",
       "  <thead>\n",
       "    <tr style=\"text-align: right;\">\n",
       "      <th></th>\n",
       "      <th>split</th>\n",
       "      <th>rows</th>\n",
       "      <th>cols</th>\n",
       "    </tr>\n",
       "  </thead>\n",
       "  <tbody>\n",
       "    <tr>\n",
       "      <th>X</th>\n",
       "      <td>train</td>\n",
       "      <td>25599</td>\n",
       "      <td>285</td>\n",
       "    </tr>\n",
       "    <tr>\n",
       "      <th>X</th>\n",
       "      <td>test</td>\n",
       "      <td>6400</td>\n",
       "      <td>10</td>\n",
       "    </tr>\n",
       "    <tr>\n",
       "      <th>y</th>\n",
       "      <td>train</td>\n",
       "      <td>25599</td>\n",
       "      <td>1</td>\n",
       "    </tr>\n",
       "    <tr>\n",
       "      <th>y</th>\n",
       "      <td>test</td>\n",
       "      <td>6400</td>\n",
       "      <td>1</td>\n",
       "    </tr>\n",
       "  </tbody>\n",
       "</table>\n",
       "</div>"
      ],
      "text/plain": [
       "   split   rows  cols\n",
       "X  train  25599   285\n",
       "X   test   6400    10\n",
       "y  train  25599     1\n",
       "y   test   6400     1"
      ]
     },
     "execution_count": 118,
     "metadata": {},
     "output_type": "execute_result"
    }
   ],
   "source": [
    "shp_split(Xtr=X_train_grado3)"
   ]
  },
  {
   "cell_type": "code",
   "execution_count": 119,
   "metadata": {},
   "outputs": [],
   "source": [
    "# Instanciamos los modelos\n",
    "lm = LinearRegression()"
   ]
  },
  {
   "cell_type": "code",
   "execution_count": 120,
   "metadata": {},
   "outputs": [
    {
     "data": {
      "text/plain": [
       "'Esta celda tardo en ejecutar: 0 minutos, 0 segundos.'"
      ]
     },
     "execution_count": 120,
     "metadata": {},
     "output_type": "execute_result"
    }
   ],
   "source": [
    "# Hacemos los fits respectivos\n",
    "t()\n",
    "lm.fit(X_train_grado3, y_train)\n",
    "tt()"
   ]
  },
  {
   "cell_type": "code",
   "execution_count": 121,
   "metadata": {
    "scrolled": true
   },
   "outputs": [
    {
     "name": "stdout",
     "output_type": "stream",
     "text": [
      "R2 Score Train Lineal: 0.43902\n",
      "\n"
     ]
    }
   ],
   "source": [
    "# Calculamos el R2\n",
    "print(\"R2 Score Train Lineal: %.5f\\n\" % lm.score(X_train_grado3, y_train))"
   ]
  },
  {
   "cell_type": "markdown",
   "metadata": {},
   "source": [
    "##### en test solo transform"
   ]
  },
  {
   "cell_type": "code",
   "execution_count": 122,
   "metadata": {},
   "outputs": [],
   "source": [
    "X_test_grado3 = pol3.transform(X_test)"
   ]
  },
  {
   "cell_type": "code",
   "execution_count": 123,
   "metadata": {
    "scrolled": true
   },
   "outputs": [
    {
     "name": "stdout",
     "output_type": "stream",
     "text": [
      "R2 Score Train Lineal: -3982790420637556.50000\n",
      "\n"
     ]
    }
   ],
   "source": [
    "# Calculamos el R2\n",
    "print(\"R2 Score Train Lineal: %.5f\\n\" % lm.score(X_test_grado3, y_test))"
   ]
  },
  {
   "cell_type": "code",
   "execution_count": 124,
   "metadata": {},
   "outputs": [
    {
     "data": {
      "text/plain": [
       "'Desde el inicio, tardo en ejecutar: 0 minutos, 34 segundos.'"
      ]
     },
     "execution_count": 124,
     "metadata": {},
     "output_type": "execute_result"
    }
   ],
   "source": [
    "tiempo()"
   ]
  },
  {
   "cell_type": "markdown",
   "metadata": {},
   "source": [
    "## por que???"
   ]
  },
  {
   "cell_type": "code",
   "execution_count": null,
   "metadata": {},
   "outputs": [],
   "source": []
  },
  {
   "cell_type": "markdown",
   "metadata": {},
   "source": [
    "## Analizamos con statsmodels\n",
    "solo con lo escalado a grado 2"
   ]
  },
  {
   "cell_type": "code",
   "execution_count": 125,
   "metadata": {},
   "outputs": [],
   "source": [
    "import statsmodels.api as sm"
   ]
  },
  {
   "cell_type": "code",
   "execution_count": 126,
   "metadata": {
    "colab": {},
    "colab_type": "code",
    "id": "put9dBHF0s0a"
   },
   "outputs": [],
   "source": [
    "# Generamos las matrices y el target\n",
    "X = X_train_grado2\n",
    "y = y_train"
   ]
  },
  {
   "cell_type": "code",
   "execution_count": 127,
   "metadata": {
    "colab": {},
    "colab_type": "code",
    "id": "XtT_4KxK0s0e"
   },
   "outputs": [],
   "source": [
    "# Generamos una función que resume los coeficientes, el intercepto y el R2\n",
    "# \"model\" = objeto con el modelo\n",
    "# \"X\" = matrix de variables independientes\n",
    "def sum_mod(model, X):\n",
    "    a = pd.DataFrame(model.coef_ , X.columns.values)\n",
    "    a = a.append(pd.DataFrame([model.intercept_, model.score(X, y)], index=['Intecept','R2']))\n",
    "    return(a)"
   ]
  },
  {
   "cell_type": "code",
   "execution_count": 128,
   "metadata": {},
   "outputs": [
    {
     "data": {
      "image/png": "[encoded data removed]",
      "text/plain": [
       "<Figure size 720x720 with 1 Axes>"
      ]
     },
     "metadata": {},
     "output_type": "display_data"
    },
    {
     "name": "stdout",
     "output_type": "stream",
     "text": [
      "EMC: 0.6156563830723003\n"
     ]
    }
   ],
   "source": [
    "# Tenemos que agregar explícitamente a una constante:\n",
    "X = sm.add_constant(X)\n",
    "\n",
    "model = sm.OLS(y, X).fit()\n",
    "predictions = model.predict(X)\n",
    "\n",
    "# Graficamos los resultados\n",
    "plt.figure(figsize=(10,10))\n",
    "plt.plot(y,y, '-.', c='grey')\n",
    "plt.scatter(predictions, y, s=30, c='r', marker='+', zorder=10)\n",
    "plt.xlabel(\"Predicciones usando Features Grado 2\",size = 15)\n",
    "plt.ylabel(\"Valores reales\",size = 15)\n",
    "plt.show()\n",
    "\n",
    "# Imprimimos el MSE y un resumen del modelo\n",
    "print (\"EMC:\", mean_squared_error(y, predictions))"
   ]
  },
  {
   "cell_type": "code",
   "execution_count": 129,
   "metadata": {},
   "outputs": [
    {
     "data": {
      "text/plain": [
       "0.3843436169276998"
      ]
     },
     "execution_count": 129,
     "metadata": {},
     "output_type": "execute_result"
    }
   ],
   "source": [
    "model.rsquared"
   ]
  },
  {
   "cell_type": "markdown",
   "metadata": {},
   "source": [
    "### vemos que nos reporta sumary()"
   ]
  },
  {
   "cell_type": "code",
   "execution_count": 130,
   "metadata": {},
   "outputs": [
    {
     "data": {
      "text/plain": [
       "[<class 'statsmodels.iolib.table.SimpleTable'>,\n",
       " <class 'statsmodels.iolib.table.SimpleTable'>,\n",
       " <class 'statsmodels.iolib.table.SimpleTable'>]"
      ]
     },
     "execution_count": 130,
     "metadata": {},
     "output_type": "execute_result"
    }
   ],
   "source": [
    "# son 3 tablas\n",
    "model.summary().tables"
   ]
  },
  {
   "cell_type": "code",
   "execution_count": 131,
   "metadata": {},
   "outputs": [
    {
     "data": {
      "text/html": [
       "<table class=\"simpletable\">\n",
       "<caption>OLS Regression Results</caption>\n",
       "<tr>\n",
       "  <th>Dep. Variable:</th>         <td>usd_m2</td>      <th>  R-squared:         </th> <td>   0.384</td> \n",
       "</tr>\n",
       "<tr>\n",
       "  <th>Model:</th>                   <td>OLS</td>       <th>  Adj. R-squared:    </th> <td>   0.383</td> \n",
       "</tr>\n",
       "<tr>\n",
       "  <th>Method:</th>             <td>Least Squares</td>  <th>  F-statistic:       </th> <td>   289.9</td> \n",
       "</tr>\n",
       "<tr>\n",
       "  <th>Date:</th>             <td>Tue, 05 May 2020</td> <th>  Prob (F-statistic):</th>  <td>  0.00</td>  \n",
       "</tr>\n",
       "<tr>\n",
       "  <th>Time:</th>                 <td>13:08:35</td>     <th>  Log-Likelihood:    </th> <td> -30115.</td> \n",
       "</tr>\n",
       "<tr>\n",
       "  <th>No. Observations:</th>      <td> 25599</td>      <th>  AIC:               </th> <td>6.034e+04</td>\n",
       "</tr>\n",
       "<tr>\n",
       "  <th>Df Residuals:</th>          <td> 25543</td>      <th>  BIC:               </th> <td>6.080e+04</td>\n",
       "</tr>\n",
       "<tr>\n",
       "  <th>Df Model:</th>              <td>    55</td>      <th>                     </th>     <td> </td>    \n",
       "</tr>\n",
       "<tr>\n",
       "  <th>Covariance Type:</th>      <td>nonrobust</td>    <th>                     </th>     <td> </td>    \n",
       "</tr>\n",
       "</table>"
      ],
      "text/plain": [
       "<class 'statsmodels.iolib.table.SimpleTable'>"
      ]
     },
     "execution_count": 131,
     "metadata": {},
     "output_type": "execute_result"
    }
   ],
   "source": [
    "model.summary().tables[0]"
   ]
  },
  {
   "cell_type": "code",
   "execution_count": 132,
   "metadata": {
    "scrolled": false
   },
   "outputs": [
    {
     "data": {
      "text/html": [
       "<div>\n",
       "<style scoped>\n",
       "    .dataframe tbody tr th:only-of-type {\n",
       "        vertical-align: middle;\n",
       "    }\n",
       "\n",
       "    .dataframe tbody tr th {\n",
       "        vertical-align: top;\n",
       "    }\n",
       "\n",
       "    .dataframe thead th {\n",
       "        text-align: right;\n",
       "    }\n",
       "</style>\n",
       "<table border=\"1\" class=\"dataframe\">\n",
       "  <thead>\n",
       "    <tr style=\"text-align: right;\">\n",
       "      <th></th>\n",
       "      <th>beta</th>\n",
       "      <th>coef</th>\n",
       "      <th>std_err</th>\n",
       "      <th>t</th>\n",
       "      <th>P_value_t</th>\n",
       "      <th>[0.025</th>\n",
       "      <th>0.975]</th>\n",
       "    </tr>\n",
       "  </thead>\n",
       "  <tbody>\n",
       "    <tr>\n",
       "      <th>1</th>\n",
       "      <td>const</td>\n",
       "      <td>-9.576e+08</td>\n",
       "      <td>1.62e+09</td>\n",
       "      <td>-0.589</td>\n",
       "      <td>0.556</td>\n",
       "      <td>-4.14e+09</td>\n",
       "      <td>2.23e+09</td>\n",
       "    </tr>\n",
       "    <tr>\n",
       "      <th>2</th>\n",
       "      <td>x1</td>\n",
       "      <td>-1.484e+10</td>\n",
       "      <td>2.52e+10</td>\n",
       "      <td>-0.589</td>\n",
       "      <td>0.556</td>\n",
       "      <td>-6.42e+10</td>\n",
       "      <td>3.45e+10</td>\n",
       "    </tr>\n",
       "    <tr>\n",
       "      <th>3</th>\n",
       "      <td>x2</td>\n",
       "      <td>-1.226e+10</td>\n",
       "      <td>2.08e+10</td>\n",
       "      <td>-0.589</td>\n",
       "      <td>0.556</td>\n",
       "      <td>-5.3e+10</td>\n",
       "      <td>2.85e+10</td>\n",
       "    </tr>\n",
       "    <tr>\n",
       "      <th>4</th>\n",
       "      <td>x3</td>\n",
       "      <td>-5.457e+09</td>\n",
       "      <td>9.26e+09</td>\n",
       "      <td>-0.589</td>\n",
       "      <td>0.556</td>\n",
       "      <td>-2.36e+10</td>\n",
       "      <td>1.27e+10</td>\n",
       "    </tr>\n",
       "    <tr>\n",
       "      <th>5</th>\n",
       "      <td>x4</td>\n",
       "      <td>4.48e+10</td>\n",
       "      <td>7.6e+10</td>\n",
       "      <td>0.589</td>\n",
       "      <td>0.556</td>\n",
       "      <td>-1.04e+11</td>\n",
       "      <td>1.94e+11</td>\n",
       "    </tr>\n",
       "  </tbody>\n",
       "</table>\n",
       "</div>"
      ],
      "text/plain": [
       "    beta        coef    std_err          t P_value_t     [0.025     0.975]\n",
       "1  const  -9.576e+08   1.62e+09     -0.589     0.556  -4.14e+09   2.23e+09\n",
       "2     x1  -1.484e+10   2.52e+10     -0.589     0.556  -6.42e+10   3.45e+10\n",
       "3     x2  -1.226e+10   2.08e+10     -0.589     0.556   -5.3e+10   2.85e+10\n",
       "4     x3  -5.457e+09   9.26e+09     -0.589     0.556  -2.36e+10   1.27e+10\n",
       "5     x4    4.48e+10    7.6e+10      0.589     0.556  -1.04e+11   1.94e+11"
      ]
     },
     "execution_count": 132,
     "metadata": {},
     "output_type": "execute_result"
    }
   ],
   "source": [
    "# vemos la tabla 1 que nos muestra los p-value\n",
    "sumario = pd.DataFrame(model.summary().tables[1],columns=['beta','coef','std_err','t','P_value_t','[0.025','0.975]'])[1:]\n",
    "sumario.head()"
   ]
  },
  {
   "cell_type": "markdown",
   "metadata": {},
   "source": [
    "tanto las tablas como las celdas son objetos de stats models, por lo que los vamos a convertir en algo que podamos trabajar"
   ]
  },
  {
   "cell_type": "code",
   "execution_count": 133,
   "metadata": {},
   "outputs": [
    {
     "data": {
      "text/plain": [
       "<statsmodels.iolib.table.Cell at 0x1e6bcc61488>"
      ]
     },
     "execution_count": 133,
     "metadata": {},
     "output_type": "execute_result"
    }
   ],
   "source": [
    "# objeto statsmodels\n",
    "sumario.P_value_t.iloc[0]"
   ]
  },
  {
   "cell_type": "code",
   "execution_count": 134,
   "metadata": {},
   "outputs": [
    {
     "data": {
      "text/plain": [
       "' 0.556'"
      ]
     },
     "execution_count": 134,
     "metadata": {},
     "output_type": "execute_result"
    }
   ],
   "source": [
    "# tienen un atributo .data\n",
    "sumario.P_value_t.iloc[0].data"
   ]
  },
  {
   "cell_type": "code",
   "execution_count": 135,
   "metadata": {},
   "outputs": [
    {
     "data": {
      "text/plain": [
       "str"
      ]
     },
     "execution_count": 135,
     "metadata": {},
     "output_type": "execute_result"
    }
   ],
   "source": [
    "# son de tipo str\n",
    "type(sumario.P_value_t.iloc[0].data)"
   ]
  },
  {
   "cell_type": "code",
   "execution_count": 136,
   "metadata": {},
   "outputs": [
    {
     "data": {
      "text/plain": [
       "0.556"
      ]
     },
     "execution_count": 136,
     "metadata": {},
     "output_type": "execute_result"
    }
   ],
   "source": [
    "# podemos llevarlos a un float\n",
    "float(sumario.P_value_t.iloc[0].data)"
   ]
  },
  {
   "cell_type": "code",
   "execution_count": 137,
   "metadata": {},
   "outputs": [],
   "source": [
    "# para toda la columna de p_value\n",
    "sumario.P_value_t = [float(sumario.P_value_t.iloc[x].data) for x in range(len(sumario))]"
   ]
  },
  {
   "cell_type": "code",
   "execution_count": 138,
   "metadata": {},
   "outputs": [],
   "source": [
    "sumario.reset_index(inplace=True,drop=True)"
   ]
  },
  {
   "cell_type": "code",
   "execution_count": 139,
   "metadata": {},
   "outputs": [
    {
     "data": {
      "text/html": [
       "<div>\n",
       "<style scoped>\n",
       "    .dataframe tbody tr th:only-of-type {\n",
       "        vertical-align: middle;\n",
       "    }\n",
       "\n",
       "    .dataframe tbody tr th {\n",
       "        vertical-align: top;\n",
       "    }\n",
       "\n",
       "    .dataframe thead th {\n",
       "        text-align: right;\n",
       "    }\n",
       "</style>\n",
       "<table border=\"1\" class=\"dataframe\">\n",
       "  <thead>\n",
       "    <tr style=\"text-align: right;\">\n",
       "      <th></th>\n",
       "      <th>beta</th>\n",
       "      <th>coef</th>\n",
       "      <th>std_err</th>\n",
       "      <th>t</th>\n",
       "      <th>P_value_t</th>\n",
       "      <th>[0.025</th>\n",
       "      <th>0.975]</th>\n",
       "    </tr>\n",
       "  </thead>\n",
       "  <tbody>\n",
       "    <tr>\n",
       "      <th>0</th>\n",
       "      <td>const</td>\n",
       "      <td>-9.576e+08</td>\n",
       "      <td>1.62e+09</td>\n",
       "      <td>-0.589</td>\n",
       "      <td>0.556</td>\n",
       "      <td>-4.14e+09</td>\n",
       "      <td>2.23e+09</td>\n",
       "    </tr>\n",
       "    <tr>\n",
       "      <th>1</th>\n",
       "      <td>x1</td>\n",
       "      <td>-1.484e+10</td>\n",
       "      <td>2.52e+10</td>\n",
       "      <td>-0.589</td>\n",
       "      <td>0.556</td>\n",
       "      <td>-6.42e+10</td>\n",
       "      <td>3.45e+10</td>\n",
       "    </tr>\n",
       "    <tr>\n",
       "      <th>2</th>\n",
       "      <td>x2</td>\n",
       "      <td>-1.226e+10</td>\n",
       "      <td>2.08e+10</td>\n",
       "      <td>-0.589</td>\n",
       "      <td>0.556</td>\n",
       "      <td>-5.3e+10</td>\n",
       "      <td>2.85e+10</td>\n",
       "    </tr>\n",
       "    <tr>\n",
       "      <th>3</th>\n",
       "      <td>x3</td>\n",
       "      <td>-5.457e+09</td>\n",
       "      <td>9.26e+09</td>\n",
       "      <td>-0.589</td>\n",
       "      <td>0.556</td>\n",
       "      <td>-2.36e+10</td>\n",
       "      <td>1.27e+10</td>\n",
       "    </tr>\n",
       "    <tr>\n",
       "      <th>4</th>\n",
       "      <td>x4</td>\n",
       "      <td>4.48e+10</td>\n",
       "      <td>7.6e+10</td>\n",
       "      <td>0.589</td>\n",
       "      <td>0.556</td>\n",
       "      <td>-1.04e+11</td>\n",
       "      <td>1.94e+11</td>\n",
       "    </tr>\n",
       "  </tbody>\n",
       "</table>\n",
       "</div>"
      ],
      "text/plain": [
       "    beta        coef    std_err          t  P_value_t     [0.025     0.975]\n",
       "0  const  -9.576e+08   1.62e+09     -0.589      0.556  -4.14e+09   2.23e+09\n",
       "1     x1  -1.484e+10   2.52e+10     -0.589      0.556  -6.42e+10   3.45e+10\n",
       "2     x2  -1.226e+10   2.08e+10     -0.589      0.556   -5.3e+10   2.85e+10\n",
       "3     x3  -5.457e+09   9.26e+09     -0.589      0.556  -2.36e+10   1.27e+10\n",
       "4     x4    4.48e+10    7.6e+10      0.589      0.556  -1.04e+11   1.94e+11"
      ]
     },
     "execution_count": 139,
     "metadata": {},
     "output_type": "execute_result"
    }
   ],
   "source": [
    "sumario.head()"
   ]
  },
  {
   "cell_type": "code",
   "execution_count": 140,
   "metadata": {},
   "outputs": [
    {
     "data": {
      "text/plain": [
       "(66, 7)"
      ]
     },
     "execution_count": 140,
     "metadata": {},
     "output_type": "execute_result"
    }
   ],
   "source": [
    "# menos la constante son 1364 filas (o sea features/columnas)\n",
    "sumario.shape"
   ]
  },
  {
   "cell_type": "code",
   "execution_count": 141,
   "metadata": {},
   "outputs": [
    {
     "data": {
      "text/plain": [
       "(35, 7)"
      ]
     },
     "execution_count": 141,
     "metadata": {},
     "output_type": "execute_result"
    }
   ],
   "source": [
    "# con p_value mayor a 0.05 hay la mitad mas o menos\n",
    "sumario.loc[sumario.P_value_t < 0.05].shape"
   ]
  },
  {
   "cell_type": "code",
   "execution_count": 142,
   "metadata": {
    "scrolled": true
   },
   "outputs": [
    {
     "data": {
      "text/html": [
       "<div>\n",
       "<style scoped>\n",
       "    .dataframe tbody tr th:only-of-type {\n",
       "        vertical-align: middle;\n",
       "    }\n",
       "\n",
       "    .dataframe tbody tr th {\n",
       "        vertical-align: top;\n",
       "    }\n",
       "\n",
       "    .dataframe thead th {\n",
       "        text-align: right;\n",
       "    }\n",
       "</style>\n",
       "<table border=\"1\" class=\"dataframe\">\n",
       "  <thead>\n",
       "    <tr style=\"text-align: right;\">\n",
       "      <th></th>\n",
       "      <th>split</th>\n",
       "      <th>rows</th>\n",
       "      <th>cols</th>\n",
       "    </tr>\n",
       "  </thead>\n",
       "  <tbody>\n",
       "    <tr>\n",
       "      <th>X</th>\n",
       "      <td>train</td>\n",
       "      <td>25599</td>\n",
       "      <td>65</td>\n",
       "    </tr>\n",
       "    <tr>\n",
       "      <th>X</th>\n",
       "      <td>test</td>\n",
       "      <td>6400</td>\n",
       "      <td>10</td>\n",
       "    </tr>\n",
       "    <tr>\n",
       "      <th>y</th>\n",
       "      <td>train</td>\n",
       "      <td>25599</td>\n",
       "      <td>1</td>\n",
       "    </tr>\n",
       "    <tr>\n",
       "      <th>y</th>\n",
       "      <td>test</td>\n",
       "      <td>6400</td>\n",
       "      <td>1</td>\n",
       "    </tr>\n",
       "  </tbody>\n",
       "</table>\n",
       "</div>"
      ],
      "text/plain": [
       "   split   rows  cols\n",
       "X  train  25599    65\n",
       "X   test   6400    10\n",
       "y  train  25599     1\n",
       "y   test   6400     1"
      ]
     },
     "execution_count": 142,
     "metadata": {},
     "output_type": "execute_result"
    }
   ],
   "source": [
    "# vemos con que shapes estamos trabajando\n",
    "shp_split(Xtr=X_train_grado2)"
   ]
  },
  {
   "cell_type": "code",
   "execution_count": 143,
   "metadata": {},
   "outputs": [
    {
     "data": {
      "text/plain": [
       "35"
      ]
     },
     "execution_count": 143,
     "metadata": {},
     "output_type": "execute_result"
    }
   ],
   "source": [
    "# nos armamos una lista de features que dropeamos\n",
    "betas_ok = sumario.loc[sumario.P_value_t < 0.05].index\n",
    "\n",
    "lista_betas = list(betas_ok)\n",
    "\n",
    "len(list(betas_ok))"
   ]
  },
  {
   "cell_type": "code",
   "execution_count": 144,
   "metadata": {},
   "outputs": [],
   "source": [
    "# reconvertimos X en un dataframe para poder loquear\n",
    "X = pd.DataFrame(X)"
   ]
  },
  {
   "cell_type": "code",
   "execution_count": 145,
   "metadata": {},
   "outputs": [
    {
     "data": {
      "text/html": [
       "<div>\n",
       "<style scoped>\n",
       "    .dataframe tbody tr th:only-of-type {\n",
       "        vertical-align: middle;\n",
       "    }\n",
       "\n",
       "    .dataframe tbody tr th {\n",
       "        vertical-align: top;\n",
       "    }\n",
       "\n",
       "    .dataframe thead th {\n",
       "        text-align: right;\n",
       "    }\n",
       "</style>\n",
       "<table border=\"1\" class=\"dataframe\">\n",
       "  <thead>\n",
       "    <tr style=\"text-align: right;\">\n",
       "      <th></th>\n",
       "      <th>0</th>\n",
       "      <th>1</th>\n",
       "      <th>2</th>\n",
       "      <th>3</th>\n",
       "      <th>4</th>\n",
       "      <th>5</th>\n",
       "      <th>6</th>\n",
       "      <th>7</th>\n",
       "      <th>8</th>\n",
       "      <th>9</th>\n",
       "      <th>...</th>\n",
       "      <th>56</th>\n",
       "      <th>57</th>\n",
       "      <th>58</th>\n",
       "      <th>59</th>\n",
       "      <th>60</th>\n",
       "      <th>61</th>\n",
       "      <th>62</th>\n",
       "      <th>63</th>\n",
       "      <th>64</th>\n",
       "      <th>65</th>\n",
       "    </tr>\n",
       "  </thead>\n",
       "  <tbody>\n",
       "    <tr>\n",
       "      <th>0</th>\n",
       "      <td>1.0</td>\n",
       "      <td>0.439803</td>\n",
       "      <td>-0.261289</td>\n",
       "      <td>-0.211392</td>\n",
       "      <td>0.170361</td>\n",
       "      <td>-0.027254</td>\n",
       "      <td>-0.307016</td>\n",
       "      <td>-0.144835</td>\n",
       "      <td>0.835260</td>\n",
       "      <td>-1.070790</td>\n",
       "      <td>...</td>\n",
       "      <td>0.020977</td>\n",
       "      <td>-0.120975</td>\n",
       "      <td>0.155088</td>\n",
       "      <td>0.107084</td>\n",
       "      <td>0.697659</td>\n",
       "      <td>-0.894388</td>\n",
       "      <td>-0.617552</td>\n",
       "      <td>1.146591</td>\n",
       "      <td>0.791693</td>\n",
       "      <td>0.546644</td>\n",
       "    </tr>\n",
       "    <tr>\n",
       "      <th>1</th>\n",
       "      <td>1.0</td>\n",
       "      <td>0.439803</td>\n",
       "      <td>-0.261289</td>\n",
       "      <td>-0.211392</td>\n",
       "      <td>-5.869896</td>\n",
       "      <td>-0.027254</td>\n",
       "      <td>1.464753</td>\n",
       "      <td>2.992099</td>\n",
       "      <td>0.835260</td>\n",
       "      <td>0.507727</td>\n",
       "      <td>...</td>\n",
       "      <td>8.952655</td>\n",
       "      <td>2.499180</td>\n",
       "      <td>1.519170</td>\n",
       "      <td>3.578869</td>\n",
       "      <td>0.697659</td>\n",
       "      <td>0.424084</td>\n",
       "      <td>0.999060</td>\n",
       "      <td>0.257787</td>\n",
       "      <td>0.607296</td>\n",
       "      <td>1.430671</td>\n",
       "    </tr>\n",
       "    <tr>\n",
       "      <th>2</th>\n",
       "      <td>1.0</td>\n",
       "      <td>0.439803</td>\n",
       "      <td>-0.261289</td>\n",
       "      <td>-0.211392</td>\n",
       "      <td>0.170361</td>\n",
       "      <td>-0.027254</td>\n",
       "      <td>-0.314873</td>\n",
       "      <td>-0.144835</td>\n",
       "      <td>0.835260</td>\n",
       "      <td>-0.720730</td>\n",
       "      <td>...</td>\n",
       "      <td>0.020977</td>\n",
       "      <td>-0.120975</td>\n",
       "      <td>0.104387</td>\n",
       "      <td>-0.223817</td>\n",
       "      <td>0.697659</td>\n",
       "      <td>-0.601997</td>\n",
       "      <td>1.290747</td>\n",
       "      <td>0.519451</td>\n",
       "      <td>-1.113761</td>\n",
       "      <td>2.388025</td>\n",
       "    </tr>\n",
       "    <tr>\n",
       "      <th>3</th>\n",
       "      <td>1.0</td>\n",
       "      <td>0.439803</td>\n",
       "      <td>-0.261289</td>\n",
       "      <td>-0.211392</td>\n",
       "      <td>0.170361</td>\n",
       "      <td>-0.027254</td>\n",
       "      <td>-0.287373</td>\n",
       "      <td>0.313390</td>\n",
       "      <td>0.835260</td>\n",
       "      <td>-0.596076</td>\n",
       "      <td>...</td>\n",
       "      <td>0.098213</td>\n",
       "      <td>0.261762</td>\n",
       "      <td>-0.186804</td>\n",
       "      <td>-0.262755</td>\n",
       "      <td>0.697659</td>\n",
       "      <td>-0.497879</td>\n",
       "      <td>-0.700306</td>\n",
       "      <td>0.355307</td>\n",
       "      <td>0.499768</td>\n",
       "      <td>0.702963</td>\n",
       "    </tr>\n",
       "    <tr>\n",
       "      <th>4</th>\n",
       "      <td>1.0</td>\n",
       "      <td>0.439803</td>\n",
       "      <td>-0.261289</td>\n",
       "      <td>-0.211392</td>\n",
       "      <td>0.170361</td>\n",
       "      <td>-0.027254</td>\n",
       "      <td>0.007267</td>\n",
       "      <td>1.206293</td>\n",
       "      <td>-1.197232</td>\n",
       "      <td>-0.126484</td>\n",
       "      <td>...</td>\n",
       "      <td>1.455143</td>\n",
       "      <td>-1.444213</td>\n",
       "      <td>-0.152577</td>\n",
       "      <td>0.341664</td>\n",
       "      <td>1.433365</td>\n",
       "      <td>0.151431</td>\n",
       "      <td>-0.339097</td>\n",
       "      <td>0.015998</td>\n",
       "      <td>-0.035825</td>\n",
       "      <td>0.080222</td>\n",
       "    </tr>\n",
       "  </tbody>\n",
       "</table>\n",
       "<p>5 rows × 66 columns</p>\n",
       "</div>"
      ],
      "text/plain": [
       "    0         1         2         3         4         5         6         7   \\\n",
       "0  1.0  0.439803 -0.261289 -0.211392  0.170361 -0.027254 -0.307016 -0.144835   \n",
       "1  1.0  0.439803 -0.261289 -0.211392 -5.869896 -0.027254  1.464753  2.992099   \n",
       "2  1.0  0.439803 -0.261289 -0.211392  0.170361 -0.027254 -0.314873 -0.144835   \n",
       "3  1.0  0.439803 -0.261289 -0.211392  0.170361 -0.027254 -0.287373  0.313390   \n",
       "4  1.0  0.439803 -0.261289 -0.211392  0.170361 -0.027254  0.007267  1.206293   \n",
       "\n",
       "         8         9   ...        56        57        58        59        60  \\\n",
       "0  0.835260 -1.070790  ...  0.020977 -0.120975  0.155088  0.107084  0.697659   \n",
       "1  0.835260  0.507727  ...  8.952655  2.499180  1.519170  3.578869  0.697659   \n",
       "2  0.835260 -0.720730  ...  0.020977 -0.120975  0.104387 -0.223817  0.697659   \n",
       "3  0.835260 -0.596076  ...  0.098213  0.261762 -0.186804 -0.262755  0.697659   \n",
       "4 -1.197232 -0.126484  ...  1.455143 -1.444213 -0.152577  0.341664  1.433365   \n",
       "\n",
       "         61        62        63        64        65  \n",
       "0 -0.894388 -0.617552  1.146591  0.791693  0.546644  \n",
       "1  0.424084  0.999060  0.257787  0.607296  1.430671  \n",
       "2 -0.601997  1.290747  0.519451 -1.113761  2.388025  \n",
       "3 -0.497879 -0.700306  0.355307  0.499768  0.702963  \n",
       "4  0.151431 -0.339097  0.015998 -0.035825  0.080222  \n",
       "\n",
       "[5 rows x 66 columns]"
      ]
     },
     "execution_count": 145,
     "metadata": {},
     "output_type": "execute_result"
    }
   ],
   "source": [
    "X.head()"
   ]
  },
  {
   "cell_type": "code",
   "execution_count": 146,
   "metadata": {},
   "outputs": [],
   "source": [
    "X = X.reindex(lista_betas,axis=1)"
   ]
  },
  {
   "cell_type": "code",
   "execution_count": 147,
   "metadata": {},
   "outputs": [],
   "source": [
    "X_train_grado2 = X.copy()"
   ]
  },
  {
   "cell_type": "code",
   "execution_count": 148,
   "metadata": {
    "scrolled": true
   },
   "outputs": [
    {
     "data": {
      "text/html": [
       "<div>\n",
       "<style scoped>\n",
       "    .dataframe tbody tr th:only-of-type {\n",
       "        vertical-align: middle;\n",
       "    }\n",
       "\n",
       "    .dataframe tbody tr th {\n",
       "        vertical-align: top;\n",
       "    }\n",
       "\n",
       "    .dataframe thead th {\n",
       "        text-align: right;\n",
       "    }\n",
       "</style>\n",
       "<table border=\"1\" class=\"dataframe\">\n",
       "  <thead>\n",
       "    <tr style=\"text-align: right;\">\n",
       "      <th></th>\n",
       "      <th>split</th>\n",
       "      <th>rows</th>\n",
       "      <th>cols</th>\n",
       "    </tr>\n",
       "  </thead>\n",
       "  <tbody>\n",
       "    <tr>\n",
       "      <th>X</th>\n",
       "      <td>train</td>\n",
       "      <td>25599</td>\n",
       "      <td>35</td>\n",
       "    </tr>\n",
       "    <tr>\n",
       "      <th>X</th>\n",
       "      <td>test</td>\n",
       "      <td>6400</td>\n",
       "      <td>10</td>\n",
       "    </tr>\n",
       "    <tr>\n",
       "      <th>y</th>\n",
       "      <td>train</td>\n",
       "      <td>25599</td>\n",
       "      <td>1</td>\n",
       "    </tr>\n",
       "    <tr>\n",
       "      <th>y</th>\n",
       "      <td>test</td>\n",
       "      <td>6400</td>\n",
       "      <td>1</td>\n",
       "    </tr>\n",
       "  </tbody>\n",
       "</table>\n",
       "</div>"
      ],
      "text/plain": [
       "   split   rows  cols\n",
       "X  train  25599    35\n",
       "X   test   6400    10\n",
       "y  train  25599     1\n",
       "y   test   6400     1"
      ]
     },
     "execution_count": 148,
     "metadata": {},
     "output_type": "execute_result"
    }
   ],
   "source": [
    "# vemos con que shapes estamos trabajando\n",
    "shp_split(Xtr=X_train_grado2)"
   ]
  },
  {
   "cell_type": "markdown",
   "metadata": {},
   "source": [
    "#### con p-value < 0.05"
   ]
  },
  {
   "cell_type": "code",
   "execution_count": 149,
   "metadata": {},
   "outputs": [],
   "source": [
    "# Instanciamos los modelos\n",
    "lm = LinearRegression()"
   ]
  },
  {
   "cell_type": "code",
   "execution_count": 150,
   "metadata": {},
   "outputs": [
    {
     "data": {
      "text/plain": [
       "LinearRegression(copy_X=True, fit_intercept=True, n_jobs=None, normalize=False)"
      ]
     },
     "execution_count": 150,
     "metadata": {},
     "output_type": "execute_result"
    }
   ],
   "source": [
    "# Hacemos los fits respectivos\n",
    "lm.fit(X_train_grado2, y_train)"
   ]
  },
  {
   "cell_type": "code",
   "execution_count": 151,
   "metadata": {
    "scrolled": false
   },
   "outputs": [
    {
     "name": "stdout",
     "output_type": "stream",
     "text": [
      "R2 Score Train Lineal: 0.36000\n",
      "\n"
     ]
    }
   ],
   "source": [
    "# Calculamos el R2\n",
    "print(\"R2 Score Train Lineal: %.5f\\n\" % lm.score(X_train_grado2, y_train))"
   ]
  },
  {
   "cell_type": "markdown",
   "metadata": {},
   "source": [
    "### en test solo transform"
   ]
  },
  {
   "cell_type": "code",
   "execution_count": 152,
   "metadata": {},
   "outputs": [],
   "source": [
    "X_test_grado2 = pol2.transform(X_test)"
   ]
  },
  {
   "cell_type": "code",
   "execution_count": 153,
   "metadata": {},
   "outputs": [
    {
     "data": {
      "text/html": [
       "<div>\n",
       "<style scoped>\n",
       "    .dataframe tbody tr th:only-of-type {\n",
       "        vertical-align: middle;\n",
       "    }\n",
       "\n",
       "    .dataframe tbody tr th {\n",
       "        vertical-align: top;\n",
       "    }\n",
       "\n",
       "    .dataframe thead th {\n",
       "        text-align: right;\n",
       "    }\n",
       "</style>\n",
       "<table border=\"1\" class=\"dataframe\">\n",
       "  <thead>\n",
       "    <tr style=\"text-align: right;\">\n",
       "      <th></th>\n",
       "      <th>split</th>\n",
       "      <th>rows</th>\n",
       "      <th>cols</th>\n",
       "    </tr>\n",
       "  </thead>\n",
       "  <tbody>\n",
       "    <tr>\n",
       "      <th>X</th>\n",
       "      <td>train</td>\n",
       "      <td>25599</td>\n",
       "      <td>10</td>\n",
       "    </tr>\n",
       "    <tr>\n",
       "      <th>X</th>\n",
       "      <td>test</td>\n",
       "      <td>6400</td>\n",
       "      <td>65</td>\n",
       "    </tr>\n",
       "    <tr>\n",
       "      <th>y</th>\n",
       "      <td>train</td>\n",
       "      <td>25599</td>\n",
       "      <td>1</td>\n",
       "    </tr>\n",
       "    <tr>\n",
       "      <th>y</th>\n",
       "      <td>test</td>\n",
       "      <td>6400</td>\n",
       "      <td>1</td>\n",
       "    </tr>\n",
       "  </tbody>\n",
       "</table>\n",
       "</div>"
      ],
      "text/plain": [
       "   split   rows  cols\n",
       "X  train  25599    10\n",
       "X   test   6400    65\n",
       "y  train  25599     1\n",
       "y   test   6400     1"
      ]
     },
     "execution_count": 153,
     "metadata": {},
     "output_type": "execute_result"
    }
   ],
   "source": [
    "shp_split(Xte=X_test_grado2)"
   ]
  },
  {
   "cell_type": "code",
   "execution_count": 154,
   "metadata": {},
   "outputs": [],
   "source": [
    "# agrego la constante para evitar desfases de columnas\n",
    "X_test_grado2 = sm.add_constant(X_test_grado2)"
   ]
  },
  {
   "cell_type": "code",
   "execution_count": 155,
   "metadata": {},
   "outputs": [],
   "source": [
    "X_test_grado2 = pd.DataFrame(X_test_grado2)"
   ]
  },
  {
   "cell_type": "code",
   "execution_count": 156,
   "metadata": {},
   "outputs": [],
   "source": [
    "X_test_grado2 = X_test_grado2.reindex(lista_betas,axis=1)"
   ]
  },
  {
   "cell_type": "code",
   "execution_count": 157,
   "metadata": {},
   "outputs": [
    {
     "data": {
      "text/html": [
       "<div>\n",
       "<style scoped>\n",
       "    .dataframe tbody tr th:only-of-type {\n",
       "        vertical-align: middle;\n",
       "    }\n",
       "\n",
       "    .dataframe tbody tr th {\n",
       "        vertical-align: top;\n",
       "    }\n",
       "\n",
       "    .dataframe thead th {\n",
       "        text-align: right;\n",
       "    }\n",
       "</style>\n",
       "<table border=\"1\" class=\"dataframe\">\n",
       "  <thead>\n",
       "    <tr style=\"text-align: right;\">\n",
       "      <th></th>\n",
       "      <th>split</th>\n",
       "      <th>rows</th>\n",
       "      <th>cols</th>\n",
       "    </tr>\n",
       "  </thead>\n",
       "  <tbody>\n",
       "    <tr>\n",
       "      <th>X</th>\n",
       "      <td>train</td>\n",
       "      <td>25599</td>\n",
       "      <td>10</td>\n",
       "    </tr>\n",
       "    <tr>\n",
       "      <th>X</th>\n",
       "      <td>test</td>\n",
       "      <td>6400</td>\n",
       "      <td>35</td>\n",
       "    </tr>\n",
       "    <tr>\n",
       "      <th>y</th>\n",
       "      <td>train</td>\n",
       "      <td>25599</td>\n",
       "      <td>1</td>\n",
       "    </tr>\n",
       "    <tr>\n",
       "      <th>y</th>\n",
       "      <td>test</td>\n",
       "      <td>6400</td>\n",
       "      <td>1</td>\n",
       "    </tr>\n",
       "  </tbody>\n",
       "</table>\n",
       "</div>"
      ],
      "text/plain": [
       "   split   rows  cols\n",
       "X  train  25599    10\n",
       "X   test   6400    35\n",
       "y  train  25599     1\n",
       "y   test   6400     1"
      ]
     },
     "execution_count": 157,
     "metadata": {},
     "output_type": "execute_result"
    }
   ],
   "source": [
    "shp_split(Xte=X_test_grado2)"
   ]
  },
  {
   "cell_type": "code",
   "execution_count": 158,
   "metadata": {},
   "outputs": [],
   "source": [
    "y_test_predicted = lm.predict(X_test_grado2)"
   ]
  },
  {
   "cell_type": "code",
   "execution_count": 159,
   "metadata": {
    "scrolled": false
   },
   "outputs": [
    {
     "name": "stdout",
     "output_type": "stream",
     "text": [
      "MAE, Mean Absolute Error:       0.53172\n",
      "MSE, Mean Square Error:         0.61717\n",
      "RMSE, Root-Mean-Square Error:   0.78560\n",
      "R2 Score Train Lineal:          0.35279\n"
     ]
    }
   ],
   "source": [
    "metricas(X_test_grado2, y_test, y_test_predicted)"
   ]
  },
  {
   "cell_type": "markdown",
   "metadata": {},
   "source": [
    "--------------------------------------------------------------------------------------------------------------------------------"
   ]
  },
  {
   "cell_type": "markdown",
   "metadata": {},
   "source": [
    "## Con dummies de localización (sin lat lon)"
   ]
  },
  {
   "cell_type": "code",
   "execution_count": 160,
   "metadata": {},
   "outputs": [],
   "source": [
    "df = pd.read_csv('df_limpio_modelo.csv',sep='|')"
   ]
  },
  {
   "cell_type": "code",
   "execution_count": 161,
   "metadata": {},
   "outputs": [
    {
     "data": {
      "text/plain": [
       "(31999, 73)"
      ]
     },
     "execution_count": 161,
     "metadata": {},
     "output_type": "execute_result"
    }
   ],
   "source": [
    "df.shape"
   ]
  },
  {
   "cell_type": "code",
   "execution_count": 162,
   "metadata": {},
   "outputs": [
    {
     "data": {
      "text/html": [
       "<div>\n",
       "<style scoped>\n",
       "    .dataframe tbody tr th:only-of-type {\n",
       "        vertical-align: middle;\n",
       "    }\n",
       "\n",
       "    .dataframe tbody tr th {\n",
       "        vertical-align: top;\n",
       "    }\n",
       "\n",
       "    .dataframe thead th {\n",
       "        text-align: right;\n",
       "    }\n",
       "</style>\n",
       "<table border=\"1\" class=\"dataframe\">\n",
       "  <thead>\n",
       "    <tr style=\"text-align: right;\">\n",
       "      <th></th>\n",
       "      <th>usd_m2</th>\n",
       "      <th>precio_usd</th>\n",
       "      <th>prop_apartment</th>\n",
       "      <th>prop_house</th>\n",
       "      <th>prop_store</th>\n",
       "      <th>size_normal</th>\n",
       "      <th>size_xl</th>\n",
       "      <th>superficie_m2</th>\n",
       "      <th>ambientes</th>\n",
       "      <th>amenities</th>\n",
       "      <th>...</th>\n",
       "      <th>loc_Villa Lugano</th>\n",
       "      <th>loc_Villa Luro</th>\n",
       "      <th>loc_Villa Ortuzar</th>\n",
       "      <th>loc_Villa Pueyrredón</th>\n",
       "      <th>loc_Villa Real</th>\n",
       "      <th>loc_Villa Riachuelo</th>\n",
       "      <th>loc_Villa Santa Rita</th>\n",
       "      <th>loc_Villa Soldati</th>\n",
       "      <th>loc_Villa Urquiza</th>\n",
       "      <th>loc_Villa del Parque</th>\n",
       "    </tr>\n",
       "  </thead>\n",
       "  <tbody>\n",
       "    <tr>\n",
       "      <th>0</th>\n",
       "      <td>1127.272727</td>\n",
       "      <td>62000.0</td>\n",
       "      <td>0</td>\n",
       "      <td>0</td>\n",
       "      <td>0</td>\n",
       "      <td>1</td>\n",
       "      <td>0</td>\n",
       "      <td>55.000000</td>\n",
       "      <td>2.000000</td>\n",
       "      <td>0</td>\n",
       "      <td>...</td>\n",
       "      <td>0</td>\n",
       "      <td>0</td>\n",
       "      <td>0</td>\n",
       "      <td>0</td>\n",
       "      <td>0</td>\n",
       "      <td>0</td>\n",
       "      <td>0</td>\n",
       "      <td>0</td>\n",
       "      <td>0</td>\n",
       "      <td>0</td>\n",
       "    </tr>\n",
       "    <tr>\n",
       "      <th>1</th>\n",
       "      <td>1309.090909</td>\n",
       "      <td>72000.0</td>\n",
       "      <td>1</td>\n",
       "      <td>0</td>\n",
       "      <td>0</td>\n",
       "      <td>1</td>\n",
       "      <td>0</td>\n",
       "      <td>55.000000</td>\n",
       "      <td>2.000000</td>\n",
       "      <td>0</td>\n",
       "      <td>...</td>\n",
       "      <td>0</td>\n",
       "      <td>0</td>\n",
       "      <td>0</td>\n",
       "      <td>0</td>\n",
       "      <td>0</td>\n",
       "      <td>0</td>\n",
       "      <td>0</td>\n",
       "      <td>0</td>\n",
       "      <td>0</td>\n",
       "      <td>0</td>\n",
       "    </tr>\n",
       "    <tr>\n",
       "      <th>2</th>\n",
       "      <td>951.223001</td>\n",
       "      <td>95000.0</td>\n",
       "      <td>0</td>\n",
       "      <td>0</td>\n",
       "      <td>0</td>\n",
       "      <td>1</td>\n",
       "      <td>0</td>\n",
       "      <td>99.871429</td>\n",
       "      <td>3.000000</td>\n",
       "      <td>0</td>\n",
       "      <td>...</td>\n",
       "      <td>0</td>\n",
       "      <td>0</td>\n",
       "      <td>0</td>\n",
       "      <td>0</td>\n",
       "      <td>0</td>\n",
       "      <td>0</td>\n",
       "      <td>0</td>\n",
       "      <td>0</td>\n",
       "      <td>0</td>\n",
       "      <td>0</td>\n",
       "    </tr>\n",
       "    <tr>\n",
       "      <th>3</th>\n",
       "      <td>3066.666667</td>\n",
       "      <td>138000.0</td>\n",
       "      <td>1</td>\n",
       "      <td>0</td>\n",
       "      <td>0</td>\n",
       "      <td>1</td>\n",
       "      <td>0</td>\n",
       "      <td>45.000000</td>\n",
       "      <td>2.486814</td>\n",
       "      <td>1</td>\n",
       "      <td>...</td>\n",
       "      <td>0</td>\n",
       "      <td>0</td>\n",
       "      <td>0</td>\n",
       "      <td>0</td>\n",
       "      <td>0</td>\n",
       "      <td>0</td>\n",
       "      <td>0</td>\n",
       "      <td>0</td>\n",
       "      <td>0</td>\n",
       "      <td>0</td>\n",
       "    </tr>\n",
       "    <tr>\n",
       "      <th>4</th>\n",
       "      <td>3000.000000</td>\n",
       "      <td>195000.0</td>\n",
       "      <td>1</td>\n",
       "      <td>0</td>\n",
       "      <td>0</td>\n",
       "      <td>1</td>\n",
       "      <td>0</td>\n",
       "      <td>65.000000</td>\n",
       "      <td>2.486814</td>\n",
       "      <td>1</td>\n",
       "      <td>...</td>\n",
       "      <td>0</td>\n",
       "      <td>0</td>\n",
       "      <td>0</td>\n",
       "      <td>0</td>\n",
       "      <td>0</td>\n",
       "      <td>0</td>\n",
       "      <td>0</td>\n",
       "      <td>0</td>\n",
       "      <td>0</td>\n",
       "      <td>0</td>\n",
       "    </tr>\n",
       "  </tbody>\n",
       "</table>\n",
       "<p>5 rows × 73 columns</p>\n",
       "</div>"
      ],
      "text/plain": [
       "        usd_m2  precio_usd  prop_apartment  prop_house  prop_store  \\\n",
       "0  1127.272727     62000.0               0           0           0   \n",
       "1  1309.090909     72000.0               1           0           0   \n",
       "2   951.223001     95000.0               0           0           0   \n",
       "3  3066.666667    138000.0               1           0           0   \n",
       "4  3000.000000    195000.0               1           0           0   \n",
       "\n",
       "   size_normal  size_xl  superficie_m2  ambientes  amenities  ...  \\\n",
       "0            1        0      55.000000   2.000000          0  ...   \n",
       "1            1        0      55.000000   2.000000          0  ...   \n",
       "2            1        0      99.871429   3.000000          0  ...   \n",
       "3            1        0      45.000000   2.486814          1  ...   \n",
       "4            1        0      65.000000   2.486814          1  ...   \n",
       "\n",
       "   loc_Villa Lugano  loc_Villa Luro  loc_Villa Ortuzar  loc_Villa Pueyrredón  \\\n",
       "0                 0               0                  0                     0   \n",
       "1                 0               0                  0                     0   \n",
       "2                 0               0                  0                     0   \n",
       "3                 0               0                  0                     0   \n",
       "4                 0               0                  0                     0   \n",
       "\n",
       "   loc_Villa Real  loc_Villa Riachuelo  loc_Villa Santa Rita  \\\n",
       "0               0                    0                     0   \n",
       "1               0                    0                     0   \n",
       "2               0                    0                     0   \n",
       "3               0                    0                     0   \n",
       "4               0                    0                     0   \n",
       "\n",
       "   loc_Villa Soldati  loc_Villa Urquiza  loc_Villa del Parque  \n",
       "0                  0                  0                     0  \n",
       "1                  0                  0                     0  \n",
       "2                  0                  0                     0  \n",
       "3                  0                  0                     0  \n",
       "4                  0                  0                     0  \n",
       "\n",
       "[5 rows x 73 columns]"
      ]
     },
     "execution_count": 162,
     "metadata": {},
     "output_type": "execute_result"
    }
   ],
   "source": [
    "df.head()"
   ]
  },
  {
   "cell_type": "markdown",
   "metadata": {},
   "source": [
    "### 5. Obtención de matriz de features (X) y vector de variable explicada (y)"
   ]
  },
  {
   "cell_type": "markdown",
   "metadata": {},
   "source": [
    "Observamos las columnas de nuestro dataset actual"
   ]
  },
  {
   "cell_type": "code",
   "execution_count": 163,
   "metadata": {},
   "outputs": [
    {
     "data": {
      "text/plain": [
       "Index(['usd_m2', 'precio_usd', 'prop_apartment', 'prop_house', 'prop_store',\n",
       "       'size_normal', 'size_xl', 'superficie_m2', 'ambientes', 'amenities',\n",
       "       'lat', 'lon', 'loc_Agronomía', 'loc_Almagro', 'loc_Balvanera',\n",
       "       'loc_Barracas', 'loc_Barrio Norte', 'loc_Belgrano', 'loc_Boca',\n",
       "       'loc_Boedo', 'loc_Caballito', 'loc_Capital Federal', 'loc_Catalinas',\n",
       "       'loc_Centro / Microcentro', 'loc_Chacarita', 'loc_Coghlan',\n",
       "       'loc_Colegiales', 'loc_Congreso', 'loc_Constitución', 'loc_Flores',\n",
       "       'loc_Floresta', 'loc_Las Cañitas', 'loc_Liniers', 'loc_Mataderos',\n",
       "       'loc_Monserrat', 'loc_Monte Castro', 'loc_Nuñez', 'loc_Once',\n",
       "       'loc_Palermo', 'loc_Palermo Chico', 'loc_Palermo Hollywood',\n",
       "       'loc_Palermo Soho', 'loc_Palermo Viejo', 'loc_Parque Avellaneda',\n",
       "       'loc_Parque Centenario', 'loc_Parque Chacabuco', 'loc_Parque Chas',\n",
       "       'loc_Parque Patricios', 'loc_Paternal', 'loc_Pompeya',\n",
       "       'loc_Puerto Madero', 'loc_Recoleta', 'loc_Retiro', 'loc_Saavedra',\n",
       "       'loc_San Cristobal', 'loc_San Nicolás', 'loc_San Telmo',\n",
       "       'loc_Tribunales', 'loc_Velez Sarsfield', 'loc_Versalles',\n",
       "       'loc_Villa Crespo', 'loc_Villa Devoto', 'loc_Villa General Mitre',\n",
       "       'loc_Villa Lugano', 'loc_Villa Luro', 'loc_Villa Ortuzar',\n",
       "       'loc_Villa Pueyrredón', 'loc_Villa Real', 'loc_Villa Riachuelo',\n",
       "       'loc_Villa Santa Rita', 'loc_Villa Soldati', 'loc_Villa Urquiza',\n",
       "       'loc_Villa del Parque'],\n",
       "      dtype='object')"
      ]
     },
     "execution_count": 163,
     "metadata": {},
     "output_type": "execute_result"
    }
   ],
   "source": [
    "df.columns"
   ]
  },
  {
   "cell_type": "markdown",
   "metadata": {},
   "source": [
    "La columna usd_m2 representa el precio por metro cuadrado en dólares. Esta va a ser nuestra variable **target**, a la que llamaremos y.\n",
    "\n",
    "Las columnas de superficie, ambientes y expensas, sumadas a las dummies correspondientes a las variables categóricas de subtipo de propiedad y localidad, son las posibles variables explicativas que nos permitiran llegar al valor de nuestra y. Estas serán nuestras **features** y estarán en la matriz X.\n"
   ]
  },
  {
   "cell_type": "code",
   "execution_count": 164,
   "metadata": {},
   "outputs": [],
   "source": [
    "y = df[['usd_m2']]\n",
    "feature_cols = ['precio_usd',\n",
    "                \n",
    "                'prop_apartment', 'prop_house', 'prop_store','size_normal', 'size_xl', 'superficie_m2', 'ambientes', 'amenities',\n",
    "                \n",
    "                'loc_Agronomía', 'loc_Almagro', 'loc_Balvanera','loc_Barracas', 'loc_Barrio Norte', 'loc_Belgrano', 'loc_Boca',\n",
    "                'loc_Boedo', 'loc_Caballito', 'loc_Capital Federal', 'loc_Catalinas','loc_Centro / Microcentro','loc_Chacarita',\n",
    "                'loc_Coghlan', 'loc_Colegiales', 'loc_Congreso', 'loc_Constitución', 'loc_Flores','loc_Floresta',\n",
    "                'loc_Las Cañitas', 'loc_Liniers', 'loc_Mataderos','loc_Monserrat', 'loc_Monte Castro', 'loc_Nuñez',\n",
    "                'loc_Once','loc_Palermo', 'loc_Palermo Chico', 'loc_Palermo Hollywood','loc_Palermo Soho',\n",
    "                'loc_Palermo Viejo', 'loc_Parque Avellaneda','loc_Parque Centenario', 'loc_Parque Chacabuco',\n",
    "                'loc_Parque Chas','loc_Parque Patricios', 'loc_Paternal', 'loc_Pompeya', 'loc_Puerto Madero',\n",
    "                'loc_Recoleta', 'loc_Retiro', 'loc_Saavedra','loc_San Cristobal', 'loc_San Nicolás', 'loc_San Telmo',\n",
    "                'loc_Tribunales', 'loc_Velez Sarsfield', 'loc_Versalles','loc_Villa Crespo', 'loc_Villa Devoto',\n",
    "                'loc_Villa General Mitre', 'loc_Villa Lugano', 'loc_Villa Luro', 'loc_Villa Ortuzar','loc_Villa Pueyrredón',\n",
    "                'loc_Villa Real', 'loc_Villa Riachuelo', 'loc_Villa Santa Rita', 'loc_Villa Soldati', 'loc_Villa Urquiza',\n",
    "                'loc_Villa del Parque']"
   ]
  },
  {
   "cell_type": "code",
   "execution_count": 165,
   "metadata": {},
   "outputs": [],
   "source": [
    "X = df[feature_cols]"
   ]
  },
  {
   "cell_type": "code",
   "execution_count": 166,
   "metadata": {},
   "outputs": [
    {
     "name": "stdout",
     "output_type": "stream",
     "text": [
      "Shape X: (31999, 70)\n",
      "Shape y: (31999, 1)\n",
      "Type X: <class 'pandas.core.frame.DataFrame'>\n",
      "Type y: <class 'pandas.core.frame.DataFrame'>\n"
     ]
    }
   ],
   "source": [
    "print(\"Shape X:\", X.shape)\n",
    "print(\"Shape y:\", y.shape)\n",
    "print(\"Type X:\", type(X))\n",
    "print(\"Type y:\", type(y))"
   ]
  },
  {
   "cell_type": "code",
   "execution_count": 167,
   "metadata": {
    "scrolled": true
   },
   "outputs": [
    {
     "data": {
      "text/html": [
       "<div>\n",
       "<style scoped>\n",
       "    .dataframe tbody tr th:only-of-type {\n",
       "        vertical-align: middle;\n",
       "    }\n",
       "\n",
       "    .dataframe tbody tr th {\n",
       "        vertical-align: top;\n",
       "    }\n",
       "\n",
       "    .dataframe thead th {\n",
       "        text-align: right;\n",
       "    }\n",
       "</style>\n",
       "<table border=\"1\" class=\"dataframe\">\n",
       "  <thead>\n",
       "    <tr style=\"text-align: right;\">\n",
       "      <th></th>\n",
       "      <th>precio_usd</th>\n",
       "      <th>prop_apartment</th>\n",
       "      <th>prop_house</th>\n",
       "      <th>prop_store</th>\n",
       "      <th>size_normal</th>\n",
       "      <th>size_xl</th>\n",
       "      <th>superficie_m2</th>\n",
       "      <th>ambientes</th>\n",
       "      <th>amenities</th>\n",
       "      <th>loc_Agronomía</th>\n",
       "      <th>...</th>\n",
       "      <th>loc_Villa Lugano</th>\n",
       "      <th>loc_Villa Luro</th>\n",
       "      <th>loc_Villa Ortuzar</th>\n",
       "      <th>loc_Villa Pueyrredón</th>\n",
       "      <th>loc_Villa Real</th>\n",
       "      <th>loc_Villa Riachuelo</th>\n",
       "      <th>loc_Villa Santa Rita</th>\n",
       "      <th>loc_Villa Soldati</th>\n",
       "      <th>loc_Villa Urquiza</th>\n",
       "      <th>loc_Villa del Parque</th>\n",
       "    </tr>\n",
       "  </thead>\n",
       "  <tbody>\n",
       "    <tr>\n",
       "      <th>8278</th>\n",
       "      <td>152000.0</td>\n",
       "      <td>1</td>\n",
       "      <td>0</td>\n",
       "      <td>0</td>\n",
       "      <td>1</td>\n",
       "      <td>0</td>\n",
       "      <td>76.0</td>\n",
       "      <td>4.0</td>\n",
       "      <td>0</td>\n",
       "      <td>0</td>\n",
       "      <td>...</td>\n",
       "      <td>0</td>\n",
       "      <td>0</td>\n",
       "      <td>0</td>\n",
       "      <td>0</td>\n",
       "      <td>0</td>\n",
       "      <td>0</td>\n",
       "      <td>0</td>\n",
       "      <td>0</td>\n",
       "      <td>0</td>\n",
       "      <td>0</td>\n",
       "    </tr>\n",
       "  </tbody>\n",
       "</table>\n",
       "<p>1 rows × 70 columns</p>\n",
       "</div>"
      ],
      "text/plain": [
       "      precio_usd  prop_apartment  prop_house  prop_store  size_normal  \\\n",
       "8278    152000.0               1           0           0            1   \n",
       "\n",
       "      size_xl  superficie_m2  ambientes  amenities  loc_Agronomía  ...  \\\n",
       "8278        0           76.0        4.0          0              0  ...   \n",
       "\n",
       "      loc_Villa Lugano  loc_Villa Luro  loc_Villa Ortuzar  \\\n",
       "8278                 0               0                  0   \n",
       "\n",
       "      loc_Villa Pueyrredón  loc_Villa Real  loc_Villa Riachuelo  \\\n",
       "8278                     0               0                    0   \n",
       "\n",
       "      loc_Villa Santa Rita  loc_Villa Soldati  loc_Villa Urquiza  \\\n",
       "8278                     0                  0                  0   \n",
       "\n",
       "      loc_Villa del Parque  \n",
       "8278                     0  \n",
       "\n",
       "[1 rows x 70 columns]"
      ]
     },
     "execution_count": 167,
     "metadata": {},
     "output_type": "execute_result"
    }
   ],
   "source": [
    "X.sample()"
   ]
  },
  {
   "cell_type": "code",
   "execution_count": 168,
   "metadata": {
    "scrolled": true
   },
   "outputs": [
    {
     "data": {
      "text/html": [
       "<div>\n",
       "<style scoped>\n",
       "    .dataframe tbody tr th:only-of-type {\n",
       "        vertical-align: middle;\n",
       "    }\n",
       "\n",
       "    .dataframe tbody tr th {\n",
       "        vertical-align: top;\n",
       "    }\n",
       "\n",
       "    .dataframe thead th {\n",
       "        text-align: right;\n",
       "    }\n",
       "</style>\n",
       "<table border=\"1\" class=\"dataframe\">\n",
       "  <thead>\n",
       "    <tr style=\"text-align: right;\">\n",
       "      <th></th>\n",
       "      <th>usd_m2</th>\n",
       "    </tr>\n",
       "  </thead>\n",
       "  <tbody>\n",
       "    <tr>\n",
       "      <th>0</th>\n",
       "      <td>1127.272727</td>\n",
       "    </tr>\n",
       "    <tr>\n",
       "      <th>1</th>\n",
       "      <td>1309.090909</td>\n",
       "    </tr>\n",
       "    <tr>\n",
       "      <th>2</th>\n",
       "      <td>951.223001</td>\n",
       "    </tr>\n",
       "    <tr>\n",
       "      <th>3</th>\n",
       "      <td>3066.666667</td>\n",
       "    </tr>\n",
       "    <tr>\n",
       "      <th>4</th>\n",
       "      <td>3000.000000</td>\n",
       "    </tr>\n",
       "  </tbody>\n",
       "</table>\n",
       "</div>"
      ],
      "text/plain": [
       "        usd_m2\n",
       "0  1127.272727\n",
       "1  1309.090909\n",
       "2   951.223001\n",
       "3  3066.666667\n",
       "4  3000.000000"
      ]
     },
     "execution_count": 168,
     "metadata": {},
     "output_type": "execute_result"
    }
   ],
   "source": [
    "y.head()"
   ]
  },
  {
   "cell_type": "markdown",
   "metadata": {},
   "source": [
    "### 6. División de dataset en train-test para validación de modelo"
   ]
  },
  {
   "cell_type": "markdown",
   "metadata": {},
   "source": [
    "Creamos una columna para estatificar, y splitear con ella."
   ]
  },
  {
   "cell_type": "code",
   "execution_count": 169,
   "metadata": {
    "scrolled": true
   },
   "outputs": [
    {
     "name": "stderr",
     "output_type": "stream",
     "text": [
      "C:\\Users\\mmili\\.conda\\envs\\manu\\lib\\site-packages\\ipykernel_launcher.py:1: SettingWithCopyWarning:\n",
      "\n",
      "\n",
      "A value is trying to be set on a copy of a slice from a DataFrame.\n",
      "Try using .loc[row_indexer,col_indexer] = value instead\n",
      "\n",
      "See the caveats in the documentation: https://pandas.pydata.org/pandas-docs/stable/user_guide/indexing.html#returning-a-view-versus-a-copy\n",
      "\n"
     ]
    }
   ],
   "source": [
    "X['usd_stratify'] = pd.qcut(X['precio_usd'],4,labels=[1,2,3,4])\n",
    "\n",
    "X = X[[x for x in X.columns if (x!='precio_usd')]]"
   ]
  },
  {
   "cell_type": "markdown",
   "metadata": {},
   "source": [
    "Dividimos en train-test"
   ]
  },
  {
   "cell_type": "code",
   "execution_count": 170,
   "metadata": {},
   "outputs": [
    {
     "name": "stdout",
     "output_type": "stream",
     "text": [
      "(25599, 70) (25599, 1)\n",
      "(6400, 70) (6400, 1)\n"
     ]
    }
   ],
   "source": [
    "X_train, X_test, y_train, y_test = train_test_split(X, y, stratify=X['usd_stratify'],test_size=0.2, random_state=0)\n",
    "\n",
    "print(X_train.shape, y_train.shape)\n",
    "print(X_test.shape, y_test.shape)"
   ]
  },
  {
   "cell_type": "code",
   "execution_count": 171,
   "metadata": {},
   "outputs": [
    {
     "name": "stderr",
     "output_type": "stream",
     "text": [
      "C:\\Users\\mmili\\.conda\\envs\\manu\\lib\\site-packages\\pandas\\core\\frame.py:3997: SettingWithCopyWarning:\n",
      "\n",
      "\n",
      "A value is trying to be set on a copy of a slice from a DataFrame\n",
      "\n",
      "See the caveats in the documentation: https://pandas.pydata.org/pandas-docs/stable/user_guide/indexing.html#returning-a-view-versus-a-copy\n",
      "\n"
     ]
    }
   ],
   "source": [
    "X_train.drop('usd_stratify', axis=1, inplace=True)\n",
    "X_test.drop('usd_stratify', axis=1, inplace=True)"
   ]
  },
  {
   "cell_type": "markdown",
   "metadata": {},
   "source": [
    "### 7. Normalización de variables por estandarización para el set de train\n",
    "\n",
    "Apliquemos estandarización, transformando las variables para que tengan media 0 $(\\mu = 0)$ y desvío estándar 1 $(\\sigma = 1)$, aplicando la fórmula:\n",
    "\n",
    "$$ x' = \\frac{x - \\mu}{\\sigma}$$"
   ]
  },
  {
   "cell_type": "markdown",
   "metadata": {},
   "source": [
    "Estandarizamos feautures:"
   ]
  },
  {
   "cell_type": "code",
   "execution_count": 172,
   "metadata": {},
   "outputs": [
    {
     "data": {
      "text/html": [
       "<div>\n",
       "<style scoped>\n",
       "    .dataframe tbody tr th:only-of-type {\n",
       "        vertical-align: middle;\n",
       "    }\n",
       "\n",
       "    .dataframe tbody tr th {\n",
       "        vertical-align: top;\n",
       "    }\n",
       "\n",
       "    .dataframe thead th {\n",
       "        text-align: right;\n",
       "    }\n",
       "</style>\n",
       "<table border=\"1\" class=\"dataframe\">\n",
       "  <thead>\n",
       "    <tr style=\"text-align: right;\">\n",
       "      <th></th>\n",
       "      <th>prop_apartment</th>\n",
       "      <th>prop_house</th>\n",
       "      <th>prop_store</th>\n",
       "      <th>size_normal</th>\n",
       "      <th>size_xl</th>\n",
       "      <th>superficie_m2</th>\n",
       "      <th>ambientes</th>\n",
       "      <th>amenities</th>\n",
       "      <th>loc_Agronomía</th>\n",
       "      <th>loc_Almagro</th>\n",
       "      <th>...</th>\n",
       "      <th>loc_Villa Lugano</th>\n",
       "      <th>loc_Villa Luro</th>\n",
       "      <th>loc_Villa Ortuzar</th>\n",
       "      <th>loc_Villa Pueyrredón</th>\n",
       "      <th>loc_Villa Real</th>\n",
       "      <th>loc_Villa Riachuelo</th>\n",
       "      <th>loc_Villa Santa Rita</th>\n",
       "      <th>loc_Villa Soldati</th>\n",
       "      <th>loc_Villa Urquiza</th>\n",
       "      <th>loc_Villa del Parque</th>\n",
       "    </tr>\n",
       "  </thead>\n",
       "  <tbody>\n",
       "    <tr>\n",
       "      <th>22595</th>\n",
       "      <td>1</td>\n",
       "      <td>0</td>\n",
       "      <td>0</td>\n",
       "      <td>1</td>\n",
       "      <td>0</td>\n",
       "      <td>32.0</td>\n",
       "      <td>2.486814</td>\n",
       "      <td>1</td>\n",
       "      <td>0</td>\n",
       "      <td>0</td>\n",
       "      <td>...</td>\n",
       "      <td>0</td>\n",
       "      <td>0</td>\n",
       "      <td>0</td>\n",
       "      <td>0</td>\n",
       "      <td>0</td>\n",
       "      <td>0</td>\n",
       "      <td>0</td>\n",
       "      <td>0</td>\n",
       "      <td>0</td>\n",
       "      <td>0</td>\n",
       "    </tr>\n",
       "    <tr>\n",
       "      <th>2279</th>\n",
       "      <td>1</td>\n",
       "      <td>0</td>\n",
       "      <td>0</td>\n",
       "      <td>0</td>\n",
       "      <td>0</td>\n",
       "      <td>483.0</td>\n",
       "      <td>6.000000</td>\n",
       "      <td>1</td>\n",
       "      <td>0</td>\n",
       "      <td>0</td>\n",
       "      <td>...</td>\n",
       "      <td>0</td>\n",
       "      <td>0</td>\n",
       "      <td>0</td>\n",
       "      <td>0</td>\n",
       "      <td>0</td>\n",
       "      <td>0</td>\n",
       "      <td>0</td>\n",
       "      <td>0</td>\n",
       "      <td>0</td>\n",
       "      <td>0</td>\n",
       "    </tr>\n",
       "    <tr>\n",
       "      <th>29149</th>\n",
       "      <td>1</td>\n",
       "      <td>0</td>\n",
       "      <td>0</td>\n",
       "      <td>1</td>\n",
       "      <td>0</td>\n",
       "      <td>30.0</td>\n",
       "      <td>2.486814</td>\n",
       "      <td>1</td>\n",
       "      <td>0</td>\n",
       "      <td>0</td>\n",
       "      <td>...</td>\n",
       "      <td>0</td>\n",
       "      <td>0</td>\n",
       "      <td>0</td>\n",
       "      <td>0</td>\n",
       "      <td>0</td>\n",
       "      <td>0</td>\n",
       "      <td>0</td>\n",
       "      <td>0</td>\n",
       "      <td>0</td>\n",
       "      <td>0</td>\n",
       "    </tr>\n",
       "    <tr>\n",
       "      <th>14613</th>\n",
       "      <td>1</td>\n",
       "      <td>0</td>\n",
       "      <td>0</td>\n",
       "      <td>1</td>\n",
       "      <td>0</td>\n",
       "      <td>37.0</td>\n",
       "      <td>3.000000</td>\n",
       "      <td>1</td>\n",
       "      <td>0</td>\n",
       "      <td>0</td>\n",
       "      <td>...</td>\n",
       "      <td>0</td>\n",
       "      <td>0</td>\n",
       "      <td>0</td>\n",
       "      <td>0</td>\n",
       "      <td>0</td>\n",
       "      <td>0</td>\n",
       "      <td>0</td>\n",
       "      <td>0</td>\n",
       "      <td>0</td>\n",
       "      <td>0</td>\n",
       "    </tr>\n",
       "    <tr>\n",
       "      <th>2631</th>\n",
       "      <td>1</td>\n",
       "      <td>0</td>\n",
       "      <td>0</td>\n",
       "      <td>1</td>\n",
       "      <td>0</td>\n",
       "      <td>112.0</td>\n",
       "      <td>4.000000</td>\n",
       "      <td>0</td>\n",
       "      <td>0</td>\n",
       "      <td>1</td>\n",
       "      <td>...</td>\n",
       "      <td>0</td>\n",
       "      <td>0</td>\n",
       "      <td>0</td>\n",
       "      <td>0</td>\n",
       "      <td>0</td>\n",
       "      <td>0</td>\n",
       "      <td>0</td>\n",
       "      <td>0</td>\n",
       "      <td>0</td>\n",
       "      <td>0</td>\n",
       "    </tr>\n",
       "  </tbody>\n",
       "</table>\n",
       "<p>5 rows × 69 columns</p>\n",
       "</div>"
      ],
      "text/plain": [
       "       prop_apartment  prop_house  prop_store  size_normal  size_xl  \\\n",
       "22595               1           0           0            1        0   \n",
       "2279                1           0           0            0        0   \n",
       "29149               1           0           0            1        0   \n",
       "14613               1           0           0            1        0   \n",
       "2631                1           0           0            1        0   \n",
       "\n",
       "       superficie_m2  ambientes  amenities  loc_Agronomía  loc_Almagro  ...  \\\n",
       "22595           32.0   2.486814          1              0            0  ...   \n",
       "2279           483.0   6.000000          1              0            0  ...   \n",
       "29149           30.0   2.486814          1              0            0  ...   \n",
       "14613           37.0   3.000000          1              0            0  ...   \n",
       "2631           112.0   4.000000          0              0            1  ...   \n",
       "\n",
       "       loc_Villa Lugano  loc_Villa Luro  loc_Villa Ortuzar  \\\n",
       "22595                 0               0                  0   \n",
       "2279                  0               0                  0   \n",
       "29149                 0               0                  0   \n",
       "14613                 0               0                  0   \n",
       "2631                  0               0                  0   \n",
       "\n",
       "       loc_Villa Pueyrredón  loc_Villa Real  loc_Villa Riachuelo  \\\n",
       "22595                     0               0                    0   \n",
       "2279                      0               0                    0   \n",
       "29149                     0               0                    0   \n",
       "14613                     0               0                    0   \n",
       "2631                      0               0                    0   \n",
       "\n",
       "       loc_Villa Santa Rita  loc_Villa Soldati  loc_Villa Urquiza  \\\n",
       "22595                     0                  0                  0   \n",
       "2279                      0                  0                  0   \n",
       "29149                     0                  0                  0   \n",
       "14613                     0                  0                  0   \n",
       "2631                      0                  0                  0   \n",
       "\n",
       "       loc_Villa del Parque  \n",
       "22595                     0  \n",
       "2279                      0  \n",
       "29149                     0  \n",
       "14613                     0  \n",
       "2631                      0  \n",
       "\n",
       "[5 rows x 69 columns]"
      ]
     },
     "execution_count": 172,
     "metadata": {},
     "output_type": "execute_result"
    }
   ],
   "source": [
    "X_train.head()"
   ]
  },
  {
   "cell_type": "code",
   "execution_count": 173,
   "metadata": {},
   "outputs": [],
   "source": [
    "# Fiteamos el estandarizador y estandarizamos con X_train\n",
    "\n",
    "stdscaler_X = preprocessing.StandardScaler()\n",
    "X_train_scaled = stdscaler_X.fit_transform(X_train)\n",
    "X_train = pd.DataFrame(X_train_scaled, columns=X_train.columns)\n",
    "\n",
    "# Estandarizamos X_test con el estandarizador fiteado con X_train\n",
    "\n",
    "X_test_scaled = stdscaler_X.transform(X_test)\n",
    "X_test = pd.DataFrame(X_test_scaled, columns=X_test.columns)\n",
    "\n",
    "#UTILIZAR INVERSE_TRANSFORM PARA ANALIZAR LOS DATOS OBTENIDOS POSTERIORMENTE\n"
   ]
  },
  {
   "cell_type": "markdown",
   "metadata": {},
   "source": [
    "Estandarizamos target y lo centramos con una fución logarítmica, ya que su distribución es asimétrica con cola a la derecha:\n"
   ]
  },
  {
   "cell_type": "code",
   "execution_count": 174,
   "metadata": {},
   "outputs": [],
   "source": [
    "y_train = np.log(y_train)\n",
    "y_test = np.log(y_test)"
   ]
  },
  {
   "cell_type": "code",
   "execution_count": 175,
   "metadata": {},
   "outputs": [],
   "source": [
    "# Fiteamos el estandarizador y estandarizamos con y_train\n",
    "\n",
    "stdscaler_y = preprocessing.StandardScaler()\n",
    "y_train_scaled = stdscaler_y.fit_transform(y_train)\n",
    "y_train = pd.DataFrame(y_train_scaled, columns=y_train.columns)\n",
    "\n",
    "# Estandarizamos y_test con el estandarizador fiteado con y_train\n",
    "\n",
    "y_test_scaled = stdscaler_y.transform(y_test)\n",
    "y_test = pd.DataFrame(y_test_scaled, columns=y_test.columns)\n",
    "\n",
    "#UTILIZAR INVERSE_TRANSFORM PARA ANALIZAR LOS DATOS OBTENIDOS POSTERIORMENTE"
   ]
  },
  {
   "cell_type": "markdown",
   "metadata": {},
   "source": [
    "Vemos que todo esté bien"
   ]
  },
  {
   "cell_type": "markdown",
   "metadata": {},
   "source": [
    "Verificamos que estén normalizadas y verificamos que:\n",
    "\n",
    "   + $\\bar{x_{j}} \\approx 0$\n",
    "    \n",
    "   + $s_{j}=1.00002$"
   ]
  },
  {
   "cell_type": "code",
   "execution_count": 176,
   "metadata": {
    "scrolled": true
   },
   "outputs": [
    {
     "data": {
      "text/html": [
       "<div>\n",
       "<style scoped>\n",
       "    .dataframe tbody tr th:only-of-type {\n",
       "        vertical-align: middle;\n",
       "    }\n",
       "\n",
       "    .dataframe tbody tr th {\n",
       "        vertical-align: top;\n",
       "    }\n",
       "\n",
       "    .dataframe thead th {\n",
       "        text-align: right;\n",
       "    }\n",
       "</style>\n",
       "<table border=\"1\" class=\"dataframe\">\n",
       "  <thead>\n",
       "    <tr style=\"text-align: right;\">\n",
       "      <th></th>\n",
       "      <th>mean</th>\n",
       "      <th>std</th>\n",
       "    </tr>\n",
       "  </thead>\n",
       "  <tbody>\n",
       "    <tr>\n",
       "      <th>prop_apartment</th>\n",
       "      <td>1.312890e-16</td>\n",
       "      <td>1.00002</td>\n",
       "    </tr>\n",
       "    <tr>\n",
       "      <th>prop_house</th>\n",
       "      <td>-2.525856e-17</td>\n",
       "      <td>1.00002</td>\n",
       "    </tr>\n",
       "    <tr>\n",
       "      <th>prop_store</th>\n",
       "      <td>2.886693e-17</td>\n",
       "      <td>1.00002</td>\n",
       "    </tr>\n",
       "    <tr>\n",
       "      <th>size_normal</th>\n",
       "      <td>2.567491e-16</td>\n",
       "      <td>1.00002</td>\n",
       "    </tr>\n",
       "    <tr>\n",
       "      <th>size_xl</th>\n",
       "      <td>-1.332320e-17</td>\n",
       "      <td>1.00002</td>\n",
       "    </tr>\n",
       "    <tr>\n",
       "      <th>...</th>\n",
       "      <td>...</td>\n",
       "      <td>...</td>\n",
       "    </tr>\n",
       "    <tr>\n",
       "      <th>loc_Villa Riachuelo</th>\n",
       "      <td>-6.314640e-18</td>\n",
       "      <td>1.00002</td>\n",
       "    </tr>\n",
       "    <tr>\n",
       "      <th>loc_Villa Santa Rita</th>\n",
       "      <td>9.853614e-18</td>\n",
       "      <td>1.00002</td>\n",
       "    </tr>\n",
       "    <tr>\n",
       "      <th>loc_Villa Soldati</th>\n",
       "      <td>-9.714831e-18</td>\n",
       "      <td>1.00002</td>\n",
       "    </tr>\n",
       "    <tr>\n",
       "      <th>loc_Villa Urquiza</th>\n",
       "      <td>3.185077e-17</td>\n",
       "      <td>1.00002</td>\n",
       "    </tr>\n",
       "    <tr>\n",
       "      <th>loc_Villa del Parque</th>\n",
       "      <td>1.484981e-17</td>\n",
       "      <td>1.00002</td>\n",
       "    </tr>\n",
       "  </tbody>\n",
       "</table>\n",
       "<p>69 rows × 2 columns</p>\n",
       "</div>"
      ],
      "text/plain": [
       "                              mean      std\n",
       "prop_apartment        1.312890e-16  1.00002\n",
       "prop_house           -2.525856e-17  1.00002\n",
       "prop_store            2.886693e-17  1.00002\n",
       "size_normal           2.567491e-16  1.00002\n",
       "size_xl              -1.332320e-17  1.00002\n",
       "...                            ...      ...\n",
       "loc_Villa Riachuelo  -6.314640e-18  1.00002\n",
       "loc_Villa Santa Rita  9.853614e-18  1.00002\n",
       "loc_Villa Soldati    -9.714831e-18  1.00002\n",
       "loc_Villa Urquiza     3.185077e-17  1.00002\n",
       "loc_Villa del Parque  1.484981e-17  1.00002\n",
       "\n",
       "[69 rows x 2 columns]"
      ]
     },
     "execution_count": 176,
     "metadata": {},
     "output_type": "execute_result"
    }
   ],
   "source": [
    "X_train.apply(['mean','std']).T"
   ]
  },
  {
   "cell_type": "code",
   "execution_count": 177,
   "metadata": {},
   "outputs": [
    {
     "data": {
      "text/html": [
       "<div>\n",
       "<style scoped>\n",
       "    .dataframe tbody tr th:only-of-type {\n",
       "        vertical-align: middle;\n",
       "    }\n",
       "\n",
       "    .dataframe tbody tr th {\n",
       "        vertical-align: top;\n",
       "    }\n",
       "\n",
       "    .dataframe thead th {\n",
       "        text-align: right;\n",
       "    }\n",
       "</style>\n",
       "<table border=\"1\" class=\"dataframe\">\n",
       "  <thead>\n",
       "    <tr style=\"text-align: right;\">\n",
       "      <th></th>\n",
       "      <th>mean</th>\n",
       "      <th>std</th>\n",
       "    </tr>\n",
       "  </thead>\n",
       "  <tbody>\n",
       "    <tr>\n",
       "      <th>usd_m2</th>\n",
       "      <td>-1.457225e-15</td>\n",
       "      <td>1.00002</td>\n",
       "    </tr>\n",
       "  </tbody>\n",
       "</table>\n",
       "</div>"
      ],
      "text/plain": [
       "                mean      std\n",
       "usd_m2 -1.457225e-15  1.00002"
      ]
     },
     "execution_count": 177,
     "metadata": {},
     "output_type": "execute_result"
    }
   ],
   "source": [
    "y_train.apply(['mean','std']).T"
   ]
  },
  {
   "cell_type": "markdown",
   "metadata": {},
   "source": [
    "## 8. Prueba de distintos modelos (con el set de train) y evaluación de la performance con el set de test (MAE, MSE, RMSE, R2)\n",
    "  \n",
    "b. Con dummies de localización (sin lat-lon)\n",
    "\n",
    "    I)   Sin regularización, descartando variables no significativas con stats model\n",
    "   \n",
    "    II)  Ridge (optimizamos parámetros usando cross-validation de forma automática con k grupos)\n",
    "\n",
    "    III) Lasso (optimizamos parámetros usando cross-validation de forma automática con k grupos)\n",
    "\n",
    "    IV)   Sin regularización pero con PCA previo "
   ]
  },
  {
   "cell_type": "markdown",
   "metadata": {},
   "source": [
    "## 8.b. Con dummies de localización (sin lat-lon)"
   ]
  },
  {
   "cell_type": "markdown",
   "metadata": {},
   "source": [
    "### 8.b. I) Modelo básico de regresión lineal\n",
    "\n",
    "\n",
    "Primero chequeamos que están las columnas 'lat' y 'lon' y para esta parte del ejercicio las borramos tanto del subset \"Train\" como del subset \"Test\""
   ]
  },
  {
   "cell_type": "code",
   "execution_count": 178,
   "metadata": {},
   "outputs": [
    {
     "data": {
      "text/plain": [
       "Index(['prop_apartment', 'prop_house', 'prop_store', 'size_normal', 'size_xl',\n",
       "       'superficie_m2', 'ambientes', 'amenities', 'loc_Agronomía',\n",
       "       'loc_Almagro', 'loc_Balvanera', 'loc_Barracas', 'loc_Barrio Norte',\n",
       "       'loc_Belgrano', 'loc_Boca', 'loc_Boedo', 'loc_Caballito',\n",
       "       'loc_Capital Federal', 'loc_Catalinas', 'loc_Centro / Microcentro',\n",
       "       'loc_Chacarita', 'loc_Coghlan', 'loc_Colegiales', 'loc_Congreso',\n",
       "       'loc_Constitución', 'loc_Flores', 'loc_Floresta', 'loc_Las Cañitas',\n",
       "       'loc_Liniers', 'loc_Mataderos', 'loc_Monserrat', 'loc_Monte Castro',\n",
       "       'loc_Nuñez', 'loc_Once', 'loc_Palermo', 'loc_Palermo Chico',\n",
       "       'loc_Palermo Hollywood', 'loc_Palermo Soho', 'loc_Palermo Viejo',\n",
       "       'loc_Parque Avellaneda', 'loc_Parque Centenario',\n",
       "       'loc_Parque Chacabuco', 'loc_Parque Chas', 'loc_Parque Patricios',\n",
       "       'loc_Paternal', 'loc_Pompeya', 'loc_Puerto Madero', 'loc_Recoleta',\n",
       "       'loc_Retiro', 'loc_Saavedra', 'loc_San Cristobal', 'loc_San Nicolás',\n",
       "       'loc_San Telmo', 'loc_Tribunales', 'loc_Velez Sarsfield',\n",
       "       'loc_Versalles', 'loc_Villa Crespo', 'loc_Villa Devoto',\n",
       "       'loc_Villa General Mitre', 'loc_Villa Lugano', 'loc_Villa Luro',\n",
       "       'loc_Villa Ortuzar', 'loc_Villa Pueyrredón', 'loc_Villa Real',\n",
       "       'loc_Villa Riachuelo', 'loc_Villa Santa Rita', 'loc_Villa Soldati',\n",
       "       'loc_Villa Urquiza', 'loc_Villa del Parque'],\n",
       "      dtype='object')"
      ]
     },
     "execution_count": 178,
     "metadata": {},
     "output_type": "execute_result"
    }
   ],
   "source": [
    "X_train.columns"
   ]
  },
  {
   "cell_type": "markdown",
   "metadata": {},
   "source": [
    "### Analizamos la regresión lineal con statsmodel para eliminar variables con coeficientes no significativos"
   ]
  },
  {
   "cell_type": "markdown",
   "metadata": {},
   "source": [
    "a) Estimamos el modelo sin intercepto ya que para este caso probó no ser significativo"
   ]
  },
  {
   "cell_type": "code",
   "execution_count": 179,
   "metadata": {},
   "outputs": [],
   "source": [
    "import statsmodels.api as sm"
   ]
  },
  {
   "cell_type": "code",
   "execution_count": 180,
   "metadata": {},
   "outputs": [
    {
     "name": "stdout",
     "output_type": "stream",
     "text": [
      "EMC: 0.512735351360031\n",
      "                            OLS Regression Results                            \n",
      "==============================================================================\n",
      "Dep. Variable:                 usd_m2   R-squared:                       0.487\n",
      "Model:                            OLS   Adj. R-squared:                  0.486\n",
      "Method:                 Least Squares   F-statistic:                     351.6\n",
      "Date:                Tue, 05 May 2020   Prob (F-statistic):               0.00\n",
      "Time:                        13:08:41   Log-Likelihood:                -27773.\n",
      "No. Observations:               25599   AIC:                         5.569e+04\n",
      "Df Residuals:                   25529   BIC:                         5.626e+04\n",
      "Df Model:                          69                                         \n",
      "Covariance Type:            nonrobust                                         \n",
      "============================================================================================\n",
      "                               coef    std err          t      P>|t|      [0.025      0.975]\n",
      "--------------------------------------------------------------------------------------------\n",
      "const                    -1.123e-15      0.004  -2.51e-13      1.000      -0.009       0.009\n",
      "prop_apartment               0.1460      0.008     18.906      0.000       0.131       0.161\n",
      "prop_house                  -0.0358      0.007     -5.329      0.000      -0.049      -0.023\n",
      "prop_store                   0.0447      0.006      7.212      0.000       0.033       0.057\n",
      "size_normal                  0.0753      0.005     14.654      0.000       0.065       0.085\n",
      "size_xl                      0.0873      0.005     16.311      0.000       0.077       0.098\n",
      "superficie_m2               -0.2948      0.006    -46.328      0.000      -0.307      -0.282\n",
      "ambientes                   -0.1216      0.005    -23.644      0.000      -0.132      -0.112\n",
      "amenities                    0.0514      0.005     10.832      0.000       0.042       0.061\n",
      "loc_Agronomía                0.0029      0.005      0.546      0.585      -0.007       0.013\n",
      "loc_Almagro                  0.0107      0.015      0.722      0.470      -0.018       0.040\n",
      "loc_Balvanera               -0.0270      0.012     -2.304      0.021      -0.050      -0.004\n",
      "loc_Barracas                -0.0314      0.010     -3.281      0.001      -0.050      -0.013\n",
      "loc_Barrio Norte             0.0865      0.015      5.919      0.000       0.058       0.115\n",
      "loc_Belgrano                 0.1732      0.022      7.848      0.000       0.130       0.216\n",
      "loc_Boca                    -0.0347      0.008     -4.582      0.000      -0.050      -0.020\n",
      "loc_Boedo                    0.2560      0.013     19.421      0.000       0.230       0.282\n",
      "loc_Caballito                0.0538      0.020      2.722      0.006       0.015       0.092\n",
      "loc_Capital Federal         -0.0298      0.016     -1.912      0.056      -0.060       0.001\n",
      "loc_Catalinas                0.0103      0.005      2.260      0.024       0.001       0.019\n",
      "loc_Centro / Microcentro    -0.0005      0.008     -0.065      0.948      -0.015       0.014\n",
      "loc_Chacarita               -0.0001      0.008     -0.019      0.985      -0.015       0.015\n",
      "loc_Coghlan                  0.0257      0.008      3.218      0.001       0.010       0.041\n",
      "loc_Colegiales               0.0365      0.009      4.093      0.000       0.019       0.054\n",
      "loc_Congreso                -0.0294      0.009     -3.457      0.001      -0.046      -0.013\n",
      "loc_Constitución            -0.0407      0.008     -5.365      0.000      -0.056      -0.026\n",
      "loc_Flores                  -0.0256      0.016     -1.641      0.101      -0.056       0.005\n",
      "loc_Floresta                -0.0237      0.010     -2.267      0.023      -0.044      -0.003\n",
      "loc_Las Cañitas              0.0577      0.007      8.545      0.000       0.044       0.071\n",
      "loc_Liniers                 -0.0339      0.010     -3.501      0.000      -0.053      -0.015\n",
      "loc_Mataderos               -0.0565      0.010     -5.884      0.000      -0.075      -0.038\n",
      "loc_Monserrat               -0.0095      0.010     -0.904      0.366      -0.030       0.011\n",
      "loc_Monte Castro            -0.0064      0.006     -1.079      0.280      -0.018       0.005\n",
      "loc_Nuñez                    0.0798      0.012      6.474      0.000       0.056       0.104\n",
      "loc_Once                    -0.0281      0.007     -3.774      0.000      -0.043      -0.014\n",
      "loc_Palermo                  0.1546      0.022      7.066      0.000       0.112       0.198\n",
      "loc_Palermo Chico            0.1203      0.008     15.567      0.000       0.105       0.135\n",
      "loc_Palermo Hollywood        0.0677      0.011      6.379      0.000       0.047       0.088\n",
      "loc_Palermo Soho             0.0563      0.009      5.971      0.000       0.038       0.075\n",
      "loc_Palermo Viejo            0.0279      0.005      5.281      0.000       0.018       0.038\n",
      "loc_Parque Avellaneda       -0.0156      0.005     -2.848      0.004      -0.026      -0.005\n",
      "loc_Parque Centenario        0.0124      0.006      2.193      0.028       0.001       0.023\n",
      "loc_Parque Chacabuco        -0.0159      0.007     -2.341      0.019      -0.029      -0.003\n",
      "loc_Parque Chas              0.0079      0.005      1.478      0.139      -0.003       0.018\n",
      "loc_Parque Patricios        -0.0294      0.009     -3.389      0.001      -0.046      -0.012\n",
      "loc_Paternal                -0.0088      0.007     -1.236      0.216      -0.023       0.005\n",
      "loc_Pompeya                 -0.0378      0.006     -6.705      0.000      -0.049      -0.027\n",
      "loc_Puerto Madero            0.2705      0.011     23.843      0.000       0.248       0.293\n",
      "loc_Recoleta                 0.1443      0.017      8.741      0.000       0.112       0.177\n",
      "loc_Retiro                   0.0295      0.008      3.739      0.000       0.014       0.045\n",
      "loc_Saavedra                 0.0272      0.011      2.549      0.011       0.006       0.048\n",
      "loc_San Cristobal            0.1780      0.011     15.661      0.000       0.156       0.200\n",
      "loc_San Nicolás             -0.0070      0.007     -0.984      0.325      -0.021       0.007\n",
      "loc_San Telmo                0.0170      0.015      1.139      0.255      -0.012       0.046\n",
      "loc_Tribunales              -0.0121      0.006     -1.993      0.046      -0.024      -0.000\n",
      "loc_Velez Sarsfield         -0.0051      0.005     -0.977      0.329      -0.015       0.005\n",
      "loc_Versalles               -0.0040      0.005     -0.737      0.461      -0.015       0.007\n",
      "loc_Villa Crespo             0.0422      0.016      2.704      0.007       0.012       0.073\n",
      "loc_Villa Devoto             0.0139      0.009      1.463      0.144      -0.005       0.032\n",
      "loc_Villa General Mitre     -0.0027      0.005     -0.493      0.622      -0.013       0.008\n",
      "loc_Villa Lugano            -0.0645      0.007     -8.622      0.000      -0.079      -0.050\n",
      "loc_Villa Luro              -0.0029      0.010     -0.301      0.764      -0.022       0.016\n",
      "loc_Villa Ortuzar            0.0082      0.006      1.381      0.167      -0.003       0.020\n",
      "loc_Villa Pueyrredón         0.0040      0.007      0.568      0.570      -0.010       0.018\n",
      "loc_Villa Real              -0.0042      0.005     -0.804      0.421      -0.014       0.006\n",
      "loc_Villa Riachuelo          0.0011      0.005      0.248      0.804      -0.008       0.010\n",
      "loc_Villa Santa Rita        -0.0004      0.005     -0.076      0.940      -0.011       0.010\n",
      "loc_Villa Soldati           -0.0110      0.005     -2.270      0.023      -0.020      -0.001\n",
      "loc_Villa Urquiza            0.0614      0.017      3.578      0.000       0.028       0.095\n",
      "loc_Villa del Parque         0.0182      0.010      1.781      0.075      -0.002       0.038\n",
      "==============================================================================\n",
      "Omnibus:                     3693.822   Durbin-Watson:                   1.993\n",
      "Prob(Omnibus):                  0.000   Jarque-Bera (JB):            57384.349\n",
      "Skew:                          -0.037   Prob(JB):                         0.00\n",
      "Kurtosis:                      10.334   Cond. No.                         25.9\n",
      "==============================================================================\n",
      "\n",
      "Warnings:\n",
      "[1] Standard Errors assume that the covariance matrix of the errors is correctly specified.\n"
     ]
    }
   ],
   "source": [
    "X = X_train \n",
    "\n",
    "y = y_train[['usd_m2']]\n",
    "\n",
    "X = sm.add_constant(X)\n",
    "\n",
    "model = sm.OLS(y, X).fit()\n",
    "predictions = model.predict(X)\n",
    "# Imprimimos el MSE y un resumen del modelo\n",
    "print (\"EMC:\", mean_squared_error(y, predictions))\n",
    "print (model.summary())"
   ]
  },
  {
   "cell_type": "markdown",
   "metadata": {},
   "source": [
    "Hay algunas variables cuyo p-value mayor a 0,05 hace que tengan una asociación con el y target que puede ser producto del azar así que las eliminamos"
   ]
  },
  {
   "cell_type": "code",
   "execution_count": 181,
   "metadata": {
    "scrolled": true
   },
   "outputs": [
    {
     "data": {
      "text/html": [
       "<div>\n",
       "<style scoped>\n",
       "    .dataframe tbody tr th:only-of-type {\n",
       "        vertical-align: middle;\n",
       "    }\n",
       "\n",
       "    .dataframe tbody tr th {\n",
       "        vertical-align: top;\n",
       "    }\n",
       "\n",
       "    .dataframe thead th {\n",
       "        text-align: right;\n",
       "    }\n",
       "</style>\n",
       "<table border=\"1\" class=\"dataframe\">\n",
       "  <thead>\n",
       "    <tr style=\"text-align: right;\">\n",
       "      <th></th>\n",
       "      <th>beta</th>\n",
       "      <th>coef</th>\n",
       "      <th>std_err</th>\n",
       "      <th>t</th>\n",
       "      <th>P_value_t</th>\n",
       "      <th>[0.025</th>\n",
       "      <th>0.975]</th>\n",
       "    </tr>\n",
       "  </thead>\n",
       "  <tbody>\n",
       "    <tr>\n",
       "      <th>1</th>\n",
       "      <td>const</td>\n",
       "      <td>-1.123e-15</td>\n",
       "      <td>0.004</td>\n",
       "      <td>-2.51e-13</td>\n",
       "      <td>1.000</td>\n",
       "      <td>-0.009</td>\n",
       "      <td>0.009</td>\n",
       "    </tr>\n",
       "    <tr>\n",
       "      <th>2</th>\n",
       "      <td>prop_apartment</td>\n",
       "      <td>0.1460</td>\n",
       "      <td>0.008</td>\n",
       "      <td>18.906</td>\n",
       "      <td>0.000</td>\n",
       "      <td>0.131</td>\n",
       "      <td>0.161</td>\n",
       "    </tr>\n",
       "    <tr>\n",
       "      <th>3</th>\n",
       "      <td>prop_house</td>\n",
       "      <td>-0.0358</td>\n",
       "      <td>0.007</td>\n",
       "      <td>-5.329</td>\n",
       "      <td>0.000</td>\n",
       "      <td>-0.049</td>\n",
       "      <td>-0.023</td>\n",
       "    </tr>\n",
       "    <tr>\n",
       "      <th>4</th>\n",
       "      <td>prop_store</td>\n",
       "      <td>0.0447</td>\n",
       "      <td>0.006</td>\n",
       "      <td>7.212</td>\n",
       "      <td>0.000</td>\n",
       "      <td>0.033</td>\n",
       "      <td>0.057</td>\n",
       "    </tr>\n",
       "    <tr>\n",
       "      <th>5</th>\n",
       "      <td>size_normal</td>\n",
       "      <td>0.0753</td>\n",
       "      <td>0.005</td>\n",
       "      <td>14.654</td>\n",
       "      <td>0.000</td>\n",
       "      <td>0.065</td>\n",
       "      <td>0.085</td>\n",
       "    </tr>\n",
       "  </tbody>\n",
       "</table>\n",
       "</div>"
      ],
      "text/plain": [
       "             beta        coef    std_err          t P_value_t     [0.025  \\\n",
       "1           const  -1.123e-15      0.004  -2.51e-13     1.000     -0.009   \n",
       "2  prop_apartment      0.1460      0.008     18.906     0.000      0.131   \n",
       "3      prop_house     -0.0358      0.007     -5.329     0.000     -0.049   \n",
       "4      prop_store      0.0447      0.006      7.212     0.000      0.033   \n",
       "5     size_normal      0.0753      0.005     14.654     0.000      0.065   \n",
       "\n",
       "      0.975]  \n",
       "1      0.009  \n",
       "2      0.161  \n",
       "3     -0.023  \n",
       "4      0.057  \n",
       "5      0.085  "
      ]
     },
     "execution_count": 181,
     "metadata": {},
     "output_type": "execute_result"
    }
   ],
   "source": [
    "# vemos la tabla 1 que nos muestra los p-value\n",
    "sumario = pd.DataFrame(model.summary().tables[1],columns=['beta','coef','std_err','t','P_value_t','[0.025','0.975]'])[1:]\n",
    "sumario.head()"
   ]
  },
  {
   "cell_type": "markdown",
   "metadata": {},
   "source": [
    "tanto las tablas como las celdas son objetos de stats models, por lo que los vamos a convertir en algo que podamos trabajar"
   ]
  },
  {
   "cell_type": "code",
   "execution_count": 182,
   "metadata": {},
   "outputs": [],
   "source": [
    "# para toda la columna de p_value\n",
    "sumario.P_value_t = [float(sumario.P_value_t.iloc[x].data) for x in range(len(sumario))]"
   ]
  },
  {
   "cell_type": "code",
   "execution_count": 183,
   "metadata": {},
   "outputs": [],
   "source": [
    "# para toda la columna beta, convertimos los objetos model en strings\n",
    "sumario.beta = [str(sumario.beta.iloc[x].data) for x in range(len(sumario))]"
   ]
  },
  {
   "cell_type": "code",
   "execution_count": 184,
   "metadata": {},
   "outputs": [],
   "source": [
    "sumario.reset_index(inplace=True,drop=True)"
   ]
  },
  {
   "cell_type": "code",
   "execution_count": 185,
   "metadata": {},
   "outputs": [
    {
     "data": {
      "text/html": [
       "<div>\n",
       "<style scoped>\n",
       "    .dataframe tbody tr th:only-of-type {\n",
       "        vertical-align: middle;\n",
       "    }\n",
       "\n",
       "    .dataframe tbody tr th {\n",
       "        vertical-align: top;\n",
       "    }\n",
       "\n",
       "    .dataframe thead th {\n",
       "        text-align: right;\n",
       "    }\n",
       "</style>\n",
       "<table border=\"1\" class=\"dataframe\">\n",
       "  <thead>\n",
       "    <tr style=\"text-align: right;\">\n",
       "      <th></th>\n",
       "      <th>beta</th>\n",
       "      <th>coef</th>\n",
       "      <th>std_err</th>\n",
       "      <th>t</th>\n",
       "      <th>P_value_t</th>\n",
       "      <th>[0.025</th>\n",
       "      <th>0.975]</th>\n",
       "    </tr>\n",
       "  </thead>\n",
       "  <tbody>\n",
       "    <tr>\n",
       "      <th>0</th>\n",
       "      <td>const</td>\n",
       "      <td>-1.123e-15</td>\n",
       "      <td>0.004</td>\n",
       "      <td>-2.51e-13</td>\n",
       "      <td>1.0</td>\n",
       "      <td>-0.009</td>\n",
       "      <td>0.009</td>\n",
       "    </tr>\n",
       "    <tr>\n",
       "      <th>1</th>\n",
       "      <td>prop_apartment</td>\n",
       "      <td>0.1460</td>\n",
       "      <td>0.008</td>\n",
       "      <td>18.906</td>\n",
       "      <td>0.0</td>\n",
       "      <td>0.131</td>\n",
       "      <td>0.161</td>\n",
       "    </tr>\n",
       "    <tr>\n",
       "      <th>2</th>\n",
       "      <td>prop_house</td>\n",
       "      <td>-0.0358</td>\n",
       "      <td>0.007</td>\n",
       "      <td>-5.329</td>\n",
       "      <td>0.0</td>\n",
       "      <td>-0.049</td>\n",
       "      <td>-0.023</td>\n",
       "    </tr>\n",
       "    <tr>\n",
       "      <th>3</th>\n",
       "      <td>prop_store</td>\n",
       "      <td>0.0447</td>\n",
       "      <td>0.006</td>\n",
       "      <td>7.212</td>\n",
       "      <td>0.0</td>\n",
       "      <td>0.033</td>\n",
       "      <td>0.057</td>\n",
       "    </tr>\n",
       "    <tr>\n",
       "      <th>4</th>\n",
       "      <td>size_normal</td>\n",
       "      <td>0.0753</td>\n",
       "      <td>0.005</td>\n",
       "      <td>14.654</td>\n",
       "      <td>0.0</td>\n",
       "      <td>0.065</td>\n",
       "      <td>0.085</td>\n",
       "    </tr>\n",
       "  </tbody>\n",
       "</table>\n",
       "</div>"
      ],
      "text/plain": [
       "             beta        coef    std_err          t  P_value_t     [0.025  \\\n",
       "0           const  -1.123e-15      0.004  -2.51e-13        1.0     -0.009   \n",
       "1  prop_apartment      0.1460      0.008     18.906        0.0      0.131   \n",
       "2      prop_house     -0.0358      0.007     -5.329        0.0     -0.049   \n",
       "3      prop_store      0.0447      0.006      7.212        0.0      0.033   \n",
       "4     size_normal      0.0753      0.005     14.654        0.0      0.065   \n",
       "\n",
       "      0.975]  \n",
       "0      0.009  \n",
       "1      0.161  \n",
       "2     -0.023  \n",
       "3      0.057  \n",
       "4      0.085  "
      ]
     },
     "execution_count": 185,
     "metadata": {},
     "output_type": "execute_result"
    }
   ],
   "source": [
    "sumario.head()"
   ]
  },
  {
   "cell_type": "code",
   "execution_count": 186,
   "metadata": {},
   "outputs": [
    {
     "data": {
      "text/plain": [
       "(70, 7)"
      ]
     },
     "execution_count": 186,
     "metadata": {},
     "output_type": "execute_result"
    }
   ],
   "source": [
    "# menos la constante son 1364 filas (o sea features/columnas)\n",
    "sumario.shape"
   ]
  },
  {
   "cell_type": "code",
   "execution_count": 187,
   "metadata": {},
   "outputs": [
    {
     "data": {
      "text/plain": [
       "(46, 7)"
      ]
     },
     "execution_count": 187,
     "metadata": {},
     "output_type": "execute_result"
    }
   ],
   "source": [
    "# con p_value mayor a 0.05 hay la mitad mas o menos\n",
    "sumario.loc[sumario.P_value_t < 0.05].shape"
   ]
  },
  {
   "cell_type": "code",
   "execution_count": 188,
   "metadata": {},
   "outputs": [
    {
     "data": {
      "text/plain": [
       "46"
      ]
     },
     "execution_count": 188,
     "metadata": {},
     "output_type": "execute_result"
    }
   ],
   "source": [
    "# nos armamos una lista de features que dropeamos\n",
    "betas_ok = sumario.loc[sumario.P_value_t < 0.05].beta.unique()\n",
    "\n",
    "lista_betas = list(betas_ok)\n",
    "\n",
    "len(list(betas_ok))"
   ]
  },
  {
   "cell_type": "code",
   "execution_count": 189,
   "metadata": {},
   "outputs": [
    {
     "data": {
      "text/plain": [
       "array(['prop_apartment', 'prop_house', 'prop_store', 'size_normal',\n",
       "       'size_xl', 'superficie_m2', 'ambientes', 'amenities',\n",
       "       'loc_Balvanera', 'loc_Barracas', 'loc_Barrio Norte',\n",
       "       'loc_Belgrano', 'loc_Boca', 'loc_Boedo', 'loc_Caballito',\n",
       "       'loc_Catalinas', 'loc_Coghlan', 'loc_Colegiales', 'loc_Congreso',\n",
       "       'loc_Constitución', 'loc_Floresta', 'loc_Las Cañitas',\n",
       "       'loc_Liniers', 'loc_Mataderos', 'loc_Nuñez', 'loc_Once',\n",
       "       'loc_Palermo', 'loc_Palermo Chico', 'loc_Palermo Hollywood',\n",
       "       'loc_Palermo Soho', 'loc_Palermo Viejo', 'loc_Parque Avellaneda',\n",
       "       'loc_Parque Centenario', 'loc_Parque Chacabuco',\n",
       "       'loc_Parque Patricios', 'loc_Pompeya', 'loc_Puerto Madero',\n",
       "       'loc_Recoleta', 'loc_Retiro', 'loc_Saavedra', 'loc_San Cristobal',\n",
       "       'loc_Tribunales', 'loc_Villa Crespo', 'loc_Villa Lugano',\n",
       "       'loc_Villa Soldati', 'loc_Villa Urquiza'], dtype=object)"
      ]
     },
     "execution_count": 189,
     "metadata": {},
     "output_type": "execute_result"
    }
   ],
   "source": [
    "betas_ok"
   ]
  },
  {
   "cell_type": "code",
   "execution_count": 190,
   "metadata": {},
   "outputs": [],
   "source": [
    "X_train = X.loc[:,lista_betas]"
   ]
  },
  {
   "cell_type": "markdown",
   "metadata": {},
   "source": [
    "Después de sacar del modelo las variables que no son significativas corremos de nuevo el modelo"
   ]
  },
  {
   "cell_type": "code",
   "execution_count": 191,
   "metadata": {},
   "outputs": [
    {
     "name": "stdout",
     "output_type": "stream",
     "text": [
      "EMC: 0.5156287801631595\n",
      "                                 OLS Regression Results                                \n",
      "=======================================================================================\n",
      "Dep. Variable:                 usd_m2   R-squared (uncentered):                   0.484\n",
      "Model:                            OLS   Adj. R-squared (uncentered):              0.483\n",
      "Method:                 Least Squares   F-statistic:                              521.8\n",
      "Date:                Tue, 05 May 2020   Prob (F-statistic):                        0.00\n",
      "Time:                        13:08:42   Log-Likelihood:                         -27845.\n",
      "No. Observations:               25599   AIC:                                  5.578e+04\n",
      "Df Residuals:                   25553   BIC:                                  5.616e+04\n",
      "Df Model:                          46                                                  \n",
      "Covariance Type:            nonrobust                                                  \n",
      "=======================================================================================\n"
     ]
    }
   ],
   "source": [
    "X = X_train \n",
    "y = y_train[['usd_m2']]\n",
    "\n",
    "model = sm.OLS(y, X).fit()\n",
    "predictions = model.predict(X)\n",
    "print (\"EMC:\", mean_squared_error(y, predictions))\n",
    "print (model.summary().tables[0])"
   ]
  },
  {
   "cell_type": "markdown",
   "metadata": {},
   "source": [
    "Ahora que tenemos un modelo con todas las variables significtivas borramos esas mismas columnas en el subset \"Test\""
   ]
  },
  {
   "cell_type": "code",
   "execution_count": 192,
   "metadata": {},
   "outputs": [],
   "source": [
    "X_test = X_test.loc[:,lista_betas]"
   ]
  },
  {
   "cell_type": "markdown",
   "metadata": {},
   "source": [
    "Corremos el modelo de regresión lineal para el subset \"Test\""
   ]
  },
  {
   "cell_type": "code",
   "execution_count": 193,
   "metadata": {},
   "outputs": [
    {
     "name": "stdout",
     "output_type": "stream",
     "text": [
      "EMC: 0.4869213047699955\n",
      "                                 OLS Regression Results                                \n",
      "=======================================================================================\n",
      "Dep. Variable:                 usd_m2   R-squared (uncentered):                   0.484\n",
      "Model:                            OLS   Adj. R-squared (uncentered):              0.483\n",
      "Method:                 Least Squares   F-statistic:                              521.8\n",
      "Date:                Tue, 05 May 2020   Prob (F-statistic):                        0.00\n",
      "Time:                        13:08:43   Log-Likelihood:                         -27845.\n",
      "No. Observations:               25599   AIC:                                  5.578e+04\n",
      "Df Residuals:                   25553   BIC:                                  5.616e+04\n",
      "Df Model:                          46                                                  \n",
      "Covariance Type:            nonrobust                                                  \n",
      "=======================================================================================\n"
     ]
    }
   ],
   "source": [
    "X = X_test \n",
    "y = y_test[['usd_m2']]\n",
    "\n",
    "predictions_test = model.predict(X)\n",
    "print (\"EMC:\", mean_squared_error(y, predictions_test))\n",
    "print (model.summary().tables[0])"
   ]
  },
  {
   "cell_type": "markdown",
   "metadata": {},
   "source": [
    "Queremos saber cual es el R2 para el subset \"Test\". Para ello, realizamos una serie de pasos previos utilizando la libería Sci-kit Learn\n",
    "\n",
    "En primer lugar instanciamos el modelo sin intercepto"
   ]
  },
  {
   "cell_type": "code",
   "execution_count": 194,
   "metadata": {},
   "outputs": [],
   "source": [
    "lm2 = LinearRegression(fit_intercept=False)"
   ]
  },
  {
   "cell_type": "markdown",
   "metadata": {},
   "source": [
    "Ajustamos el modelo,para que aprenda los datos del subset de Train"
   ]
  },
  {
   "cell_type": "code",
   "execution_count": 195,
   "metadata": {},
   "outputs": [],
   "source": [
    "model2 = lm2.fit(X_train, y_train)"
   ]
  },
  {
   "cell_type": "markdown",
   "metadata": {},
   "source": [
    "Calculamos los coeficientes. Naturalmente son iguales que los obtenidos anteriormente con la libería Statsmodel porque estamos estimando el mismo modelo de regresión lineal múltiple de dos maneras distintas"
   ]
  },
  {
   "cell_type": "code",
   "execution_count": 196,
   "metadata": {},
   "outputs": [
    {
     "name": "stdout",
     "output_type": "stream",
     "text": [
      "Intercept Linear model:  0.0 \n",
      " Coefs Linear model: [[ 0.147 -0.04   0.044  0.077  0.089 -0.3   -0.122  0.053 -0.025 -0.029\n",
      "   0.089  0.178 -0.033  0.258  0.058  0.01   0.027  0.038 -0.028 -0.039\n",
      "  -0.021  0.059 -0.032 -0.054  0.082 -0.027  0.159  0.122  0.07   0.058\n",
      "   0.029 -0.015  0.013 -0.014 -0.028 -0.037  0.273  0.148  0.031  0.029\n",
      "   0.18  -0.011  0.045 -0.063 -0.01   0.065]] \n",
      "\n"
     ]
    }
   ],
   "source": [
    "np.set_printoptions(precision=3, suppress=True)\n",
    "\n",
    "print('Intercept Linear model: ',lm2.intercept_,'\\n',\n",
    "      'Coefs Linear model:',lm2.coef_,'\\n')"
   ]
  },
  {
   "cell_type": "markdown",
   "metadata": {},
   "source": [
    "Calculamos el R2 y las distintas medidas de error de pronóstico (MAE, MSE, RMSE) "
   ]
  },
  {
   "cell_type": "code",
   "execution_count": 197,
   "metadata": {},
   "outputs": [
    {
     "name": "stdout",
     "output_type": "stream",
     "text": [
      " Score Train Lineal: 0.48437\n",
      "\n",
      " Train RMSE lineal   : 0.71807 \n",
      "\n",
      " MAE: 0.47685\n",
      "\n",
      " MSE: 0.51563\n",
      "\n"
     ]
    }
   ],
   "source": [
    "# Calculamos el R2\n",
    "print(\" Score Train Lineal: %.5f\\n\" % lm2.score(X_train, y_train))\n",
    "\n",
    "# Calculamos el RMSE\n",
    "y_pred_tr_lm2 = lm2.predict(X_train)\n",
    "rmse = lambda y, y_pred: np.sqrt(mean_squared_error(y, y_pred))\n",
    "print(\" Train RMSE lineal   : %.5f \\n\" % rmse(y_train,y_pred_tr_lm2))\n",
    "\n",
    "# Calculamos el MAE\n",
    "print (' MAE: %.5f\\n' % metrics.mean_absolute_error(y_train,y_pred_tr_lm2))\n",
    "\n",
    "# Calculamos el MSE\n",
    "print (' MSE: %.5f\\n' % metrics.mean_squared_error(y_train,y_pred_tr_lm2))"
   ]
  },
  {
   "cell_type": "markdown",
   "metadata": {},
   "source": [
    "Hacemos las predicciones sobre la matriz de predictores del Test Set y obtenemos el R2 del modelo de regresión lineal básico"
   ]
  },
  {
   "cell_type": "code",
   "execution_count": 198,
   "metadata": {},
   "outputs": [
    {
     "name": "stdout",
     "output_type": "stream",
     "text": [
      " Score Test Lineal: 0.48938\n",
      "\n",
      " Test RMSE lineal= 0.69780\n",
      "\n"
     ]
    }
   ],
   "source": [
    "y_pred_lm2 = lm2.predict(X_test)\n",
    "\n",
    "print(\" Score Test Lineal: %.5f\\n\" % lm2.score(X_test, y_test))\n",
    "print(\" Test RMSE lineal= %.5f\\n\" % rmse(y_test, y_pred_lm2))"
   ]
  },
  {
   "cell_type": "markdown",
   "metadata": {},
   "source": [
    "# persistencia\n",
    "exportamos los objetos necesarios para realizar una prediccion con nuevos datos\n",
    "\n",
    "Luego del analisis posterior se llega a la conclusión de que este será el mejor modelo en cuanto a performance...\n",
    "para poder acceder a él luego de las siguientes pruebas guardamos los elementos utilizados en variables mas especificas"
   ]
  },
  {
   "cell_type": "code",
   "execution_count": 199,
   "metadata": {},
   "outputs": [],
   "source": [
    "# guardamos los elementos que nos permitirán predecir el modelo elegido\n",
    "X_train_selec = X_train.copy()\n",
    "X_test_selec = X_test.copy()\n",
    "y_train_selec = y_train.copy()\n",
    "y_test_selec = y_test.copy()\n",
    "\n",
    "stdscaler_X_selec = stdscaler_X\n",
    "stdscaler_y_selec = stdscaler_y\n",
    "\n",
    "model_selected = model2\n",
    "features_needed = feature_cols[1:]"
   ]
  },
  {
   "cell_type": "code",
   "execution_count": 200,
   "metadata": {},
   "outputs": [],
   "source": [
    "# generamos una lista para exportar a pickle\n",
    "objetos_pk = [model_selected,features_needed,lista_betas,stdscaler_X_selec,stdscaler_y_selec]"
   ]
  },
  {
   "cell_type": "code",
   "execution_count": 201,
   "metadata": {},
   "outputs": [],
   "source": [
    "import pickle"
   ]
  },
  {
   "cell_type": "code",
   "execution_count": 202,
   "metadata": {},
   "outputs": [],
   "source": [
    "# exportamos el modelo\n",
    "with open('objetos_pk.pkl', 'wb') as objetos:\n",
    "    pickle.dump(objetos_pk, objetos)"
   ]
  },
  {
   "cell_type": "markdown",
   "metadata": {},
   "source": [
    "### 8.b. II) Modelo básico de regresión lineal con factor de penalización Ridge"
   ]
  },
  {
   "cell_type": "markdown",
   "metadata": {},
   "source": [
    "#### Aplico factor de penalización Ridge para evitar overfitting (Se setea el modelo para que optimice parámetros usando cross-validation de forma automática con k grupos)"
   ]
  },
  {
   "cell_type": "markdown",
   "metadata": {},
   "source": [
    "Instanciamos el modelo, generando un grid de $\\alpha$ para probar e instanciamos un particionador en k partes para la cross-validation"
   ]
  },
  {
   "cell_type": "code",
   "execution_count": 203,
   "metadata": {},
   "outputs": [],
   "source": [
    "al_ridge = np.linspace(0.001, 0.3, 300)\n",
    "\n",
    "kf = KFold(n_splits=5, shuffle=True, random_state=0)\n",
    "\n",
    "lm_ridge_cv= RidgeCV(alphas=al_ridge, cv=kf, normalize=False)"
   ]
  },
  {
   "cell_type": "markdown",
   "metadata": {},
   "source": [
    "Fiteamos el modelo, para que aprenda de los datos. "
   ]
  },
  {
   "cell_type": "code",
   "execution_count": 204,
   "metadata": {},
   "outputs": [
    {
     "data": {
      "text/plain": [
       "RidgeCV(alphas=array([0.001, 0.002, 0.003, 0.004, 0.005, 0.006, 0.007, 0.008, 0.009,\n",
       "       0.01 , 0.011, 0.012, 0.013, 0.014, 0.015, 0.016, 0.017, 0.018,\n",
       "       0.019, 0.02 , 0.021, 0.022, 0.023, 0.024, 0.025, 0.026, 0.027,\n",
       "       0.028, 0.029, 0.03 , 0.031, 0.032, 0.033, 0.034, 0.035, 0.036,\n",
       "       0.037, 0.038, 0.039, 0.04 , 0.041, 0.042, 0.043, 0.044, 0.045,\n",
       "       0.046, 0.047, 0.048, 0.049, 0.05 , 0.051, 0.052, 0.053, 0.054,\n",
       "       0.055, 0.0...\n",
       "       0.262, 0.263, 0.264, 0.265, 0.266, 0.267, 0.268, 0.269, 0.27 ,\n",
       "       0.271, 0.272, 0.273, 0.274, 0.275, 0.276, 0.277, 0.278, 0.279,\n",
       "       0.28 , 0.281, 0.282, 0.283, 0.284, 0.285, 0.286, 0.287, 0.288,\n",
       "       0.289, 0.29 , 0.291, 0.292, 0.293, 0.294, 0.295, 0.296, 0.297,\n",
       "       0.298, 0.299, 0.3  ]),\n",
       "        cv=KFold(n_splits=5, random_state=0, shuffle=True), fit_intercept=True,\n",
       "        gcv_mode=None, normalize=False, scoring=None, store_cv_values=False)"
      ]
     },
     "execution_count": 204,
     "metadata": {},
     "output_type": "execute_result"
    }
   ],
   "source": [
    "lm_ridge_cv.fit(X_train, y_train)"
   ]
  },
  {
   "cell_type": "markdown",
   "metadata": {},
   "source": [
    "EL modelo ya determina sus coeficientes de regresión y su hiperparámetro. Los vemos"
   ]
  },
  {
   "cell_type": "code",
   "execution_count": 205,
   "metadata": {},
   "outputs": [
    {
     "name": "stdout",
     "output_type": "stream",
     "text": [
      "Alpha Ridge: 0.3 \n",
      " Intercept Ridge:  [-0.] \n",
      " Coefs Ridge: [[ 0.147 -0.04   0.044  0.077  0.089 -0.3   -0.122  0.053 -0.025 -0.029\n",
      "   0.089  0.178 -0.033  0.258  0.058  0.01   0.027  0.038 -0.028 -0.039\n",
      "  -0.021  0.059 -0.032 -0.054  0.082 -0.027  0.159  0.122  0.07   0.058\n",
      "   0.029 -0.015  0.013 -0.014 -0.028 -0.037  0.273  0.148  0.031  0.029\n",
      "   0.18  -0.011  0.045 -0.063 -0.01   0.065]] \n",
      "\n"
     ]
    }
   ],
   "source": [
    "np.set_printoptions(precision=3, suppress=True)\n",
    "\n",
    "print('Alpha Ridge:',lm_ridge_cv.alpha_,'\\n',\n",
    "      'Intercept Ridge: ',lm_ridge_cv.intercept_,'\\n',\n",
    "      'Coefs Ridge:',lm_ridge_cv.coef_,'\\n')\n"
   ]
  },
  {
   "cell_type": "markdown",
   "metadata": {},
   "source": [
    "Vemos la performance del modelo sobre sus propios datos de \"Train\""
   ]
  },
  {
   "cell_type": "code",
   "execution_count": 206,
   "metadata": {},
   "outputs": [
    {
     "name": "stdout",
     "output_type": "stream",
     "text": [
      "Score Train Ridge : 0.48437\n",
      "\n",
      "Train RMSE Ridge    : 0.71807 \n",
      "\n",
      " MAE: 0.47685\n",
      "\n",
      " MSE: 0.51563\n",
      "\n"
     ]
    }
   ],
   "source": [
    "# Calculamos el R2\n",
    "print(\"Score Train Ridge : %.5f\\n\" % lm_ridge_cv.score(X_train, y_train))\n",
    "\n",
    "# Calculamos el RMSE\n",
    "y_pred_tr_ridge = lm_ridge_cv.predict(X_train)\n",
    "rmse = lambda y, y_pred: np.sqrt(mean_squared_error(y, y_pred))\n",
    "print(\"Train RMSE Ridge    : %.5f \\n\" % rmse(y_train,y_pred_tr_ridge))\n",
    "\n",
    "# Calculamos el MAE\n",
    "print (' MAE: %.5f\\n' % metrics.mean_absolute_error(y_train,y_pred_tr_ridge))\n",
    "\n",
    "# Calculamos el MSE\n",
    "print (' MSE: %.5f\\n' % metrics.mean_squared_error(y_train,y_pred_tr_ridge))"
   ]
  },
  {
   "cell_type": "markdown",
   "metadata": {},
   "source": [
    "Aplicamos el modelo sobre el set \"Test\""
   ]
  },
  {
   "cell_type": "code",
   "execution_count": 207,
   "metadata": {},
   "outputs": [
    {
     "name": "stdout",
     "output_type": "stream",
     "text": [
      " Score Test Ridge: 0.48938\n",
      "\n",
      " Test RMSE Ridge= 1\n",
      "\n",
      " MSE: 0.48692\n",
      "\n"
     ]
    }
   ],
   "source": [
    "# Hacemos las predicciones sobre la matriz de predictores del Test Set\n",
    "\n",
    "y_pred_ridge = lm_ridge_cv.predict(X_test)\n",
    "\n",
    "print(\" Score Test Ridge: %.5f\\n\" % lm_ridge_cv.score(X_test, y_test))\n",
    "print(\" Test RMSE Ridge= %.f\\n\" % rmse(y_test, y_pred_ridge))\n",
    "print (' MSE: %.5f\\n' % metrics.mean_squared_error(y_test, y_pred_ridge))"
   ]
  },
  {
   "cell_type": "markdown",
   "metadata": {},
   "source": [
    "### 8.b. III) Modelo básico de regresión lineal con factor de penalización Lasso"
   ]
  },
  {
   "cell_type": "markdown",
   "metadata": {},
   "source": [
    "#### Aplico factor de penalización Lasso para evitar overfitting (Se setea el modelo para que optimice parámetros usando cross-validation de forma automática con k grupos)\n",
    "\n",
    "De la misma forma que antes, hacemos:"
   ]
  },
  {
   "cell_type": "code",
   "execution_count": 208,
   "metadata": {},
   "outputs": [],
   "source": [
    "al_lasso = np.linspace(0.1, 0.5, 300)\n",
    "\n",
    "kf = KFold(n_splits=5, shuffle=True, random_state=0)\n",
    "\n",
    "lm_lasso_cv = LassoCV(alphas=al_lasso, cv=kf, normalize=False)"
   ]
  },
  {
   "cell_type": "code",
   "execution_count": 209,
   "metadata": {},
   "outputs": [
    {
     "name": "stderr",
     "output_type": "stream",
     "text": [
      "C:\\Users\\mmili\\.conda\\envs\\manu\\lib\\site-packages\\sklearn\\linear_model\\_coordinate_descent.py:1088: DataConversionWarning:\n",
      "\n",
      "A column-vector y was passed when a 1d array was expected. Please change the shape of y to (n_samples, ), for example using ravel().\n",
      "\n"
     ]
    },
    {
     "data": {
      "text/plain": [
       "LassoCV(alphas=array([0.1  , 0.101, 0.103, 0.104, 0.105, 0.107, 0.108, 0.109, 0.111,\n",
       "       0.112, 0.113, 0.115, 0.116, 0.117, 0.119, 0.12 , 0.121, 0.123,\n",
       "       0.124, 0.125, 0.127, 0.128, 0.129, 0.131, 0.132, 0.133, 0.135,\n",
       "       0.136, 0.137, 0.139, 0.14 , 0.141, 0.143, 0.144, 0.145, 0.147,\n",
       "       0.148, 0.149, 0.151, 0.152, 0.154, 0.155, 0.156, 0.158, 0.159,\n",
       "       0.16 , 0.162, 0.163, 0.164, 0.166, 0.167, 0.168, 0.17 , 0.171,\n",
       "       0.172, 0.17...\n",
       "       0.473, 0.475, 0.476, 0.477, 0.479, 0.48 , 0.481, 0.483, 0.484,\n",
       "       0.485, 0.487, 0.488, 0.489, 0.491, 0.492, 0.493, 0.495, 0.496,\n",
       "       0.497, 0.499, 0.5  ]),\n",
       "        copy_X=True, cv=KFold(n_splits=5, random_state=0, shuffle=True),\n",
       "        eps=0.001, fit_intercept=True, max_iter=1000, n_alphas=100, n_jobs=None,\n",
       "        normalize=False, positive=False, precompute='auto', random_state=None,\n",
       "        selection='cyclic', tol=0.0001, verbose=False)"
      ]
     },
     "execution_count": 209,
     "metadata": {},
     "output_type": "execute_result"
    }
   ],
   "source": [
    "lm_lasso_cv.fit(X_train, y_train)"
   ]
  },
  {
   "cell_type": "markdown",
   "metadata": {},
   "source": [
    "Imprimimos los coeficientes y vemos que con Lasso busca el menor $\\alpha$"
   ]
  },
  {
   "cell_type": "code",
   "execution_count": 210,
   "metadata": {},
   "outputs": [
    {
     "name": "stdout",
     "output_type": "stream",
     "text": [
      "Alpha Lasso: 0.1 \n",
      "Intercept Lasso:  [-0.] \n",
      "Coefs Lasso: [ 0.156 -0.043  0.     0.     0.    -0.202 -0.066  0.    -0.    -0.\n",
      "  0.     0.004 -0.     0.134 -0.     0.     0.     0.    -0.    -0.\n",
      " -0.     0.    -0.    -0.     0.    -0.     0.     0.     0.     0.\n",
      "  0.    -0.    -0.    -0.    -0.    -0.     0.131  0.     0.    -0.\n",
      "  0.052 -0.    -0.    -0.    -0.     0.   ] \n",
      "\n"
     ]
    }
   ],
   "source": [
    "np.set_printoptions(precision=3, suppress=True)\n",
    "\n",
    "print('Alpha Lasso:',lm_lasso_cv.alpha_,'\\n'\n",
    "      'Intercept Lasso: ',lm_ridge_cv.intercept_,'\\n'\n",
    "      'Coefs Lasso:',lm_lasso_cv.coef_,'\\n')"
   ]
  },
  {
   "cell_type": "markdown",
   "metadata": {},
   "source": [
    "Vemos la performance del modelo sobre sus propios datos de \"Train\" "
   ]
  },
  {
   "cell_type": "code",
   "execution_count": 211,
   "metadata": {},
   "outputs": [
    {
     "name": "stdout",
     "output_type": "stream",
     "text": [
      "Score Train Lasso : 0.31715\n",
      "\n",
      "Train RMSE Lasso    : 0.82635 \n",
      "\n",
      " MAE: 0.57227\n",
      "\n",
      " MSE: 0.68285\n",
      "\n"
     ]
    }
   ],
   "source": [
    "# Calculamos el R2\n",
    "print(\"Score Train Lasso : %.5f\\n\" % lm_lasso_cv.score(X_train, y_train))\n",
    "\n",
    "# Calculamos el RMSE\n",
    "y_pred_tr_lasso = lm_lasso_cv.predict(X_train)\n",
    "rmse = lambda y, y_pred: np.sqrt(mean_squared_error(y, y_pred))\n",
    "print(\"Train RMSE Lasso    : %.5f \\n\" % rmse(y_train,y_pred_tr_lasso))\n",
    "\n",
    "# Calculamos el MAE\n",
    "print (' MAE: %.5f\\n' % metrics.mean_absolute_error(y_train,y_pred_tr_lasso))\n",
    "\n",
    "# Calculamos el MSE\n",
    "print (' MSE: %.5f\\n' % metrics.mean_squared_error(y_train,y_pred_tr_lasso))"
   ]
  },
  {
   "cell_type": "markdown",
   "metadata": {},
   "source": [
    "Sobre el set Test. Notamos que el R2 es significativamente menor tanto con respecto al modelo de regresión lineal simple como con respecto al que aplicamos Ridge"
   ]
  },
  {
   "cell_type": "code",
   "execution_count": 212,
   "metadata": {},
   "outputs": [
    {
     "name": "stdout",
     "output_type": "stream",
     "text": [
      " Score Test Lasso: 0.31109\n",
      "\n",
      " Test RMSE Lasso= 1\n",
      "\n",
      " MSE: 0.65693\n",
      "\n"
     ]
    }
   ],
   "source": [
    "# Hacemos las predicciones sobre la matriz de predictores del Test Set\n",
    "\n",
    "y_pred_lasso = lm_lasso_cv.predict(X_test)\n",
    "\n",
    "print(\" Score Test Lasso: %.5f\\n\" % lm_lasso_cv.score(X_test, y_test))\n",
    "print(\" Test RMSE Lasso= %.f\\n\" % rmse(y_test, y_pred_lasso))\n",
    "print (' MSE: %.5f\\n' % metrics.mean_squared_error(y_test, y_pred_lasso))"
   ]
  },
  {
   "cell_type": "markdown",
   "metadata": {},
   "source": [
    "## 8.b. IV) Sin regularización pero con PCA previo"
   ]
  },
  {
   "cell_type": "code",
   "execution_count": 213,
   "metadata": {},
   "outputs": [],
   "source": [
    "df = pd.read_csv('df_limpio_modelo.csv',sep='|')"
   ]
  },
  {
   "cell_type": "code",
   "execution_count": 214,
   "metadata": {},
   "outputs": [
    {
     "data": {
      "text/html": [
       "<div>\n",
       "<style scoped>\n",
       "    .dataframe tbody tr th:only-of-type {\n",
       "        vertical-align: middle;\n",
       "    }\n",
       "\n",
       "    .dataframe tbody tr th {\n",
       "        vertical-align: top;\n",
       "    }\n",
       "\n",
       "    .dataframe thead th {\n",
       "        text-align: right;\n",
       "    }\n",
       "</style>\n",
       "<table border=\"1\" class=\"dataframe\">\n",
       "  <thead>\n",
       "    <tr style=\"text-align: right;\">\n",
       "      <th></th>\n",
       "      <th>usd_m2</th>\n",
       "      <th>precio_usd</th>\n",
       "      <th>prop_apartment</th>\n",
       "      <th>prop_house</th>\n",
       "      <th>prop_store</th>\n",
       "      <th>size_normal</th>\n",
       "      <th>size_xl</th>\n",
       "      <th>superficie_m2</th>\n",
       "      <th>ambientes</th>\n",
       "      <th>amenities</th>\n",
       "      <th>...</th>\n",
       "      <th>loc_Villa Lugano</th>\n",
       "      <th>loc_Villa Luro</th>\n",
       "      <th>loc_Villa Ortuzar</th>\n",
       "      <th>loc_Villa Pueyrredón</th>\n",
       "      <th>loc_Villa Real</th>\n",
       "      <th>loc_Villa Riachuelo</th>\n",
       "      <th>loc_Villa Santa Rita</th>\n",
       "      <th>loc_Villa Soldati</th>\n",
       "      <th>loc_Villa Urquiza</th>\n",
       "      <th>loc_Villa del Parque</th>\n",
       "    </tr>\n",
       "  </thead>\n",
       "  <tbody>\n",
       "    <tr>\n",
       "      <th>0</th>\n",
       "      <td>1127.272727</td>\n",
       "      <td>62000.0</td>\n",
       "      <td>0</td>\n",
       "      <td>0</td>\n",
       "      <td>0</td>\n",
       "      <td>1</td>\n",
       "      <td>0</td>\n",
       "      <td>55.000000</td>\n",
       "      <td>2.000000</td>\n",
       "      <td>0</td>\n",
       "      <td>...</td>\n",
       "      <td>0</td>\n",
       "      <td>0</td>\n",
       "      <td>0</td>\n",
       "      <td>0</td>\n",
       "      <td>0</td>\n",
       "      <td>0</td>\n",
       "      <td>0</td>\n",
       "      <td>0</td>\n",
       "      <td>0</td>\n",
       "      <td>0</td>\n",
       "    </tr>\n",
       "    <tr>\n",
       "      <th>1</th>\n",
       "      <td>1309.090909</td>\n",
       "      <td>72000.0</td>\n",
       "      <td>1</td>\n",
       "      <td>0</td>\n",
       "      <td>0</td>\n",
       "      <td>1</td>\n",
       "      <td>0</td>\n",
       "      <td>55.000000</td>\n",
       "      <td>2.000000</td>\n",
       "      <td>0</td>\n",
       "      <td>...</td>\n",
       "      <td>0</td>\n",
       "      <td>0</td>\n",
       "      <td>0</td>\n",
       "      <td>0</td>\n",
       "      <td>0</td>\n",
       "      <td>0</td>\n",
       "      <td>0</td>\n",
       "      <td>0</td>\n",
       "      <td>0</td>\n",
       "      <td>0</td>\n",
       "    </tr>\n",
       "    <tr>\n",
       "      <th>2</th>\n",
       "      <td>951.223001</td>\n",
       "      <td>95000.0</td>\n",
       "      <td>0</td>\n",
       "      <td>0</td>\n",
       "      <td>0</td>\n",
       "      <td>1</td>\n",
       "      <td>0</td>\n",
       "      <td>99.871429</td>\n",
       "      <td>3.000000</td>\n",
       "      <td>0</td>\n",
       "      <td>...</td>\n",
       "      <td>0</td>\n",
       "      <td>0</td>\n",
       "      <td>0</td>\n",
       "      <td>0</td>\n",
       "      <td>0</td>\n",
       "      <td>0</td>\n",
       "      <td>0</td>\n",
       "      <td>0</td>\n",
       "      <td>0</td>\n",
       "      <td>0</td>\n",
       "    </tr>\n",
       "    <tr>\n",
       "      <th>3</th>\n",
       "      <td>3066.666667</td>\n",
       "      <td>138000.0</td>\n",
       "      <td>1</td>\n",
       "      <td>0</td>\n",
       "      <td>0</td>\n",
       "      <td>1</td>\n",
       "      <td>0</td>\n",
       "      <td>45.000000</td>\n",
       "      <td>2.486814</td>\n",
       "      <td>1</td>\n",
       "      <td>...</td>\n",
       "      <td>0</td>\n",
       "      <td>0</td>\n",
       "      <td>0</td>\n",
       "      <td>0</td>\n",
       "      <td>0</td>\n",
       "      <td>0</td>\n",
       "      <td>0</td>\n",
       "      <td>0</td>\n",
       "      <td>0</td>\n",
       "      <td>0</td>\n",
       "    </tr>\n",
       "    <tr>\n",
       "      <th>4</th>\n",
       "      <td>3000.000000</td>\n",
       "      <td>195000.0</td>\n",
       "      <td>1</td>\n",
       "      <td>0</td>\n",
       "      <td>0</td>\n",
       "      <td>1</td>\n",
       "      <td>0</td>\n",
       "      <td>65.000000</td>\n",
       "      <td>2.486814</td>\n",
       "      <td>1</td>\n",
       "      <td>...</td>\n",
       "      <td>0</td>\n",
       "      <td>0</td>\n",
       "      <td>0</td>\n",
       "      <td>0</td>\n",
       "      <td>0</td>\n",
       "      <td>0</td>\n",
       "      <td>0</td>\n",
       "      <td>0</td>\n",
       "      <td>0</td>\n",
       "      <td>0</td>\n",
       "    </tr>\n",
       "  </tbody>\n",
       "</table>\n",
       "<p>5 rows × 73 columns</p>\n",
       "</div>"
      ],
      "text/plain": [
       "        usd_m2  precio_usd  prop_apartment  prop_house  prop_store  \\\n",
       "0  1127.272727     62000.0               0           0           0   \n",
       "1  1309.090909     72000.0               1           0           0   \n",
       "2   951.223001     95000.0               0           0           0   \n",
       "3  3066.666667    138000.0               1           0           0   \n",
       "4  3000.000000    195000.0               1           0           0   \n",
       "\n",
       "   size_normal  size_xl  superficie_m2  ambientes  amenities  ...  \\\n",
       "0            1        0      55.000000   2.000000          0  ...   \n",
       "1            1        0      55.000000   2.000000          0  ...   \n",
       "2            1        0      99.871429   3.000000          0  ...   \n",
       "3            1        0      45.000000   2.486814          1  ...   \n",
       "4            1        0      65.000000   2.486814          1  ...   \n",
       "\n",
       "   loc_Villa Lugano  loc_Villa Luro  loc_Villa Ortuzar  loc_Villa Pueyrredón  \\\n",
       "0                 0               0                  0                     0   \n",
       "1                 0               0                  0                     0   \n",
       "2                 0               0                  0                     0   \n",
       "3                 0               0                  0                     0   \n",
       "4                 0               0                  0                     0   \n",
       "\n",
       "   loc_Villa Real  loc_Villa Riachuelo  loc_Villa Santa Rita  \\\n",
       "0               0                    0                     0   \n",
       "1               0                    0                     0   \n",
       "2               0                    0                     0   \n",
       "3               0                    0                     0   \n",
       "4               0                    0                     0   \n",
       "\n",
       "   loc_Villa Soldati  loc_Villa Urquiza  loc_Villa del Parque  \n",
       "0                  0                  0                     0  \n",
       "1                  0                  0                     0  \n",
       "2                  0                  0                     0  \n",
       "3                  0                  0                     0  \n",
       "4                  0                  0                     0  \n",
       "\n",
       "[5 rows x 73 columns]"
      ]
     },
     "execution_count": 214,
     "metadata": {},
     "output_type": "execute_result"
    }
   ],
   "source": [
    "df.head()"
   ]
  },
  {
   "cell_type": "markdown",
   "metadata": {},
   "source": [
    "### 5. Obtención de matriz de features (X) y vector de variable explicada (y)"
   ]
  },
  {
   "cell_type": "markdown",
   "metadata": {},
   "source": [
    "Observamos las columnas de nuestro dataset actual"
   ]
  },
  {
   "cell_type": "code",
   "execution_count": 215,
   "metadata": {},
   "outputs": [
    {
     "data": {
      "text/plain": [
       "Index(['usd_m2', 'precio_usd', 'prop_apartment', 'prop_house', 'prop_store',\n",
       "       'size_normal', 'size_xl', 'superficie_m2', 'ambientes', 'amenities',\n",
       "       'lat', 'lon', 'loc_Agronomía', 'loc_Almagro', 'loc_Balvanera',\n",
       "       'loc_Barracas', 'loc_Barrio Norte', 'loc_Belgrano', 'loc_Boca',\n",
       "       'loc_Boedo', 'loc_Caballito', 'loc_Capital Federal', 'loc_Catalinas',\n",
       "       'loc_Centro / Microcentro', 'loc_Chacarita', 'loc_Coghlan',\n",
       "       'loc_Colegiales', 'loc_Congreso', 'loc_Constitución', 'loc_Flores',\n",
       "       'loc_Floresta', 'loc_Las Cañitas', 'loc_Liniers', 'loc_Mataderos',\n",
       "       'loc_Monserrat', 'loc_Monte Castro', 'loc_Nuñez', 'loc_Once',\n",
       "       'loc_Palermo', 'loc_Palermo Chico', 'loc_Palermo Hollywood',\n",
       "       'loc_Palermo Soho', 'loc_Palermo Viejo', 'loc_Parque Avellaneda',\n",
       "       'loc_Parque Centenario', 'loc_Parque Chacabuco', 'loc_Parque Chas',\n",
       "       'loc_Parque Patricios', 'loc_Paternal', 'loc_Pompeya',\n",
       "       'loc_Puerto Madero', 'loc_Recoleta', 'loc_Retiro', 'loc_Saavedra',\n",
       "       'loc_San Cristobal', 'loc_San Nicolás', 'loc_San Telmo',\n",
       "       'loc_Tribunales', 'loc_Velez Sarsfield', 'loc_Versalles',\n",
       "       'loc_Villa Crespo', 'loc_Villa Devoto', 'loc_Villa General Mitre',\n",
       "       'loc_Villa Lugano', 'loc_Villa Luro', 'loc_Villa Ortuzar',\n",
       "       'loc_Villa Pueyrredón', 'loc_Villa Real', 'loc_Villa Riachuelo',\n",
       "       'loc_Villa Santa Rita', 'loc_Villa Soldati', 'loc_Villa Urquiza',\n",
       "       'loc_Villa del Parque'],\n",
       "      dtype='object')"
      ]
     },
     "execution_count": 215,
     "metadata": {},
     "output_type": "execute_result"
    }
   ],
   "source": [
    "df.columns"
   ]
  },
  {
   "cell_type": "markdown",
   "metadata": {},
   "source": [
    "La columna usd_m2 representa el precio por metro cuadrado en dólares. Esta va a ser nuestra variable **target**, a la que llamaremos y.\n",
    "\n",
    "Las columnas de superficie, ambientes y expensas, sumadas a las dummies correspondientes a las variables categóricas de subtipo de propiedad y localidad, son las posibles variables explicativas que nos permitiran llegar al valor de nuestra y. Estas serán nuestras **features** y estarán en la matriz X.\n"
   ]
  },
  {
   "cell_type": "code",
   "execution_count": 216,
   "metadata": {},
   "outputs": [],
   "source": [
    "y = df[['usd_m2']]\n",
    "\n",
    "X = df.drop(['usd_m2'], axis=1)"
   ]
  },
  {
   "cell_type": "code",
   "execution_count": 217,
   "metadata": {},
   "outputs": [
    {
     "name": "stdout",
     "output_type": "stream",
     "text": [
      "Shape X: (31999, 72)\n",
      "Shape y: (31999, 1)\n",
      "Type X: <class 'pandas.core.frame.DataFrame'>\n",
      "Type y: <class 'pandas.core.frame.DataFrame'>\n"
     ]
    }
   ],
   "source": [
    "print(\"Shape X:\", X.shape)\n",
    "print(\"Shape y:\", y.shape)\n",
    "print(\"Type X:\", type(X))\n",
    "print(\"Type y:\", type(y))"
   ]
  },
  {
   "cell_type": "code",
   "execution_count": 218,
   "metadata": {
    "scrolled": true
   },
   "outputs": [
    {
     "data": {
      "text/html": [
       "<div>\n",
       "<style scoped>\n",
       "    .dataframe tbody tr th:only-of-type {\n",
       "        vertical-align: middle;\n",
       "    }\n",
       "\n",
       "    .dataframe tbody tr th {\n",
       "        vertical-align: top;\n",
       "    }\n",
       "\n",
       "    .dataframe thead th {\n",
       "        text-align: right;\n",
       "    }\n",
       "</style>\n",
       "<table border=\"1\" class=\"dataframe\">\n",
       "  <thead>\n",
       "    <tr style=\"text-align: right;\">\n",
       "      <th></th>\n",
       "      <th>precio_usd</th>\n",
       "      <th>prop_apartment</th>\n",
       "      <th>prop_house</th>\n",
       "      <th>prop_store</th>\n",
       "      <th>size_normal</th>\n",
       "      <th>size_xl</th>\n",
       "      <th>superficie_m2</th>\n",
       "      <th>ambientes</th>\n",
       "      <th>amenities</th>\n",
       "      <th>lat</th>\n",
       "      <th>...</th>\n",
       "      <th>loc_Villa Lugano</th>\n",
       "      <th>loc_Villa Luro</th>\n",
       "      <th>loc_Villa Ortuzar</th>\n",
       "      <th>loc_Villa Pueyrredón</th>\n",
       "      <th>loc_Villa Real</th>\n",
       "      <th>loc_Villa Riachuelo</th>\n",
       "      <th>loc_Villa Santa Rita</th>\n",
       "      <th>loc_Villa Soldati</th>\n",
       "      <th>loc_Villa Urquiza</th>\n",
       "      <th>loc_Villa del Parque</th>\n",
       "    </tr>\n",
       "  </thead>\n",
       "  <tbody>\n",
       "    <tr>\n",
       "      <th>0</th>\n",
       "      <td>62000.0</td>\n",
       "      <td>0</td>\n",
       "      <td>0</td>\n",
       "      <td>0</td>\n",
       "      <td>1</td>\n",
       "      <td>0</td>\n",
       "      <td>55.000000</td>\n",
       "      <td>2.000000</td>\n",
       "      <td>0</td>\n",
       "      <td>-34.661824</td>\n",
       "      <td>...</td>\n",
       "      <td>0</td>\n",
       "      <td>0</td>\n",
       "      <td>0</td>\n",
       "      <td>0</td>\n",
       "      <td>0</td>\n",
       "      <td>0</td>\n",
       "      <td>0</td>\n",
       "      <td>0</td>\n",
       "      <td>0</td>\n",
       "      <td>0</td>\n",
       "    </tr>\n",
       "    <tr>\n",
       "      <th>1</th>\n",
       "      <td>72000.0</td>\n",
       "      <td>1</td>\n",
       "      <td>0</td>\n",
       "      <td>0</td>\n",
       "      <td>1</td>\n",
       "      <td>0</td>\n",
       "      <td>55.000000</td>\n",
       "      <td>2.000000</td>\n",
       "      <td>0</td>\n",
       "      <td>-34.652262</td>\n",
       "      <td>...</td>\n",
       "      <td>0</td>\n",
       "      <td>0</td>\n",
       "      <td>0</td>\n",
       "      <td>0</td>\n",
       "      <td>0</td>\n",
       "      <td>0</td>\n",
       "      <td>0</td>\n",
       "      <td>0</td>\n",
       "      <td>0</td>\n",
       "      <td>0</td>\n",
       "    </tr>\n",
       "    <tr>\n",
       "      <th>2</th>\n",
       "      <td>95000.0</td>\n",
       "      <td>0</td>\n",
       "      <td>0</td>\n",
       "      <td>0</td>\n",
       "      <td>1</td>\n",
       "      <td>0</td>\n",
       "      <td>99.871429</td>\n",
       "      <td>3.000000</td>\n",
       "      <td>0</td>\n",
       "      <td>-34.647797</td>\n",
       "      <td>...</td>\n",
       "      <td>0</td>\n",
       "      <td>0</td>\n",
       "      <td>0</td>\n",
       "      <td>0</td>\n",
       "      <td>0</td>\n",
       "      <td>0</td>\n",
       "      <td>0</td>\n",
       "      <td>0</td>\n",
       "      <td>0</td>\n",
       "      <td>0</td>\n",
       "    </tr>\n",
       "    <tr>\n",
       "      <th>3</th>\n",
       "      <td>138000.0</td>\n",
       "      <td>1</td>\n",
       "      <td>0</td>\n",
       "      <td>0</td>\n",
       "      <td>1</td>\n",
       "      <td>0</td>\n",
       "      <td>45.000000</td>\n",
       "      <td>2.486814</td>\n",
       "      <td>1</td>\n",
       "      <td>-34.559873</td>\n",
       "      <td>...</td>\n",
       "      <td>0</td>\n",
       "      <td>0</td>\n",
       "      <td>0</td>\n",
       "      <td>0</td>\n",
       "      <td>0</td>\n",
       "      <td>0</td>\n",
       "      <td>0</td>\n",
       "      <td>0</td>\n",
       "      <td>0</td>\n",
       "      <td>0</td>\n",
       "    </tr>\n",
       "    <tr>\n",
       "      <th>4</th>\n",
       "      <td>195000.0</td>\n",
       "      <td>1</td>\n",
       "      <td>0</td>\n",
       "      <td>0</td>\n",
       "      <td>1</td>\n",
       "      <td>0</td>\n",
       "      <td>65.000000</td>\n",
       "      <td>2.486814</td>\n",
       "      <td>1</td>\n",
       "      <td>-34.559873</td>\n",
       "      <td>...</td>\n",
       "      <td>0</td>\n",
       "      <td>0</td>\n",
       "      <td>0</td>\n",
       "      <td>0</td>\n",
       "      <td>0</td>\n",
       "      <td>0</td>\n",
       "      <td>0</td>\n",
       "      <td>0</td>\n",
       "      <td>0</td>\n",
       "      <td>0</td>\n",
       "    </tr>\n",
       "  </tbody>\n",
       "</table>\n",
       "<p>5 rows × 72 columns</p>\n",
       "</div>"
      ],
      "text/plain": [
       "   precio_usd  prop_apartment  prop_house  prop_store  size_normal  size_xl  \\\n",
       "0     62000.0               0           0           0            1        0   \n",
       "1     72000.0               1           0           0            1        0   \n",
       "2     95000.0               0           0           0            1        0   \n",
       "3    138000.0               1           0           0            1        0   \n",
       "4    195000.0               1           0           0            1        0   \n",
       "\n",
       "   superficie_m2  ambientes  amenities        lat  ...  loc_Villa Lugano  \\\n",
       "0      55.000000   2.000000          0 -34.661824  ...                 0   \n",
       "1      55.000000   2.000000          0 -34.652262  ...                 0   \n",
       "2      99.871429   3.000000          0 -34.647797  ...                 0   \n",
       "3      45.000000   2.486814          1 -34.559873  ...                 0   \n",
       "4      65.000000   2.486814          1 -34.559873  ...                 0   \n",
       "\n",
       "   loc_Villa Luro  loc_Villa Ortuzar  loc_Villa Pueyrredón  loc_Villa Real  \\\n",
       "0               0                  0                     0               0   \n",
       "1               0                  0                     0               0   \n",
       "2               0                  0                     0               0   \n",
       "3               0                  0                     0               0   \n",
       "4               0                  0                     0               0   \n",
       "\n",
       "   loc_Villa Riachuelo  loc_Villa Santa Rita  loc_Villa Soldati  \\\n",
       "0                    0                     0                  0   \n",
       "1                    0                     0                  0   \n",
       "2                    0                     0                  0   \n",
       "3                    0                     0                  0   \n",
       "4                    0                     0                  0   \n",
       "\n",
       "   loc_Villa Urquiza  loc_Villa del Parque  \n",
       "0                  0                     0  \n",
       "1                  0                     0  \n",
       "2                  0                     0  \n",
       "3                  0                     0  \n",
       "4                  0                     0  \n",
       "\n",
       "[5 rows x 72 columns]"
      ]
     },
     "execution_count": 218,
     "metadata": {},
     "output_type": "execute_result"
    }
   ],
   "source": [
    "X.head()"
   ]
  },
  {
   "cell_type": "code",
   "execution_count": 219,
   "metadata": {},
   "outputs": [
    {
     "data": {
      "text/html": [
       "<div>\n",
       "<style scoped>\n",
       "    .dataframe tbody tr th:only-of-type {\n",
       "        vertical-align: middle;\n",
       "    }\n",
       "\n",
       "    .dataframe tbody tr th {\n",
       "        vertical-align: top;\n",
       "    }\n",
       "\n",
       "    .dataframe thead th {\n",
       "        text-align: right;\n",
       "    }\n",
       "</style>\n",
       "<table border=\"1\" class=\"dataframe\">\n",
       "  <thead>\n",
       "    <tr style=\"text-align: right;\">\n",
       "      <th></th>\n",
       "      <th>usd_m2</th>\n",
       "    </tr>\n",
       "  </thead>\n",
       "  <tbody>\n",
       "    <tr>\n",
       "      <th>0</th>\n",
       "      <td>1127.272727</td>\n",
       "    </tr>\n",
       "    <tr>\n",
       "      <th>1</th>\n",
       "      <td>1309.090909</td>\n",
       "    </tr>\n",
       "    <tr>\n",
       "      <th>2</th>\n",
       "      <td>951.223001</td>\n",
       "    </tr>\n",
       "    <tr>\n",
       "      <th>3</th>\n",
       "      <td>3066.666667</td>\n",
       "    </tr>\n",
       "    <tr>\n",
       "      <th>4</th>\n",
       "      <td>3000.000000</td>\n",
       "    </tr>\n",
       "    <tr>\n",
       "      <th>...</th>\n",
       "      <td>...</td>\n",
       "    </tr>\n",
       "    <tr>\n",
       "      <th>31994</th>\n",
       "      <td>2611.464968</td>\n",
       "    </tr>\n",
       "    <tr>\n",
       "      <th>31995</th>\n",
       "      <td>2611.464968</td>\n",
       "    </tr>\n",
       "    <tr>\n",
       "      <th>31996</th>\n",
       "      <td>1952.098179</td>\n",
       "    </tr>\n",
       "    <tr>\n",
       "      <th>31997</th>\n",
       "      <td>2858.695652</td>\n",
       "    </tr>\n",
       "    <tr>\n",
       "      <th>31998</th>\n",
       "      <td>1675.324675</td>\n",
       "    </tr>\n",
       "  </tbody>\n",
       "</table>\n",
       "<p>31999 rows × 1 columns</p>\n",
       "</div>"
      ],
      "text/plain": [
       "            usd_m2\n",
       "0      1127.272727\n",
       "1      1309.090909\n",
       "2       951.223001\n",
       "3      3066.666667\n",
       "4      3000.000000\n",
       "...            ...\n",
       "31994  2611.464968\n",
       "31995  2611.464968\n",
       "31996  1952.098179\n",
       "31997  2858.695652\n",
       "31998  1675.324675\n",
       "\n",
       "[31999 rows x 1 columns]"
      ]
     },
     "execution_count": 219,
     "metadata": {},
     "output_type": "execute_result"
    }
   ],
   "source": [
    "y"
   ]
  },
  {
   "cell_type": "markdown",
   "metadata": {},
   "source": [
    "### 6. División de dataset en train-test para validación de modelo"
   ]
  },
  {
   "cell_type": "markdown",
   "metadata": {},
   "source": [
    "Creamos una columna para estatificar, y splitear con ella."
   ]
  },
  {
   "cell_type": "code",
   "execution_count": 220,
   "metadata": {},
   "outputs": [],
   "source": [
    "X['usd_stratify'] = pd.qcut(X['precio_usd'],4,labels=[1,2,3,4])\n",
    "\n",
    "X = X[[x for x in X.columns if (x!='precio_usd')]]"
   ]
  },
  {
   "cell_type": "markdown",
   "metadata": {},
   "source": [
    "Dividimos en train-test"
   ]
  },
  {
   "cell_type": "code",
   "execution_count": 221,
   "metadata": {},
   "outputs": [
    {
     "name": "stdout",
     "output_type": "stream",
     "text": [
      "(25599, 72) (25599, 1)\n",
      "(6400, 72) (6400, 1)\n"
     ]
    }
   ],
   "source": [
    "X_train, X_test, y_train, y_test = train_test_split(X, y, stratify=X['usd_stratify'],test_size=0.2, random_state=0)\n",
    "\n",
    "print(X_train.shape, y_train.shape)\n",
    "print(X_test.shape, y_test.shape)"
   ]
  },
  {
   "cell_type": "code",
   "execution_count": 222,
   "metadata": {},
   "outputs": [],
   "source": [
    "X = X[[x for x in X.columns if (x!='usd_stratify')]]"
   ]
  },
  {
   "cell_type": "markdown",
   "metadata": {},
   "source": [
    "### 7. Normalización de variables por estandarización para el set de train\n",
    "\n",
    "Apliquemos estandarización, transformando las variables para que tengan media 0 $(\\mu = 0)$ y desvío estándar 1 $(\\sigma = 1)$, aplicando la fórmula:\n",
    "\n",
    "$$ x' = \\frac{x - \\mu}{\\sigma}$$"
   ]
  },
  {
   "cell_type": "markdown",
   "metadata": {},
   "source": [
    "Estandarizamos feautures:"
   ]
  },
  {
   "cell_type": "code",
   "execution_count": 223,
   "metadata": {},
   "outputs": [],
   "source": [
    "# Fiteamos el estandarizador y estandarizamos con X_train\n",
    "\n",
    "stdscaler_X = preprocessing.StandardScaler()\n",
    "X_train_scaled = stdscaler_X.fit_transform(X_train)\n",
    "X_train = pd.DataFrame(X_train_scaled, columns=X_train.columns)\n",
    "\n",
    "# Estandarizamos X_test con el estandarizador fiteado con X_train\n",
    "\n",
    "X_test_scaled = stdscaler_X.transform(X_test)\n",
    "X_test = pd.DataFrame(X_test_scaled, columns=X_test.columns)\n",
    "\n",
    "#UTILIZAR INVERSE_TRANSFORM PARA ANALIZAR LOS DATOS OBTENIDOS POSTERIORMENTE\n"
   ]
  },
  {
   "cell_type": "markdown",
   "metadata": {},
   "source": [
    "Estandarizamos target y lo centramos con una fución logarítmica, ya que su distribución es asimétrica con cola a la derecha:\n"
   ]
  },
  {
   "cell_type": "code",
   "execution_count": 224,
   "metadata": {},
   "outputs": [],
   "source": [
    "y_train = np.log(y_train)\n",
    "y_test = np.log(y_test)"
   ]
  },
  {
   "cell_type": "code",
   "execution_count": 225,
   "metadata": {},
   "outputs": [],
   "source": [
    "\n",
    "# Fiteamos el estandarizador y estandarizamos con y_train\n",
    "\n",
    "stdscaler_y = preprocessing.StandardScaler()\n",
    "y_train_scaled = stdscaler_y.fit_transform(y_train)\n",
    "y_train = pd.DataFrame(y_train_scaled, columns=y_train.columns)\n",
    "\n",
    "# Estandarizamos y_test con el estandarizador fiteado con y_train\n",
    "\n",
    "y_test_scaled = stdscaler_y.transform(y_test)\n",
    "y_test = pd.DataFrame(y_test_scaled, columns=y_test.columns)\n",
    "\n",
    "#UTILIZAR INVERSE_TRANSFORM PARA ANALIZAR LOS DATOS OBTENIDOS POSTERIORMENTE"
   ]
  },
  {
   "cell_type": "markdown",
   "metadata": {},
   "source": [
    "Vemos que todo esté bien"
   ]
  },
  {
   "cell_type": "code",
   "execution_count": 226,
   "metadata": {},
   "outputs": [
    {
     "data": {
      "text/html": [
       "<div>\n",
       "<style scoped>\n",
       "    .dataframe tbody tr th:only-of-type {\n",
       "        vertical-align: middle;\n",
       "    }\n",
       "\n",
       "    .dataframe tbody tr th {\n",
       "        vertical-align: top;\n",
       "    }\n",
       "\n",
       "    .dataframe thead th {\n",
       "        text-align: right;\n",
       "    }\n",
       "</style>\n",
       "<table border=\"1\" class=\"dataframe\">\n",
       "  <thead>\n",
       "    <tr style=\"text-align: right;\">\n",
       "      <th></th>\n",
       "      <th>prop_apartment</th>\n",
       "      <th>prop_house</th>\n",
       "      <th>prop_store</th>\n",
       "      <th>size_normal</th>\n",
       "      <th>size_xl</th>\n",
       "      <th>superficie_m2</th>\n",
       "      <th>ambientes</th>\n",
       "      <th>amenities</th>\n",
       "      <th>lat</th>\n",
       "      <th>lon</th>\n",
       "      <th>...</th>\n",
       "      <th>loc_Villa Luro</th>\n",
       "      <th>loc_Villa Ortuzar</th>\n",
       "      <th>loc_Villa Pueyrredón</th>\n",
       "      <th>loc_Villa Real</th>\n",
       "      <th>loc_Villa Riachuelo</th>\n",
       "      <th>loc_Villa Santa Rita</th>\n",
       "      <th>loc_Villa Soldati</th>\n",
       "      <th>loc_Villa Urquiza</th>\n",
       "      <th>loc_Villa del Parque</th>\n",
       "      <th>usd_stratify</th>\n",
       "    </tr>\n",
       "  </thead>\n",
       "  <tbody>\n",
       "    <tr>\n",
       "      <th>0</th>\n",
       "      <td>0.439803</td>\n",
       "      <td>-0.261289</td>\n",
       "      <td>-0.211392</td>\n",
       "      <td>0.170361</td>\n",
       "      <td>-0.027254</td>\n",
       "      <td>-0.307016</td>\n",
       "      <td>-0.144835</td>\n",
       "      <td>0.835260</td>\n",
       "      <td>-1.070790</td>\n",
       "      <td>-0.739354</td>\n",
       "      <td>...</td>\n",
       "      <td>-0.115847</td>\n",
       "      <td>-0.051227</td>\n",
       "      <td>-0.073889</td>\n",
       "      <td>-0.034253</td>\n",
       "      <td>-0.013977</td>\n",
       "      <td>-0.041964</td>\n",
       "      <td>-0.021656</td>\n",
       "      <td>-0.23233</td>\n",
       "      <td>-0.124219</td>\n",
       "      <td>-1.334790</td>\n",
       "    </tr>\n",
       "    <tr>\n",
       "      <th>1</th>\n",
       "      <td>0.439803</td>\n",
       "      <td>-0.261289</td>\n",
       "      <td>-0.211392</td>\n",
       "      <td>-5.869896</td>\n",
       "      <td>-0.027254</td>\n",
       "      <td>1.464753</td>\n",
       "      <td>2.992099</td>\n",
       "      <td>0.835260</td>\n",
       "      <td>0.507727</td>\n",
       "      <td>1.196107</td>\n",
       "      <td>...</td>\n",
       "      <td>-0.115847</td>\n",
       "      <td>-0.051227</td>\n",
       "      <td>-0.073889</td>\n",
       "      <td>-0.034253</td>\n",
       "      <td>-0.013977</td>\n",
       "      <td>-0.041964</td>\n",
       "      <td>-0.021656</td>\n",
       "      <td>-0.23233</td>\n",
       "      <td>-0.124219</td>\n",
       "      <td>1.350208</td>\n",
       "    </tr>\n",
       "    <tr>\n",
       "      <th>2</th>\n",
       "      <td>0.439803</td>\n",
       "      <td>-0.261289</td>\n",
       "      <td>-0.211392</td>\n",
       "      <td>0.170361</td>\n",
       "      <td>-0.027254</td>\n",
       "      <td>-0.314873</td>\n",
       "      <td>-0.144835</td>\n",
       "      <td>0.835260</td>\n",
       "      <td>-0.720730</td>\n",
       "      <td>1.545324</td>\n",
       "      <td>...</td>\n",
       "      <td>-0.115847</td>\n",
       "      <td>-0.051227</td>\n",
       "      <td>-0.073889</td>\n",
       "      <td>-0.034253</td>\n",
       "      <td>-0.013977</td>\n",
       "      <td>-0.041964</td>\n",
       "      <td>-0.021656</td>\n",
       "      <td>-0.23233</td>\n",
       "      <td>-0.124219</td>\n",
       "      <td>-0.439790</td>\n",
       "    </tr>\n",
       "    <tr>\n",
       "      <th>3</th>\n",
       "      <td>0.439803</td>\n",
       "      <td>-0.261289</td>\n",
       "      <td>-0.211392</td>\n",
       "      <td>0.170361</td>\n",
       "      <td>-0.027254</td>\n",
       "      <td>-0.287373</td>\n",
       "      <td>0.313390</td>\n",
       "      <td>0.835260</td>\n",
       "      <td>-0.596076</td>\n",
       "      <td>-0.838429</td>\n",
       "      <td>...</td>\n",
       "      <td>-0.115847</td>\n",
       "      <td>-0.051227</td>\n",
       "      <td>-0.073889</td>\n",
       "      <td>-0.034253</td>\n",
       "      <td>-0.013977</td>\n",
       "      <td>-0.041964</td>\n",
       "      <td>-0.021656</td>\n",
       "      <td>-0.23233</td>\n",
       "      <td>-0.124219</td>\n",
       "      <td>-1.334790</td>\n",
       "    </tr>\n",
       "    <tr>\n",
       "      <th>4</th>\n",
       "      <td>0.439803</td>\n",
       "      <td>-0.261289</td>\n",
       "      <td>-0.211392</td>\n",
       "      <td>0.170361</td>\n",
       "      <td>-0.027254</td>\n",
       "      <td>0.007267</td>\n",
       "      <td>1.206293</td>\n",
       "      <td>-1.197232</td>\n",
       "      <td>-0.126484</td>\n",
       "      <td>0.283234</td>\n",
       "      <td>...</td>\n",
       "      <td>-0.115847</td>\n",
       "      <td>-0.051227</td>\n",
       "      <td>-0.073889</td>\n",
       "      <td>-0.034253</td>\n",
       "      <td>-0.013977</td>\n",
       "      <td>-0.041964</td>\n",
       "      <td>-0.021656</td>\n",
       "      <td>-0.23233</td>\n",
       "      <td>-0.124219</td>\n",
       "      <td>0.455209</td>\n",
       "    </tr>\n",
       "    <tr>\n",
       "      <th>...</th>\n",
       "      <td>...</td>\n",
       "      <td>...</td>\n",
       "      <td>...</td>\n",
       "      <td>...</td>\n",
       "      <td>...</td>\n",
       "      <td>...</td>\n",
       "      <td>...</td>\n",
       "      <td>...</td>\n",
       "      <td>...</td>\n",
       "      <td>...</td>\n",
       "      <td>...</td>\n",
       "      <td>...</td>\n",
       "      <td>...</td>\n",
       "      <td>...</td>\n",
       "      <td>...</td>\n",
       "      <td>...</td>\n",
       "      <td>...</td>\n",
       "      <td>...</td>\n",
       "      <td>...</td>\n",
       "      <td>...</td>\n",
       "      <td>...</td>\n",
       "    </tr>\n",
       "    <tr>\n",
       "      <th>25594</th>\n",
       "      <td>-2.273746</td>\n",
       "      <td>3.827180</td>\n",
       "      <td>-0.211392</td>\n",
       "      <td>0.170361</td>\n",
       "      <td>-0.027254</td>\n",
       "      <td>-0.157732</td>\n",
       "      <td>-0.579513</td>\n",
       "      <td>0.835260</td>\n",
       "      <td>2.134964</td>\n",
       "      <td>-1.136519</td>\n",
       "      <td>...</td>\n",
       "      <td>-0.115847</td>\n",
       "      <td>-0.051227</td>\n",
       "      <td>-0.073889</td>\n",
       "      <td>-0.034253</td>\n",
       "      <td>-0.013977</td>\n",
       "      <td>-0.041964</td>\n",
       "      <td>-0.021656</td>\n",
       "      <td>-0.23233</td>\n",
       "      <td>-0.124219</td>\n",
       "      <td>-0.439790</td>\n",
       "    </tr>\n",
       "    <tr>\n",
       "      <th>25595</th>\n",
       "      <td>0.439803</td>\n",
       "      <td>-0.261289</td>\n",
       "      <td>-0.211392</td>\n",
       "      <td>0.170361</td>\n",
       "      <td>-0.027254</td>\n",
       "      <td>-0.169517</td>\n",
       "      <td>-0.144835</td>\n",
       "      <td>-1.197232</td>\n",
       "      <td>-1.205630</td>\n",
       "      <td>1.870297</td>\n",
       "      <td>...</td>\n",
       "      <td>-0.115847</td>\n",
       "      <td>-0.051227</td>\n",
       "      <td>-0.073889</td>\n",
       "      <td>-0.034253</td>\n",
       "      <td>-0.013977</td>\n",
       "      <td>-0.041964</td>\n",
       "      <td>-0.021656</td>\n",
       "      <td>-0.23233</td>\n",
       "      <td>-0.124219</td>\n",
       "      <td>-0.439790</td>\n",
       "    </tr>\n",
       "    <tr>\n",
       "      <th>25596</th>\n",
       "      <td>0.439803</td>\n",
       "      <td>-0.261289</td>\n",
       "      <td>-0.211392</td>\n",
       "      <td>0.170361</td>\n",
       "      <td>-0.027254</td>\n",
       "      <td>-0.248088</td>\n",
       "      <td>-0.579513</td>\n",
       "      <td>0.835260</td>\n",
       "      <td>1.055636</td>\n",
       "      <td>-0.261855</td>\n",
       "      <td>...</td>\n",
       "      <td>-0.115847</td>\n",
       "      <td>-0.051227</td>\n",
       "      <td>-0.073889</td>\n",
       "      <td>-0.034253</td>\n",
       "      <td>-0.013977</td>\n",
       "      <td>-0.041964</td>\n",
       "      <td>-0.021656</td>\n",
       "      <td>-0.23233</td>\n",
       "      <td>-0.124219</td>\n",
       "      <td>-0.439790</td>\n",
       "    </tr>\n",
       "    <tr>\n",
       "      <th>25597</th>\n",
       "      <td>0.439803</td>\n",
       "      <td>-0.261289</td>\n",
       "      <td>-0.211392</td>\n",
       "      <td>0.170361</td>\n",
       "      <td>-0.027254</td>\n",
       "      <td>-0.244160</td>\n",
       "      <td>-0.579513</td>\n",
       "      <td>-1.197232</td>\n",
       "      <td>0.436571</td>\n",
       "      <td>0.984410</td>\n",
       "      <td>...</td>\n",
       "      <td>-0.115847</td>\n",
       "      <td>-0.051227</td>\n",
       "      <td>-0.073889</td>\n",
       "      <td>-0.034253</td>\n",
       "      <td>-0.013977</td>\n",
       "      <td>-0.041964</td>\n",
       "      <td>-0.021656</td>\n",
       "      <td>-0.23233</td>\n",
       "      <td>-0.124219</td>\n",
       "      <td>0.455209</td>\n",
       "    </tr>\n",
       "    <tr>\n",
       "      <th>25598</th>\n",
       "      <td>0.439803</td>\n",
       "      <td>-0.261289</td>\n",
       "      <td>-0.211392</td>\n",
       "      <td>0.170361</td>\n",
       "      <td>-0.027254</td>\n",
       "      <td>-0.200946</td>\n",
       "      <td>0.313390</td>\n",
       "      <td>0.835260</td>\n",
       "      <td>-0.059999</td>\n",
       "      <td>0.254772</td>\n",
       "      <td>...</td>\n",
       "      <td>-0.115847</td>\n",
       "      <td>-0.051227</td>\n",
       "      <td>-0.073889</td>\n",
       "      <td>-0.034253</td>\n",
       "      <td>-0.013977</td>\n",
       "      <td>-0.041964</td>\n",
       "      <td>-0.021656</td>\n",
       "      <td>-0.23233</td>\n",
       "      <td>-0.124219</td>\n",
       "      <td>-0.439790</td>\n",
       "    </tr>\n",
       "  </tbody>\n",
       "</table>\n",
       "<p>25599 rows × 72 columns</p>\n",
       "</div>"
      ],
      "text/plain": [
       "       prop_apartment  prop_house  prop_store  size_normal   size_xl  \\\n",
       "0            0.439803   -0.261289   -0.211392     0.170361 -0.027254   \n",
       "1            0.439803   -0.261289   -0.211392    -5.869896 -0.027254   \n",
       "2            0.439803   -0.261289   -0.211392     0.170361 -0.027254   \n",
       "3            0.439803   -0.261289   -0.211392     0.170361 -0.027254   \n",
       "4            0.439803   -0.261289   -0.211392     0.170361 -0.027254   \n",
       "...               ...         ...         ...          ...       ...   \n",
       "25594       -2.273746    3.827180   -0.211392     0.170361 -0.027254   \n",
       "25595        0.439803   -0.261289   -0.211392     0.170361 -0.027254   \n",
       "25596        0.439803   -0.261289   -0.211392     0.170361 -0.027254   \n",
       "25597        0.439803   -0.261289   -0.211392     0.170361 -0.027254   \n",
       "25598        0.439803   -0.261289   -0.211392     0.170361 -0.027254   \n",
       "\n",
       "       superficie_m2  ambientes  amenities       lat       lon  ...  \\\n",
       "0          -0.307016  -0.144835   0.835260 -1.070790 -0.739354  ...   \n",
       "1           1.464753   2.992099   0.835260  0.507727  1.196107  ...   \n",
       "2          -0.314873  -0.144835   0.835260 -0.720730  1.545324  ...   \n",
       "3          -0.287373   0.313390   0.835260 -0.596076 -0.838429  ...   \n",
       "4           0.007267   1.206293  -1.197232 -0.126484  0.283234  ...   \n",
       "...              ...        ...        ...       ...       ...  ...   \n",
       "25594      -0.157732  -0.579513   0.835260  2.134964 -1.136519  ...   \n",
       "25595      -0.169517  -0.144835  -1.197232 -1.205630  1.870297  ...   \n",
       "25596      -0.248088  -0.579513   0.835260  1.055636 -0.261855  ...   \n",
       "25597      -0.244160  -0.579513  -1.197232  0.436571  0.984410  ...   \n",
       "25598      -0.200946   0.313390   0.835260 -0.059999  0.254772  ...   \n",
       "\n",
       "       loc_Villa Luro  loc_Villa Ortuzar  loc_Villa Pueyrredón  \\\n",
       "0           -0.115847          -0.051227             -0.073889   \n",
       "1           -0.115847          -0.051227             -0.073889   \n",
       "2           -0.115847          -0.051227             -0.073889   \n",
       "3           -0.115847          -0.051227             -0.073889   \n",
       "4           -0.115847          -0.051227             -0.073889   \n",
       "...               ...                ...                   ...   \n",
       "25594       -0.115847          -0.051227             -0.073889   \n",
       "25595       -0.115847          -0.051227             -0.073889   \n",
       "25596       -0.115847          -0.051227             -0.073889   \n",
       "25597       -0.115847          -0.051227             -0.073889   \n",
       "25598       -0.115847          -0.051227             -0.073889   \n",
       "\n",
       "       loc_Villa Real  loc_Villa Riachuelo  loc_Villa Santa Rita  \\\n",
       "0           -0.034253            -0.013977             -0.041964   \n",
       "1           -0.034253            -0.013977             -0.041964   \n",
       "2           -0.034253            -0.013977             -0.041964   \n",
       "3           -0.034253            -0.013977             -0.041964   \n",
       "4           -0.034253            -0.013977             -0.041964   \n",
       "...               ...                  ...                   ...   \n",
       "25594       -0.034253            -0.013977             -0.041964   \n",
       "25595       -0.034253            -0.013977             -0.041964   \n",
       "25596       -0.034253            -0.013977             -0.041964   \n",
       "25597       -0.034253            -0.013977             -0.041964   \n",
       "25598       -0.034253            -0.013977             -0.041964   \n",
       "\n",
       "       loc_Villa Soldati  loc_Villa Urquiza  loc_Villa del Parque  \\\n",
       "0              -0.021656           -0.23233             -0.124219   \n",
       "1              -0.021656           -0.23233             -0.124219   \n",
       "2              -0.021656           -0.23233             -0.124219   \n",
       "3              -0.021656           -0.23233             -0.124219   \n",
       "4              -0.021656           -0.23233             -0.124219   \n",
       "...                  ...                ...                   ...   \n",
       "25594          -0.021656           -0.23233             -0.124219   \n",
       "25595          -0.021656           -0.23233             -0.124219   \n",
       "25596          -0.021656           -0.23233             -0.124219   \n",
       "25597          -0.021656           -0.23233             -0.124219   \n",
       "25598          -0.021656           -0.23233             -0.124219   \n",
       "\n",
       "       usd_stratify  \n",
       "0         -1.334790  \n",
       "1          1.350208  \n",
       "2         -0.439790  \n",
       "3         -1.334790  \n",
       "4          0.455209  \n",
       "...             ...  \n",
       "25594     -0.439790  \n",
       "25595     -0.439790  \n",
       "25596     -0.439790  \n",
       "25597      0.455209  \n",
       "25598     -0.439790  \n",
       "\n",
       "[25599 rows x 72 columns]"
      ]
     },
     "metadata": {},
     "output_type": "display_data"
    }
   ],
   "source": [
    "display(X_train)"
   ]
  },
  {
   "cell_type": "code",
   "execution_count": 227,
   "metadata": {},
   "outputs": [
    {
     "data": {
      "text/html": [
       "<div>\n",
       "<style scoped>\n",
       "    .dataframe tbody tr th:only-of-type {\n",
       "        vertical-align: middle;\n",
       "    }\n",
       "\n",
       "    .dataframe tbody tr th {\n",
       "        vertical-align: top;\n",
       "    }\n",
       "\n",
       "    .dataframe thead th {\n",
       "        text-align: right;\n",
       "    }\n",
       "</style>\n",
       "<table border=\"1\" class=\"dataframe\">\n",
       "  <thead>\n",
       "    <tr style=\"text-align: right;\">\n",
       "      <th></th>\n",
       "      <th>usd_m2</th>\n",
       "    </tr>\n",
       "  </thead>\n",
       "  <tbody>\n",
       "    <tr>\n",
       "      <th>0</th>\n",
       "      <td>0.063505</td>\n",
       "    </tr>\n",
       "    <tr>\n",
       "      <th>1</th>\n",
       "      <td>-2.325969</td>\n",
       "    </tr>\n",
       "    <tr>\n",
       "      <th>2</th>\n",
       "      <td>0.045897</td>\n",
       "    </tr>\n",
       "    <tr>\n",
       "      <th>3</th>\n",
       "      <td>-0.051567</td>\n",
       "    </tr>\n",
       "    <tr>\n",
       "      <th>4</th>\n",
       "      <td>-0.502603</td>\n",
       "    </tr>\n",
       "    <tr>\n",
       "      <th>...</th>\n",
       "      <td>...</td>\n",
       "    </tr>\n",
       "    <tr>\n",
       "      <th>25594</th>\n",
       "      <td>-0.316124</td>\n",
       "    </tr>\n",
       "    <tr>\n",
       "      <th>25595</th>\n",
       "      <td>-0.480667</td>\n",
       "    </tr>\n",
       "    <tr>\n",
       "      <th>25596</th>\n",
       "      <td>0.341347</td>\n",
       "    </tr>\n",
       "    <tr>\n",
       "      <th>25597</th>\n",
       "      <td>0.946237</td>\n",
       "    </tr>\n",
       "    <tr>\n",
       "      <th>25598</th>\n",
       "      <td>-0.097237</td>\n",
       "    </tr>\n",
       "  </tbody>\n",
       "</table>\n",
       "<p>25599 rows × 1 columns</p>\n",
       "</div>"
      ],
      "text/plain": [
       "         usd_m2\n",
       "0      0.063505\n",
       "1     -2.325969\n",
       "2      0.045897\n",
       "3     -0.051567\n",
       "4     -0.502603\n",
       "...         ...\n",
       "25594 -0.316124\n",
       "25595 -0.480667\n",
       "25596  0.341347\n",
       "25597  0.946237\n",
       "25598 -0.097237\n",
       "\n",
       "[25599 rows x 1 columns]"
      ]
     },
     "execution_count": 227,
     "metadata": {},
     "output_type": "execute_result"
    }
   ],
   "source": [
    "y_train"
   ]
  },
  {
   "cell_type": "markdown",
   "metadata": {},
   "source": [
    "Verificamos que estén normalizadas y verificamos que:\n",
    "\n",
    "   + $\\bar{x_{j}} \\approx 0$\n",
    "    \n",
    "   + $s_{j}=1.00002$"
   ]
  },
  {
   "cell_type": "code",
   "execution_count": 228,
   "metadata": {
    "scrolled": true
   },
   "outputs": [
    {
     "data": {
      "text/html": [
       "<div>\n",
       "<style scoped>\n",
       "    .dataframe tbody tr th:only-of-type {\n",
       "        vertical-align: middle;\n",
       "    }\n",
       "\n",
       "    .dataframe tbody tr th {\n",
       "        vertical-align: top;\n",
       "    }\n",
       "\n",
       "    .dataframe thead th {\n",
       "        text-align: right;\n",
       "    }\n",
       "</style>\n",
       "<table border=\"1\" class=\"dataframe\">\n",
       "  <thead>\n",
       "    <tr style=\"text-align: right;\">\n",
       "      <th></th>\n",
       "      <th>mean</th>\n",
       "      <th>std</th>\n",
       "    </tr>\n",
       "  </thead>\n",
       "  <tbody>\n",
       "    <tr>\n",
       "      <th>prop_apartment</th>\n",
       "      <td>1.312890e-16</td>\n",
       "      <td>1.00002</td>\n",
       "    </tr>\n",
       "    <tr>\n",
       "      <th>prop_house</th>\n",
       "      <td>-2.525856e-17</td>\n",
       "      <td>1.00002</td>\n",
       "    </tr>\n",
       "    <tr>\n",
       "      <th>prop_store</th>\n",
       "      <td>2.886693e-17</td>\n",
       "      <td>1.00002</td>\n",
       "    </tr>\n",
       "    <tr>\n",
       "      <th>size_normal</th>\n",
       "      <td>2.567491e-16</td>\n",
       "      <td>1.00002</td>\n",
       "    </tr>\n",
       "    <tr>\n",
       "      <th>size_xl</th>\n",
       "      <td>-1.332320e-17</td>\n",
       "      <td>1.00002</td>\n",
       "    </tr>\n",
       "    <tr>\n",
       "      <th>...</th>\n",
       "      <td>...</td>\n",
       "      <td>...</td>\n",
       "    </tr>\n",
       "    <tr>\n",
       "      <th>loc_Villa Santa Rita</th>\n",
       "      <td>9.853614e-18</td>\n",
       "      <td>1.00002</td>\n",
       "    </tr>\n",
       "    <tr>\n",
       "      <th>loc_Villa Soldati</th>\n",
       "      <td>-9.714831e-18</td>\n",
       "      <td>1.00002</td>\n",
       "    </tr>\n",
       "    <tr>\n",
       "      <th>loc_Villa Urquiza</th>\n",
       "      <td>3.185077e-17</td>\n",
       "      <td>1.00002</td>\n",
       "    </tr>\n",
       "    <tr>\n",
       "      <th>loc_Villa del Parque</th>\n",
       "      <td>1.484981e-17</td>\n",
       "      <td>1.00002</td>\n",
       "    </tr>\n",
       "    <tr>\n",
       "      <th>usd_stratify</th>\n",
       "      <td>7.313880e-17</td>\n",
       "      <td>1.00002</td>\n",
       "    </tr>\n",
       "  </tbody>\n",
       "</table>\n",
       "<p>72 rows × 2 columns</p>\n",
       "</div>"
      ],
      "text/plain": [
       "                              mean      std\n",
       "prop_apartment        1.312890e-16  1.00002\n",
       "prop_house           -2.525856e-17  1.00002\n",
       "prop_store            2.886693e-17  1.00002\n",
       "size_normal           2.567491e-16  1.00002\n",
       "size_xl              -1.332320e-17  1.00002\n",
       "...                            ...      ...\n",
       "loc_Villa Santa Rita  9.853614e-18  1.00002\n",
       "loc_Villa Soldati    -9.714831e-18  1.00002\n",
       "loc_Villa Urquiza     3.185077e-17  1.00002\n",
       "loc_Villa del Parque  1.484981e-17  1.00002\n",
       "usd_stratify          7.313880e-17  1.00002\n",
       "\n",
       "[72 rows x 2 columns]"
      ]
     },
     "execution_count": 228,
     "metadata": {},
     "output_type": "execute_result"
    }
   ],
   "source": [
    "X_train.apply(['mean','std']).T"
   ]
  },
  {
   "cell_type": "code",
   "execution_count": 229,
   "metadata": {
    "scrolled": true
   },
   "outputs": [
    {
     "data": {
      "text/html": [
       "<div>\n",
       "<style scoped>\n",
       "    .dataframe tbody tr th:only-of-type {\n",
       "        vertical-align: middle;\n",
       "    }\n",
       "\n",
       "    .dataframe tbody tr th {\n",
       "        vertical-align: top;\n",
       "    }\n",
       "\n",
       "    .dataframe thead th {\n",
       "        text-align: right;\n",
       "    }\n",
       "</style>\n",
       "<table border=\"1\" class=\"dataframe\">\n",
       "  <thead>\n",
       "    <tr style=\"text-align: right;\">\n",
       "      <th></th>\n",
       "      <th>mean</th>\n",
       "      <th>std</th>\n",
       "    </tr>\n",
       "  </thead>\n",
       "  <tbody>\n",
       "    <tr>\n",
       "      <th>usd_m2</th>\n",
       "      <td>-1.457225e-15</td>\n",
       "      <td>1.00002</td>\n",
       "    </tr>\n",
       "  </tbody>\n",
       "</table>\n",
       "</div>"
      ],
      "text/plain": [
       "                mean      std\n",
       "usd_m2 -1.457225e-15  1.00002"
      ]
     },
     "execution_count": 229,
     "metadata": {},
     "output_type": "execute_result"
    }
   ],
   "source": [
    "y_train.apply(['mean','std']).T"
   ]
  },
  {
   "cell_type": "code",
   "execution_count": 230,
   "metadata": {
    "scrolled": true
   },
   "outputs": [
    {
     "data": {
      "text/plain": [
       "PCA(copy=True, iterated_power='auto', n_components=None, random_state=None,\n",
       "    svd_solver='auto', tol=0.0, whiten=False)"
      ]
     },
     "execution_count": 230,
     "metadata": {},
     "output_type": "execute_result"
    }
   ],
   "source": [
    "from sklearn.decomposition import PCA\n",
    "\n",
    "# Instanciamos la clase PCA:\n",
    "pca_prop = PCA()\n",
    "\n",
    "# Al no especificar el número de componentes, PCA va a conservar todos los CP.\n",
    "\n",
    "# Calculamos los componentes principales con el método fit()\n",
    "pca_prop.fit(X_train)"
   ]
  },
  {
   "cell_type": "code",
   "execution_count": 231,
   "metadata": {},
   "outputs": [
    {
     "data": {
      "text/html": [
       "<div>\n",
       "<style scoped>\n",
       "    .dataframe tbody tr th:only-of-type {\n",
       "        vertical-align: middle;\n",
       "    }\n",
       "\n",
       "    .dataframe tbody tr th {\n",
       "        vertical-align: top;\n",
       "    }\n",
       "\n",
       "    .dataframe thead th {\n",
       "        text-align: right;\n",
       "    }\n",
       "</style>\n",
       "<table border=\"1\" class=\"dataframe\">\n",
       "  <thead>\n",
       "    <tr style=\"text-align: right;\">\n",
       "      <th></th>\n",
       "      <th>0</th>\n",
       "      <th>1</th>\n",
       "      <th>2</th>\n",
       "      <th>3</th>\n",
       "      <th>4</th>\n",
       "      <th>5</th>\n",
       "      <th>6</th>\n",
       "      <th>7</th>\n",
       "      <th>8</th>\n",
       "      <th>9</th>\n",
       "      <th>...</th>\n",
       "      <th>62</th>\n",
       "      <th>63</th>\n",
       "      <th>64</th>\n",
       "      <th>65</th>\n",
       "      <th>66</th>\n",
       "      <th>67</th>\n",
       "      <th>68</th>\n",
       "      <th>69</th>\n",
       "      <th>70</th>\n",
       "      <th>71</th>\n",
       "    </tr>\n",
       "  </thead>\n",
       "  <tbody>\n",
       "    <tr>\n",
       "      <th>prop_apartment</th>\n",
       "      <td>-0.453664</td>\n",
       "      <td>-0.098193</td>\n",
       "      <td>0.118972</td>\n",
       "      <td>0.332298</td>\n",
       "      <td>-0.074897</td>\n",
       "      <td>-0.149447</td>\n",
       "      <td>0.035292</td>\n",
       "      <td>-0.014177</td>\n",
       "      <td>0.016154</td>\n",
       "      <td>0.024352</td>\n",
       "      <td>...</td>\n",
       "      <td>0.136414</td>\n",
       "      <td>-0.017098</td>\n",
       "      <td>0.091875</td>\n",
       "      <td>0.137939</td>\n",
       "      <td>0.325079</td>\n",
       "      <td>-0.043108</td>\n",
       "      <td>-0.667223</td>\n",
       "      <td>-0.015546</td>\n",
       "      <td>-0.005480</td>\n",
       "      <td>0.002954</td>\n",
       "    </tr>\n",
       "    <tr>\n",
       "      <th>prop_house</th>\n",
       "      <td>0.420404</td>\n",
       "      <td>0.013304</td>\n",
       "      <td>-0.113284</td>\n",
       "      <td>-0.043560</td>\n",
       "      <td>-0.183125</td>\n",
       "      <td>0.189206</td>\n",
       "      <td>-0.269429</td>\n",
       "      <td>0.049144</td>\n",
       "      <td>0.026862</td>\n",
       "      <td>0.078583</td>\n",
       "      <td>...</td>\n",
       "      <td>-0.226075</td>\n",
       "      <td>0.223428</td>\n",
       "      <td>0.083999</td>\n",
       "      <td>-0.490443</td>\n",
       "      <td>-0.077556</td>\n",
       "      <td>-0.051947</td>\n",
       "      <td>-0.525237</td>\n",
       "      <td>-0.002170</td>\n",
       "      <td>-0.000375</td>\n",
       "      <td>-0.000605</td>\n",
       "    </tr>\n",
       "    <tr>\n",
       "      <th>prop_store</th>\n",
       "      <td>0.172938</td>\n",
       "      <td>0.095067</td>\n",
       "      <td>0.062567</td>\n",
       "      <td>-0.448794</td>\n",
       "      <td>0.384583</td>\n",
       "      <td>0.083133</td>\n",
       "      <td>0.259899</td>\n",
       "      <td>-0.079213</td>\n",
       "      <td>-0.036818</td>\n",
       "      <td>-0.083826</td>\n",
       "      <td>...</td>\n",
       "      <td>0.060916</td>\n",
       "      <td>-0.139782</td>\n",
       "      <td>-0.309636</td>\n",
       "      <td>0.198566</td>\n",
       "      <td>-0.048689</td>\n",
       "      <td>0.082111</td>\n",
       "      <td>-0.480004</td>\n",
       "      <td>-0.015267</td>\n",
       "      <td>-0.002593</td>\n",
       "      <td>0.000723</td>\n",
       "    </tr>\n",
       "    <tr>\n",
       "      <th>size_normal</th>\n",
       "      <td>-0.230799</td>\n",
       "      <td>0.116029</td>\n",
       "      <td>-0.196962</td>\n",
       "      <td>-0.302708</td>\n",
       "      <td>-0.083041</td>\n",
       "      <td>0.121577</td>\n",
       "      <td>0.035183</td>\n",
       "      <td>0.060601</td>\n",
       "      <td>0.002845</td>\n",
       "      <td>0.122430</td>\n",
       "      <td>...</td>\n",
       "      <td>0.007772</td>\n",
       "      <td>0.657587</td>\n",
       "      <td>0.095975</td>\n",
       "      <td>0.264851</td>\n",
       "      <td>0.175879</td>\n",
       "      <td>0.292435</td>\n",
       "      <td>0.023391</td>\n",
       "      <td>0.004051</td>\n",
       "      <td>0.002086</td>\n",
       "      <td>-0.000695</td>\n",
       "    </tr>\n",
       "    <tr>\n",
       "      <th>size_xl</th>\n",
       "      <td>0.177740</td>\n",
       "      <td>-0.010762</td>\n",
       "      <td>0.117796</td>\n",
       "      <td>0.407314</td>\n",
       "      <td>0.394928</td>\n",
       "      <td>-0.042009</td>\n",
       "      <td>0.143156</td>\n",
       "      <td>0.053820</td>\n",
       "      <td>-0.008682</td>\n",
       "      <td>0.052744</td>\n",
       "      <td>...</td>\n",
       "      <td>0.063885</td>\n",
       "      <td>0.470714</td>\n",
       "      <td>0.157811</td>\n",
       "      <td>0.186758</td>\n",
       "      <td>-0.408903</td>\n",
       "      <td>-0.258015</td>\n",
       "      <td>-0.062171</td>\n",
       "      <td>0.002319</td>\n",
       "      <td>0.004492</td>\n",
       "      <td>-0.000285</td>\n",
       "    </tr>\n",
       "    <tr>\n",
       "      <th>...</th>\n",
       "      <td>...</td>\n",
       "      <td>...</td>\n",
       "      <td>...</td>\n",
       "      <td>...</td>\n",
       "      <td>...</td>\n",
       "      <td>...</td>\n",
       "      <td>...</td>\n",
       "      <td>...</td>\n",
       "      <td>...</td>\n",
       "      <td>...</td>\n",
       "      <td>...</td>\n",
       "      <td>...</td>\n",
       "      <td>...</td>\n",
       "      <td>...</td>\n",
       "      <td>...</td>\n",
       "      <td>...</td>\n",
       "      <td>...</td>\n",
       "      <td>...</td>\n",
       "      <td>...</td>\n",
       "      <td>...</td>\n",
       "      <td>...</td>\n",
       "    </tr>\n",
       "    <tr>\n",
       "      <th>loc_Villa Santa Rita</th>\n",
       "      <td>0.014349</td>\n",
       "      <td>0.010726</td>\n",
       "      <td>-0.038619</td>\n",
       "      <td>-0.008280</td>\n",
       "      <td>-0.007075</td>\n",
       "      <td>0.004774</td>\n",
       "      <td>-0.017360</td>\n",
       "      <td>0.011155</td>\n",
       "      <td>0.002572</td>\n",
       "      <td>0.013478</td>\n",
       "      <td>...</td>\n",
       "      <td>0.025570</td>\n",
       "      <td>-0.018074</td>\n",
       "      <td>-0.017871</td>\n",
       "      <td>0.021426</td>\n",
       "      <td>0.015366</td>\n",
       "      <td>-0.005783</td>\n",
       "      <td>-0.011623</td>\n",
       "      <td>0.036467</td>\n",
       "      <td>0.010143</td>\n",
       "      <td>-0.044545</td>\n",
       "    </tr>\n",
       "    <tr>\n",
       "      <th>loc_Villa Soldati</th>\n",
       "      <td>0.060759</td>\n",
       "      <td>0.023375</td>\n",
       "      <td>0.025989</td>\n",
       "      <td>0.183540</td>\n",
       "      <td>0.209930</td>\n",
       "      <td>-0.055849</td>\n",
       "      <td>0.164299</td>\n",
       "      <td>0.057617</td>\n",
       "      <td>-0.029662</td>\n",
       "      <td>0.067158</td>\n",
       "      <td>...</td>\n",
       "      <td>-0.033830</td>\n",
       "      <td>-0.261554</td>\n",
       "      <td>-0.081903</td>\n",
       "      <td>-0.021721</td>\n",
       "      <td>-0.020008</td>\n",
       "      <td>-0.047598</td>\n",
       "      <td>-0.006935</td>\n",
       "      <td>0.011499</td>\n",
       "      <td>0.035524</td>\n",
       "      <td>-0.022217</td>\n",
       "    </tr>\n",
       "    <tr>\n",
       "      <th>loc_Villa Urquiza</th>\n",
       "      <td>-0.052978</td>\n",
       "      <td>-0.156697</td>\n",
       "      <td>-0.186531</td>\n",
       "      <td>0.041669</td>\n",
       "      <td>0.134976</td>\n",
       "      <td>0.017309</td>\n",
       "      <td>-0.059252</td>\n",
       "      <td>0.109803</td>\n",
       "      <td>0.435096</td>\n",
       "      <td>-0.153741</td>\n",
       "      <td>...</td>\n",
       "      <td>-0.137189</td>\n",
       "      <td>-0.038657</td>\n",
       "      <td>0.034465</td>\n",
       "      <td>0.029956</td>\n",
       "      <td>0.023555</td>\n",
       "      <td>-0.034188</td>\n",
       "      <td>0.000934</td>\n",
       "      <td>0.145066</td>\n",
       "      <td>-0.201129</td>\n",
       "      <td>-0.236146</td>\n",
       "    </tr>\n",
       "    <tr>\n",
       "      <th>loc_Villa del Parque</th>\n",
       "      <td>0.013310</td>\n",
       "      <td>-0.009082</td>\n",
       "      <td>-0.112088</td>\n",
       "      <td>0.038997</td>\n",
       "      <td>-0.041446</td>\n",
       "      <td>0.022333</td>\n",
       "      <td>0.073314</td>\n",
       "      <td>0.002581</td>\n",
       "      <td>-0.002233</td>\n",
       "      <td>-0.098749</td>\n",
       "      <td>...</td>\n",
       "      <td>0.031850</td>\n",
       "      <td>-0.032523</td>\n",
       "      <td>0.051297</td>\n",
       "      <td>-0.035836</td>\n",
       "      <td>0.011952</td>\n",
       "      <td>-0.006645</td>\n",
       "      <td>-0.002757</td>\n",
       "      <td>0.119084</td>\n",
       "      <td>-0.000712</td>\n",
       "      <td>-0.131443</td>\n",
       "    </tr>\n",
       "    <tr>\n",
       "      <th>usd_stratify</th>\n",
       "      <td>0.307280</td>\n",
       "      <td>-0.290667</td>\n",
       "      <td>0.217305</td>\n",
       "      <td>-0.170160</td>\n",
       "      <td>-0.287497</td>\n",
       "      <td>0.075930</td>\n",
       "      <td>0.218327</td>\n",
       "      <td>-0.039632</td>\n",
       "      <td>0.027298</td>\n",
       "      <td>0.051100</td>\n",
       "      <td>...</td>\n",
       "      <td>-0.065016</td>\n",
       "      <td>0.077185</td>\n",
       "      <td>0.052216</td>\n",
       "      <td>0.243373</td>\n",
       "      <td>0.397286</td>\n",
       "      <td>-0.592438</td>\n",
       "      <td>0.072947</td>\n",
       "      <td>0.006121</td>\n",
       "      <td>-0.004532</td>\n",
       "      <td>0.002270</td>\n",
       "    </tr>\n",
       "  </tbody>\n",
       "</table>\n",
       "<p>72 rows × 72 columns</p>\n",
       "</div>"
      ],
      "text/plain": [
       "                            0         1         2         3         4   \\\n",
       "prop_apartment       -0.453664 -0.098193  0.118972  0.332298 -0.074897   \n",
       "prop_house            0.420404  0.013304 -0.113284 -0.043560 -0.183125   \n",
       "prop_store            0.172938  0.095067  0.062567 -0.448794  0.384583   \n",
       "size_normal          -0.230799  0.116029 -0.196962 -0.302708 -0.083041   \n",
       "size_xl               0.177740 -0.010762  0.117796  0.407314  0.394928   \n",
       "...                        ...       ...       ...       ...       ...   \n",
       "loc_Villa Santa Rita  0.014349  0.010726 -0.038619 -0.008280 -0.007075   \n",
       "loc_Villa Soldati     0.060759  0.023375  0.025989  0.183540  0.209930   \n",
       "loc_Villa Urquiza    -0.052978 -0.156697 -0.186531  0.041669  0.134976   \n",
       "loc_Villa del Parque  0.013310 -0.009082 -0.112088  0.038997 -0.041446   \n",
       "usd_stratify          0.307280 -0.290667  0.217305 -0.170160 -0.287497   \n",
       "\n",
       "                            5         6         7         8         9   ...  \\\n",
       "prop_apartment       -0.149447  0.035292 -0.014177  0.016154  0.024352  ...   \n",
       "prop_house            0.189206 -0.269429  0.049144  0.026862  0.078583  ...   \n",
       "prop_store            0.083133  0.259899 -0.079213 -0.036818 -0.083826  ...   \n",
       "size_normal           0.121577  0.035183  0.060601  0.002845  0.122430  ...   \n",
       "size_xl              -0.042009  0.143156  0.053820 -0.008682  0.052744  ...   \n",
       "...                        ...       ...       ...       ...       ...  ...   \n",
       "loc_Villa Santa Rita  0.004774 -0.017360  0.011155  0.002572  0.013478  ...   \n",
       "loc_Villa Soldati    -0.055849  0.164299  0.057617 -0.029662  0.067158  ...   \n",
       "loc_Villa Urquiza     0.017309 -0.059252  0.109803  0.435096 -0.153741  ...   \n",
       "loc_Villa del Parque  0.022333  0.073314  0.002581 -0.002233 -0.098749  ...   \n",
       "usd_stratify          0.075930  0.218327 -0.039632  0.027298  0.051100  ...   \n",
       "\n",
       "                            62        63        64        65        66  \\\n",
       "prop_apartment        0.136414 -0.017098  0.091875  0.137939  0.325079   \n",
       "prop_house           -0.226075  0.223428  0.083999 -0.490443 -0.077556   \n",
       "prop_store            0.060916 -0.139782 -0.309636  0.198566 -0.048689   \n",
       "size_normal           0.007772  0.657587  0.095975  0.264851  0.175879   \n",
       "size_xl               0.063885  0.470714  0.157811  0.186758 -0.408903   \n",
       "...                        ...       ...       ...       ...       ...   \n",
       "loc_Villa Santa Rita  0.025570 -0.018074 -0.017871  0.021426  0.015366   \n",
       "loc_Villa Soldati    -0.033830 -0.261554 -0.081903 -0.021721 -0.020008   \n",
       "loc_Villa Urquiza    -0.137189 -0.038657  0.034465  0.029956  0.023555   \n",
       "loc_Villa del Parque  0.031850 -0.032523  0.051297 -0.035836  0.011952   \n",
       "usd_stratify         -0.065016  0.077185  0.052216  0.243373  0.397286   \n",
       "\n",
       "                            67        68        69        70        71  \n",
       "prop_apartment       -0.043108 -0.667223 -0.015546 -0.005480  0.002954  \n",
       "prop_house           -0.051947 -0.525237 -0.002170 -0.000375 -0.000605  \n",
       "prop_store            0.082111 -0.480004 -0.015267 -0.002593  0.000723  \n",
       "size_normal           0.292435  0.023391  0.004051  0.002086 -0.000695  \n",
       "size_xl              -0.258015 -0.062171  0.002319  0.004492 -0.000285  \n",
       "...                        ...       ...       ...       ...       ...  \n",
       "loc_Villa Santa Rita -0.005783 -0.011623  0.036467  0.010143 -0.044545  \n",
       "loc_Villa Soldati    -0.047598 -0.006935  0.011499  0.035524 -0.022217  \n",
       "loc_Villa Urquiza    -0.034188  0.000934  0.145066 -0.201129 -0.236146  \n",
       "loc_Villa del Parque -0.006645 -0.002757  0.119084 -0.000712 -0.131443  \n",
       "usd_stratify         -0.592438  0.072947  0.006121 -0.004532  0.002270  \n",
       "\n",
       "[72 rows x 72 columns]"
      ]
     },
     "execution_count": 231,
     "metadata": {},
     "output_type": "execute_result"
    }
   ],
   "source": [
    "# Creamos un DataFRame con los loadings:\n",
    "\n",
    "pca_loadings = pd.DataFrame(pca_prop.components_.T,index=X_train.columns)\n",
    "pca_loadings"
   ]
  },
  {
   "cell_type": "code",
   "execution_count": 232,
   "metadata": {},
   "outputs": [
    {
     "data": {
      "text/html": [
       "<div>\n",
       "<style scoped>\n",
       "    .dataframe tbody tr th:only-of-type {\n",
       "        vertical-align: middle;\n",
       "    }\n",
       "\n",
       "    .dataframe tbody tr th {\n",
       "        vertical-align: top;\n",
       "    }\n",
       "\n",
       "    .dataframe thead th {\n",
       "        text-align: right;\n",
       "    }\n",
       "</style>\n",
       "<table border=\"1\" class=\"dataframe\">\n",
       "  <thead>\n",
       "    <tr style=\"text-align: right;\">\n",
       "      <th></th>\n",
       "      <th>0</th>\n",
       "      <th>1</th>\n",
       "      <th>2</th>\n",
       "      <th>3</th>\n",
       "      <th>4</th>\n",
       "      <th>5</th>\n",
       "      <th>6</th>\n",
       "      <th>7</th>\n",
       "      <th>8</th>\n",
       "      <th>9</th>\n",
       "      <th>...</th>\n",
       "      <th>62</th>\n",
       "      <th>63</th>\n",
       "      <th>64</th>\n",
       "      <th>65</th>\n",
       "      <th>66</th>\n",
       "      <th>67</th>\n",
       "      <th>68</th>\n",
       "      <th>69</th>\n",
       "      <th>70</th>\n",
       "      <th>71</th>\n",
       "    </tr>\n",
       "  </thead>\n",
       "  <tbody>\n",
       "    <tr>\n",
       "      <th>0</th>\n",
       "      <td>1.000000e+00</td>\n",
       "      <td>-1.665335e-16</td>\n",
       "      <td>1.665335e-16</td>\n",
       "      <td>1.665335e-16</td>\n",
       "      <td>-1.526557e-16</td>\n",
       "      <td>3.469447e-17</td>\n",
       "      <td>-5.551115e-17</td>\n",
       "      <td>2.602085e-17</td>\n",
       "      <td>-1.734723e-18</td>\n",
       "      <td>6.245005e-17</td>\n",
       "      <td>...</td>\n",
       "      <td>5.898060e-17</td>\n",
       "      <td>9.020562e-17</td>\n",
       "      <td>1.769418e-16</td>\n",
       "      <td>-2.359224e-16</td>\n",
       "      <td>1.387779e-17</td>\n",
       "      <td>-5.551115e-17</td>\n",
       "      <td>-3.955170e-16</td>\n",
       "      <td>2.818926e-18</td>\n",
       "      <td>1.225148e-16</td>\n",
       "      <td>1.734723e-18</td>\n",
       "    </tr>\n",
       "    <tr>\n",
       "      <th>1</th>\n",
       "      <td>-1.665335e-16</td>\n",
       "      <td>1.000000e+00</td>\n",
       "      <td>-1.457168e-16</td>\n",
       "      <td>6.106227e-16</td>\n",
       "      <td>9.714451e-17</td>\n",
       "      <td>2.498002e-16</td>\n",
       "      <td>-6.938894e-17</td>\n",
       "      <td>1.387779e-16</td>\n",
       "      <td>-5.204170e-17</td>\n",
       "      <td>-1.179612e-16</td>\n",
       "      <td>...</td>\n",
       "      <td>-1.838807e-16</td>\n",
       "      <td>-3.608225e-16</td>\n",
       "      <td>1.387779e-17</td>\n",
       "      <td>-5.551115e-17</td>\n",
       "      <td>8.881784e-16</td>\n",
       "      <td>8.326673e-17</td>\n",
       "      <td>3.053113e-16</td>\n",
       "      <td>-3.124671e-16</td>\n",
       "      <td>-9.562663e-17</td>\n",
       "      <td>1.973248e-17</td>\n",
       "    </tr>\n",
       "    <tr>\n",
       "      <th>2</th>\n",
       "      <td>1.665335e-16</td>\n",
       "      <td>-1.457168e-16</td>\n",
       "      <td>1.000000e+00</td>\n",
       "      <td>-3.538836e-16</td>\n",
       "      <td>1.457168e-16</td>\n",
       "      <td>-1.092876e-16</td>\n",
       "      <td>-2.775558e-17</td>\n",
       "      <td>1.387779e-17</td>\n",
       "      <td>4.597017e-17</td>\n",
       "      <td>5.551115e-17</td>\n",
       "      <td>...</td>\n",
       "      <td>7.979728e-17</td>\n",
       "      <td>5.551115e-17</td>\n",
       "      <td>1.543904e-16</td>\n",
       "      <td>-1.942890e-16</td>\n",
       "      <td>-5.967449e-16</td>\n",
       "      <td>-5.551115e-17</td>\n",
       "      <td>-2.393918e-16</td>\n",
       "      <td>1.019150e-17</td>\n",
       "      <td>-7.936360e-17</td>\n",
       "      <td>1.228401e-16</td>\n",
       "    </tr>\n",
       "    <tr>\n",
       "      <th>3</th>\n",
       "      <td>1.665335e-16</td>\n",
       "      <td>6.106227e-16</td>\n",
       "      <td>-3.538836e-16</td>\n",
       "      <td>1.000000e+00</td>\n",
       "      <td>1.387779e-16</td>\n",
       "      <td>-1.942890e-16</td>\n",
       "      <td>4.857226e-17</td>\n",
       "      <td>1.214306e-16</td>\n",
       "      <td>-3.469447e-17</td>\n",
       "      <td>1.301043e-16</td>\n",
       "      <td>...</td>\n",
       "      <td>-1.734723e-16</td>\n",
       "      <td>7.285839e-17</td>\n",
       "      <td>1.561251e-16</td>\n",
       "      <td>1.457168e-16</td>\n",
       "      <td>1.387779e-17</td>\n",
       "      <td>-1.110223e-16</td>\n",
       "      <td>1.422473e-16</td>\n",
       "      <td>-2.493665e-16</td>\n",
       "      <td>-1.539567e-17</td>\n",
       "      <td>-1.653408e-17</td>\n",
       "    </tr>\n",
       "    <tr>\n",
       "      <th>4</th>\n",
       "      <td>-1.526557e-16</td>\n",
       "      <td>9.714451e-17</td>\n",
       "      <td>1.457168e-16</td>\n",
       "      <td>1.387779e-16</td>\n",
       "      <td>1.000000e+00</td>\n",
       "      <td>-2.046974e-16</td>\n",
       "      <td>9.714451e-17</td>\n",
       "      <td>1.231654e-16</td>\n",
       "      <td>-1.491862e-16</td>\n",
       "      <td>-2.914335e-16</td>\n",
       "      <td>...</td>\n",
       "      <td>-1.630640e-16</td>\n",
       "      <td>-1.387779e-16</td>\n",
       "      <td>-8.847090e-17</td>\n",
       "      <td>1.942890e-16</td>\n",
       "      <td>2.359224e-16</td>\n",
       "      <td>8.326673e-17</td>\n",
       "      <td>1.457168e-16</td>\n",
       "      <td>-7.177418e-17</td>\n",
       "      <td>-3.569194e-16</td>\n",
       "      <td>1.669671e-17</td>\n",
       "    </tr>\n",
       "    <tr>\n",
       "      <th>...</th>\n",
       "      <td>...</td>\n",
       "      <td>...</td>\n",
       "      <td>...</td>\n",
       "      <td>...</td>\n",
       "      <td>...</td>\n",
       "      <td>...</td>\n",
       "      <td>...</td>\n",
       "      <td>...</td>\n",
       "      <td>...</td>\n",
       "      <td>...</td>\n",
       "      <td>...</td>\n",
       "      <td>...</td>\n",
       "      <td>...</td>\n",
       "      <td>...</td>\n",
       "      <td>...</td>\n",
       "      <td>...</td>\n",
       "      <td>...</td>\n",
       "      <td>...</td>\n",
       "      <td>...</td>\n",
       "      <td>...</td>\n",
       "      <td>...</td>\n",
       "    </tr>\n",
       "    <tr>\n",
       "      <th>67</th>\n",
       "      <td>-5.551115e-17</td>\n",
       "      <td>8.326673e-17</td>\n",
       "      <td>-5.551115e-17</td>\n",
       "      <td>-1.110223e-16</td>\n",
       "      <td>8.326673e-17</td>\n",
       "      <td>9.714451e-17</td>\n",
       "      <td>-1.387779e-16</td>\n",
       "      <td>5.204170e-17</td>\n",
       "      <td>-2.428613e-17</td>\n",
       "      <td>-1.040834e-17</td>\n",
       "      <td>...</td>\n",
       "      <td>-1.249001e-16</td>\n",
       "      <td>-2.775558e-17</td>\n",
       "      <td>-1.387779e-17</td>\n",
       "      <td>-2.775558e-17</td>\n",
       "      <td>1.387779e-16</td>\n",
       "      <td>1.000000e+00</td>\n",
       "      <td>1.804112e-16</td>\n",
       "      <td>-3.365364e-16</td>\n",
       "      <td>-1.457168e-16</td>\n",
       "      <td>2.081668e-17</td>\n",
       "    </tr>\n",
       "    <tr>\n",
       "      <th>68</th>\n",
       "      <td>-3.955170e-16</td>\n",
       "      <td>3.053113e-16</td>\n",
       "      <td>-2.393918e-16</td>\n",
       "      <td>1.422473e-16</td>\n",
       "      <td>1.457168e-16</td>\n",
       "      <td>1.188286e-16</td>\n",
       "      <td>1.318390e-16</td>\n",
       "      <td>5.074066e-17</td>\n",
       "      <td>-1.170938e-17</td>\n",
       "      <td>-2.602085e-18</td>\n",
       "      <td>...</td>\n",
       "      <td>1.387779e-16</td>\n",
       "      <td>-1.110223e-16</td>\n",
       "      <td>5.551115e-17</td>\n",
       "      <td>-1.110223e-16</td>\n",
       "      <td>-6.938894e-16</td>\n",
       "      <td>1.804112e-16</td>\n",
       "      <td>1.000000e+00</td>\n",
       "      <td>-8.246713e-17</td>\n",
       "      <td>-8.088148e-17</td>\n",
       "      <td>3.545341e-17</td>\n",
       "    </tr>\n",
       "    <tr>\n",
       "      <th>69</th>\n",
       "      <td>2.818926e-18</td>\n",
       "      <td>-3.124671e-16</td>\n",
       "      <td>1.019150e-17</td>\n",
       "      <td>-2.493665e-16</td>\n",
       "      <td>-7.177418e-17</td>\n",
       "      <td>-5.891013e-16</td>\n",
       "      <td>-1.212138e-16</td>\n",
       "      <td>-1.160367e-16</td>\n",
       "      <td>1.190725e-16</td>\n",
       "      <td>1.222980e-16</td>\n",
       "      <td>...</td>\n",
       "      <td>-2.220446e-16</td>\n",
       "      <td>2.914335e-16</td>\n",
       "      <td>3.469447e-18</td>\n",
       "      <td>-1.405126e-16</td>\n",
       "      <td>-1.266348e-16</td>\n",
       "      <td>-3.365364e-16</td>\n",
       "      <td>-8.246713e-17</td>\n",
       "      <td>1.000000e+00</td>\n",
       "      <td>-8.165398e-17</td>\n",
       "      <td>-3.261280e-16</td>\n",
       "    </tr>\n",
       "    <tr>\n",
       "      <th>70</th>\n",
       "      <td>1.225148e-16</td>\n",
       "      <td>-9.562663e-17</td>\n",
       "      <td>-7.936360e-17</td>\n",
       "      <td>-1.539567e-17</td>\n",
       "      <td>-3.569194e-16</td>\n",
       "      <td>1.511920e-16</td>\n",
       "      <td>1.658829e-16</td>\n",
       "      <td>1.628743e-16</td>\n",
       "      <td>-2.148889e-16</td>\n",
       "      <td>8.367330e-17</td>\n",
       "      <td>...</td>\n",
       "      <td>-1.110223e-16</td>\n",
       "      <td>-2.844947e-16</td>\n",
       "      <td>1.040834e-17</td>\n",
       "      <td>1.387779e-17</td>\n",
       "      <td>7.979728e-17</td>\n",
       "      <td>-1.457168e-16</td>\n",
       "      <td>-8.088148e-17</td>\n",
       "      <td>-8.165398e-17</td>\n",
       "      <td>1.000000e+00</td>\n",
       "      <td>2.510064e-16</td>\n",
       "    </tr>\n",
       "    <tr>\n",
       "      <th>71</th>\n",
       "      <td>1.734723e-18</td>\n",
       "      <td>1.973248e-17</td>\n",
       "      <td>1.228401e-16</td>\n",
       "      <td>-1.653408e-17</td>\n",
       "      <td>1.669671e-17</td>\n",
       "      <td>-1.146544e-16</td>\n",
       "      <td>-3.604972e-16</td>\n",
       "      <td>1.875534e-16</td>\n",
       "      <td>-1.068346e-16</td>\n",
       "      <td>7.037827e-17</td>\n",
       "      <td>...</td>\n",
       "      <td>5.551115e-17</td>\n",
       "      <td>-5.681219e-17</td>\n",
       "      <td>1.075529e-16</td>\n",
       "      <td>-8.326673e-17</td>\n",
       "      <td>-3.469447e-17</td>\n",
       "      <td>2.081668e-17</td>\n",
       "      <td>3.545341e-17</td>\n",
       "      <td>-3.261280e-16</td>\n",
       "      <td>2.510064e-16</td>\n",
       "      <td>1.000000e+00</td>\n",
       "    </tr>\n",
       "  </tbody>\n",
       "</table>\n",
       "<p>72 rows × 72 columns</p>\n",
       "</div>"
      ],
      "text/plain": [
       "              0             1             2             3             4   \\\n",
       "0   1.000000e+00 -1.665335e-16  1.665335e-16  1.665335e-16 -1.526557e-16   \n",
       "1  -1.665335e-16  1.000000e+00 -1.457168e-16  6.106227e-16  9.714451e-17   \n",
       "2   1.665335e-16 -1.457168e-16  1.000000e+00 -3.538836e-16  1.457168e-16   \n",
       "3   1.665335e-16  6.106227e-16 -3.538836e-16  1.000000e+00  1.387779e-16   \n",
       "4  -1.526557e-16  9.714451e-17  1.457168e-16  1.387779e-16  1.000000e+00   \n",
       "..           ...           ...           ...           ...           ...   \n",
       "67 -5.551115e-17  8.326673e-17 -5.551115e-17 -1.110223e-16  8.326673e-17   \n",
       "68 -3.955170e-16  3.053113e-16 -2.393918e-16  1.422473e-16  1.457168e-16   \n",
       "69  2.818926e-18 -3.124671e-16  1.019150e-17 -2.493665e-16 -7.177418e-17   \n",
       "70  1.225148e-16 -9.562663e-17 -7.936360e-17 -1.539567e-17 -3.569194e-16   \n",
       "71  1.734723e-18  1.973248e-17  1.228401e-16 -1.653408e-17  1.669671e-17   \n",
       "\n",
       "              5             6             7             8             9   ...  \\\n",
       "0   3.469447e-17 -5.551115e-17  2.602085e-17 -1.734723e-18  6.245005e-17  ...   \n",
       "1   2.498002e-16 -6.938894e-17  1.387779e-16 -5.204170e-17 -1.179612e-16  ...   \n",
       "2  -1.092876e-16 -2.775558e-17  1.387779e-17  4.597017e-17  5.551115e-17  ...   \n",
       "3  -1.942890e-16  4.857226e-17  1.214306e-16 -3.469447e-17  1.301043e-16  ...   \n",
       "4  -2.046974e-16  9.714451e-17  1.231654e-16 -1.491862e-16 -2.914335e-16  ...   \n",
       "..           ...           ...           ...           ...           ...  ...   \n",
       "67  9.714451e-17 -1.387779e-16  5.204170e-17 -2.428613e-17 -1.040834e-17  ...   \n",
       "68  1.188286e-16  1.318390e-16  5.074066e-17 -1.170938e-17 -2.602085e-18  ...   \n",
       "69 -5.891013e-16 -1.212138e-16 -1.160367e-16  1.190725e-16  1.222980e-16  ...   \n",
       "70  1.511920e-16  1.658829e-16  1.628743e-16 -2.148889e-16  8.367330e-17  ...   \n",
       "71 -1.146544e-16 -3.604972e-16  1.875534e-16 -1.068346e-16  7.037827e-17  ...   \n",
       "\n",
       "              62            63            64            65            66  \\\n",
       "0   5.898060e-17  9.020562e-17  1.769418e-16 -2.359224e-16  1.387779e-17   \n",
       "1  -1.838807e-16 -3.608225e-16  1.387779e-17 -5.551115e-17  8.881784e-16   \n",
       "2   7.979728e-17  5.551115e-17  1.543904e-16 -1.942890e-16 -5.967449e-16   \n",
       "3  -1.734723e-16  7.285839e-17  1.561251e-16  1.457168e-16  1.387779e-17   \n",
       "4  -1.630640e-16 -1.387779e-16 -8.847090e-17  1.942890e-16  2.359224e-16   \n",
       "..           ...           ...           ...           ...           ...   \n",
       "67 -1.249001e-16 -2.775558e-17 -1.387779e-17 -2.775558e-17  1.387779e-16   \n",
       "68  1.387779e-16 -1.110223e-16  5.551115e-17 -1.110223e-16 -6.938894e-16   \n",
       "69 -2.220446e-16  2.914335e-16  3.469447e-18 -1.405126e-16 -1.266348e-16   \n",
       "70 -1.110223e-16 -2.844947e-16  1.040834e-17  1.387779e-17  7.979728e-17   \n",
       "71  5.551115e-17 -5.681219e-17  1.075529e-16 -8.326673e-17 -3.469447e-17   \n",
       "\n",
       "              67            68            69            70            71  \n",
       "0  -5.551115e-17 -3.955170e-16  2.818926e-18  1.225148e-16  1.734723e-18  \n",
       "1   8.326673e-17  3.053113e-16 -3.124671e-16 -9.562663e-17  1.973248e-17  \n",
       "2  -5.551115e-17 -2.393918e-16  1.019150e-17 -7.936360e-17  1.228401e-16  \n",
       "3  -1.110223e-16  1.422473e-16 -2.493665e-16 -1.539567e-17 -1.653408e-17  \n",
       "4   8.326673e-17  1.457168e-16 -7.177418e-17 -3.569194e-16  1.669671e-17  \n",
       "..           ...           ...           ...           ...           ...  \n",
       "67  1.000000e+00  1.804112e-16 -3.365364e-16 -1.457168e-16  2.081668e-17  \n",
       "68  1.804112e-16  1.000000e+00 -8.246713e-17 -8.088148e-17  3.545341e-17  \n",
       "69 -3.365364e-16 -8.246713e-17  1.000000e+00 -8.165398e-17 -3.261280e-16  \n",
       "70 -1.457168e-16 -8.088148e-17 -8.165398e-17  1.000000e+00  2.510064e-16  \n",
       "71  2.081668e-17  3.545341e-17 -3.261280e-16  2.510064e-16  1.000000e+00  \n",
       "\n",
       "[72 rows x 72 columns]"
      ]
     },
     "execution_count": 232,
     "metadata": {},
     "output_type": "execute_result"
    }
   ],
   "source": [
    "# Verificamos la ortonormalidad de los componentes principales:\n",
    "\n",
    "pca_loadings.T.dot(pca_loadings)"
   ]
  },
  {
   "cell_type": "code",
   "execution_count": 233,
   "metadata": {},
   "outputs": [
    {
     "data": {
      "text/html": [
       "<div>\n",
       "<style scoped>\n",
       "    .dataframe tbody tr th:only-of-type {\n",
       "        vertical-align: middle;\n",
       "    }\n",
       "\n",
       "    .dataframe tbody tr th {\n",
       "        vertical-align: top;\n",
       "    }\n",
       "\n",
       "    .dataframe thead th {\n",
       "        text-align: right;\n",
       "    }\n",
       "</style>\n",
       "<table border=\"1\" class=\"dataframe\">\n",
       "  <thead>\n",
       "    <tr style=\"text-align: right;\">\n",
       "      <th></th>\n",
       "      <th>0</th>\n",
       "      <th>1</th>\n",
       "      <th>2</th>\n",
       "      <th>3</th>\n",
       "      <th>4</th>\n",
       "      <th>5</th>\n",
       "      <th>6</th>\n",
       "      <th>7</th>\n",
       "      <th>8</th>\n",
       "      <th>9</th>\n",
       "      <th>...</th>\n",
       "      <th>62</th>\n",
       "      <th>63</th>\n",
       "      <th>64</th>\n",
       "      <th>65</th>\n",
       "      <th>66</th>\n",
       "      <th>67</th>\n",
       "      <th>68</th>\n",
       "      <th>69</th>\n",
       "      <th>70</th>\n",
       "      <th>71</th>\n",
       "    </tr>\n",
       "  </thead>\n",
       "  <tbody>\n",
       "    <tr>\n",
       "      <th>0</th>\n",
       "      <td>-0.735940</td>\n",
       "      <td>1.336216</td>\n",
       "      <td>-1.426377</td>\n",
       "      <td>1.298632</td>\n",
       "      <td>-0.465681</td>\n",
       "      <td>-0.201410</td>\n",
       "      <td>0.592986</td>\n",
       "      <td>-0.249753</td>\n",
       "      <td>-1.066872</td>\n",
       "      <td>-2.869718</td>\n",
       "      <td>...</td>\n",
       "      <td>-0.043562</td>\n",
       "      <td>0.226331</td>\n",
       "      <td>-0.330270</td>\n",
       "      <td>-0.146351</td>\n",
       "      <td>-0.229240</td>\n",
       "      <td>0.296203</td>\n",
       "      <td>-0.129245</td>\n",
       "      <td>0.011522</td>\n",
       "      <td>0.000198</td>\n",
       "      <td>-0.003427</td>\n",
       "    </tr>\n",
       "    <tr>\n",
       "      <th>1</th>\n",
       "      <td>2.765105</td>\n",
       "      <td>-2.208398</td>\n",
       "      <td>3.649853</td>\n",
       "      <td>1.825990</td>\n",
       "      <td>-1.089415</td>\n",
       "      <td>-2.414393</td>\n",
       "      <td>0.404415</td>\n",
       "      <td>-0.948322</td>\n",
       "      <td>1.556484</td>\n",
       "      <td>-1.629889</td>\n",
       "      <td>...</td>\n",
       "      <td>-0.691835</td>\n",
       "      <td>-3.213876</td>\n",
       "      <td>-0.976569</td>\n",
       "      <td>-0.344009</td>\n",
       "      <td>-0.714632</td>\n",
       "      <td>-0.174183</td>\n",
       "      <td>-0.227166</td>\n",
       "      <td>0.053051</td>\n",
       "      <td>0.082663</td>\n",
       "      <td>-0.000874</td>\n",
       "    </tr>\n",
       "    <tr>\n",
       "      <th>2</th>\n",
       "      <td>-1.219496</td>\n",
       "      <td>1.569896</td>\n",
       "      <td>1.656407</td>\n",
       "      <td>0.586057</td>\n",
       "      <td>-0.180554</td>\n",
       "      <td>0.901207</td>\n",
       "      <td>-1.795428</td>\n",
       "      <td>0.134442</td>\n",
       "      <td>-0.407055</td>\n",
       "      <td>-0.464060</td>\n",
       "      <td>...</td>\n",
       "      <td>-0.956117</td>\n",
       "      <td>0.002988</td>\n",
       "      <td>-0.030454</td>\n",
       "      <td>0.687763</td>\n",
       "      <td>-0.027642</td>\n",
       "      <td>-0.116239</td>\n",
       "      <td>-0.044474</td>\n",
       "      <td>-0.034171</td>\n",
       "      <td>0.021971</td>\n",
       "      <td>-0.001721</td>\n",
       "    </tr>\n",
       "    <tr>\n",
       "      <th>3</th>\n",
       "      <td>-0.636560</td>\n",
       "      <td>0.949474</td>\n",
       "      <td>-1.443332</td>\n",
       "      <td>1.250091</td>\n",
       "      <td>-0.510793</td>\n",
       "      <td>-0.356477</td>\n",
       "      <td>0.516552</td>\n",
       "      <td>-0.222235</td>\n",
       "      <td>-1.067110</td>\n",
       "      <td>-2.902103</td>\n",
       "      <td>...</td>\n",
       "      <td>-0.159212</td>\n",
       "      <td>0.175728</td>\n",
       "      <td>-0.221130</td>\n",
       "      <td>0.040806</td>\n",
       "      <td>-0.355780</td>\n",
       "      <td>0.508353</td>\n",
       "      <td>-0.182048</td>\n",
       "      <td>0.014140</td>\n",
       "      <td>0.346375</td>\n",
       "      <td>0.001225</td>\n",
       "    </tr>\n",
       "    <tr>\n",
       "      <th>4</th>\n",
       "      <td>0.013874</td>\n",
       "      <td>0.308829</td>\n",
       "      <td>0.405500</td>\n",
       "      <td>-0.327270</td>\n",
       "      <td>-0.150875</td>\n",
       "      <td>-1.608170</td>\n",
       "      <td>-0.765897</td>\n",
       "      <td>0.191854</td>\n",
       "      <td>0.279029</td>\n",
       "      <td>0.661098</td>\n",
       "      <td>...</td>\n",
       "      <td>-0.792552</td>\n",
       "      <td>-0.156532</td>\n",
       "      <td>0.727705</td>\n",
       "      <td>0.888916</td>\n",
       "      <td>0.378780</td>\n",
       "      <td>-0.095255</td>\n",
       "      <td>-0.166239</td>\n",
       "      <td>-0.061343</td>\n",
       "      <td>0.121274</td>\n",
       "      <td>0.002196</td>\n",
       "    </tr>\n",
       "  </tbody>\n",
       "</table>\n",
       "<p>5 rows × 72 columns</p>\n",
       "</div>"
      ],
      "text/plain": [
       "         0         1         2         3         4         5         6   \\\n",
       "0 -0.735940  1.336216 -1.426377  1.298632 -0.465681 -0.201410  0.592986   \n",
       "1  2.765105 -2.208398  3.649853  1.825990 -1.089415 -2.414393  0.404415   \n",
       "2 -1.219496  1.569896  1.656407  0.586057 -0.180554  0.901207 -1.795428   \n",
       "3 -0.636560  0.949474 -1.443332  1.250091 -0.510793 -0.356477  0.516552   \n",
       "4  0.013874  0.308829  0.405500 -0.327270 -0.150875 -1.608170 -0.765897   \n",
       "\n",
       "         7         8         9   ...        62        63        64        65  \\\n",
       "0 -0.249753 -1.066872 -2.869718  ... -0.043562  0.226331 -0.330270 -0.146351   \n",
       "1 -0.948322  1.556484 -1.629889  ... -0.691835 -3.213876 -0.976569 -0.344009   \n",
       "2  0.134442 -0.407055 -0.464060  ... -0.956117  0.002988 -0.030454  0.687763   \n",
       "3 -0.222235 -1.067110 -2.902103  ... -0.159212  0.175728 -0.221130  0.040806   \n",
       "4  0.191854  0.279029  0.661098  ... -0.792552 -0.156532  0.727705  0.888916   \n",
       "\n",
       "         66        67        68        69        70        71  \n",
       "0 -0.229240  0.296203 -0.129245  0.011522  0.000198 -0.003427  \n",
       "1 -0.714632 -0.174183 -0.227166  0.053051  0.082663 -0.000874  \n",
       "2 -0.027642 -0.116239 -0.044474 -0.034171  0.021971 -0.001721  \n",
       "3 -0.355780  0.508353 -0.182048  0.014140  0.346375  0.001225  \n",
       "4  0.378780 -0.095255 -0.166239 -0.061343  0.121274  0.002196  \n",
       "\n",
       "[5 rows x 72 columns]"
      ]
     },
     "execution_count": 233,
     "metadata": {},
     "output_type": "execute_result"
    }
   ],
   "source": [
    "# Generamos un DataFrame expresando en términos de nuestros componentes principales:\n",
    "\n",
    "df_pca = pd.DataFrame(pca_prop.fit_transform(X_train),\n",
    "                      index=X_train.index)\n",
    "df_pca.head()"
   ]
  },
  {
   "cell_type": "code",
   "execution_count": 234,
   "metadata": {},
   "outputs": [
    {
     "name": "stdout",
     "output_type": "stream",
     "text": [
      "Media de los CP: \n",
      "0     3.739082e-16\n",
      "1     5.356819e-17\n",
      "2     4.514469e-17\n",
      "3    -4.785422e-17\n",
      "4     4.465244e-17\n",
      "          ...     \n",
      "67    6.117308e-18\n",
      "68   -1.146318e-16\n",
      "69   -1.481620e-18\n",
      "70    3.353894e-17\n",
      "71   -1.835035e-17\n",
      "Length: 72, dtype: float64\n",
      "\n",
      "\n",
      "Varianza de los CPs: \n",
      "0     2.725674\n",
      "1     2.217945\n",
      "2     2.092938\n",
      "3     1.508628\n",
      "4     1.442084\n",
      "        ...   \n",
      "67    0.308683\n",
      "68    0.184911\n",
      "69    0.033812\n",
      "70    0.030440\n",
      "71    0.003609\n",
      "Length: 72, dtype: float64\n"
     ]
    }
   ],
   "source": [
    "# Observamos la media de las variables:\n",
    "print(\"Media de los CP: \")\n",
    "print(df_pca.mean(axis=0))\n",
    "\n",
    "print('\\n')\n",
    "\n",
    "# Observamos la varianza de las variables:\n",
    "print(\"Varianza de los CPs: \")\n",
    "print(df_pca.var(axis=0))"
   ]
  },
  {
   "cell_type": "code",
   "execution_count": 235,
   "metadata": {},
   "outputs": [
    {
     "data": {
      "text/plain": [
       "array([2.726, 2.218, 2.093, 1.509, 1.442, 1.222, 1.139, 1.096, 1.071,\n",
       "       1.068, 1.061, 1.046, 1.043, 1.042, 1.039, 1.035, 1.032, 1.027,\n",
       "       1.024, 1.022, 1.021, 1.018, 1.018, 1.016, 1.015, 1.014, 1.014,\n",
       "       1.013, 1.012, 1.012, 1.011, 1.01 , 1.01 , 1.009, 1.009, 1.008,\n",
       "       1.008, 1.007, 1.007, 1.006, 1.006, 1.006, 1.005, 1.005, 1.004,\n",
       "       1.004, 1.003, 1.003, 1.003, 1.002, 1.002, 1.002, 1.002, 1.002,\n",
       "       1.002, 1.002, 1.001, 1.001, 1.   , 1.   , 0.945, 0.928, 0.869,\n",
       "       0.791, 0.734, 0.572, 0.356, 0.309, 0.185, 0.034, 0.03 , 0.004])"
      ]
     },
     "execution_count": 235,
     "metadata": {},
     "output_type": "execute_result"
    }
   ],
   "source": [
    "# Vemos la varianza explicada de cada componente principal como atributo del modelo.\n",
    "\n",
    "pca_prop.explained_variance_"
   ]
  },
  {
   "cell_type": "code",
   "execution_count": 236,
   "metadata": {},
   "outputs": [
    {
     "data": {
      "text/plain": [
       "array([0.038, 0.031, 0.029, 0.021, 0.02 , 0.017, 0.016, 0.015, 0.015,\n",
       "       0.015, 0.015, 0.015, 0.014, 0.014, 0.014, 0.014, 0.014, 0.014,\n",
       "       0.014, 0.014, 0.014, 0.014, 0.014, 0.014, 0.014, 0.014, 0.014,\n",
       "       0.014, 0.014, 0.014, 0.014, 0.014, 0.014, 0.014, 0.014, 0.014,\n",
       "       0.014, 0.014, 0.014, 0.014, 0.014, 0.014, 0.014, 0.014, 0.014,\n",
       "       0.014, 0.014, 0.014, 0.014, 0.014, 0.014, 0.014, 0.014, 0.014,\n",
       "       0.014, 0.014, 0.014, 0.014, 0.014, 0.014, 0.013, 0.013, 0.012,\n",
       "       0.011, 0.01 , 0.008, 0.005, 0.004, 0.003, 0.   , 0.   , 0.   ])"
      ]
     },
     "execution_count": 236,
     "metadata": {},
     "output_type": "execute_result"
    }
   ],
   "source": [
    "# Vemos el ratio la varianza explicada de cada componente principal como atributo del modelo.\n",
    "\n",
    "pca_prop.explained_variance_ratio_"
   ]
  },
  {
   "cell_type": "code",
   "execution_count": 237,
   "metadata": {},
   "outputs": [
    {
     "data": {
      "text/plain": [
       "array([0.038, 0.069, 0.098, 0.119, 0.139, 0.156, 0.171, 0.187, 0.202,\n",
       "       0.216, 0.231, 0.246, 0.26 , 0.275, 0.289, 0.303, 0.318, 0.332,\n",
       "       0.346, 0.36 , 0.375, 0.389, 0.403, 0.417, 0.431, 0.445, 0.459,\n",
       "       0.473, 0.487, 0.501, 0.516, 0.53 , 0.544, 0.558, 0.572, 0.586,\n",
       "       0.6  , 0.614, 0.628, 0.642, 0.656, 0.669, 0.683, 0.697, 0.711,\n",
       "       0.725, 0.739, 0.753, 0.767, 0.781, 0.795, 0.809, 0.823, 0.837,\n",
       "       0.851, 0.864, 0.878, 0.892, 0.906, 0.92 , 0.933, 0.946, 0.958,\n",
       "       0.969, 0.979, 0.987, 0.992, 0.996, 0.999, 1.   , 1.   , 1.   ])"
      ]
     },
     "execution_count": 237,
     "metadata": {},
     "output_type": "execute_result"
    }
   ],
   "source": [
    "# Vemos el ratio acumulado de variaza explicada. El \n",
    "\n",
    "np.cumsum(pca_prop.explained_variance_ratio_)"
   ]
  },
  {
   "cell_type": "markdown",
   "metadata": {},
   "source": [
    "Vemos que el 80% de la varianza se explica usando hasta la componente 55. Probamos un modelo de regresión con estas variables nuevas."
   ]
  },
  {
   "cell_type": "code",
   "execution_count": 238,
   "metadata": {},
   "outputs": [],
   "source": [
    "pca_prop = PCA(n_components=55, svd_solver=\"full\")"
   ]
  },
  {
   "cell_type": "code",
   "execution_count": 239,
   "metadata": {},
   "outputs": [
    {
     "data": {
      "text/plain": [
       "PCA(copy=True, iterated_power='auto', n_components=55, random_state=None,\n",
       "    svd_solver='full', tol=0.0, whiten=False)"
      ]
     },
     "execution_count": 239,
     "metadata": {},
     "output_type": "execute_result"
    }
   ],
   "source": [
    "pca_prop.fit(X_train)"
   ]
  },
  {
   "cell_type": "code",
   "execution_count": 240,
   "metadata": {},
   "outputs": [],
   "source": [
    "df_pca = pd.DataFrame(pca_prop.fit_transform(X_train),\n",
    "                      index=X_train.index)"
   ]
  },
  {
   "cell_type": "markdown",
   "metadata": {},
   "source": [
    "Instanciamos el modelo"
   ]
  },
  {
   "cell_type": "code",
   "execution_count": 241,
   "metadata": {},
   "outputs": [],
   "source": [
    "lm_pca = LinearRegression()"
   ]
  },
  {
   "cell_type": "markdown",
   "metadata": {},
   "source": [
    "Fiteamos el modelo, para que aprenda de los datos."
   ]
  },
  {
   "cell_type": "code",
   "execution_count": 242,
   "metadata": {},
   "outputs": [],
   "source": [
    "model = lm_pca.fit(df_pca, y_train)"
   ]
  },
  {
   "cell_type": "markdown",
   "metadata": {},
   "source": [
    "El modelo ya determinó sus coeficientes de regresión (betas). Los vemos"
   ]
  },
  {
   "cell_type": "code",
   "execution_count": 243,
   "metadata": {},
   "outputs": [
    {
     "name": "stdout",
     "output_type": "stream",
     "text": [
      "Intercept Linear model:  [-0.] \n",
      " Coefs Linear model: [[-0.264 -0.14   0.132 -0.056 -0.145  0.206  0.264 -0.08   0.037  0.043\n",
      "   0.097  0.042 -0.008  0.002 -0.041 -0.049 -0.022  0.017  0.05   0.031\n",
      "  -0.007 -0.031 -0.043 -0.001  0.023  0.054  0.011  0.    -0.008 -0.001\n",
      "   0.014  0.003 -0.006  0.017 -0.026 -0.011  0.026  0.011  0.009  0.008\n",
      "  -0.009 -0.009  0.001 -0.004 -0.004  0.003 -0.009 -0.005  0.01  -0.\n",
      "   0.018 -0.002 -0.004 -0.007  0.006]] \n",
      "\n"
     ]
    }
   ],
   "source": [
    "np.set_printoptions(precision=3, suppress=True)\n",
    "\n",
    "print('Intercept Linear model: ',lm_pca.intercept_,'\\n',\n",
    "      'Coefs Linear model:',lm_pca.coef_,'\\n')"
   ]
  },
  {
   "cell_type": "markdown",
   "metadata": {},
   "source": [
    "Vemos la performance del modelo sobre sus propios datos de train"
   ]
  },
  {
   "cell_type": "code",
   "execution_count": 244,
   "metadata": {
    "scrolled": true
   },
   "outputs": [
    {
     "name": "stdout",
     "output_type": "stream",
     "text": [
      " Score Train Lineal PCA: 0.47586\n",
      "\n",
      " Train RMSE lineal PCA  : 0.72397 \n",
      "\n",
      " MAE: 0.48489\n",
      "\n",
      " MSE: 0.52414\n",
      "\n"
     ]
    }
   ],
   "source": [
    "# Calculamos el R2\n",
    "print(\" Score Train Lineal PCA: %.5f\\n\" % lm_pca.score(df_pca, y_train))\n",
    "\n",
    "# Calculamos el RMSE\n",
    "y_pred_tr_lm_pca = lm_pca.predict(df_pca)\n",
    "rmse = lambda y, y_pred: np.sqrt(mean_squared_error(y, y_pred))\n",
    "print(\" Train RMSE lineal PCA  : %.5f \\n\" % rmse(y_train,y_pred_tr_lm_pca))\n",
    "\n",
    "# Calculamos el MAE\n",
    "print (' MAE: %.5f\\n' % metrics.mean_absolute_error(y_train,y_pred_tr_lm_pca))\n",
    "\n",
    "# Calculamos el MSE\n",
    "print (' MSE: %.5f\\n' % metrics.mean_squared_error(y_train,y_pred_tr_lm_pca))"
   ]
  },
  {
   "cell_type": "markdown",
   "metadata": {},
   "source": [
    "Evaluamos sobre el set de test, pasandolo a términos del PCA\n",
    "\n"
   ]
  },
  {
   "cell_type": "code",
   "execution_count": 245,
   "metadata": {},
   "outputs": [],
   "source": [
    "X_test_aux = pca_prop.transform(X_test)\n",
    "X_test = pd.DataFrame(X_test_aux)"
   ]
  },
  {
   "cell_type": "code",
   "execution_count": 246,
   "metadata": {
    "scrolled": true
   },
   "outputs": [
    {
     "name": "stdout",
     "output_type": "stream",
     "text": [
      " Score Test Lineal PCA: 0.47656\n",
      "\n",
      " Test RMSE Lineal PCA= 1\n",
      "\n"
     ]
    }
   ],
   "source": [
    "# Hacemos las predicciones sobre la matriz de predictores del Test Set\n",
    "y_pred_lm_pca = lm_pca.predict(X_test)\n",
    "\n",
    "print(\" Score Test Lineal PCA: %.5f\\n\" % lm_pca.score(X_test, y_test))\n",
    "print(\" Test RMSE Lineal PCA= %.f\\n\" % rmse(y_test, y_pred_lm_pca))"
   ]
  },
  {
   "cell_type": "code",
   "execution_count": null,
   "metadata": {},
   "outputs": [],
   "source": []
  },
  {
   "cell_type": "markdown",
   "metadata": {},
   "source": [
    "## 9. Selección del mejor modelo"
   ]
  },
  {
   "cell_type": "code",
   "execution_count": 247,
   "metadata": {},
   "outputs": [],
   "source": [
    "#EL modelo elegido es COMPLETAR"
   ]
  },
  {
   "cell_type": "markdown",
   "metadata": {},
   "source": [
    "## 10. Análisis de los resultados\n",
    "\n"
   ]
  },
  {
   "cell_type": "markdown",
   "metadata": {},
   "source": [
    "# Conseguir predicciones\n",
    "debemos poder predecir una propiedad, pero nuestro modelo requiere 785 features... además debemos proveer lat-lon lo que no es un valor muy frecuente para conseguir... armaremos una funcion que facilite esta tarea"
   ]
  },
  {
   "cell_type": "code",
   "execution_count": 248,
   "metadata": {
    "scrolled": true
   },
   "outputs": [],
   "source": [
    "features_needed = feature_cols[1:]"
   ]
  },
  {
   "cell_type": "markdown",
   "metadata": {},
   "source": [
    "### vector de datos a predecir"
   ]
  },
  {
   "cell_type": "code",
   "execution_count": 249,
   "metadata": {},
   "outputs": [],
   "source": [
    "def name(**variables):\n",
    "    ''' esta funcion nos devuelve el nombre de una variable en string, para poder concatenar con su valor'''\n",
    "    return [x for x in variables][0]"
   ]
  },
  {
   "cell_type": "code",
   "execution_count": 251,
   "metadata": {},
   "outputs": [],
   "source": [
    "def datos_nuevos(loc_):\n",
    "    global new_data,prop_,size_,superficie_m2,ambientes,amenities\n",
    "    new_data = []\n",
    "\n",
    "    for i in list(features_needed):\n",
    "        new_prop = name(prop_=prop_)+prop_\n",
    "        new_size = name(size_=size_)+size_\n",
    "        new_loc = name(loc_=loc_)+loc_\n",
    "\n",
    "        x=0\n",
    "        if i == new_prop:          x = 1\n",
    "        elif i == new_size:        x = 1\n",
    "        elif i == 'superficie_m2': x = superficie_m2\n",
    "        elif i == 'ambientes':     x = ambientes\n",
    "        elif i == 'amenities':     x = amenities\n",
    "        elif i == new_loc:        x = 1\n",
    "        new_data.append(x)\n",
    "        \n",
    "    # acomodamos el shape\n",
    "    new_data = [new_data]\n",
    "    # estandarizamos los valores\n",
    "    new_data = stdscaler_X_selec.transform(new_data)\n",
    "    new_data = pd.DataFrame(new_data)\n",
    "    # renombramos las columnas para poder filtrar la lista de significativas\n",
    "    new_data.columns = features_needed\n",
    "    # filtramos las significativas obtenidas\n",
    "    X_new = new_data.reindex(lista_betas,axis=1)\n",
    "    # predecimos\n",
    "    prediccion = model2.predict(X_new)\n",
    "    # desescalamos el y con stdscaler.inverse\n",
    "    prediccion = np.round(np.exp(stdscaler_y_selec.inverse_transform(prediccion)[0][0]),2)\n",
    "    # elevando e a la predicción nos entrega el valor predicho\n",
    "    return prediccion"
   ]
  },
  {
   "cell_type": "markdown",
   "metadata": {},
   "source": [
    "### predictor terminado"
   ]
  },
  {
   "cell_type": "markdown",
   "metadata": {},
   "source": [
    "#### establecemos las features que serán solicitadas"
   ]
  },
  {
   "cell_type": "code",
   "execution_count": 253,
   "metadata": {},
   "outputs": [],
   "source": [
    "prop_ = 'apartment'\n",
    "size_ = 'normal'\n",
    "superficie_m2 = 110\n",
    "ambientes = 2\n",
    "amenities = 1"
   ]
  },
  {
   "cell_type": "code",
   "execution_count": 254,
   "metadata": {
    "scrolled": true
   },
   "outputs": [
    {
     "data": {
      "text/plain": [
       "2138.41"
      ]
     },
     "execution_count": 254,
     "metadata": {},
     "output_type": "execute_result"
    }
   ],
   "source": [
    "datos_nuevos('Almagro')"
   ]
  },
  {
   "cell_type": "code",
   "execution_count": 255,
   "metadata": {},
   "outputs": [
    {
     "name": "stdout",
     "output_type": "stream",
     "text": [
      "R2 Score Train Lineal: 0.48938\n",
      "\n"
     ]
    }
   ],
   "source": [
    "# Calculamos el R2\n",
    "print(\"R2 Score Train Lineal: %.5f\\n\" % model_selected.score(X_test_selec, y_test_selec))"
   ]
  },
  {
   "cell_type": "markdown",
   "metadata": {},
   "source": [
    "### Palermo"
   ]
  },
  {
   "cell_type": "code",
   "execution_count": 256,
   "metadata": {},
   "outputs": [
    {
     "data": {
      "text/plain": [
       "2903.28"
      ]
     },
     "execution_count": 256,
     "metadata": {},
     "output_type": "execute_result"
    }
   ],
   "source": [
    "datos_nuevos('Palermo')"
   ]
  },
  {
   "cell_type": "markdown",
   "metadata": {},
   "source": [
    "### Puerto Madero"
   ]
  },
  {
   "cell_type": "code",
   "execution_count": 257,
   "metadata": {},
   "outputs": [
    {
     "data": {
      "text/plain": [
       "6302.78"
      ]
     },
     "execution_count": 257,
     "metadata": {},
     "output_type": "execute_result"
    }
   ],
   "source": [
    "datos_nuevos('Puerto Madero')"
   ]
  },
  {
   "cell_type": "markdown",
   "metadata": {},
   "source": [
    "# para todas las localidades"
   ]
  },
  {
   "cell_type": "code",
   "execution_count": 258,
   "metadata": {},
   "outputs": [],
   "source": [
    "# leemos una cargografía de fondo\n",
    "crs = {'init': 'epsg:4326'}\n",
    "barrios = pd.read_csv('carto/barrios_capital.csv',sep=',',encoding='Latin1')\n",
    "\n",
    "def from_wkt(df, wkt_column):\n",
    "    # con wkt genero una columna\n",
    "    df['geometry'] = df[wkt_column].apply(shapely.wkt.loads)\n",
    "    gdf = gpd.GeoDataFrame(df, geometry='geometry')\n",
    "    return gdf\n",
    "\n",
    "barriosmap = from_wkt(barrios, \"WKT\")\n",
    "barriosmap['BARRIO'] = [barriosmap.BARRIO.iloc[i].title() for i in range(len(barriosmap))]\n",
    "\n",
    "barriosmap.crs = crs\n",
    "\n",
    "barriosmap.loc[barriosmap.BARRIO == 'Constitucion','BARRIO'] = 'Constitución'\n",
    "barriosmap.loc[barriosmap.BARRIO == 'Villa Gral. Mitre','BARRIO'] = 'Villa General Mitre'\n",
    "barriosmap.loc[barriosmap.BARRIO == 'Agronomia','BARRIO'] = 'Agronomía'\n",
    "barriosmap.loc[barriosmap.BARRIO == 'Nueva Pompeya','BARRIO'] = 'Pompeya'\n",
    "barriosmap.loc[barriosmap.BARRIO == 'Villa Pueyrredon','BARRIO'] = 'Villa Pueyrredón'\n",
    "barriosmap.loc[barriosmap.BARRIO == 'San Nicolas','BARRIO'] = 'San Nicolás'\n",
    "\n",
    "df_sin_dummies['localidad'] = [df_sin_dummies.localidad.iloc[i].title() for i in range(len(df_sin_dummies))]\n",
    "\n",
    "lugares_df = list(df_sin_dummies.localidad.unique())\n",
    "\n",
    "# comprobamos que todas existan en df\n",
    "for i in range(len(barriosmap)):\n",
    "    if barriosmap.BARRIO.iloc[i] in lugares_df:\n",
    "        pass\n",
    "    else:\n",
    "        print(barriosmap.BARRIO.iloc[i])\n",
    "\n",
    "lugares = list(barriosmap.BARRIO.unique())"
   ]
  },
  {
   "cell_type": "markdown",
   "metadata": {},
   "source": [
    "### armamos el listado segun los parametros"
   ]
  },
  {
   "cell_type": "code",
   "execution_count": 259,
   "metadata": {},
   "outputs": [
    {
     "data": {
      "text/html": [
       "<div>\n",
       "<style scoped>\n",
       "    .dataframe tbody tr th:only-of-type {\n",
       "        vertical-align: middle;\n",
       "    }\n",
       "\n",
       "    .dataframe tbody tr th {\n",
       "        vertical-align: top;\n",
       "    }\n",
       "\n",
       "    .dataframe thead th {\n",
       "        text-align: right;\n",
       "    }\n",
       "</style>\n",
       "<table border=\"1\" class=\"dataframe\">\n",
       "  <thead>\n",
       "    <tr style=\"text-align: right;\">\n",
       "      <th></th>\n",
       "      <th>BARRIO</th>\n",
       "      <th>usd_m2</th>\n",
       "      <th>geometry</th>\n",
       "    </tr>\n",
       "  </thead>\n",
       "  <tbody>\n",
       "    <tr>\n",
       "      <th>0</th>\n",
       "      <td>Chacarita</td>\n",
       "      <td>2138.41</td>\n",
       "      <td>POLYGON ((-58.45282 -34.59599, -58.45366 -34.5...</td>\n",
       "    </tr>\n",
       "    <tr>\n",
       "      <th>1</th>\n",
       "      <td>Paternal</td>\n",
       "      <td>2138.41</td>\n",
       "      <td>POLYGON ((-58.46558 -34.59656, -58.46562 -34.5...</td>\n",
       "    </tr>\n",
       "    <tr>\n",
       "      <th>2</th>\n",
       "      <td>Villa Crespo</td>\n",
       "      <td>2421.88</td>\n",
       "      <td>POLYGON ((-58.42375 -34.59783, -58.42495 -34.5...</td>\n",
       "    </tr>\n",
       "    <tr>\n",
       "      <th>3</th>\n",
       "      <td>Villa Del Parque</td>\n",
       "      <td>2138.41</td>\n",
       "      <td>POLYGON ((-58.49461 -34.61487, -58.49479 -34.6...</td>\n",
       "    </tr>\n",
       "    <tr>\n",
       "      <th>4</th>\n",
       "      <td>Almagro</td>\n",
       "      <td>2138.41</td>\n",
       "      <td>POLYGON ((-58.41287 -34.61412, -58.41282 -34.6...</td>\n",
       "    </tr>\n",
       "  </tbody>\n",
       "</table>\n",
       "</div>"
      ],
      "text/plain": [
       "             BARRIO   usd_m2  \\\n",
       "0         Chacarita  2138.41   \n",
       "1          Paternal  2138.41   \n",
       "2      Villa Crespo  2421.88   \n",
       "3  Villa Del Parque  2138.41   \n",
       "4           Almagro  2138.41   \n",
       "\n",
       "                                            geometry  \n",
       "0  POLYGON ((-58.45282 -34.59599, -58.45366 -34.5...  \n",
       "1  POLYGON ((-58.46558 -34.59656, -58.46562 -34.5...  \n",
       "2  POLYGON ((-58.42375 -34.59783, -58.42495 -34.5...  \n",
       "3  POLYGON ((-58.49461 -34.61487, -58.49479 -34.6...  \n",
       "4  POLYGON ((-58.41287 -34.61412, -58.41282 -34.6...  "
      ]
     },
     "execution_count": 259,
     "metadata": {},
     "output_type": "execute_result"
    }
   ],
   "source": [
    "# esta celda nos arma el listado del valor por metro cuadrado predicho segun las features designadas\n",
    "valores = []\n",
    "for i in lugares:\n",
    "    loc_ = i\n",
    "    valores.append(datos_nuevos(i))\n",
    "\n",
    "resultados = pd.DataFrame([lugares,valores]).T\n",
    "resultados.columns = ['BARRIO','usd_m2']\n",
    "resultados = resultados.merge(barriosmap)\n",
    "resultados = resultados[['BARRIO','usd_m2','geometry']]\n",
    "resultados = gpd.GeoDataFrame(resultados, geometry='geometry',crs=crs)\n",
    "resultados.head()"
   ]
  },
  {
   "cell_type": "code",
   "execution_count": 260,
   "metadata": {
    "scrolled": false
   },
   "outputs": [
    {
     "data": {
      "image/png": "[encoded data removed]",
      "text/plain": [
       "<Figure size 1440x576 with 2 Axes>"
      ]
     },
     "metadata": {},
     "output_type": "display_data"
    }
   ],
   "source": [
    "fig = plt.figure(figsize=(20,8))\n",
    "#en 1 columna agrego 2 pares de ejes \n",
    "ax = fig.add_subplot(1,2,1)\n",
    "\n",
    "custom_pal = sns.color_palette(\"Reds_r\", 24)\n",
    "\n",
    "resultados.plot(ax=ax,column='usd_m2',cmap='Reds',edgecolor='lightgrey')\n",
    "\n",
    "plt.title('Valores predichos de m2 por barrio \\n\\n Apartment normal, 150 m2, 2 Ambientes, SI Amenities\\n',size=20)\n",
    "plt.grid(False)\n",
    "\n",
    "ax1 = fig.add_subplot(1,2,2)\n",
    "plt.title('Top 5 valores de m2',size=20)\n",
    "plt.yticks(size=15)\n",
    "barras = resultados.sort_values('usd_m2',ascending=False)\n",
    "sns.barplot(x=\"usd_m2\", y=\"BARRIO\", data=barras.head(), ax=ax1,palette=custom_pal,dodge=False)\n",
    "\n",
    "plt.subplots_adjust(hspace=0.5,wspace=0.3)"
   ]
  },
  {
   "cell_type": "markdown",
   "metadata": {},
   "source": [
    "# lo cual coincide con nuestra API :D"
   ]
  },
  {
   "cell_type": "code",
   "execution_count": 261,
   "metadata": {},
   "outputs": [
    {
     "data": {
      "text/plain": [
       "5787.17"
      ]
     },
     "execution_count": 261,
     "metadata": {},
     "output_type": "execute_result"
    }
   ],
   "source": [
    "loc_ = 'Puerto Madero' # se utiliza para establecer la mediana de lat-lon\n",
    "\n",
    "prop_ = 'apartment'\n",
    "size_ = 'normal'\n",
    "superficie_m2 = 150\n",
    "ambientes = 3\n",
    "amenities = 1\n",
    "\n",
    "datos_nuevos('Puerto Madero')"
   ]
  },
  {
   "attachments": {
    "image.png": {
     "image/png": "[encoded data removed]"
    }
   },
   "cell_type": "markdown",
   "metadata": {},
   "source": [
    "![image.png](attachment:image.png)"
   ]
  },
  {
   "cell_type": "markdown",
   "metadata": {},
   "source": [
    "# FIN!!!"
   ]
  },
  {
   "cell_type": "code",
   "execution_count": null,
   "metadata": {
    "scrolled": true
   },
   "outputs": [],
   "source": [
    "tiempo()"
   ]
  }
 ],
 "metadata": {
  "kernelspec": {
   "display_name": "Python 3",
   "language": "python",
   "name": "python3"
  },
  "language_info": {
   "codemirror_mode": {
    "name": "ipython",
    "version": 3
   },
   "file_extension": ".py",
   "mimetype": "text/x-python",
   "name": "python",
   "nbconvert_exporter": "python",
   "pygments_lexer": "ipython3",
   "version": "3.7.7"
  }
 },
 "nbformat": 4,
 "nbformat_minor": 4
}
